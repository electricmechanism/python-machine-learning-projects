{
 "cells": [
  {
   "cell_type": "markdown",
   "metadata": {},
   "source": [
    "# Определение стоимости автомобилей"
   ]
  },
  {
   "cell_type": "markdown",
   "metadata": {},
   "source": [
    "Сервис по продаже автомобилей с пробегом «Не бит, не крашен» разрабатывает приложение для привлечения новых клиентов. В нём можно быстро узнать рыночную стоимость своего автомобиля. В вашем распоряжении исторические данные: технические характеристики, комплектации и цены автомобилей. Вам нужно построить модель для определения стоимости. \n",
    "\n",
    "Заказчику важны:\n",
    "\n",
    "- качество предсказания;\n",
    "- скорость предсказания;\n",
    "- время обучения."
   ]
  },
  {
   "cell_type": "markdown",
   "metadata": {},
   "source": [
    "## Подготовка данных"
   ]
  },
  {
   "cell_type": "code",
   "execution_count": 1,
   "metadata": {},
   "outputs": [],
   "source": [
    "import matplotlib.pyplot as plt\n",
    "import numpy as np\n",
    "import pandas as pd\n",
    "import seaborn as sns\n",
    "\n",
    "from sklearn.pipeline import Pipeline\n",
    "\n",
    "from sklearn.model_selection import train_test_split\n",
    "\n",
    "from sklearn.preprocessing import StandardScaler\n",
    "from sklearn.preprocessing import OrdinalEncoder\n",
    "\n",
    "from sklearn.metrics import mean_squared_error\n",
    "from sklearn.metrics import make_scorer\n",
    "\n",
    "from sklearn.model_selection import cross_val_score\n",
    "from sklearn.model_selection import GridSearchCV\n",
    "\n",
    "from sklearn.ensemble import RandomForestRegressor\n",
    "import lightgbm as lgb\n",
    "from xgboost import XGBRegressor\n",
    "\n",
    "from sklearn.dummy import DummyRegressor\n",
    "\n",
    "import time\n",
    "import warnings\n",
    "warnings.filterwarnings('ignore')"
   ]
  },
  {
   "cell_type": "code",
   "execution_count": 2,
   "metadata": {},
   "outputs": [],
   "source": [
    "data = pd.read_csv('/datasets/autos.csv')"
   ]
  },
  {
   "cell_type": "code",
   "execution_count": 3,
   "metadata": {},
   "outputs": [
    {
     "name": "stdout",
     "output_type": "stream",
     "text": [
      "-Типы данных-\n",
      "<class 'pandas.core.frame.DataFrame'>\n",
      "RangeIndex: 354369 entries, 0 to 354368\n",
      "Data columns (total 16 columns):\n",
      " #   Column             Non-Null Count   Dtype \n",
      "---  ------             --------------   ----- \n",
      " 0   DateCrawled        354369 non-null  object\n",
      " 1   Price              354369 non-null  int64 \n",
      " 2   VehicleType        316879 non-null  object\n",
      " 3   RegistrationYear   354369 non-null  int64 \n",
      " 4   Gearbox            334536 non-null  object\n",
      " 5   Power              354369 non-null  int64 \n",
      " 6   Model              334664 non-null  object\n",
      " 7   Kilometer          354369 non-null  int64 \n",
      " 8   RegistrationMonth  354369 non-null  int64 \n",
      " 9   FuelType           321474 non-null  object\n",
      " 10  Brand              354369 non-null  object\n",
      " 11  Repaired           283215 non-null  object\n",
      " 12  DateCreated        354369 non-null  object\n",
      " 13  NumberOfPictures   354369 non-null  int64 \n",
      " 14  PostalCode         354369 non-null  int64 \n",
      " 15  LastSeen           354369 non-null  object\n",
      "dtypes: int64(7), object(9)\n",
      "memory usage: 43.3+ MB\n"
     ]
    }
   ],
   "source": [
    "print('-Типы данных-')\n",
    "data.info()"
   ]
  },
  {
   "cell_type": "code",
   "execution_count": 4,
   "metadata": {},
   "outputs": [
    {
     "name": "stdout",
     "output_type": "stream",
     "text": [
      "-Первые 10 строк-\n"
     ]
    },
    {
     "data": {
      "text/html": [
       "<div>\n",
       "<style scoped>\n",
       "    .dataframe tbody tr th:only-of-type {\n",
       "        vertical-align: middle;\n",
       "    }\n",
       "\n",
       "    .dataframe tbody tr th {\n",
       "        vertical-align: top;\n",
       "    }\n",
       "\n",
       "    .dataframe thead th {\n",
       "        text-align: right;\n",
       "    }\n",
       "</style>\n",
       "<table border=\"1\" class=\"dataframe\">\n",
       "  <thead>\n",
       "    <tr style=\"text-align: right;\">\n",
       "      <th></th>\n",
       "      <th>DateCrawled</th>\n",
       "      <th>Price</th>\n",
       "      <th>VehicleType</th>\n",
       "      <th>RegistrationYear</th>\n",
       "      <th>Gearbox</th>\n",
       "      <th>Power</th>\n",
       "      <th>Model</th>\n",
       "      <th>Kilometer</th>\n",
       "      <th>RegistrationMonth</th>\n",
       "      <th>FuelType</th>\n",
       "      <th>Brand</th>\n",
       "      <th>Repaired</th>\n",
       "      <th>DateCreated</th>\n",
       "      <th>NumberOfPictures</th>\n",
       "      <th>PostalCode</th>\n",
       "      <th>LastSeen</th>\n",
       "    </tr>\n",
       "  </thead>\n",
       "  <tbody>\n",
       "    <tr>\n",
       "      <th>0</th>\n",
       "      <td>2016-03-24 11:52:17</td>\n",
       "      <td>480</td>\n",
       "      <td>NaN</td>\n",
       "      <td>1993</td>\n",
       "      <td>manual</td>\n",
       "      <td>0</td>\n",
       "      <td>golf</td>\n",
       "      <td>150000</td>\n",
       "      <td>0</td>\n",
       "      <td>petrol</td>\n",
       "      <td>volkswagen</td>\n",
       "      <td>NaN</td>\n",
       "      <td>2016-03-24 00:00:00</td>\n",
       "      <td>0</td>\n",
       "      <td>70435</td>\n",
       "      <td>2016-04-07 03:16:57</td>\n",
       "    </tr>\n",
       "    <tr>\n",
       "      <th>1</th>\n",
       "      <td>2016-03-24 10:58:45</td>\n",
       "      <td>18300</td>\n",
       "      <td>coupe</td>\n",
       "      <td>2011</td>\n",
       "      <td>manual</td>\n",
       "      <td>190</td>\n",
       "      <td>NaN</td>\n",
       "      <td>125000</td>\n",
       "      <td>5</td>\n",
       "      <td>gasoline</td>\n",
       "      <td>audi</td>\n",
       "      <td>yes</td>\n",
       "      <td>2016-03-24 00:00:00</td>\n",
       "      <td>0</td>\n",
       "      <td>66954</td>\n",
       "      <td>2016-04-07 01:46:50</td>\n",
       "    </tr>\n",
       "    <tr>\n",
       "      <th>2</th>\n",
       "      <td>2016-03-14 12:52:21</td>\n",
       "      <td>9800</td>\n",
       "      <td>suv</td>\n",
       "      <td>2004</td>\n",
       "      <td>auto</td>\n",
       "      <td>163</td>\n",
       "      <td>grand</td>\n",
       "      <td>125000</td>\n",
       "      <td>8</td>\n",
       "      <td>gasoline</td>\n",
       "      <td>jeep</td>\n",
       "      <td>NaN</td>\n",
       "      <td>2016-03-14 00:00:00</td>\n",
       "      <td>0</td>\n",
       "      <td>90480</td>\n",
       "      <td>2016-04-05 12:47:46</td>\n",
       "    </tr>\n",
       "    <tr>\n",
       "      <th>3</th>\n",
       "      <td>2016-03-17 16:54:04</td>\n",
       "      <td>1500</td>\n",
       "      <td>small</td>\n",
       "      <td>2001</td>\n",
       "      <td>manual</td>\n",
       "      <td>75</td>\n",
       "      <td>golf</td>\n",
       "      <td>150000</td>\n",
       "      <td>6</td>\n",
       "      <td>petrol</td>\n",
       "      <td>volkswagen</td>\n",
       "      <td>no</td>\n",
       "      <td>2016-03-17 00:00:00</td>\n",
       "      <td>0</td>\n",
       "      <td>91074</td>\n",
       "      <td>2016-03-17 17:40:17</td>\n",
       "    </tr>\n",
       "    <tr>\n",
       "      <th>4</th>\n",
       "      <td>2016-03-31 17:25:20</td>\n",
       "      <td>3600</td>\n",
       "      <td>small</td>\n",
       "      <td>2008</td>\n",
       "      <td>manual</td>\n",
       "      <td>69</td>\n",
       "      <td>fabia</td>\n",
       "      <td>90000</td>\n",
       "      <td>7</td>\n",
       "      <td>gasoline</td>\n",
       "      <td>skoda</td>\n",
       "      <td>no</td>\n",
       "      <td>2016-03-31 00:00:00</td>\n",
       "      <td>0</td>\n",
       "      <td>60437</td>\n",
       "      <td>2016-04-06 10:17:21</td>\n",
       "    </tr>\n",
       "    <tr>\n",
       "      <th>5</th>\n",
       "      <td>2016-04-04 17:36:23</td>\n",
       "      <td>650</td>\n",
       "      <td>sedan</td>\n",
       "      <td>1995</td>\n",
       "      <td>manual</td>\n",
       "      <td>102</td>\n",
       "      <td>3er</td>\n",
       "      <td>150000</td>\n",
       "      <td>10</td>\n",
       "      <td>petrol</td>\n",
       "      <td>bmw</td>\n",
       "      <td>yes</td>\n",
       "      <td>2016-04-04 00:00:00</td>\n",
       "      <td>0</td>\n",
       "      <td>33775</td>\n",
       "      <td>2016-04-06 19:17:07</td>\n",
       "    </tr>\n",
       "    <tr>\n",
       "      <th>6</th>\n",
       "      <td>2016-04-01 20:48:51</td>\n",
       "      <td>2200</td>\n",
       "      <td>convertible</td>\n",
       "      <td>2004</td>\n",
       "      <td>manual</td>\n",
       "      <td>109</td>\n",
       "      <td>2_reihe</td>\n",
       "      <td>150000</td>\n",
       "      <td>8</td>\n",
       "      <td>petrol</td>\n",
       "      <td>peugeot</td>\n",
       "      <td>no</td>\n",
       "      <td>2016-04-01 00:00:00</td>\n",
       "      <td>0</td>\n",
       "      <td>67112</td>\n",
       "      <td>2016-04-05 18:18:39</td>\n",
       "    </tr>\n",
       "    <tr>\n",
       "      <th>7</th>\n",
       "      <td>2016-03-21 18:54:38</td>\n",
       "      <td>0</td>\n",
       "      <td>sedan</td>\n",
       "      <td>1980</td>\n",
       "      <td>manual</td>\n",
       "      <td>50</td>\n",
       "      <td>other</td>\n",
       "      <td>40000</td>\n",
       "      <td>7</td>\n",
       "      <td>petrol</td>\n",
       "      <td>volkswagen</td>\n",
       "      <td>no</td>\n",
       "      <td>2016-03-21 00:00:00</td>\n",
       "      <td>0</td>\n",
       "      <td>19348</td>\n",
       "      <td>2016-03-25 16:47:58</td>\n",
       "    </tr>\n",
       "    <tr>\n",
       "      <th>8</th>\n",
       "      <td>2016-04-04 23:42:13</td>\n",
       "      <td>14500</td>\n",
       "      <td>bus</td>\n",
       "      <td>2014</td>\n",
       "      <td>manual</td>\n",
       "      <td>125</td>\n",
       "      <td>c_max</td>\n",
       "      <td>30000</td>\n",
       "      <td>8</td>\n",
       "      <td>petrol</td>\n",
       "      <td>ford</td>\n",
       "      <td>NaN</td>\n",
       "      <td>2016-04-04 00:00:00</td>\n",
       "      <td>0</td>\n",
       "      <td>94505</td>\n",
       "      <td>2016-04-04 23:42:13</td>\n",
       "    </tr>\n",
       "    <tr>\n",
       "      <th>9</th>\n",
       "      <td>2016-03-17 10:53:50</td>\n",
       "      <td>999</td>\n",
       "      <td>small</td>\n",
       "      <td>1998</td>\n",
       "      <td>manual</td>\n",
       "      <td>101</td>\n",
       "      <td>golf</td>\n",
       "      <td>150000</td>\n",
       "      <td>0</td>\n",
       "      <td>NaN</td>\n",
       "      <td>volkswagen</td>\n",
       "      <td>NaN</td>\n",
       "      <td>2016-03-17 00:00:00</td>\n",
       "      <td>0</td>\n",
       "      <td>27472</td>\n",
       "      <td>2016-03-31 17:17:06</td>\n",
       "    </tr>\n",
       "  </tbody>\n",
       "</table>\n",
       "</div>"
      ],
      "text/plain": [
       "           DateCrawled  Price  VehicleType  RegistrationYear Gearbox  Power  \\\n",
       "0  2016-03-24 11:52:17    480          NaN              1993  manual      0   \n",
       "1  2016-03-24 10:58:45  18300        coupe              2011  manual    190   \n",
       "2  2016-03-14 12:52:21   9800          suv              2004    auto    163   \n",
       "3  2016-03-17 16:54:04   1500        small              2001  manual     75   \n",
       "4  2016-03-31 17:25:20   3600        small              2008  manual     69   \n",
       "5  2016-04-04 17:36:23    650        sedan              1995  manual    102   \n",
       "6  2016-04-01 20:48:51   2200  convertible              2004  manual    109   \n",
       "7  2016-03-21 18:54:38      0        sedan              1980  manual     50   \n",
       "8  2016-04-04 23:42:13  14500          bus              2014  manual    125   \n",
       "9  2016-03-17 10:53:50    999        small              1998  manual    101   \n",
       "\n",
       "     Model  Kilometer  RegistrationMonth  FuelType       Brand Repaired  \\\n",
       "0     golf     150000                  0    petrol  volkswagen      NaN   \n",
       "1      NaN     125000                  5  gasoline        audi      yes   \n",
       "2    grand     125000                  8  gasoline        jeep      NaN   \n",
       "3     golf     150000                  6    petrol  volkswagen       no   \n",
       "4    fabia      90000                  7  gasoline       skoda       no   \n",
       "5      3er     150000                 10    petrol         bmw      yes   \n",
       "6  2_reihe     150000                  8    petrol     peugeot       no   \n",
       "7    other      40000                  7    petrol  volkswagen       no   \n",
       "8    c_max      30000                  8    petrol        ford      NaN   \n",
       "9     golf     150000                  0       NaN  volkswagen      NaN   \n",
       "\n",
       "           DateCreated  NumberOfPictures  PostalCode             LastSeen  \n",
       "0  2016-03-24 00:00:00                 0       70435  2016-04-07 03:16:57  \n",
       "1  2016-03-24 00:00:00                 0       66954  2016-04-07 01:46:50  \n",
       "2  2016-03-14 00:00:00                 0       90480  2016-04-05 12:47:46  \n",
       "3  2016-03-17 00:00:00                 0       91074  2016-03-17 17:40:17  \n",
       "4  2016-03-31 00:00:00                 0       60437  2016-04-06 10:17:21  \n",
       "5  2016-04-04 00:00:00                 0       33775  2016-04-06 19:17:07  \n",
       "6  2016-04-01 00:00:00                 0       67112  2016-04-05 18:18:39  \n",
       "7  2016-03-21 00:00:00                 0       19348  2016-03-25 16:47:58  \n",
       "8  2016-04-04 00:00:00                 0       94505  2016-04-04 23:42:13  \n",
       "9  2016-03-17 00:00:00                 0       27472  2016-03-31 17:17:06  "
      ]
     },
     "execution_count": 4,
     "metadata": {},
     "output_type": "execute_result"
    }
   ],
   "source": [
    "print('-Первые 10 строк-')\n",
    "data.head(10)"
   ]
  },
  {
   "cell_type": "code",
   "execution_count": 5,
   "metadata": {},
   "outputs": [
    {
     "name": "stdout",
     "output_type": "stream",
     "text": [
      "-Статистическая сводка-\n"
     ]
    },
    {
     "data": {
      "text/html": [
       "<div>\n",
       "<style scoped>\n",
       "    .dataframe tbody tr th:only-of-type {\n",
       "        vertical-align: middle;\n",
       "    }\n",
       "\n",
       "    .dataframe tbody tr th {\n",
       "        vertical-align: top;\n",
       "    }\n",
       "\n",
       "    .dataframe thead th {\n",
       "        text-align: right;\n",
       "    }\n",
       "</style>\n",
       "<table border=\"1\" class=\"dataframe\">\n",
       "  <thead>\n",
       "    <tr style=\"text-align: right;\">\n",
       "      <th></th>\n",
       "      <th>Price</th>\n",
       "      <th>RegistrationYear</th>\n",
       "      <th>Power</th>\n",
       "      <th>Kilometer</th>\n",
       "      <th>RegistrationMonth</th>\n",
       "      <th>NumberOfPictures</th>\n",
       "      <th>PostalCode</th>\n",
       "    </tr>\n",
       "  </thead>\n",
       "  <tbody>\n",
       "    <tr>\n",
       "      <th>count</th>\n",
       "      <td>354369.000000</td>\n",
       "      <td>354369.000000</td>\n",
       "      <td>354369.000000</td>\n",
       "      <td>354369.000000</td>\n",
       "      <td>354369.000000</td>\n",
       "      <td>354369.0</td>\n",
       "      <td>354369.000000</td>\n",
       "    </tr>\n",
       "    <tr>\n",
       "      <th>mean</th>\n",
       "      <td>4416.656776</td>\n",
       "      <td>2004.234448</td>\n",
       "      <td>110.094337</td>\n",
       "      <td>128211.172535</td>\n",
       "      <td>5.714645</td>\n",
       "      <td>0.0</td>\n",
       "      <td>50508.689087</td>\n",
       "    </tr>\n",
       "    <tr>\n",
       "      <th>std</th>\n",
       "      <td>4514.158514</td>\n",
       "      <td>90.227958</td>\n",
       "      <td>189.850405</td>\n",
       "      <td>37905.341530</td>\n",
       "      <td>3.726421</td>\n",
       "      <td>0.0</td>\n",
       "      <td>25783.096248</td>\n",
       "    </tr>\n",
       "    <tr>\n",
       "      <th>min</th>\n",
       "      <td>0.000000</td>\n",
       "      <td>1000.000000</td>\n",
       "      <td>0.000000</td>\n",
       "      <td>5000.000000</td>\n",
       "      <td>0.000000</td>\n",
       "      <td>0.0</td>\n",
       "      <td>1067.000000</td>\n",
       "    </tr>\n",
       "    <tr>\n",
       "      <th>25%</th>\n",
       "      <td>1050.000000</td>\n",
       "      <td>1999.000000</td>\n",
       "      <td>69.000000</td>\n",
       "      <td>125000.000000</td>\n",
       "      <td>3.000000</td>\n",
       "      <td>0.0</td>\n",
       "      <td>30165.000000</td>\n",
       "    </tr>\n",
       "    <tr>\n",
       "      <th>50%</th>\n",
       "      <td>2700.000000</td>\n",
       "      <td>2003.000000</td>\n",
       "      <td>105.000000</td>\n",
       "      <td>150000.000000</td>\n",
       "      <td>6.000000</td>\n",
       "      <td>0.0</td>\n",
       "      <td>49413.000000</td>\n",
       "    </tr>\n",
       "    <tr>\n",
       "      <th>75%</th>\n",
       "      <td>6400.000000</td>\n",
       "      <td>2008.000000</td>\n",
       "      <td>143.000000</td>\n",
       "      <td>150000.000000</td>\n",
       "      <td>9.000000</td>\n",
       "      <td>0.0</td>\n",
       "      <td>71083.000000</td>\n",
       "    </tr>\n",
       "    <tr>\n",
       "      <th>max</th>\n",
       "      <td>20000.000000</td>\n",
       "      <td>9999.000000</td>\n",
       "      <td>20000.000000</td>\n",
       "      <td>150000.000000</td>\n",
       "      <td>12.000000</td>\n",
       "      <td>0.0</td>\n",
       "      <td>99998.000000</td>\n",
       "    </tr>\n",
       "  </tbody>\n",
       "</table>\n",
       "</div>"
      ],
      "text/plain": [
       "               Price  RegistrationYear          Power      Kilometer  \\\n",
       "count  354369.000000     354369.000000  354369.000000  354369.000000   \n",
       "mean     4416.656776       2004.234448     110.094337  128211.172535   \n",
       "std      4514.158514         90.227958     189.850405   37905.341530   \n",
       "min         0.000000       1000.000000       0.000000    5000.000000   \n",
       "25%      1050.000000       1999.000000      69.000000  125000.000000   \n",
       "50%      2700.000000       2003.000000     105.000000  150000.000000   \n",
       "75%      6400.000000       2008.000000     143.000000  150000.000000   \n",
       "max     20000.000000       9999.000000   20000.000000  150000.000000   \n",
       "\n",
       "       RegistrationMonth  NumberOfPictures     PostalCode  \n",
       "count      354369.000000          354369.0  354369.000000  \n",
       "mean            5.714645               0.0   50508.689087  \n",
       "std             3.726421               0.0   25783.096248  \n",
       "min             0.000000               0.0    1067.000000  \n",
       "25%             3.000000               0.0   30165.000000  \n",
       "50%             6.000000               0.0   49413.000000  \n",
       "75%             9.000000               0.0   71083.000000  \n",
       "max            12.000000               0.0   99998.000000  "
      ]
     },
     "metadata": {},
     "output_type": "display_data"
    }
   ],
   "source": [
    "print('-Статистическая сводка-')\n",
    "display(data.describe())"
   ]
  },
  {
   "cell_type": "code",
   "execution_count": 6,
   "metadata": {},
   "outputs": [
    {
     "name": "stdout",
     "output_type": "stream",
     "text": [
      "-Статистическая сводка категориальных признаков-\n"
     ]
    },
    {
     "data": {
      "text/html": [
       "<div>\n",
       "<style scoped>\n",
       "    .dataframe tbody tr th:only-of-type {\n",
       "        vertical-align: middle;\n",
       "    }\n",
       "\n",
       "    .dataframe tbody tr th {\n",
       "        vertical-align: top;\n",
       "    }\n",
       "\n",
       "    .dataframe thead th {\n",
       "        text-align: right;\n",
       "    }\n",
       "</style>\n",
       "<table border=\"1\" class=\"dataframe\">\n",
       "  <thead>\n",
       "    <tr style=\"text-align: right;\">\n",
       "      <th></th>\n",
       "      <th>DateCrawled</th>\n",
       "      <th>VehicleType</th>\n",
       "      <th>Gearbox</th>\n",
       "      <th>Model</th>\n",
       "      <th>FuelType</th>\n",
       "      <th>Brand</th>\n",
       "      <th>Repaired</th>\n",
       "      <th>DateCreated</th>\n",
       "      <th>LastSeen</th>\n",
       "    </tr>\n",
       "  </thead>\n",
       "  <tbody>\n",
       "    <tr>\n",
       "      <th>count</th>\n",
       "      <td>354369</td>\n",
       "      <td>316879</td>\n",
       "      <td>334536</td>\n",
       "      <td>334664</td>\n",
       "      <td>321474</td>\n",
       "      <td>354369</td>\n",
       "      <td>283215</td>\n",
       "      <td>354369</td>\n",
       "      <td>354369</td>\n",
       "    </tr>\n",
       "    <tr>\n",
       "      <th>unique</th>\n",
       "      <td>271174</td>\n",
       "      <td>8</td>\n",
       "      <td>2</td>\n",
       "      <td>250</td>\n",
       "      <td>7</td>\n",
       "      <td>40</td>\n",
       "      <td>2</td>\n",
       "      <td>109</td>\n",
       "      <td>179150</td>\n",
       "    </tr>\n",
       "    <tr>\n",
       "      <th>top</th>\n",
       "      <td>2016-03-24 14:49:47</td>\n",
       "      <td>sedan</td>\n",
       "      <td>manual</td>\n",
       "      <td>golf</td>\n",
       "      <td>petrol</td>\n",
       "      <td>volkswagen</td>\n",
       "      <td>no</td>\n",
       "      <td>2016-04-03 00:00:00</td>\n",
       "      <td>2016-04-06 13:45:54</td>\n",
       "    </tr>\n",
       "    <tr>\n",
       "      <th>freq</th>\n",
       "      <td>7</td>\n",
       "      <td>91457</td>\n",
       "      <td>268251</td>\n",
       "      <td>29232</td>\n",
       "      <td>216352</td>\n",
       "      <td>77013</td>\n",
       "      <td>247161</td>\n",
       "      <td>13719</td>\n",
       "      <td>17</td>\n",
       "    </tr>\n",
       "  </tbody>\n",
       "</table>\n",
       "</div>"
      ],
      "text/plain": [
       "                DateCrawled VehicleType Gearbox   Model FuelType       Brand  \\\n",
       "count                354369      316879  334536  334664   321474      354369   \n",
       "unique               271174           8       2     250        7          40   \n",
       "top     2016-03-24 14:49:47       sedan  manual    golf   petrol  volkswagen   \n",
       "freq                      7       91457  268251   29232   216352       77013   \n",
       "\n",
       "       Repaired          DateCreated             LastSeen  \n",
       "count    283215               354369               354369  \n",
       "unique        2                  109               179150  \n",
       "top          no  2016-04-03 00:00:00  2016-04-06 13:45:54  \n",
       "freq     247161                13719                   17  "
      ]
     },
     "execution_count": 6,
     "metadata": {},
     "output_type": "execute_result"
    }
   ],
   "source": [
    "print('-Статистическая сводка категориальных признаков-')\n",
    "data.describe(include=['object', 'bool'])"
   ]
  },
  {
   "cell_type": "code",
   "execution_count": 7,
   "metadata": {},
   "outputs": [
    {
     "name": "stdout",
     "output_type": "stream",
     "text": [
      "-Пропуски-\n",
      "Пропусков не обнаружено\n",
      "Пропусков не обнаружено\n",
      "VehicleType  -  37490 пропусков\n",
      "Gearbox  -  19833 пропусков\n",
      "Model  -  19705 пропусков\n",
      "FuelType  -  32895 пропусков\n",
      "Repaired  -  71154 пропусков\n"
     ]
    }
   ],
   "source": [
    "print('-Пропуски-')\n",
    "count = 0\n",
    "for element in data.columns:\n",
    "    if data[element].isna().sum() > 0: \n",
    "        print(element, ' - ', data[element].isna().sum(), 'пропусков') \n",
    "        count = +1\n",
    "    if count == 0:\n",
    "        print('Пропусков не обнаружено')"
   ]
  },
  {
   "cell_type": "code",
   "execution_count": 8,
   "metadata": {},
   "outputs": [
    {
     "name": "stdout",
     "output_type": "stream",
     "text": [
      "-Процент пропусков от всего датасета-\n"
     ]
    },
    {
     "data": {
      "text/plain": [
       "Repaired             20.079070\n",
       "VehicleType          10.579368\n",
       "FuelType              9.282697\n",
       "Gearbox               5.596709\n",
       "Model                 5.560588\n",
       "DateCrawled           0.000000\n",
       "Price                 0.000000\n",
       "RegistrationYear      0.000000\n",
       "Power                 0.000000\n",
       "Kilometer             0.000000\n",
       "RegistrationMonth     0.000000\n",
       "Brand                 0.000000\n",
       "DateCreated           0.000000\n",
       "NumberOfPictures      0.000000\n",
       "PostalCode            0.000000\n",
       "LastSeen              0.000000\n",
       "dtype: float64"
      ]
     },
     "metadata": {},
     "output_type": "display_data"
    }
   ],
   "source": [
    "print('-Процент пропусков от всего датасета-')\n",
    "display(data.isna().mean().sort_values(ascending=False)*100)"
   ]
  },
  {
   "cell_type": "code",
   "execution_count": 9,
   "metadata": {},
   "outputs": [
    {
     "name": "stdout",
     "output_type": "stream",
     "text": [
      "-Дубликаты-\n",
      "\n",
      "Дубликатов:  4\n"
     ]
    }
   ],
   "source": [
    "print('-Дубликаты-\\n')\n",
    "if data.duplicated().sum() > 0:\n",
    "    print('Дубликатов: ', data.duplicated().sum())\n",
    "else:\n",
    "    print('Дубликатов не обнаружено')"
   ]
  },
  {
   "cell_type": "code",
   "execution_count": 10,
   "metadata": {},
   "outputs": [
    {
     "data": {
      "image/png": "[encoded data removed]",
      "text/plain": [
       "<Figure size 504x360 with 2 Axes>"
      ]
     },
     "metadata": {
      "needs_background": "light"
     },
     "output_type": "display_data"
    }
   ],
   "source": [
    "plt.figure(figsize = (7,5))\n",
    "df_plot = sns.heatmap(data.corr(), cmap=\"Spectral\", annot=True)       \n",
    "plt.show()"
   ]
  },
  {
   "cell_type": "code",
   "execution_count": 11,
   "metadata": {},
   "outputs": [
    {
     "name": "stdout",
     "output_type": "stream",
     "text": [
      "-Значимые признаки-\n",
      "<class 'pandas.core.frame.DataFrame'>\n",
      "RangeIndex: 354369 entries, 0 to 354368\n",
      "Data columns (total 10 columns):\n",
      " #   Column            Non-Null Count   Dtype \n",
      "---  ------            --------------   ----- \n",
      " 0   VehicleType       316879 non-null  object\n",
      " 1   Repaired          283215 non-null  object\n",
      " 2   FuelType          321474 non-null  object\n",
      " 3   RegistrationYear  354369 non-null  int64 \n",
      " 4   Gearbox           334536 non-null  object\n",
      " 5   Model             334664 non-null  object\n",
      " 6   Power             354369 non-null  int64 \n",
      " 7   Kilometer         354369 non-null  int64 \n",
      " 8   Brand             354369 non-null  object\n",
      " 9   Price             354369 non-null  int64 \n",
      "dtypes: int64(4), object(6)\n",
      "memory usage: 27.0+ MB\n"
     ]
    }
   ],
   "source": [
    "print('-Значимые признаки-')\n",
    "data1 = data[['VehicleType',\n",
    "              'Repaired',               \n",
    "              'FuelType',\n",
    "              'RegistrationYear', \n",
    "              'Gearbox', \n",
    "              'Model',\n",
    "              'Power',\n",
    "              'Kilometer',            \n",
    "              'Brand',\n",
    "              'Price']]\n",
    "data1.info()"
   ]
  },
  {
   "cell_type": "code",
   "execution_count": 12,
   "metadata": {},
   "outputs": [
    {
     "name": "stdout",
     "output_type": "stream",
     "text": [
      "-Исследуем целевой признак-\n"
     ]
    },
    {
     "data": {
      "text/plain": [
       "0        10772\n",
       "500       5670\n",
       "1500      5394\n",
       "1000      4649\n",
       "1200      4594\n",
       "         ...  \n",
       "13180        1\n",
       "10879        1\n",
       "2683         1\n",
       "634          1\n",
       "8188         1\n",
       "Name: Price, Length: 3731, dtype: int64"
      ]
     },
     "execution_count": 12,
     "metadata": {},
     "output_type": "execute_result"
    }
   ],
   "source": [
    "print('-Исследуем целевой признак-')\n",
    "data1['Price'].value_counts()"
   ]
  },
  {
   "cell_type": "markdown",
   "metadata": {},
   "source": [
    "<div style=\"background-color: WhiteSmoke; border-left: 7px solid Silver\">\n",
    "<p>\n",
    "<b>Price</b>    \n",
    "</p>\n",
    "</div>"
   ]
  },
  {
   "cell_type": "code",
   "execution_count": 13,
   "metadata": {},
   "outputs": [
    {
     "data": {
      "text/plain": [
       "count    354369.000000\n",
       "mean       4416.656776\n",
       "std        4514.158514\n",
       "min           0.000000\n",
       "25%        1050.000000\n",
       "50%        2700.000000\n",
       "75%        6400.000000\n",
       "max       20000.000000\n",
       "Name: Price, dtype: float64"
      ]
     },
     "execution_count": 13,
     "metadata": {},
     "output_type": "execute_result"
    },
    {
     "data": {
      "image/png": "[encoded data removed]",
      "text/plain": [
       "<Figure size 720x504 with 1 Axes>"
      ]
     },
     "metadata": {
      "needs_background": "light"
     },
     "output_type": "display_data"
    }
   ],
   "source": [
    "data1['Price'].hist(bins=100, color='green', figsize=(10,7))\n",
    "data1['Price'].describe()"
   ]
  },
  {
   "cell_type": "markdown",
   "metadata": {},
   "source": [
    "<div style=\"background-color: WhiteSmoke; border-left: 7px solid Silver\">\n",
    "<p>\n",
    "Удалим все строки, содержащие 0 и построим гистограмму.   \n",
    "</p>\n",
    "</div>"
   ]
  },
  {
   "cell_type": "code",
   "execution_count": 14,
   "metadata": {},
   "outputs": [
    {
     "data": {
      "text/plain": [
       "count    343597.000000\n",
       "mean       4555.121974\n",
       "std        4515.058553\n",
       "min           1.000000\n",
       "25%        1200.000000\n",
       "50%        2890.000000\n",
       "75%        6500.000000\n",
       "max       20000.000000\n",
       "Name: Price, dtype: float64"
      ]
     },
     "execution_count": 14,
     "metadata": {},
     "output_type": "execute_result"
    },
    {
     "data": {
      "image/png": "[encoded data removed]",
      "text/plain": [
       "<Figure size 720x504 with 1 Axes>"
      ]
     },
     "metadata": {
      "needs_background": "light"
     },
     "output_type": "display_data"
    }
   ],
   "source": [
    "data1 = data1.query('Price > 0')\n",
    "data1['Price'].hist(bins=100, color='green', figsize=(10,7))\n",
    "data1['Price'].describe()"
   ]
  },
  {
   "cell_type": "code",
   "execution_count": 15,
   "metadata": {},
   "outputs": [
    {
     "data": {
      "text/plain": [
       "0.1      590.0\n",
       "0.9    11500.0\n",
       "Name: Price, dtype: float64"
      ]
     },
     "execution_count": 15,
     "metadata": {},
     "output_type": "execute_result"
    }
   ],
   "source": [
    "data1['Price'].quantile([0.1, 0.9])"
   ]
  },
  {
   "cell_type": "code",
   "execution_count": 16,
   "metadata": {},
   "outputs": [
    {
     "name": "stdout",
     "output_type": "stream",
     "text": [
      "<class 'pandas.core.frame.DataFrame'>\n",
      "Int64Index: 275222 entries, 2 to 354368\n",
      "Data columns (total 10 columns):\n",
      " #   Column            Non-Null Count   Dtype \n",
      "---  ------            --------------   ----- \n",
      " 0   VehicleType       250663 non-null  object\n",
      " 1   Repaired          225684 non-null  object\n",
      " 2   FuelType          254219 non-null  object\n",
      " 3   RegistrationYear  275222 non-null  int64 \n",
      " 4   Gearbox           263098 non-null  object\n",
      " 5   Model             262333 non-null  object\n",
      " 6   Power             275222 non-null  int64 \n",
      " 7   Kilometer         275222 non-null  int64 \n",
      " 8   Brand             275222 non-null  object\n",
      " 9   Price             275222 non-null  int64 \n",
      "dtypes: int64(4), object(6)\n",
      "memory usage: 23.1+ MB\n"
     ]
    }
   ],
   "source": [
    "data1 = data1.query('590 <= Price <= 11500')\n",
    "data1.info()"
   ]
  },
  {
   "cell_type": "markdown",
   "metadata": {},
   "source": [
    "<div style=\"background-color: WhiteSmoke; border-left: 7px solid Silver\">\n",
    "<p>\n",
    "<b>RegistrationYear</b>    \n",
    "</p>\n",
    "</div>"
   ]
  },
  {
   "cell_type": "code",
   "execution_count": 17,
   "metadata": {},
   "outputs": [
    {
     "data": {
      "text/plain": [
       "count    275222.000000\n",
       "mean       2003.686838\n",
       "std          63.744556\n",
       "min        1000.000000\n",
       "25%        1999.000000\n",
       "50%        2003.000000\n",
       "75%        2007.000000\n",
       "max        9999.000000\n",
       "Name: RegistrationYear, dtype: float64"
      ]
     },
     "execution_count": 17,
     "metadata": {},
     "output_type": "execute_result"
    },
    {
     "data": {
      "image/png": "[encoded data removed]",
      "text/plain": [
       "<Figure size 720x504 with 1 Axes>"
      ]
     },
     "metadata": {
      "needs_background": "light"
     },
     "output_type": "display_data"
    }
   ],
   "source": [
    "data1['RegistrationYear'].hist(bins=100, color='green', figsize=(10,7))\n",
    "data1['RegistrationYear'].describe()"
   ]
  },
  {
   "cell_type": "code",
   "execution_count": 18,
   "metadata": {},
   "outputs": [
    {
     "data": {
      "text/plain": [
       "Timestamp('1970-01-01 00:00:00.000001')"
      ]
     },
     "execution_count": 18,
     "metadata": {},
     "output_type": "execute_result"
    }
   ],
   "source": [
    "date_min = pd.to_datetime(data['RegistrationYear'])\n",
    "date_min.min()"
   ]
  },
  {
   "cell_type": "code",
   "execution_count": 19,
   "metadata": {},
   "outputs": [
    {
     "data": {
      "text/plain": [
       "Timestamp('2016-04-07 14:36:58')"
      ]
     },
     "execution_count": 19,
     "metadata": {},
     "output_type": "execute_result"
    }
   ],
   "source": [
    "date_max = pd.to_datetime(data['DateCrawled'])\n",
    "date_max.max()"
   ]
  },
  {
   "cell_type": "code",
   "execution_count": 20,
   "metadata": {},
   "outputs": [
    {
     "data": {
      "text/plain": [
       "count    256164.000000\n",
       "mean       2002.196460\n",
       "std           5.581097\n",
       "min        1971.000000\n",
       "25%        1999.000000\n",
       "50%        2003.000000\n",
       "75%        2006.000000\n",
       "max        2015.000000\n",
       "Name: RegistrationYear, dtype: float64"
      ]
     },
     "execution_count": 20,
     "metadata": {},
     "output_type": "execute_result"
    },
    {
     "data": {
      "image/png": "[encoded data removed]",
      "text/plain": [
       "<Figure size 720x504 with 1 Axes>"
      ]
     },
     "metadata": {
      "needs_background": "light"
     },
     "output_type": "display_data"
    }
   ],
   "source": [
    "data1 = data1.query('1970 < RegistrationYear < 2016')\n",
    "data1['RegistrationYear'].hist(bins=100, color='green', figsize=(10,7))\n",
    "data1['RegistrationYear'].describe()"
   ]
  },
  {
   "cell_type": "markdown",
   "metadata": {},
   "source": [
    "<div style=\"background-color: WhiteSmoke; border-left: 7px solid Silver\">\n",
    "<p>\n",
    "<b>Power</b>    \n",
    "</p>\n",
    "</div>"
   ]
  },
  {
   "cell_type": "code",
   "execution_count": 21,
   "metadata": {},
   "outputs": [
    {
     "data": {
      "text/plain": [
       "count    256164.000000\n",
       "mean        110.866449\n",
       "std         182.956599\n",
       "min           0.000000\n",
       "25%          75.000000\n",
       "50%         105.000000\n",
       "75%         140.000000\n",
       "max       20000.000000\n",
       "Name: Power, dtype: float64"
      ]
     },
     "execution_count": 21,
     "metadata": {},
     "output_type": "execute_result"
    },
    {
     "data": {
      "image/png": "[encoded data removed]",
      "text/plain": [
       "<Figure size 720x504 with 1 Axes>"
      ]
     },
     "metadata": {
      "needs_background": "light"
     },
     "output_type": "display_data"
    }
   ],
   "source": [
    "data1['Power'].hist(bins=100, color='green', figsize=(10,7))\n",
    "data1['Power'].describe()"
   ]
  },
  {
   "cell_type": "code",
   "execution_count": 22,
   "metadata": {},
   "outputs": [],
   "source": [
    "data1 = data1.query('20 < Power < 250')"
   ]
  },
  {
   "cell_type": "code",
   "execution_count": 23,
   "metadata": {},
   "outputs": [
    {
     "data": {
      "text/plain": [
       "count    230844.000000\n",
       "mean        114.427358\n",
       "std          42.715708\n",
       "min          21.000000\n",
       "25%          75.000000\n",
       "50%         109.000000\n",
       "75%         140.000000\n",
       "max         249.000000\n",
       "Name: Power, dtype: float64"
      ]
     },
     "execution_count": 23,
     "metadata": {},
     "output_type": "execute_result"
    },
    {
     "data": {
      "image/png": "[encoded data removed]",
      "text/plain": [
       "<Figure size 720x504 with 1 Axes>"
      ]
     },
     "metadata": {
      "needs_background": "light"
     },
     "output_type": "display_data"
    }
   ],
   "source": [
    "data1['Power'].hist(bins=100, color='green', figsize=(10,7))\n",
    "data1['Power'].describe()"
   ]
  },
  {
   "cell_type": "markdown",
   "metadata": {},
   "source": [
    "<div style=\"background-color: WhiteSmoke; border-left: 7px solid Silver\">\n",
    "<p>\n",
    "<b>Kilometer</b>    \n",
    "</p>\n",
    "</div>"
   ]
  },
  {
   "cell_type": "code",
   "execution_count": 24,
   "metadata": {},
   "outputs": [
    {
     "data": {
      "text/plain": [
       "count    230844.000000\n",
       "mean     131228.145414\n",
       "std       33774.519793\n",
       "min        5000.000000\n",
       "25%      125000.000000\n",
       "50%      150000.000000\n",
       "75%      150000.000000\n",
       "max      150000.000000\n",
       "Name: Kilometer, dtype: float64"
      ]
     },
     "execution_count": 24,
     "metadata": {},
     "output_type": "execute_result"
    },
    {
     "data": {
      "image/png": "[encoded data removed]",
      "text/plain": [
       "<Figure size 720x504 with 1 Axes>"
      ]
     },
     "metadata": {
      "needs_background": "light"
     },
     "output_type": "display_data"
    }
   ],
   "source": [
    "data1['Kilometer'].hist(bins=100, color='green', figsize=(10,7))\n",
    "data1['Kilometer'].describe()"
   ]
  },
  {
   "cell_type": "markdown",
   "metadata": {},
   "source": [
    "<div style=\"background-color: WhiteSmoke; border-left: 7px solid Silver\">\n",
    "<p>\n",
    "<b>Gearbox, NotRepaired, Model</b>    \n",
    "</p>\n",
    "</div>"
   ]
  },
  {
   "cell_type": "code",
   "execution_count": 25,
   "metadata": {},
   "outputs": [
    {
     "data": {
      "text/plain": [
       "VehicleType         0.013100\n",
       "Repaired            0.133151\n",
       "FuelType            0.040646\n",
       "RegistrationYear    0.000000\n",
       "Gearbox             0.000000\n",
       "Model               0.000000\n",
       "Power               0.000000\n",
       "Kilometer           0.000000\n",
       "Brand               0.000000\n",
       "Price               0.000000\n",
       "dtype: float64"
      ]
     },
     "execution_count": 25,
     "metadata": {},
     "output_type": "execute_result"
    }
   ],
   "source": [
    "data1.fillna({'Gearbox':'manual', 'NotRepaired':'yes', 'Model':'unknown'},\n",
    "                          inplace=True)\n",
    "data1.isna().mean()"
   ]
  },
  {
   "cell_type": "markdown",
   "metadata": {},
   "source": [
    "<div style=\"background-color: WhiteSmoke; border-left: 7px solid Silver\">\n",
    "<p>\n",
    "<b>VehicleType</b>    \n",
    "</p>\n",
    "</div>"
   ]
  },
  {
   "cell_type": "markdown",
   "metadata": {},
   "source": [
    "<div style=\"background-color: WhiteSmoke; border-left: 7px solid Silver\">\n",
    "В столбцах VehicleType и FuelType заполним пропуски значениями типа кузова, наиболее распространненного для конкретной марки марки машины.    \n",
    "</div>"
   ]
  },
  {
   "cell_type": "code",
   "execution_count": 26,
   "metadata": {},
   "outputs": [
    {
     "data": {
      "text/plain": [
       "sedan          66680\n",
       "small          57717\n",
       "wagon          48045\n",
       "bus            22408\n",
       "convertible    14478\n",
       "coupe          10118\n",
       "suv             6425\n",
       "other           1949\n",
       "Name: VehicleType, dtype: int64"
      ]
     },
     "metadata": {},
     "output_type": "display_data"
    }
   ],
   "source": [
    "display(data1['VehicleType'].value_counts())"
   ]
  },
  {
   "cell_type": "code",
   "execution_count": 27,
   "metadata": {},
   "outputs": [
    {
     "data": {
      "text/plain": [
       "3024"
      ]
     },
     "execution_count": 27,
     "metadata": {},
     "output_type": "execute_result"
    }
   ],
   "source": [
    "data1['VehicleType'].isna().sum()"
   ]
  },
  {
   "cell_type": "code",
   "execution_count": 28,
   "metadata": {},
   "outputs": [
    {
     "data": {
      "text/html": [
       "<div>\n",
       "<style scoped>\n",
       "    .dataframe tbody tr th:only-of-type {\n",
       "        vertical-align: middle;\n",
       "    }\n",
       "\n",
       "    .dataframe tbody tr th {\n",
       "        vertical-align: top;\n",
       "    }\n",
       "\n",
       "    .dataframe thead th {\n",
       "        text-align: right;\n",
       "    }\n",
       "</style>\n",
       "<table border=\"1\" class=\"dataframe\">\n",
       "  <thead>\n",
       "    <tr style=\"text-align: right;\">\n",
       "      <th>Brand</th>\n",
       "      <th>alfa_romeo</th>\n",
       "      <th>audi</th>\n",
       "      <th>bmw</th>\n",
       "      <th>chevrolet</th>\n",
       "      <th>chrysler</th>\n",
       "      <th>citroen</th>\n",
       "      <th>dacia</th>\n",
       "      <th>daewoo</th>\n",
       "      <th>daihatsu</th>\n",
       "      <th>fiat</th>\n",
       "      <th>...</th>\n",
       "      <th>seat</th>\n",
       "      <th>skoda</th>\n",
       "      <th>smart</th>\n",
       "      <th>sonstige_autos</th>\n",
       "      <th>subaru</th>\n",
       "      <th>suzuki</th>\n",
       "      <th>toyota</th>\n",
       "      <th>trabant</th>\n",
       "      <th>volkswagen</th>\n",
       "      <th>volvo</th>\n",
       "    </tr>\n",
       "    <tr>\n",
       "      <th>VehicleType</th>\n",
       "      <th></th>\n",
       "      <th></th>\n",
       "      <th></th>\n",
       "      <th></th>\n",
       "      <th></th>\n",
       "      <th></th>\n",
       "      <th></th>\n",
       "      <th></th>\n",
       "      <th></th>\n",
       "      <th></th>\n",
       "      <th></th>\n",
       "      <th></th>\n",
       "      <th></th>\n",
       "      <th></th>\n",
       "      <th></th>\n",
       "      <th></th>\n",
       "      <th></th>\n",
       "      <th></th>\n",
       "      <th></th>\n",
       "      <th></th>\n",
       "      <th></th>\n",
       "    </tr>\n",
       "  </thead>\n",
       "  <tbody>\n",
       "    <tr>\n",
       "      <th>bus</th>\n",
       "      <td>NaN</td>\n",
       "      <td>9.0</td>\n",
       "      <td>3.0</td>\n",
       "      <td>103.0</td>\n",
       "      <td>318.0</td>\n",
       "      <td>1073.0</td>\n",
       "      <td>31.0</td>\n",
       "      <td>22.0</td>\n",
       "      <td>27.0</td>\n",
       "      <td>661.0</td>\n",
       "      <td>...</td>\n",
       "      <td>528.0</td>\n",
       "      <td>202.0</td>\n",
       "      <td>NaN</td>\n",
       "      <td>130.0</td>\n",
       "      <td>13.0</td>\n",
       "      <td>23.0</td>\n",
       "      <td>377.0</td>\n",
       "      <td>NaN</td>\n",
       "      <td>7040.0</td>\n",
       "      <td>NaN</td>\n",
       "    </tr>\n",
       "    <tr>\n",
       "      <th>convertible</th>\n",
       "      <td>129.0</td>\n",
       "      <td>984.0</td>\n",
       "      <td>2186.0</td>\n",
       "      <td>9.0</td>\n",
       "      <td>181.0</td>\n",
       "      <td>87.0</td>\n",
       "      <td>NaN</td>\n",
       "      <td>1.0</td>\n",
       "      <td>16.0</td>\n",
       "      <td>364.0</td>\n",
       "      <td>...</td>\n",
       "      <td>NaN</td>\n",
       "      <td>2.0</td>\n",
       "      <td>1030.0</td>\n",
       "      <td>168.0</td>\n",
       "      <td>1.0</td>\n",
       "      <td>25.0</td>\n",
       "      <td>59.0</td>\n",
       "      <td>24.0</td>\n",
       "      <td>2189.0</td>\n",
       "      <td>44.0</td>\n",
       "    </tr>\n",
       "    <tr>\n",
       "      <th>coupe</th>\n",
       "      <td>188.0</td>\n",
       "      <td>695.0</td>\n",
       "      <td>2466.0</td>\n",
       "      <td>41.0</td>\n",
       "      <td>33.0</td>\n",
       "      <td>115.0</td>\n",
       "      <td>NaN</td>\n",
       "      <td>2.0</td>\n",
       "      <td>NaN</td>\n",
       "      <td>127.0</td>\n",
       "      <td>...</td>\n",
       "      <td>58.0</td>\n",
       "      <td>4.0</td>\n",
       "      <td>287.0</td>\n",
       "      <td>73.0</td>\n",
       "      <td>3.0</td>\n",
       "      <td>1.0</td>\n",
       "      <td>167.0</td>\n",
       "      <td>2.0</td>\n",
       "      <td>901.0</td>\n",
       "      <td>53.0</td>\n",
       "    </tr>\n",
       "    <tr>\n",
       "      <th>other</th>\n",
       "      <td>6.0</td>\n",
       "      <td>72.0</td>\n",
       "      <td>163.0</td>\n",
       "      <td>21.0</td>\n",
       "      <td>4.0</td>\n",
       "      <td>76.0</td>\n",
       "      <td>6.0</td>\n",
       "      <td>3.0</td>\n",
       "      <td>3.0</td>\n",
       "      <td>125.0</td>\n",
       "      <td>...</td>\n",
       "      <td>36.0</td>\n",
       "      <td>17.0</td>\n",
       "      <td>4.0</td>\n",
       "      <td>37.0</td>\n",
       "      <td>4.0</td>\n",
       "      <td>8.0</td>\n",
       "      <td>14.0</td>\n",
       "      <td>2.0</td>\n",
       "      <td>524.0</td>\n",
       "      <td>2.0</td>\n",
       "    </tr>\n",
       "    <tr>\n",
       "      <th>sedan</th>\n",
       "      <td>708.0</td>\n",
       "      <td>7533.0</td>\n",
       "      <td>12631.0</td>\n",
       "      <td>169.0</td>\n",
       "      <td>175.0</td>\n",
       "      <td>537.0</td>\n",
       "      <td>93.0</td>\n",
       "      <td>71.0</td>\n",
       "      <td>35.0</td>\n",
       "      <td>691.0</td>\n",
       "      <td>...</td>\n",
       "      <td>1330.0</td>\n",
       "      <td>704.0</td>\n",
       "      <td>26.0</td>\n",
       "      <td>182.0</td>\n",
       "      <td>104.0</td>\n",
       "      <td>121.0</td>\n",
       "      <td>769.0</td>\n",
       "      <td>92.0</td>\n",
       "      <td>15069.0</td>\n",
       "      <td>479.0</td>\n",
       "    </tr>\n",
       "    <tr>\n",
       "      <th>small</th>\n",
       "      <td>194.0</td>\n",
       "      <td>861.0</td>\n",
       "      <td>294.0</td>\n",
       "      <td>516.0</td>\n",
       "      <td>9.0</td>\n",
       "      <td>1243.0</td>\n",
       "      <td>211.0</td>\n",
       "      <td>170.0</td>\n",
       "      <td>341.0</td>\n",
       "      <td>3766.0</td>\n",
       "      <td>...</td>\n",
       "      <td>2498.0</td>\n",
       "      <td>978.0</td>\n",
       "      <td>2905.0</td>\n",
       "      <td>55.0</td>\n",
       "      <td>72.0</td>\n",
       "      <td>769.0</td>\n",
       "      <td>1393.0</td>\n",
       "      <td>32.0</td>\n",
       "      <td>13382.0</td>\n",
       "      <td>6.0</td>\n",
       "    </tr>\n",
       "    <tr>\n",
       "      <th>suv</th>\n",
       "      <td>NaN</td>\n",
       "      <td>11.0</td>\n",
       "      <td>331.0</td>\n",
       "      <td>202.0</td>\n",
       "      <td>8.0</td>\n",
       "      <td>14.0</td>\n",
       "      <td>155.0</td>\n",
       "      <td>1.0</td>\n",
       "      <td>39.0</td>\n",
       "      <td>18.0</td>\n",
       "      <td>...</td>\n",
       "      <td>3.0</td>\n",
       "      <td>46.0</td>\n",
       "      <td>NaN</td>\n",
       "      <td>160.0</td>\n",
       "      <td>46.0</td>\n",
       "      <td>616.0</td>\n",
       "      <td>321.0</td>\n",
       "      <td>NaN</td>\n",
       "      <td>478.0</td>\n",
       "      <td>105.0</td>\n",
       "    </tr>\n",
       "    <tr>\n",
       "      <th>wagon</th>\n",
       "      <td>376.0</td>\n",
       "      <td>7647.0</td>\n",
       "      <td>5728.0</td>\n",
       "      <td>88.0</td>\n",
       "      <td>198.0</td>\n",
       "      <td>472.0</td>\n",
       "      <td>223.0</td>\n",
       "      <td>31.0</td>\n",
       "      <td>14.0</td>\n",
       "      <td>288.0</td>\n",
       "      <td>...</td>\n",
       "      <td>260.0</td>\n",
       "      <td>2085.0</td>\n",
       "      <td>8.0</td>\n",
       "      <td>80.0</td>\n",
       "      <td>216.0</td>\n",
       "      <td>67.0</td>\n",
       "      <td>462.0</td>\n",
       "      <td>39.0</td>\n",
       "      <td>9866.0</td>\n",
       "      <td>1471.0</td>\n",
       "    </tr>\n",
       "  </tbody>\n",
       "</table>\n",
       "<p>8 rows × 40 columns</p>\n",
       "</div>"
      ],
      "text/plain": [
       "Brand        alfa_romeo    audi      bmw  chevrolet  chrysler  citroen  dacia  \\\n",
       "VehicleType                                                                     \n",
       "bus                 NaN     9.0      3.0      103.0     318.0   1073.0   31.0   \n",
       "convertible       129.0   984.0   2186.0        9.0     181.0     87.0    NaN   \n",
       "coupe             188.0   695.0   2466.0       41.0      33.0    115.0    NaN   \n",
       "other               6.0    72.0    163.0       21.0       4.0     76.0    6.0   \n",
       "sedan             708.0  7533.0  12631.0      169.0     175.0    537.0   93.0   \n",
       "small             194.0   861.0    294.0      516.0       9.0   1243.0  211.0   \n",
       "suv                 NaN    11.0    331.0      202.0       8.0     14.0  155.0   \n",
       "wagon             376.0  7647.0   5728.0       88.0     198.0    472.0  223.0   \n",
       "\n",
       "Brand        daewoo  daihatsu    fiat  ...    seat   skoda   smart  \\\n",
       "VehicleType                            ...                           \n",
       "bus            22.0      27.0   661.0  ...   528.0   202.0     NaN   \n",
       "convertible     1.0      16.0   364.0  ...     NaN     2.0  1030.0   \n",
       "coupe           2.0       NaN   127.0  ...    58.0     4.0   287.0   \n",
       "other           3.0       3.0   125.0  ...    36.0    17.0     4.0   \n",
       "sedan          71.0      35.0   691.0  ...  1330.0   704.0    26.0   \n",
       "small         170.0     341.0  3766.0  ...  2498.0   978.0  2905.0   \n",
       "suv             1.0      39.0    18.0  ...     3.0    46.0     NaN   \n",
       "wagon          31.0      14.0   288.0  ...   260.0  2085.0     8.0   \n",
       "\n",
       "Brand        sonstige_autos  subaru  suzuki  toyota  trabant  volkswagen  \\\n",
       "VehicleType                                                                \n",
       "bus                   130.0    13.0    23.0   377.0      NaN      7040.0   \n",
       "convertible           168.0     1.0    25.0    59.0     24.0      2189.0   \n",
       "coupe                  73.0     3.0     1.0   167.0      2.0       901.0   \n",
       "other                  37.0     4.0     8.0    14.0      2.0       524.0   \n",
       "sedan                 182.0   104.0   121.0   769.0     92.0     15069.0   \n",
       "small                  55.0    72.0   769.0  1393.0     32.0     13382.0   \n",
       "suv                   160.0    46.0   616.0   321.0      NaN       478.0   \n",
       "wagon                  80.0   216.0    67.0   462.0     39.0      9866.0   \n",
       "\n",
       "Brand         volvo  \n",
       "VehicleType          \n",
       "bus             NaN  \n",
       "convertible    44.0  \n",
       "coupe          53.0  \n",
       "other           2.0  \n",
       "sedan         479.0  \n",
       "small           6.0  \n",
       "suv           105.0  \n",
       "wagon        1471.0  \n",
       "\n",
       "[8 rows x 40 columns]"
      ]
     },
     "metadata": {},
     "output_type": "display_data"
    }
   ],
   "source": [
    "vehicle_type_pivot = data1.pivot_table(index='VehicleType', columns='Brand', values='Price', aggfunc='count')\n",
    "display(vehicle_type_pivot)"
   ]
  },
  {
   "cell_type": "code",
   "execution_count": 29,
   "metadata": {},
   "outputs": [
    {
     "data": {
      "text/plain": [
       "sedan          708\n",
       "wagon          376\n",
       "small          194\n",
       "coupe          188\n",
       "convertible    129\n",
       "other            6\n",
       "Name: VehicleType, dtype: int64"
      ]
     },
     "execution_count": 29,
     "metadata": {},
     "output_type": "execute_result"
    }
   ],
   "source": [
    "data1[data1['Brand'] == 'alfa_romeo']['VehicleType'].value_counts()"
   ]
  },
  {
   "cell_type": "code",
   "execution_count": 30,
   "metadata": {},
   "outputs": [
    {
     "name": "stdout",
     "output_type": "stream",
     "text": [
      "<class 'pandas.core.frame.DataFrame'>\n",
      "Int64Index: 230844 entries, 2 to 354368\n",
      "Data columns (total 10 columns):\n",
      " #   Column            Non-Null Count   Dtype \n",
      "---  ------            --------------   ----- \n",
      " 0   VehicleType       227820 non-null  object\n",
      " 1   Repaired          200107 non-null  object\n",
      " 2   FuelType          221461 non-null  object\n",
      " 3   RegistrationYear  230844 non-null  int64 \n",
      " 4   Gearbox           230844 non-null  object\n",
      " 5   Model             230844 non-null  object\n",
      " 6   Power             230844 non-null  int64 \n",
      " 7   Kilometer         230844 non-null  int64 \n",
      " 8   Brand             230844 non-null  object\n",
      " 9   Price             230844 non-null  int64 \n",
      "dtypes: int64(4), object(6)\n",
      "memory usage: 19.4+ MB\n"
     ]
    }
   ],
   "source": [
    "data1.info()"
   ]
  },
  {
   "cell_type": "code",
   "execution_count": 31,
   "metadata": {},
   "outputs": [],
   "source": [
    "data1.fillna({'VehicleType':0},inplace=True)"
   ]
  },
  {
   "cell_type": "code",
   "execution_count": 32,
   "metadata": {},
   "outputs": [],
   "source": [
    "def fill_vehicle_type(row, row_number, vehicle_type_pivot):\n",
    "    brand = row[8]\n",
    "    fill_value = row[row_number]\n",
    "    if row[row_number] == 0:\n",
    "        fill_value = vehicle_type_pivot[brand].idxmax()\n",
    "    return fill_value"
   ]
  },
  {
   "cell_type": "code",
   "execution_count": 33,
   "metadata": {},
   "outputs": [],
   "source": [
    "data1['VehicleType'] = data1.apply(fill_vehicle_type, args=[0, vehicle_type_pivot], axis=1)"
   ]
  },
  {
   "cell_type": "code",
   "execution_count": 34,
   "metadata": {},
   "outputs": [
    {
     "data": {
      "text/plain": [
       "0"
      ]
     },
     "metadata": {},
     "output_type": "display_data"
    }
   ],
   "source": [
    "display(data1['VehicleType'].isna().sum())"
   ]
  },
  {
   "cell_type": "code",
   "execution_count": 35,
   "metadata": {},
   "outputs": [
    {
     "data": {
      "text/plain": [
       "sedan          68246\n",
       "small          58844\n",
       "wagon          48353\n",
       "bus            22420\n",
       "convertible    14478\n",
       "coupe          10122\n",
       "suv             6432\n",
       "other           1949\n",
       "Name: VehicleType, dtype: int64"
      ]
     },
     "execution_count": 35,
     "metadata": {},
     "output_type": "execute_result"
    }
   ],
   "source": [
    "data1['VehicleType'].value_counts()"
   ]
  },
  {
   "cell_type": "markdown",
   "metadata": {},
   "source": [
    "<div style=\"background-color: WhiteSmoke; border-left: 7px solid Silver\">\n",
    "<p>\n",
    "<b>FuelType</b>    \n",
    "</p>\n",
    "</div>"
   ]
  },
  {
   "cell_type": "code",
   "execution_count": 36,
   "metadata": {},
   "outputs": [
    {
     "data": {
      "text/plain": [
       "petrol      148462\n",
       "gasoline     68514\n",
       "lpg           3851\n",
       "cng            445\n",
       "hybrid         107\n",
       "other           62\n",
       "electric        20\n",
       "Name: FuelType, dtype: int64"
      ]
     },
     "metadata": {},
     "output_type": "display_data"
    }
   ],
   "source": [
    "display(data1['FuelType'].value_counts())"
   ]
  },
  {
   "cell_type": "code",
   "execution_count": 37,
   "metadata": {},
   "outputs": [
    {
     "data": {
      "text/plain": [
       "9383"
      ]
     },
     "execution_count": 37,
     "metadata": {},
     "output_type": "execute_result"
    }
   ],
   "source": [
    "data1['FuelType'].isna().sum()"
   ]
  },
  {
   "cell_type": "code",
   "execution_count": 38,
   "metadata": {},
   "outputs": [
    {
     "data": {
      "text/html": [
       "<div>\n",
       "<style scoped>\n",
       "    .dataframe tbody tr th:only-of-type {\n",
       "        vertical-align: middle;\n",
       "    }\n",
       "\n",
       "    .dataframe tbody tr th {\n",
       "        vertical-align: top;\n",
       "    }\n",
       "\n",
       "    .dataframe thead th {\n",
       "        text-align: right;\n",
       "    }\n",
       "</style>\n",
       "<table border=\"1\" class=\"dataframe\">\n",
       "  <thead>\n",
       "    <tr style=\"text-align: right;\">\n",
       "      <th>Brand</th>\n",
       "      <th>alfa_romeo</th>\n",
       "      <th>audi</th>\n",
       "      <th>bmw</th>\n",
       "      <th>chevrolet</th>\n",
       "      <th>chrysler</th>\n",
       "      <th>citroen</th>\n",
       "      <th>dacia</th>\n",
       "      <th>daewoo</th>\n",
       "      <th>daihatsu</th>\n",
       "      <th>fiat</th>\n",
       "      <th>...</th>\n",
       "      <th>seat</th>\n",
       "      <th>skoda</th>\n",
       "      <th>smart</th>\n",
       "      <th>sonstige_autos</th>\n",
       "      <th>subaru</th>\n",
       "      <th>suzuki</th>\n",
       "      <th>toyota</th>\n",
       "      <th>trabant</th>\n",
       "      <th>volkswagen</th>\n",
       "      <th>volvo</th>\n",
       "    </tr>\n",
       "    <tr>\n",
       "      <th>FuelType</th>\n",
       "      <th></th>\n",
       "      <th></th>\n",
       "      <th></th>\n",
       "      <th></th>\n",
       "      <th></th>\n",
       "      <th></th>\n",
       "      <th></th>\n",
       "      <th></th>\n",
       "      <th></th>\n",
       "      <th></th>\n",
       "      <th></th>\n",
       "      <th></th>\n",
       "      <th></th>\n",
       "      <th></th>\n",
       "      <th></th>\n",
       "      <th></th>\n",
       "      <th></th>\n",
       "      <th></th>\n",
       "      <th></th>\n",
       "      <th></th>\n",
       "      <th></th>\n",
       "    </tr>\n",
       "  </thead>\n",
       "  <tbody>\n",
       "    <tr>\n",
       "      <th>cng</th>\n",
       "      <td>NaN</td>\n",
       "      <td>NaN</td>\n",
       "      <td>6.0</td>\n",
       "      <td>4.0</td>\n",
       "      <td>NaN</td>\n",
       "      <td>5.0</td>\n",
       "      <td>2.0</td>\n",
       "      <td>NaN</td>\n",
       "      <td>NaN</td>\n",
       "      <td>59.0</td>\n",
       "      <td>...</td>\n",
       "      <td>NaN</td>\n",
       "      <td>6.0</td>\n",
       "      <td>2.0</td>\n",
       "      <td>6.0</td>\n",
       "      <td>2.0</td>\n",
       "      <td>NaN</td>\n",
       "      <td>NaN</td>\n",
       "      <td>NaN</td>\n",
       "      <td>156.0</td>\n",
       "      <td>20.0</td>\n",
       "    </tr>\n",
       "    <tr>\n",
       "      <th>electric</th>\n",
       "      <td>NaN</td>\n",
       "      <td>2.0</td>\n",
       "      <td>2.0</td>\n",
       "      <td>NaN</td>\n",
       "      <td>NaN</td>\n",
       "      <td>NaN</td>\n",
       "      <td>NaN</td>\n",
       "      <td>NaN</td>\n",
       "      <td>1.0</td>\n",
       "      <td>1.0</td>\n",
       "      <td>...</td>\n",
       "      <td>NaN</td>\n",
       "      <td>NaN</td>\n",
       "      <td>3.0</td>\n",
       "      <td>1.0</td>\n",
       "      <td>NaN</td>\n",
       "      <td>NaN</td>\n",
       "      <td>NaN</td>\n",
       "      <td>NaN</td>\n",
       "      <td>1.0</td>\n",
       "      <td>NaN</td>\n",
       "    </tr>\n",
       "    <tr>\n",
       "      <th>gasoline</th>\n",
       "      <td>490.0</td>\n",
       "      <td>7936.0</td>\n",
       "      <td>7337.0</td>\n",
       "      <td>136.0</td>\n",
       "      <td>291.0</td>\n",
       "      <td>1252.0</td>\n",
       "      <td>147.0</td>\n",
       "      <td>1.0</td>\n",
       "      <td>4.0</td>\n",
       "      <td>1117.0</td>\n",
       "      <td>...</td>\n",
       "      <td>1302.0</td>\n",
       "      <td>1388.0</td>\n",
       "      <td>747.0</td>\n",
       "      <td>194.0</td>\n",
       "      <td>21.0</td>\n",
       "      <td>184.0</td>\n",
       "      <td>796.0</td>\n",
       "      <td>1.0</td>\n",
       "      <td>18281.0</td>\n",
       "      <td>729.0</td>\n",
       "    </tr>\n",
       "    <tr>\n",
       "      <th>hybrid</th>\n",
       "      <td>NaN</td>\n",
       "      <td>NaN</td>\n",
       "      <td>NaN</td>\n",
       "      <td>NaN</td>\n",
       "      <td>NaN</td>\n",
       "      <td>NaN</td>\n",
       "      <td>NaN</td>\n",
       "      <td>NaN</td>\n",
       "      <td>NaN</td>\n",
       "      <td>2.0</td>\n",
       "      <td>...</td>\n",
       "      <td>NaN</td>\n",
       "      <td>NaN</td>\n",
       "      <td>1.0</td>\n",
       "      <td>2.0</td>\n",
       "      <td>NaN</td>\n",
       "      <td>NaN</td>\n",
       "      <td>54.0</td>\n",
       "      <td>NaN</td>\n",
       "      <td>2.0</td>\n",
       "      <td>NaN</td>\n",
       "    </tr>\n",
       "    <tr>\n",
       "      <th>lpg</th>\n",
       "      <td>27.0</td>\n",
       "      <td>315.0</td>\n",
       "      <td>556.0</td>\n",
       "      <td>136.0</td>\n",
       "      <td>68.0</td>\n",
       "      <td>55.0</td>\n",
       "      <td>47.0</td>\n",
       "      <td>20.0</td>\n",
       "      <td>3.0</td>\n",
       "      <td>54.0</td>\n",
       "      <td>...</td>\n",
       "      <td>55.0</td>\n",
       "      <td>46.0</td>\n",
       "      <td>3.0</td>\n",
       "      <td>50.0</td>\n",
       "      <td>25.0</td>\n",
       "      <td>12.0</td>\n",
       "      <td>14.0</td>\n",
       "      <td>NaN</td>\n",
       "      <td>421.0</td>\n",
       "      <td>80.0</td>\n",
       "    </tr>\n",
       "    <tr>\n",
       "      <th>other</th>\n",
       "      <td>NaN</td>\n",
       "      <td>NaN</td>\n",
       "      <td>3.0</td>\n",
       "      <td>NaN</td>\n",
       "      <td>NaN</td>\n",
       "      <td>NaN</td>\n",
       "      <td>NaN</td>\n",
       "      <td>NaN</td>\n",
       "      <td>NaN</td>\n",
       "      <td>NaN</td>\n",
       "      <td>...</td>\n",
       "      <td>NaN</td>\n",
       "      <td>NaN</td>\n",
       "      <td>NaN</td>\n",
       "      <td>4.0</td>\n",
       "      <td>NaN</td>\n",
       "      <td>1.0</td>\n",
       "      <td>NaN</td>\n",
       "      <td>19.0</td>\n",
       "      <td>9.0</td>\n",
       "      <td>2.0</td>\n",
       "    </tr>\n",
       "    <tr>\n",
       "      <th>petrol</th>\n",
       "      <td>1039.0</td>\n",
       "      <td>9048.0</td>\n",
       "      <td>15171.0</td>\n",
       "      <td>846.0</td>\n",
       "      <td>537.0</td>\n",
       "      <td>2235.0</td>\n",
       "      <td>500.0</td>\n",
       "      <td>278.0</td>\n",
       "      <td>459.0</td>\n",
       "      <td>4652.0</td>\n",
       "      <td>...</td>\n",
       "      <td>3259.0</td>\n",
       "      <td>2511.0</td>\n",
       "      <td>3426.0</td>\n",
       "      <td>590.0</td>\n",
       "      <td>395.0</td>\n",
       "      <td>1403.0</td>\n",
       "      <td>2647.0</td>\n",
       "      <td>143.0</td>\n",
       "      <td>29358.0</td>\n",
       "      <td>1271.0</td>\n",
       "    </tr>\n",
       "  </tbody>\n",
       "</table>\n",
       "<p>7 rows × 40 columns</p>\n",
       "</div>"
      ],
      "text/plain": [
       "Brand     alfa_romeo    audi      bmw  chevrolet  chrysler  citroen  dacia  \\\n",
       "FuelType                                                                     \n",
       "cng              NaN     NaN      6.0        4.0       NaN      5.0    2.0   \n",
       "electric         NaN     2.0      2.0        NaN       NaN      NaN    NaN   \n",
       "gasoline       490.0  7936.0   7337.0      136.0     291.0   1252.0  147.0   \n",
       "hybrid           NaN     NaN      NaN        NaN       NaN      NaN    NaN   \n",
       "lpg             27.0   315.0    556.0      136.0      68.0     55.0   47.0   \n",
       "other            NaN     NaN      3.0        NaN       NaN      NaN    NaN   \n",
       "petrol        1039.0  9048.0  15171.0      846.0     537.0   2235.0  500.0   \n",
       "\n",
       "Brand     daewoo  daihatsu    fiat  ...    seat   skoda   smart  \\\n",
       "FuelType                            ...                           \n",
       "cng          NaN       NaN    59.0  ...     NaN     6.0     2.0   \n",
       "electric     NaN       1.0     1.0  ...     NaN     NaN     3.0   \n",
       "gasoline     1.0       4.0  1117.0  ...  1302.0  1388.0   747.0   \n",
       "hybrid       NaN       NaN     2.0  ...     NaN     NaN     1.0   \n",
       "lpg         20.0       3.0    54.0  ...    55.0    46.0     3.0   \n",
       "other        NaN       NaN     NaN  ...     NaN     NaN     NaN   \n",
       "petrol     278.0     459.0  4652.0  ...  3259.0  2511.0  3426.0   \n",
       "\n",
       "Brand     sonstige_autos  subaru  suzuki  toyota  trabant  volkswagen   volvo  \n",
       "FuelType                                                                       \n",
       "cng                  6.0     2.0     NaN     NaN      NaN       156.0    20.0  \n",
       "electric             1.0     NaN     NaN     NaN      NaN         1.0     NaN  \n",
       "gasoline           194.0    21.0   184.0   796.0      1.0     18281.0   729.0  \n",
       "hybrid               2.0     NaN     NaN    54.0      NaN         2.0     NaN  \n",
       "lpg                 50.0    25.0    12.0    14.0      NaN       421.0    80.0  \n",
       "other                4.0     NaN     1.0     NaN     19.0         9.0     2.0  \n",
       "petrol             590.0   395.0  1403.0  2647.0    143.0     29358.0  1271.0  \n",
       "\n",
       "[7 rows x 40 columns]"
      ]
     },
     "metadata": {},
     "output_type": "display_data"
    }
   ],
   "source": [
    "fuel_type_pivot = data1.pivot_table(index='FuelType', columns='Brand', values='Price', aggfunc='count')\n",
    "display(fuel_type_pivot)"
   ]
  },
  {
   "cell_type": "code",
   "execution_count": 39,
   "metadata": {},
   "outputs": [],
   "source": [
    "data1.fillna({'FuelType':0},inplace=True)"
   ]
  },
  {
   "cell_type": "code",
   "execution_count": 40,
   "metadata": {},
   "outputs": [],
   "source": [
    "data1['FuelType'] = data1.apply(fill_vehicle_type, args=[2, vehicle_type_pivot],axis=1)"
   ]
  },
  {
   "cell_type": "code",
   "execution_count": 41,
   "metadata": {},
   "outputs": [
    {
     "data": {
      "text/plain": [
       "0"
      ]
     },
     "metadata": {},
     "output_type": "display_data"
    }
   ],
   "source": [
    "display(data1['FuelType'].isna().sum())"
   ]
  },
  {
   "cell_type": "code",
   "execution_count": 42,
   "metadata": {},
   "outputs": [
    {
     "data": {
      "text/plain": [
       "petrol      148462\n",
       "gasoline     68514\n",
       "sedan         4435\n",
       "small         3862\n",
       "lpg           3851\n",
       "wagon         1003\n",
       "cng            445\n",
       "hybrid         107\n",
       "other           62\n",
       "bus             42\n",
       "suv             37\n",
       "electric        20\n",
       "coupe            4\n",
       "Name: FuelType, dtype: int64"
      ]
     },
     "execution_count": 42,
     "metadata": {},
     "output_type": "execute_result"
    }
   ],
   "source": [
    "data1['FuelType'].value_counts()"
   ]
  },
  {
   "cell_type": "markdown",
   "metadata": {},
   "source": [
    "<div style=\"background-color: WhiteSmoke; border-left: 7px solid Silver\">\n",
    "<p>\n",
    "<b>Дубликаты</b>    \n",
    "</p>\n",
    "</div>"
   ]
  },
  {
   "cell_type": "code",
   "execution_count": 43,
   "metadata": {},
   "outputs": [],
   "source": [
    "data2 = data1.drop_duplicates().reset_index(drop=True)"
   ]
  },
  {
   "cell_type": "markdown",
   "metadata": {},
   "source": [
    "<div style=\"background-color: WhiteSmoke; border-left: 7px solid Silver\">\n",
    "<p>\n",
    "Gasoline и petrol  - это разные названия бензина. Сделаем замену replace('gasoline', 'petrol').   \n",
    "</p>\n",
    "</div>"
   ]
  },
  {
   "cell_type": "code",
   "execution_count": 44,
   "metadata": {},
   "outputs": [],
   "source": [
    "data2.FuelType = data2.FuelType.replace('gasoline', 'petrol')"
   ]
  },
  {
   "cell_type": "markdown",
   "metadata": {},
   "source": [
    "<div style=\"background-color: WhiteSmoke; border-left: 7px solid Silver\">\n",
    "<p>\n",
    "Пропуски в столбце Repaired заменим на 'no'.   \n",
    "</p>\n",
    "</div>"
   ]
  },
  {
   "cell_type": "code",
   "execution_count": 45,
   "metadata": {},
   "outputs": [],
   "source": [
    "data2.Repaired = data2.Repaired.fillna('no')"
   ]
  },
  {
   "cell_type": "markdown",
   "metadata": {},
   "source": [
    "<div style=\"background-color: WhiteSmoke; border-left: 7px solid Silver\">\n",
    "<p>\n",
    "<b>Работа с данными  - оптимизация</b>    \n",
    "</p>\n",
    "</div>"
   ]
  },
  {
   "cell_type": "code",
   "execution_count": 46,
   "metadata": {},
   "outputs": [],
   "source": [
    "data2['Automatic'] = 1\n",
    "data2.loc[data2['Gearbox'] == 'manual', 'Automatic'] = 0"
   ]
  },
  {
   "cell_type": "markdown",
   "metadata": {},
   "source": [
    "<div style=\"background-color: WhiteSmoke; border-left: 7px solid Silver\">\n",
    "<p>\n",
    "Проверка замены типа столбца 'Gearbox'.\n",
    "</p>\n",
    "</div>"
   ]
  },
  {
   "cell_type": "code",
   "execution_count": 47,
   "metadata": {},
   "outputs": [
    {
     "data": {
      "text/plain": [
       "0    162439\n",
       "1     35399\n",
       "Name: Automatic, dtype: int64"
      ]
     },
     "metadata": {},
     "output_type": "display_data"
    },
    {
     "data": {
      "text/plain": [
       "manual    162439\n",
       "auto       35399\n",
       "Name: Gearbox, dtype: int64"
      ]
     },
     "execution_count": 47,
     "metadata": {},
     "output_type": "execute_result"
    }
   ],
   "source": [
    "display(data2['Automatic'].value_counts())\n",
    "data2['Gearbox'].value_counts()"
   ]
  },
  {
   "cell_type": "code",
   "execution_count": 48,
   "metadata": {},
   "outputs": [],
   "source": [
    "data2['NotRepaired'] = 1\n",
    "data2.loc[data2['Repaired'] == 'yes', 'NotRepaired'] = 0"
   ]
  },
  {
   "cell_type": "markdown",
   "metadata": {},
   "source": [
    "<div style=\"background-color: WhiteSmoke; border-left: 7px solid Silver\">\n",
    "<p>\n",
    "Проверка замены типа столбца 'Repaired'.\n",
    "</p>\n",
    "</div>"
   ]
  },
  {
   "cell_type": "code",
   "execution_count": 49,
   "metadata": {},
   "outputs": [
    {
     "data": {
      "text/plain": [
       "1    179889\n",
       "0     17949\n",
       "Name: NotRepaired, dtype: int64"
      ]
     },
     "metadata": {},
     "output_type": "display_data"
    },
    {
     "data": {
      "text/plain": [
       "no     179889\n",
       "yes     17949\n",
       "Name: Repaired, dtype: int64"
      ]
     },
     "execution_count": 49,
     "metadata": {},
     "output_type": "execute_result"
    }
   ],
   "source": [
    "display(data2['NotRepaired'].value_counts())\n",
    "data2['Repaired'].value_counts()"
   ]
  },
  {
   "cell_type": "markdown",
   "metadata": {},
   "source": [
    "<div style=\"background-color: WhiteSmoke; border-left: 7px solid Silver\">\n",
    "<p>\n",
    "Удалим лишние слобцы.\n",
    "</p>\n",
    "</div>"
   ]
  },
  {
   "cell_type": "code",
   "execution_count": 50,
   "metadata": {},
   "outputs": [],
   "source": [
    "data2.drop(['Repaired'], inplace=True, axis=1)"
   ]
  },
  {
   "cell_type": "code",
   "execution_count": 51,
   "metadata": {},
   "outputs": [],
   "source": [
    "data2.drop(['Gearbox'], inplace=True, axis=1)"
   ]
  },
  {
   "cell_type": "code",
   "execution_count": 52,
   "metadata": {},
   "outputs": [
    {
     "name": "stdout",
     "output_type": "stream",
     "text": [
      "<class 'pandas.core.frame.DataFrame'>\n",
      "RangeIndex: 197838 entries, 0 to 197837\n",
      "Data columns (total 10 columns):\n",
      " #   Column            Non-Null Count   Dtype \n",
      "---  ------            --------------   ----- \n",
      " 0   VehicleType       197838 non-null  object\n",
      " 1   FuelType          197838 non-null  object\n",
      " 2   RegistrationYear  197838 non-null  int64 \n",
      " 3   Model             197838 non-null  object\n",
      " 4   Power             197838 non-null  int64 \n",
      " 5   Kilometer         197838 non-null  int64 \n",
      " 6   Brand             197838 non-null  object\n",
      " 7   Price             197838 non-null  int64 \n",
      " 8   Automatic         197838 non-null  int64 \n",
      " 9   NotRepaired       197838 non-null  int64 \n",
      "dtypes: int64(6), object(4)\n",
      "memory usage: 15.1+ MB\n"
     ]
    }
   ],
   "source": [
    "data2.info()"
   ]
  },
  {
   "cell_type": "markdown",
   "metadata": {},
   "source": [
    "<div style=\"background-color: WhiteSmoke; border-left: 7px solid Silver\">\n",
    "<p>\n",
    "Загрузили и исследовали данные. Обработали пропуски и дубликаты. Исследовали данные на мультиколлинеарность. \n",
    "Произвели преобразование типов данных. \n",
    "Выделили значимые признаки. Убрали лишние стобцы в целях оптимизации данных и процесса обучения моделей. \n",
    "Обработали выбросы в данных.  \n",
    "</p>\n",
    "</div>"
   ]
  },
  {
   "cell_type": "markdown",
   "metadata": {},
   "source": [
    "## Обучение моделей"
   ]
  },
  {
   "cell_type": "markdown",
   "metadata": {},
   "source": [
    "<div style=\"background-color: WhiteSmoke; border-left: 7px solid Silver\">\n",
    "<p>\n",
    "<b>Разделим данные на выборки: обучающую, валидационную и тестовую.</b>\n",
    "</p>\n",
    "</div>"
   ]
  },
  {
   "cell_type": "code",
   "execution_count": 53,
   "metadata": {},
   "outputs": [],
   "source": [
    "target = data2['Price']\n",
    "features = data2.drop('Price', axis=1)"
   ]
  },
  {
   "cell_type": "code",
   "execution_count": 54,
   "metadata": {},
   "outputs": [],
   "source": [
    "features_train, features_valid, target_train,target_valid = \\\n",
    "train_test_split(features, target, test_size=0.4, random_state=577)"
   ]
  },
  {
   "cell_type": "code",
   "execution_count": 55,
   "metadata": {},
   "outputs": [],
   "source": [
    "features_valid, features_test, target_valid, target_test = \\\n",
    "train_test_split(features_valid, target_valid, test_size=0.5, random_state=577)"
   ]
  },
  {
   "cell_type": "markdown",
   "metadata": {},
   "source": [
    "<div style=\"background-color: WhiteSmoke; border-left: 7px solid Silver\">\n",
    "<p>\n",
    "<b>Кодирование данных</b>\n",
    "</p>\n",
    "</div>"
   ]
  },
  {
   "cell_type": "code",
   "execution_count": 56,
   "metadata": {},
   "outputs": [],
   "source": [
    "object_cols = ['VehicleType','FuelType','Brand','Model']"
   ]
  },
  {
   "cell_type": "code",
   "execution_count": 57,
   "metadata": {},
   "outputs": [],
   "source": [
    "features_train1 = features_train.copy()\n",
    "features_valid1 =features_test.copy()\n",
    "\n",
    "ordinal_encoder = OrdinalEncoder(handle_unknown='ignore')        \n",
    "\n",
    "features_train[object_cols] = ordinal_encoder.fit_transform(features_train[object_cols])\n",
    "features_valid[object_cols] = ordinal_encoder.transform(features_valid[object_cols])\n",
    "features_test[object_cols] = ordinal_encoder.transform(features_test[object_cols])"
   ]
  },
  {
   "cell_type": "code",
   "execution_count": 58,
   "metadata": {},
   "outputs": [
    {
     "data": {
      "text/html": [
       "<div>\n",
       "<style scoped>\n",
       "    .dataframe tbody tr th:only-of-type {\n",
       "        vertical-align: middle;\n",
       "    }\n",
       "\n",
       "    .dataframe tbody tr th {\n",
       "        vertical-align: top;\n",
       "    }\n",
       "\n",
       "    .dataframe thead th {\n",
       "        text-align: right;\n",
       "    }\n",
       "</style>\n",
       "<table border=\"1\" class=\"dataframe\">\n",
       "  <thead>\n",
       "    <tr style=\"text-align: right;\">\n",
       "      <th></th>\n",
       "      <th>VehicleType</th>\n",
       "      <th>FuelType</th>\n",
       "      <th>RegistrationYear</th>\n",
       "      <th>Model</th>\n",
       "      <th>Power</th>\n",
       "      <th>Kilometer</th>\n",
       "      <th>Brand</th>\n",
       "      <th>Automatic</th>\n",
       "      <th>NotRepaired</th>\n",
       "    </tr>\n",
       "  </thead>\n",
       "  <tbody>\n",
       "    <tr>\n",
       "      <th>45064</th>\n",
       "      <td>5.0</td>\n",
       "      <td>7.0</td>\n",
       "      <td>2012</td>\n",
       "      <td>75.0</td>\n",
       "      <td>75</td>\n",
       "      <td>50000</td>\n",
       "      <td>27.0</td>\n",
       "      <td>0</td>\n",
       "      <td>1</td>\n",
       "    </tr>\n",
       "    <tr>\n",
       "      <th>190985</th>\n",
       "      <td>2.0</td>\n",
       "      <td>7.0</td>\n",
       "      <td>2001</td>\n",
       "      <td>59.0</td>\n",
       "      <td>129</td>\n",
       "      <td>150000</td>\n",
       "      <td>20.0</td>\n",
       "      <td>0</td>\n",
       "      <td>1</td>\n",
       "    </tr>\n",
       "    <tr>\n",
       "      <th>59896</th>\n",
       "      <td>0.0</td>\n",
       "      <td>7.0</td>\n",
       "      <td>2010</td>\n",
       "      <td>38.0</td>\n",
       "      <td>140</td>\n",
       "      <td>125000</td>\n",
       "      <td>30.0</td>\n",
       "      <td>1</td>\n",
       "      <td>1</td>\n",
       "    </tr>\n",
       "    <tr>\n",
       "      <th>54469</th>\n",
       "      <td>4.0</td>\n",
       "      <td>7.0</td>\n",
       "      <td>1999</td>\n",
       "      <td>115.0</td>\n",
       "      <td>75</td>\n",
       "      <td>150000</td>\n",
       "      <td>38.0</td>\n",
       "      <td>0</td>\n",
       "      <td>0</td>\n",
       "    </tr>\n",
       "    <tr>\n",
       "      <th>18314</th>\n",
       "      <td>7.0</td>\n",
       "      <td>7.0</td>\n",
       "      <td>2003</td>\n",
       "      <td>59.0</td>\n",
       "      <td>143</td>\n",
       "      <td>150000</td>\n",
       "      <td>20.0</td>\n",
       "      <td>1</td>\n",
       "      <td>1</td>\n",
       "    </tr>\n",
       "  </tbody>\n",
       "</table>\n",
       "</div>"
      ],
      "text/plain": [
       "        VehicleType  FuelType  RegistrationYear  Model  Power  Kilometer  \\\n",
       "45064           5.0       7.0              2012   75.0     75      50000   \n",
       "190985          2.0       7.0              2001   59.0    129     150000   \n",
       "59896           0.0       7.0              2010   38.0    140     125000   \n",
       "54469           4.0       7.0              1999  115.0     75     150000   \n",
       "18314           7.0       7.0              2003   59.0    143     150000   \n",
       "\n",
       "        Brand  Automatic  NotRepaired  \n",
       "45064    27.0          0            1  \n",
       "190985   20.0          0            1  \n",
       "59896    30.0          1            1  \n",
       "54469    38.0          0            0  \n",
       "18314    20.0          1            1  "
      ]
     },
     "execution_count": 58,
     "metadata": {},
     "output_type": "execute_result"
    }
   ],
   "source": [
    "features_train.head()"
   ]
  },
  {
   "cell_type": "markdown",
   "metadata": {},
   "source": [
    "<div style=\"background-color: WhiteSmoke; border-left: 7px solid Silver\">\n",
    "<p>\n",
    "<b>Масштабирование численных признаков</b>\n",
    "</p>\n",
    "</div>"
   ]
  },
  {
   "cell_type": "code",
   "execution_count": 59,
   "metadata": {},
   "outputs": [],
   "source": [
    "num_cols = ['RegistrationYear','Power','Kilometer']\n",
    "scaler = StandardScaler()\n",
    "features_train[num_cols] = scaler.fit_transform(features_train[num_cols])\n",
    "features_valid[num_cols] = scaler.transform(features_valid[num_cols])\n",
    "features_test[num_cols] = scaler.transform(features_test[num_cols])"
   ]
  },
  {
   "cell_type": "code",
   "execution_count": 60,
   "metadata": {},
   "outputs": [
    {
     "data": {
      "text/html": [
       "<div>\n",
       "<style scoped>\n",
       "    .dataframe tbody tr th:only-of-type {\n",
       "        vertical-align: middle;\n",
       "    }\n",
       "\n",
       "    .dataframe tbody tr th {\n",
       "        vertical-align: top;\n",
       "    }\n",
       "\n",
       "    .dataframe thead th {\n",
       "        text-align: right;\n",
       "    }\n",
       "</style>\n",
       "<table border=\"1\" class=\"dataframe\">\n",
       "  <thead>\n",
       "    <tr style=\"text-align: right;\">\n",
       "      <th></th>\n",
       "      <th>VehicleType</th>\n",
       "      <th>FuelType</th>\n",
       "      <th>RegistrationYear</th>\n",
       "      <th>Model</th>\n",
       "      <th>Power</th>\n",
       "      <th>Kilometer</th>\n",
       "      <th>Brand</th>\n",
       "      <th>Automatic</th>\n",
       "      <th>NotRepaired</th>\n",
       "    </tr>\n",
       "  </thead>\n",
       "  <tbody>\n",
       "    <tr>\n",
       "      <th>45064</th>\n",
       "      <td>5.0</td>\n",
       "      <td>7.0</td>\n",
       "      <td>1.710105</td>\n",
       "      <td>75.0</td>\n",
       "      <td>-0.940908</td>\n",
       "      <td>-2.312053</td>\n",
       "      <td>27.0</td>\n",
       "      <td>0</td>\n",
       "      <td>1</td>\n",
       "    </tr>\n",
       "    <tr>\n",
       "      <th>190985</th>\n",
       "      <td>2.0</td>\n",
       "      <td>7.0</td>\n",
       "      <td>-0.244658</td>\n",
       "      <td>59.0</td>\n",
       "      <td>0.324745</td>\n",
       "      <td>0.573421</td>\n",
       "      <td>20.0</td>\n",
       "      <td>0</td>\n",
       "      <td>1</td>\n",
       "    </tr>\n",
       "    <tr>\n",
       "      <th>59896</th>\n",
       "      <td>0.0</td>\n",
       "      <td>7.0</td>\n",
       "      <td>1.354694</td>\n",
       "      <td>38.0</td>\n",
       "      <td>0.582564</td>\n",
       "      <td>-0.147948</td>\n",
       "      <td>30.0</td>\n",
       "      <td>1</td>\n",
       "      <td>1</td>\n",
       "    </tr>\n",
       "    <tr>\n",
       "      <th>54469</th>\n",
       "      <td>4.0</td>\n",
       "      <td>7.0</td>\n",
       "      <td>-0.600069</td>\n",
       "      <td>115.0</td>\n",
       "      <td>-0.940908</td>\n",
       "      <td>0.573421</td>\n",
       "      <td>38.0</td>\n",
       "      <td>0</td>\n",
       "      <td>0</td>\n",
       "    </tr>\n",
       "    <tr>\n",
       "      <th>18314</th>\n",
       "      <td>7.0</td>\n",
       "      <td>7.0</td>\n",
       "      <td>0.110754</td>\n",
       "      <td>59.0</td>\n",
       "      <td>0.652878</td>\n",
       "      <td>0.573421</td>\n",
       "      <td>20.0</td>\n",
       "      <td>1</td>\n",
       "      <td>1</td>\n",
       "    </tr>\n",
       "  </tbody>\n",
       "</table>\n",
       "</div>"
      ],
      "text/plain": [
       "        VehicleType  FuelType  RegistrationYear  Model     Power  Kilometer  \\\n",
       "45064           5.0       7.0          1.710105   75.0 -0.940908  -2.312053   \n",
       "190985          2.0       7.0         -0.244658   59.0  0.324745   0.573421   \n",
       "59896           0.0       7.0          1.354694   38.0  0.582564  -0.147948   \n",
       "54469           4.0       7.0         -0.600069  115.0 -0.940908   0.573421   \n",
       "18314           7.0       7.0          0.110754   59.0  0.652878   0.573421   \n",
       "\n",
       "        Brand  Automatic  NotRepaired  \n",
       "45064    27.0          0            1  \n",
       "190985   20.0          0            1  \n",
       "59896    30.0          1            1  \n",
       "54469    38.0          0            0  \n",
       "18314    20.0          1            1  "
      ]
     },
     "execution_count": 60,
     "metadata": {},
     "output_type": "execute_result"
    }
   ],
   "source": [
    "features_train.head()"
   ]
  },
  {
   "cell_type": "markdown",
   "metadata": {},
   "source": [
    "<div style=\"background-color: WhiteSmoke; border-left: 7px solid Silver\">\n",
    "<p>\n",
    "<b>RandomForestRegressor</b>\n",
    "</p>\n",
    "</div>"
   ]
  },
  {
   "cell_type": "code",
   "execution_count": 61,
   "metadata": {},
   "outputs": [],
   "source": [
    "def RMSE(y_true,y_pred):\n",
    "    error = mean_squared_error(y_true, y_pred) ** 0.5 \n",
    "    return error"
   ]
  },
  {
   "cell_type": "code",
   "execution_count": 62,
   "metadata": {},
   "outputs": [],
   "source": [
    "score = make_scorer(RMSE,greater_is_better=False)"
   ]
  },
  {
   "cell_type": "code",
   "execution_count": 63,
   "metadata": {},
   "outputs": [],
   "source": [
    "model1 = RandomForestRegressor(random_state=577)"
   ]
  },
  {
   "cell_type": "code",
   "execution_count": 64,
   "metadata": {},
   "outputs": [],
   "source": [
    "param_RF = { \n",
    "    'n_estimators': [10,100],\n",
    "    'max_depth' : [1,15]\n",
    "    }"
   ]
  },
  {
   "cell_type": "code",
   "execution_count": 65,
   "metadata": {},
   "outputs": [
    {
     "name": "stdout",
     "output_type": "stream",
     "text": [
      "CPU times: user 65 µs, sys: 5 µs, total: 70 µs\n",
      "Wall time: 75.3 µs\n"
     ]
    }
   ],
   "source": [
    "%%time\n",
    "grid_model1 = GridSearchCV(model1,\n",
    "                           param_grid = param_RF,\n",
    "                           scoring='neg_mean_squared_error',\n",
    "                           cv= 5)"
   ]
  },
  {
   "cell_type": "code",
   "execution_count": 66,
   "metadata": {},
   "outputs": [
    {
     "name": "stdout",
     "output_type": "stream",
     "text": [
      "CPU times: user 1min 59s, sys: 407 ms, total: 1min 59s\n",
      "Wall time: 1min 59s\n"
     ]
    },
    {
     "data": {
      "text/plain": [
       "GridSearchCV(cv=5, estimator=RandomForestRegressor(random_state=577),\n",
       "             param_grid={'max_depth': [1, 15], 'n_estimators': [10, 100]},\n",
       "             scoring='neg_mean_squared_error')"
      ]
     },
     "execution_count": 66,
     "metadata": {},
     "output_type": "execute_result"
    }
   ],
   "source": [
    "%%time\n",
    "grid_model1.fit(features_train,target_train)"
   ]
  },
  {
   "cell_type": "code",
   "execution_count": 67,
   "metadata": {},
   "outputs": [
    {
     "name": "stdout",
     "output_type": "stream",
     "text": [
      "Лучшая модель-1\n",
      "RandomForestRegressor(max_depth=15, random_state=577)\n"
     ]
    }
   ],
   "source": [
    "print(\"Лучшая модель-1\")\n",
    "print(grid_model1.best_estimator_)"
   ]
  },
  {
   "cell_type": "code",
   "execution_count": 68,
   "metadata": {},
   "outputs": [],
   "source": [
    "best_score_model1 = grid_model1.best_score_"
   ]
  },
  {
   "cell_type": "code",
   "execution_count": 69,
   "metadata": {},
   "outputs": [
    {
     "name": "stdout",
     "output_type": "stream",
     "text": [
      "RandomForestRegressor -1494032.8933526084\n"
     ]
    }
   ],
   "source": [
    "print(\"RandomForestRegressor\",best_score_model1)"
   ]
  },
  {
   "cell_type": "code",
   "execution_count": 70,
   "metadata": {},
   "outputs": [
    {
     "name": "stdout",
     "output_type": "stream",
     "text": [
      "CPU times: user 736 ms, sys: 0 ns, total: 736 ms\n",
      "Wall time: 778 ms\n"
     ]
    }
   ],
   "source": [
    "%%time\n",
    "predicted_valid = grid_model1.predict(features_valid)"
   ]
  },
  {
   "cell_type": "code",
   "execution_count": 71,
   "metadata": {},
   "outputs": [
    {
     "name": "stdout",
     "output_type": "stream",
     "text": [
      "-RandomForestRegressor-\n",
      "-RMSE на валидационной выборке- 1196.396951834727\n"
     ]
    }
   ],
   "source": [
    "print('-RandomForestRegressor-')\n",
    "rmse_val = RMSE(target_valid,predicted_valid)\n",
    "print('-RMSE на валидационной выборке-',rmse_val)"
   ]
  },
  {
   "cell_type": "markdown",
   "metadata": {},
   "source": [
    "<div style=\"background-color: WhiteSmoke; border-left: 7px solid Silver\">\n",
    "<p>\n",
    "<b>LGBMRegressor</b>\n",
    "</p>\n",
    "</div>"
   ]
  },
  {
   "cell_type": "code",
   "execution_count": 72,
   "metadata": {},
   "outputs": [
    {
     "name": "stdout",
     "output_type": "stream",
     "text": [
      "Fitting 5 folds for each of 4 candidates, totalling 20 fits\n",
      "CPU times: user 3h 11min 14s, sys: 1min 51s, total: 3h 13min 6s\n",
      "Wall time: 3h 14min 9s\n"
     ]
    }
   ],
   "source": [
    "%%time\n",
    "model2 = lgb.LGBMRegressor(objective ='regression',random_state = 577)\n",
    "\n",
    "params_lgbm = {\n",
    "    'num_leaves':[10,30],\n",
    "    'learning_rate':[0.07,],     \n",
    "    'n_estimators':[100,1000],\n",
    "    'colsample_bytree': [0.5,],\n",
    "    'subsample': [0.6633,],\n",
    "    'reg_alpha': [0.05,], \n",
    "    'reg_lambda': [0],\n",
    "               } \n",
    "   \n",
    "grid_model2 = GridSearchCV(estimator=model2, \n",
    "                                param_grid=params_lgbm,\n",
    "                                verbose = 1, \n",
    "                                cv = 5,\n",
    "                                scoring='neg_mean_squared_error', \n",
    "                                n_jobs=-1).fit(features_train,target_train)"
   ]
  },
  {
   "cell_type": "code",
   "execution_count": 73,
   "metadata": {},
   "outputs": [
    {
     "name": "stdout",
     "output_type": "stream",
     "text": [
      "Fitting 5 folds for each of 4 candidates, totalling 20 fits\n",
      "CPU times: user 8min 57s, sys: 2.11 s, total: 8min 59s\n",
      "Wall time: 9min 3s\n"
     ]
    },
    {
     "data": {
      "text/plain": [
       "GridSearchCV(cv=5,\n",
       "             estimator=LGBMRegressor(objective='regression', random_state=577),\n",
       "             n_jobs=-1,\n",
       "             param_grid={'colsample_bytree': [0.5], 'learning_rate': [0.07],\n",
       "                         'n_estimators': [100, 1000], 'num_leaves': [10, 30],\n",
       "                         'reg_alpha': [0.05], 'reg_lambda': [0],\n",
       "                         'subsample': [0.6633]},\n",
       "             scoring='neg_mean_squared_error', verbose=1)"
      ]
     },
     "execution_count": 73,
     "metadata": {},
     "output_type": "execute_result"
    }
   ],
   "source": [
    "%%time\n",
    "grid_model2.fit(features_train,target_train)"
   ]
  },
  {
   "cell_type": "code",
   "execution_count": 74,
   "metadata": {},
   "outputs": [
    {
     "name": "stdout",
     "output_type": "stream",
     "text": [
      "Лучшая модель-2\n",
      "LGBMRegressor(colsample_bytree=0.5, learning_rate=0.07, n_estimators=1000,\n",
      "              num_leaves=30, objective='regression', random_state=577,\n",
      "              reg_alpha=0.05, reg_lambda=0, subsample=0.6633)\n"
     ]
    }
   ],
   "source": [
    "print(\"Лучшая модель-2\")\n",
    "print(grid_model2.best_estimator_)"
   ]
  },
  {
   "cell_type": "code",
   "execution_count": 75,
   "metadata": {},
   "outputs": [],
   "source": [
    "best_score_model2 = grid_model2.best_score_"
   ]
  },
  {
   "cell_type": "code",
   "execution_count": 76,
   "metadata": {},
   "outputs": [
    {
     "name": "stdout",
     "output_type": "stream",
     "text": [
      "LGBMRegressor -1360649.7327523432\n"
     ]
    }
   ],
   "source": [
    "print(\"LGBMRegressor\",best_score_model2)"
   ]
  },
  {
   "cell_type": "code",
   "execution_count": 77,
   "metadata": {},
   "outputs": [
    {
     "name": "stdout",
     "output_type": "stream",
     "text": [
      "CPU times: user 4.11 s, sys: 477 µs, total: 4.11 s\n",
      "Wall time: 4.07 s\n"
     ]
    }
   ],
   "source": [
    "%%time\n",
    "predicted_valid = grid_model2.predict(features_valid)"
   ]
  },
  {
   "cell_type": "code",
   "execution_count": 78,
   "metadata": {},
   "outputs": [
    {
     "name": "stdout",
     "output_type": "stream",
     "text": [
      "-LGBMRegressor-\n",
      "-RMSE на валидационной выборке- 1150.3600267105646\n"
     ]
    }
   ],
   "source": [
    "print('-LGBMRegressor-')\n",
    "rmse_val = RMSE(target_valid,predicted_valid)\n",
    "print('-RMSE на валидационной выборке-',rmse_val)"
   ]
  },
  {
   "cell_type": "markdown",
   "metadata": {},
   "source": [
    "<div style=\"background-color: WhiteSmoke; border-left: 7px solid Silver\">\n",
    "<p>\n",
    "<b>XGBRegressor</b>\n",
    "</p>\n",
    "</div>"
   ]
  },
  {
   "cell_type": "code",
   "execution_count": 79,
   "metadata": {},
   "outputs": [],
   "source": [
    "model3 = XGBRegressor(random_state=577) "
   ]
  },
  {
   "cell_type": "code",
   "execution_count": 80,
   "metadata": {},
   "outputs": [],
   "source": [
    "param_set = {\"learning_rate\": [0.07,], \n",
    "                        \"max_depth\": [ 3, 4, 5, 8],\n",
    "                        \"min_child_weight\": [2],\n",
    "                        \"gamma\":[ 0.0, 0.1, 0.2],\n",
    "                        \"colsample_bytree\":[0.3],}"
   ]
  },
  {
   "cell_type": "code",
   "execution_count": 81,
   "metadata": {},
   "outputs": [
    {
     "name": "stdout",
     "output_type": "stream",
     "text": [
      "CPU times: user 42 µs, sys: 0 ns, total: 42 µs\n",
      "Wall time: 45.5 µs\n"
     ]
    }
   ],
   "source": [
    "%%time\n",
    "grid_model3 = GridSearchCV(estimator=model3,\n",
    "                           param_grid=param_set,\n",
    "                           cv=3, \n",
    "                           scoring='neg_mean_squared_error', \n",
    "                           verbose=0, \n",
    "                           n_jobs=-1)"
   ]
  },
  {
   "cell_type": "code",
   "execution_count": 82,
   "metadata": {},
   "outputs": [
    {
     "name": "stdout",
     "output_type": "stream",
     "text": [
      "CPU times: user 10min 47s, sys: 2.55 s, total: 10min 50s\n",
      "Wall time: 10min 56s\n"
     ]
    },
    {
     "data": {
      "text/plain": [
       "GridSearchCV(cv=3,\n",
       "             estimator=XGBRegressor(base_score=None, booster=None,\n",
       "                                    colsample_bylevel=None,\n",
       "                                    colsample_bynode=None,\n",
       "                                    colsample_bytree=None,\n",
       "                                    enable_categorical=False, gamma=None,\n",
       "                                    gpu_id=None, importance_type=None,\n",
       "                                    interaction_constraints=None,\n",
       "                                    learning_rate=None, max_delta_step=None,\n",
       "                                    max_depth=None, min_child_weight=None,\n",
       "                                    missing=nan, monotone_constraints=None,\n",
       "                                    n...\n",
       "                                    num_parallel_tree=None, predictor=None,\n",
       "                                    random_state=577, reg_alpha=None,\n",
       "                                    reg_lambda=None, scale_pos_weight=None,\n",
       "                                    subsample=None, tree_method=None,\n",
       "                                    validate_parameters=None, verbosity=None),\n",
       "             n_jobs=-1,\n",
       "             param_grid={'colsample_bytree': [0.3], 'gamma': [0.0, 0.1, 0.2],\n",
       "                         'learning_rate': [0.07], 'max_depth': [3, 4, 5, 8],\n",
       "                         'min_child_weight': [2]},\n",
       "             scoring='neg_mean_squared_error')"
      ]
     },
     "execution_count": 82,
     "metadata": {},
     "output_type": "execute_result"
    }
   ],
   "source": [
    "%%time\n",
    "grid_model3.fit(features_train,target_train)"
   ]
  },
  {
   "cell_type": "code",
   "execution_count": 83,
   "metadata": {},
   "outputs": [
    {
     "name": "stdout",
     "output_type": "stream",
     "text": [
      "Лучшая модель-3\n",
      "XGBRegressor(base_score=0.5, booster='gbtree', colsample_bylevel=1,\n",
      "             colsample_bynode=1, colsample_bytree=0.3, enable_categorical=False,\n",
      "             gamma=0.0, gpu_id=-1, importance_type=None,\n",
      "             interaction_constraints='', learning_rate=0.07, max_delta_step=0,\n",
      "             max_depth=8, min_child_weight=2, missing=nan,\n",
      "             monotone_constraints='()', n_estimators=100, n_jobs=8,\n",
      "             num_parallel_tree=1, predictor='auto', random_state=577,\n",
      "             reg_alpha=0, reg_lambda=1, scale_pos_weight=1, subsample=1,\n",
      "             tree_method='exact', validate_parameters=1, verbosity=None)\n"
     ]
    }
   ],
   "source": [
    "print(\"Лучшая модель-3\")\n",
    "print(grid_model3.best_estimator_)"
   ]
  },
  {
   "cell_type": "code",
   "execution_count": 84,
   "metadata": {},
   "outputs": [],
   "source": [
    "best_score_model3 = grid_model3.best_score_"
   ]
  },
  {
   "cell_type": "code",
   "execution_count": 85,
   "metadata": {},
   "outputs": [
    {
     "name": "stdout",
     "output_type": "stream",
     "text": [
      "XGBRegressor -1795469.7613756184\n"
     ]
    }
   ],
   "source": [
    "print(\"XGBRegressor\",best_score_model3)"
   ]
  },
  {
   "cell_type": "code",
   "execution_count": 86,
   "metadata": {},
   "outputs": [
    {
     "name": "stdout",
     "output_type": "stream",
     "text": [
      "CPU times: user 173 ms, sys: 0 ns, total: 173 ms\n",
      "Wall time: 111 ms\n"
     ]
    }
   ],
   "source": [
    "%%time\n",
    "predicted_valid = grid_model3.predict(features_valid)"
   ]
  },
  {
   "cell_type": "code",
   "execution_count": 87,
   "metadata": {},
   "outputs": [
    {
     "name": "stdout",
     "output_type": "stream",
     "text": [
      "-XGBRegressor-\n",
      "-RMSE на валидационной выборке- 1326.316392796363\n"
     ]
    }
   ],
   "source": [
    "print('-XGBRegressor-')\n",
    "rmse_val = RMSE(target_valid,predicted_valid)\n",
    "print('-RMSE на валидационной выборке-',rmse_val)"
   ]
  },
  {
   "cell_type": "markdown",
   "metadata": {},
   "source": [
    "## Анализ моделей"
   ]
  },
  {
   "cell_type": "markdown",
   "metadata": {},
   "source": [
    "<div style=\"background-color: WhiteSmoke; border-left: 7px solid Silver\">\n",
    "<p>\n",
    "Обучили и исследовали три модели: RandomForestRegressor, LGBMRegressor, XGBRegressor. Для оценки качества моделей обучили константную модель DummyRegressor. Получили следующие результаты:\n",
    "</p>\n",
    "</div>"
   ]
  },
  {
   "cell_type": "code",
   "execution_count": 95,
   "metadata": {},
   "outputs": [
    {
     "name": "stdout",
     "output_type": "stream",
     "text": [
      "-RandomForestRegressor-\n",
      "-RMSE на валидационной выборке- 1196.39\n",
      "-Время обучения модели- 9min 3s\n",
      "-Скорость предсказания- 778 ms\n",
      "\n",
      "-LGBMRegressor-\n",
      "-RMSE на валидационной выборке- 1150.36\n",
      "-Время обучения модели- 9min 3s\n",
      "-Скорость предсказания- 5.22s\n",
      "\n",
      "-XGBRegressor-\n",
      "-RMSE на валидационной выборке- 1326.31\n",
      "-Время обучения модели- 10min 56s\n",
      "-Скорость предсказания- 111ms\n"
     ]
    }
   ],
   "source": [
    "print('-RandomForestRegressor-')\n",
    "print('-RMSE на валидационной выборке- 1196.39')\n",
    "print('-Время обучения модели- 9min 3s') \n",
    "print('-Скорость предсказания- 778 ms') \n",
    "print('')\n",
    "print('-LGBMRegressor-')\n",
    "print('-RMSE на валидационной выборке- 1150.36')\n",
    "print('-Время обучения модели- 9min 3s') \n",
    "print('-Скорость предсказания- 5.22s')\n",
    "print('')\n",
    "print('-XGBRegressor-')\n",
    "print('-RMSE на валидационной выборке- 1326.31')\n",
    "print('-Время обучения модели- 10min 56s') \n",
    "print('-Скорость предсказания- 111ms')"
   ]
  },
  {
   "cell_type": "markdown",
   "metadata": {},
   "source": [
    "<div style=\"background-color: WhiteSmoke; border-left: 7px solid Silver\">\n",
    "<p>\n",
    "Самые лучшие результаты по качеству предсказания и по времени обучения показала модель: LGBMRegressor с результатами: -RMSE на валидационной выборке- 1148.52, -Время обучения модели- 4min 40s, -Скорость предсказания- 5.22s.\n",
    "</p>\n",
    "</div>"
   ]
  },
  {
   "cell_type": "code",
   "execution_count": 89,
   "metadata": {},
   "outputs": [
    {
     "name": "stdout",
     "output_type": "stream",
     "text": [
      "CPU times: user 4.09 s, sys: 0 ns, total: 4.09 s\n",
      "Wall time: 4.09 s\n"
     ]
    }
   ],
   "source": [
    "%%time\n",
    "predicted_test = grid_model2.predict(features_test)"
   ]
  },
  {
   "cell_type": "code",
   "execution_count": 90,
   "metadata": {},
   "outputs": [
    {
     "name": "stdout",
     "output_type": "stream",
     "text": [
      "-LGBMRegressor-\n",
      "-RMSE на тестовой выборке- 1162.3085872567285\n"
     ]
    }
   ],
   "source": [
    "print('-LGBMRegressor-')\n",
    "rmse_val = RMSE(target_test,predicted_test)\n",
    "print('-RMSE на тестовой выборке-',rmse_val)"
   ]
  },
  {
   "cell_type": "markdown",
   "metadata": {},
   "source": [
    "<div style=\"background-color: WhiteSmoke; border-left: 7px solid Silver\">\n",
    "<p>\n",
    "Результаты предсказания лучшей модели LGBMRegressor на тестовой выборке: -RMSE на тестовой выборке- 1162.30,  -Скорость предсказания- 4.09s. Цель проекта достигнула, получено RMSE, меньше 2500.\n",
    "</p>\n",
    "</div>"
   ]
  },
  {
   "cell_type": "markdown",
   "metadata": {},
   "source": [
    "<div style=\"background-color: WhiteSmoke; border-left: 7px solid Silver\">\n",
    "<p>\n",
    "<b>Обучим константную модель и оценим адекватность нашей модели</b>\n",
    "</p>\n",
    "</div>"
   ]
  },
  {
   "cell_type": "code",
   "execution_count": 91,
   "metadata": {},
   "outputs": [],
   "source": [
    "model4 = DummyRegressor(strategy=\"median\")"
   ]
  },
  {
   "cell_type": "code",
   "execution_count": 92,
   "metadata": {},
   "outputs": [
    {
     "data": {
      "text/plain": [
       "DummyRegressor(strategy='median')"
      ]
     },
     "execution_count": 92,
     "metadata": {},
     "output_type": "execute_result"
    }
   ],
   "source": [
    "model4.fit(features_train,target_train)"
   ]
  },
  {
   "cell_type": "code",
   "execution_count": 93,
   "metadata": {},
   "outputs": [],
   "source": [
    "predicted_test = model4.predict(features_test)"
   ]
  },
  {
   "cell_type": "code",
   "execution_count": 94,
   "metadata": {},
   "outputs": [
    {
     "name": "stdout",
     "output_type": "stream",
     "text": [
      "-Оценка Константной модели-\n",
      "-RMSE на тестовой выборке- 3007.2082790551895\n"
     ]
    }
   ],
   "source": [
    "print('-Оценка Константной модели-')\n",
    "rmse_val = RMSE(target_test,predicted_test)\n",
    "print('-RMSE на тестовой выборке-',rmse_val)"
   ]
  },
  {
   "cell_type": "markdown",
   "metadata": {},
   "source": [
    "<div style=\"background-color: WhiteSmoke; border-left: 7px solid Silver\">\n",
    "<p>\n",
    "Обучили констрантную модель DummyRegressor. Результат: -Оценка Константной модели-\n",
    "-RMSE на тестовой выборке- 3007.20. Это значение является намного худшим результатом, чем результат полученной лучшей модели LGBMRegressor на тестовой выборке 1162.37. \n",
    "</p>\n",
    "</div>"
   ]
  }
 ],
 "metadata": {
  "ExecuteTimeLog": [
   {
    "duration": 1767,
    "start_time": "2022-12-20T16:49:38.016Z"
   },
   {
    "duration": 117,
    "start_time": "2022-12-20T16:49:41.125Z"
   },
   {
    "duration": 3044,
    "start_time": "2022-12-20T16:49:46.306Z"
   },
   {
    "duration": 128,
    "start_time": "2022-12-20T16:49:49.352Z"
   },
   {
    "duration": 17,
    "start_time": "2022-12-20T16:50:36.650Z"
   },
   {
    "duration": 132,
    "start_time": "2022-12-20T16:50:55.352Z"
   },
   {
    "duration": 66,
    "start_time": "2022-12-20T16:51:34.260Z"
   },
   {
    "duration": 69,
    "start_time": "2022-12-20T16:51:38.452Z"
   },
   {
    "duration": 140,
    "start_time": "2022-12-20T16:52:02.141Z"
   },
   {
    "duration": 541,
    "start_time": "2022-12-20T16:52:20.233Z"
   },
   {
    "duration": 18,
    "start_time": "2022-12-20T16:52:40.312Z"
   },
   {
    "duration": 506,
    "start_time": "2022-12-20T16:52:45.990Z"
   },
   {
    "duration": 970,
    "start_time": "2022-12-20T16:53:28.770Z"
   },
   {
    "duration": 98,
    "start_time": "2022-12-20T16:53:40.510Z"
   },
   {
    "duration": 875,
    "start_time": "2022-12-20T16:53:41.426Z"
   },
   {
    "duration": 137,
    "start_time": "2022-12-20T16:53:43.759Z"
   },
   {
    "duration": 516,
    "start_time": "2022-12-20T16:53:44.601Z"
   },
   {
    "duration": 439,
    "start_time": "2022-12-20T16:53:45.794Z"
   },
   {
    "duration": 43,
    "start_time": "2022-12-20T16:56:33.613Z"
   },
   {
    "duration": 27,
    "start_time": "2022-12-20T16:57:51.253Z"
   },
   {
    "duration": 24,
    "start_time": "2022-12-20T17:02:29.391Z"
   },
   {
    "duration": 287,
    "start_time": "2022-12-20T17:06:28.837Z"
   },
   {
    "duration": 129,
    "start_time": "2022-12-20T17:06:46.892Z"
   },
   {
    "duration": 1105,
    "start_time": "2022-12-20T17:07:48.279Z"
   },
   {
    "duration": 102,
    "start_time": "2022-12-20T17:08:26.021Z"
   },
   {
    "duration": 966,
    "start_time": "2022-12-20T17:08:57.212Z"
   },
   {
    "duration": 169,
    "start_time": "2022-12-20T17:09:21.068Z"
   },
   {
    "duration": 19,
    "start_time": "2022-12-20T17:09:44.157Z"
   },
   {
    "duration": 669,
    "start_time": "2022-12-20T17:22:07.285Z"
   },
   {
    "duration": 18,
    "start_time": "2022-12-20T17:44:30.080Z"
   },
   {
    "duration": 14,
    "start_time": "2022-12-20T17:44:41.784Z"
   },
   {
    "duration": 18,
    "start_time": "2022-12-20T17:45:16.820Z"
   },
   {
    "duration": 19,
    "start_time": "2022-12-20T17:46:42.267Z"
   },
   {
    "duration": 894,
    "start_time": "2022-12-20T17:47:00.234Z"
   },
   {
    "duration": 148,
    "start_time": "2022-12-20T17:47:01.131Z"
   },
   {
    "duration": 22,
    "start_time": "2022-12-20T17:47:01.440Z"
   },
   {
    "duration": 120,
    "start_time": "2022-12-20T17:47:01.978Z"
   },
   {
    "duration": 1135,
    "start_time": "2022-12-20T17:47:02.519Z"
   },
   {
    "duration": 335,
    "start_time": "2022-12-20T17:47:03.657Z"
   },
   {
    "duration": 257,
    "start_time": "2022-12-20T17:47:03.994Z"
   },
   {
    "duration": 1157,
    "start_time": "2022-12-20T17:47:05.495Z"
   },
   {
    "duration": 22,
    "start_time": "2022-12-20T17:47:07.487Z"
   },
   {
    "duration": 19,
    "start_time": "2022-12-20T17:47:49.416Z"
   },
   {
    "duration": 181,
    "start_time": "2022-12-20T17:48:43.113Z"
   },
   {
    "duration": 149,
    "start_time": "2022-12-20T17:49:13.079Z"
   },
   {
    "duration": 105,
    "start_time": "2022-12-20T17:50:26.102Z"
   },
   {
    "duration": 710,
    "start_time": "2022-12-20T17:50:37.063Z"
   },
   {
    "duration": 117,
    "start_time": "2022-12-20T17:50:38.538Z"
   },
   {
    "duration": 15,
    "start_time": "2022-12-20T17:52:19.333Z"
   },
   {
    "duration": 547,
    "start_time": "2022-12-20T17:53:30.191Z"
   },
   {
    "duration": 662,
    "start_time": "2022-12-20T17:53:40.062Z"
   },
   {
    "duration": 666,
    "start_time": "2022-12-20T17:53:46.583Z"
   },
   {
    "duration": 778,
    "start_time": "2022-12-20T17:53:55.963Z"
   },
   {
    "duration": 682,
    "start_time": "2022-12-20T17:54:34.560Z"
   },
   {
    "duration": 327,
    "start_time": "2022-12-20T18:00:17.251Z"
   },
   {
    "duration": 311,
    "start_time": "2022-12-20T18:00:44.879Z"
   },
   {
    "duration": 477,
    "start_time": "2022-12-20T18:01:40.343Z"
   },
   {
    "duration": 16,
    "start_time": "2022-12-20T18:04:46.898Z"
   },
   {
    "duration": 14,
    "start_time": "2022-12-20T18:05:17.661Z"
   },
   {
    "duration": 10,
    "start_time": "2022-12-20T18:05:47.781Z"
   },
   {
    "duration": 13,
    "start_time": "2022-12-20T18:05:54.878Z"
   },
   {
    "duration": 11,
    "start_time": "2022-12-20T18:05:55.575Z"
   },
   {
    "duration": 91,
    "start_time": "2022-12-20T18:06:33.912Z"
   },
   {
    "duration": 102,
    "start_time": "2022-12-20T18:06:39.005Z"
   },
   {
    "duration": 78,
    "start_time": "2022-12-20T18:06:42.725Z"
   },
   {
    "duration": 389,
    "start_time": "2022-12-20T18:08:12.319Z"
   },
   {
    "duration": 1122,
    "start_time": "2022-12-20T18:09:31.546Z"
   },
   {
    "duration": 53,
    "start_time": "2022-12-20T18:10:11.053Z"
   },
   {
    "duration": 12,
    "start_time": "2022-12-20T18:10:48.210Z"
   },
   {
    "duration": 107,
    "start_time": "2022-12-20T18:10:49.133Z"
   },
   {
    "duration": 11,
    "start_time": "2022-12-20T18:11:43.419Z"
   },
   {
    "duration": 322,
    "start_time": "2022-12-20T18:12:12.433Z"
   },
   {
    "duration": 12,
    "start_time": "2022-12-20T18:13:52.554Z"
   },
   {
    "duration": 73,
    "start_time": "2022-12-20T18:14:05.672Z"
   },
   {
    "duration": 301,
    "start_time": "2022-12-20T19:25:03.077Z"
   },
   {
    "duration": 25,
    "start_time": "2022-12-20T19:25:36.105Z"
   },
   {
    "duration": 22,
    "start_time": "2022-12-20T19:25:54.551Z"
   },
   {
    "duration": 294,
    "start_time": "2022-12-20T19:26:01.655Z"
   },
   {
    "duration": 22,
    "start_time": "2022-12-20T19:26:34.154Z"
   },
   {
    "duration": 325,
    "start_time": "2022-12-20T19:26:35.591Z"
   },
   {
    "duration": 17,
    "start_time": "2022-12-20T19:26:51.482Z"
   },
   {
    "duration": 424,
    "start_time": "2022-12-20T19:26:53.755Z"
   },
   {
    "duration": 331,
    "start_time": "2022-12-20T19:28:30.109Z"
   },
   {
    "duration": 5,
    "start_time": "2022-12-20T19:29:32.139Z"
   },
   {
    "duration": 11,
    "start_time": "2022-12-20T22:02:13.256Z"
   },
   {
    "duration": 11,
    "start_time": "2022-12-20T22:05:48.691Z"
   },
   {
    "duration": 13,
    "start_time": "2022-12-20T22:05:59.396Z"
   },
   {
    "duration": 10,
    "start_time": "2022-12-20T22:06:53.020Z"
   },
   {
    "duration": 11,
    "start_time": "2022-12-20T22:07:07.449Z"
   },
   {
    "duration": 10,
    "start_time": "2022-12-20T22:07:13.313Z"
   },
   {
    "duration": 10,
    "start_time": "2022-12-20T22:07:21.745Z"
   },
   {
    "duration": 63,
    "start_time": "2022-12-20T22:08:59.411Z"
   },
   {
    "duration": 1641,
    "start_time": "2022-12-20T22:41:40.237Z"
   },
   {
    "duration": 1630,
    "start_time": "2022-12-20T22:42:10.636Z"
   },
   {
    "duration": 1598,
    "start_time": "2022-12-20T22:42:45.217Z"
   },
   {
    "duration": 13,
    "start_time": "2022-12-20T22:43:15.429Z"
   },
   {
    "duration": 1557,
    "start_time": "2022-12-20T22:43:15.990Z"
   },
   {
    "duration": 1694,
    "start_time": "2022-12-20T22:43:25.292Z"
   },
   {
    "duration": 1637,
    "start_time": "2022-12-20T22:44:46.733Z"
   },
   {
    "duration": 19,
    "start_time": "2022-12-20T22:51:24.280Z"
   },
   {
    "duration": 10,
    "start_time": "2022-12-20T22:54:02.804Z"
   },
   {
    "duration": 11,
    "start_time": "2022-12-20T22:54:13.067Z"
   },
   {
    "duration": 11,
    "start_time": "2022-12-20T22:54:24.392Z"
   },
   {
    "duration": 12,
    "start_time": "2022-12-20T22:54:32.917Z"
   },
   {
    "duration": 1604,
    "start_time": "2022-12-20T22:54:46.080Z"
   },
   {
    "duration": 1609,
    "start_time": "2022-12-20T22:54:52.297Z"
   },
   {
    "duration": 1617,
    "start_time": "2022-12-20T22:54:53.958Z"
   },
   {
    "duration": 23,
    "start_time": "2022-12-20T23:01:02.073Z"
   },
   {
    "duration": 1523,
    "start_time": "2022-12-20T23:01:13.445Z"
   },
   {
    "duration": 920,
    "start_time": "2022-12-20T23:01:14.970Z"
   },
   {
    "duration": 133,
    "start_time": "2022-12-20T23:01:15.892Z"
   },
   {
    "duration": 21,
    "start_time": "2022-12-20T23:01:16.093Z"
   },
   {
    "duration": 96,
    "start_time": "2022-12-20T23:01:17.201Z"
   },
   {
    "duration": 898,
    "start_time": "2022-12-20T23:01:19.021Z"
   },
   {
    "duration": 191,
    "start_time": "2022-12-20T23:01:19.949Z"
   },
   {
    "duration": 124,
    "start_time": "2022-12-20T23:01:21.050Z"
   },
   {
    "duration": 956,
    "start_time": "2022-12-20T23:01:23.693Z"
   },
   {
    "duration": 583,
    "start_time": "2022-12-20T23:01:24.712Z"
   },
   {
    "duration": 104,
    "start_time": "2022-12-20T23:01:26.058Z"
   },
   {
    "duration": 9,
    "start_time": "2022-12-20T23:01:27.622Z"
   },
   {
    "duration": 395,
    "start_time": "2022-12-20T23:01:29.217Z"
   },
   {
    "duration": 325,
    "start_time": "2022-12-20T23:01:31.358Z"
   },
   {
    "duration": 13,
    "start_time": "2022-12-20T23:01:31.895Z"
   },
   {
    "duration": 96,
    "start_time": "2022-12-20T23:01:32.821Z"
   },
   {
    "duration": 278,
    "start_time": "2022-12-20T23:01:34.234Z"
   },
   {
    "duration": 12,
    "start_time": "2022-12-20T23:01:35.665Z"
   },
   {
    "duration": 49,
    "start_time": "2022-12-20T23:01:36.230Z"
   },
   {
    "duration": 285,
    "start_time": "2022-12-20T23:01:37.022Z"
   },
   {
    "duration": 279,
    "start_time": "2022-12-20T23:01:38.293Z"
   },
   {
    "duration": 21,
    "start_time": "2022-12-20T23:01:38.921Z"
   },
   {
    "duration": 266,
    "start_time": "2022-12-20T23:01:39.738Z"
   },
   {
    "duration": 388,
    "start_time": "2022-12-20T23:01:41.113Z"
   },
   {
    "duration": 96,
    "start_time": "2022-12-20T23:01:44.185Z"
   },
   {
    "duration": 35,
    "start_time": "2022-12-20T23:01:48.839Z"
   },
   {
    "duration": 82,
    "start_time": "2022-12-20T23:01:52.207Z"
   },
   {
    "duration": 2121,
    "start_time": "2022-12-20T23:01:53.982Z"
   },
   {
    "duration": 0,
    "start_time": "2022-12-20T23:01:56.105Z"
   },
   {
    "duration": 1951,
    "start_time": "2022-12-20T23:02:10.059Z"
   },
   {
    "duration": 2002,
    "start_time": "2022-12-20T23:02:15.407Z"
   },
   {
    "duration": 24,
    "start_time": "2022-12-20T23:03:39.932Z"
   },
   {
    "duration": 14,
    "start_time": "2022-12-20T23:03:40.788Z"
   },
   {
    "duration": 50,
    "start_time": "2022-12-20T23:03:41.905Z"
   },
   {
    "duration": 102,
    "start_time": "2022-12-20T23:04:08.526Z"
   },
   {
    "duration": 33,
    "start_time": "2022-12-20T23:04:17.322Z"
   },
   {
    "duration": 19,
    "start_time": "2022-12-20T23:04:19.101Z"
   },
   {
    "duration": 19,
    "start_time": "2022-12-20T23:05:04.262Z"
   },
   {
    "duration": 86,
    "start_time": "2022-12-20T23:05:12.595Z"
   },
   {
    "duration": 4,
    "start_time": "2022-12-20T23:05:20.150Z"
   },
   {
    "duration": 2984,
    "start_time": "2022-12-20T23:05:21.267Z"
   },
   {
    "duration": 21,
    "start_time": "2022-12-20T23:07:22.297Z"
   },
   {
    "duration": 33,
    "start_time": "2022-12-20T23:07:22.888Z"
   },
   {
    "duration": 19,
    "start_time": "2022-12-20T23:07:23.665Z"
   },
   {
    "duration": 20,
    "start_time": "2022-12-20T23:07:34.010Z"
   },
   {
    "duration": 34,
    "start_time": "2022-12-20T23:07:34.893Z"
   },
   {
    "duration": 90,
    "start_time": "2022-12-20T23:07:46.982Z"
   },
   {
    "duration": 3,
    "start_time": "2022-12-20T23:07:48.610Z"
   },
   {
    "duration": 2966,
    "start_time": "2022-12-20T23:07:49.797Z"
   },
   {
    "duration": 10,
    "start_time": "2022-12-20T23:10:40.285Z"
   },
   {
    "duration": 105,
    "start_time": "2022-12-20T23:10:57.298Z"
   },
   {
    "duration": 1182,
    "start_time": "2022-12-20T23:11:13.515Z"
   },
   {
    "duration": 46,
    "start_time": "2022-12-20T23:11:25.882Z"
   },
   {
    "duration": 17,
    "start_time": "2022-12-20T23:16:59.257Z"
   },
   {
    "duration": 20,
    "start_time": "2022-12-20T23:17:02.678Z"
   },
   {
    "duration": 32,
    "start_time": "2022-12-20T23:17:03.174Z"
   },
   {
    "duration": 17,
    "start_time": "2022-12-20T23:17:04.049Z"
   },
   {
    "duration": 89,
    "start_time": "2022-12-20T23:17:07.456Z"
   },
   {
    "duration": 26,
    "start_time": "2022-12-20T23:18:14.548Z"
   },
   {
    "duration": 1138,
    "start_time": "2022-12-20T23:19:03.265Z"
   },
   {
    "duration": 21,
    "start_time": "2022-12-20T23:20:34.264Z"
   },
   {
    "duration": 33,
    "start_time": "2022-12-20T23:20:34.832Z"
   },
   {
    "duration": 19,
    "start_time": "2022-12-20T23:20:35.711Z"
   },
   {
    "duration": 89,
    "start_time": "2022-12-20T23:20:36.851Z"
   },
   {
    "duration": 20,
    "start_time": "2022-12-20T23:21:55.636Z"
   },
   {
    "duration": 4,
    "start_time": "2022-12-20T23:22:45.935Z"
   },
   {
    "duration": 18,
    "start_time": "2022-12-20T23:22:52.551Z"
   },
   {
    "duration": 3,
    "start_time": "2022-12-20T23:24:03.932Z"
   },
   {
    "duration": 10,
    "start_time": "2022-12-20T23:25:21.513Z"
   },
   {
    "duration": 2982,
    "start_time": "2022-12-20T23:25:28.473Z"
   },
   {
    "duration": 18,
    "start_time": "2022-12-20T23:25:52.338Z"
   },
   {
    "duration": 33,
    "start_time": "2022-12-20T23:26:24.650Z"
   },
   {
    "duration": 108,
    "start_time": "2022-12-20T23:26:48.711Z"
   },
   {
    "duration": 35,
    "start_time": "2022-12-20T23:26:58.339Z"
   },
   {
    "duration": 18,
    "start_time": "2022-12-20T23:26:59.536Z"
   },
   {
    "duration": 92,
    "start_time": "2022-12-20T23:27:00.166Z"
   },
   {
    "duration": 27,
    "start_time": "2022-12-20T23:27:01.095Z"
   },
   {
    "duration": 17,
    "start_time": "2022-12-20T23:27:01.959Z"
   },
   {
    "duration": 3,
    "start_time": "2022-12-20T23:27:02.684Z"
   },
   {
    "duration": 2942,
    "start_time": "2022-12-20T23:27:03.307Z"
   },
   {
    "duration": 19,
    "start_time": "2022-12-20T23:27:06.251Z"
   },
   {
    "duration": 34,
    "start_time": "2022-12-20T23:27:06.272Z"
   },
   {
    "duration": 25,
    "start_time": "2022-12-20T23:28:06.317Z"
   },
   {
    "duration": 34,
    "start_time": "2022-12-20T23:28:07.037Z"
   },
   {
    "duration": 19,
    "start_time": "2022-12-20T23:28:07.845Z"
   },
   {
    "duration": 93,
    "start_time": "2022-12-20T23:28:08.986Z"
   },
   {
    "duration": 26,
    "start_time": "2022-12-20T23:28:10.153Z"
   },
   {
    "duration": 20,
    "start_time": "2022-12-20T23:28:11.076Z"
   },
   {
    "duration": 3,
    "start_time": "2022-12-20T23:28:11.613Z"
   },
   {
    "duration": 2955,
    "start_time": "2022-12-20T23:28:12.133Z"
   },
   {
    "duration": 16,
    "start_time": "2022-12-20T23:28:15.091Z"
   },
   {
    "duration": 51,
    "start_time": "2022-12-20T23:28:15.109Z"
   },
   {
    "duration": 20,
    "start_time": "2022-12-20T23:28:23.238Z"
   },
   {
    "duration": 32,
    "start_time": "2022-12-20T23:28:23.781Z"
   },
   {
    "duration": 16,
    "start_time": "2022-12-20T23:28:24.521Z"
   },
   {
    "duration": 90,
    "start_time": "2022-12-20T23:28:25.322Z"
   },
   {
    "duration": 27,
    "start_time": "2022-12-20T23:28:28.138Z"
   },
   {
    "duration": 2,
    "start_time": "2022-12-20T23:28:29.738Z"
   },
   {
    "duration": 3,
    "start_time": "2022-12-20T23:28:30.237Z"
   },
   {
    "duration": 2891,
    "start_time": "2022-12-20T23:28:30.734Z"
   },
   {
    "duration": 17,
    "start_time": "2022-12-20T23:28:34.606Z"
   },
   {
    "duration": 33,
    "start_time": "2022-12-20T23:28:38.606Z"
   },
   {
    "duration": 3,
    "start_time": "2022-12-20T23:29:14.034Z"
   },
   {
    "duration": 2854,
    "start_time": "2022-12-20T23:29:14.516Z"
   },
   {
    "duration": 18,
    "start_time": "2022-12-20T23:29:17.372Z"
   },
   {
    "duration": 26,
    "start_time": "2022-12-20T23:29:22.387Z"
   },
   {
    "duration": 34,
    "start_time": "2022-12-20T23:29:23.323Z"
   },
   {
    "duration": 18,
    "start_time": "2022-12-20T23:29:23.995Z"
   },
   {
    "duration": 92,
    "start_time": "2022-12-20T23:29:24.624Z"
   },
   {
    "duration": 26,
    "start_time": "2022-12-20T23:29:25.703Z"
   },
   {
    "duration": 3,
    "start_time": "2022-12-20T23:29:30.314Z"
   },
   {
    "duration": 3,
    "start_time": "2022-12-20T23:29:31.347Z"
   },
   {
    "duration": 2872,
    "start_time": "2022-12-20T23:29:32.824Z"
   },
   {
    "duration": 2948,
    "start_time": "2022-12-20T23:33:08.580Z"
   },
   {
    "duration": 10,
    "start_time": "2022-12-20T23:33:11.530Z"
   },
   {
    "duration": 9,
    "start_time": "2022-12-20T23:33:14.167Z"
   },
   {
    "duration": 24,
    "start_time": "2022-12-20T23:34:38.070Z"
   },
   {
    "duration": 36,
    "start_time": "2022-12-20T23:34:38.613Z"
   },
   {
    "duration": 18,
    "start_time": "2022-12-20T23:34:39.402Z"
   },
   {
    "duration": 100,
    "start_time": "2022-12-20T23:34:40.192Z"
   },
   {
    "duration": 26,
    "start_time": "2022-12-20T23:34:41.170Z"
   },
   {
    "duration": 19,
    "start_time": "2022-12-20T23:34:42.093Z"
   },
   {
    "duration": 4,
    "start_time": "2022-12-20T23:34:42.637Z"
   },
   {
    "duration": 3032,
    "start_time": "2022-12-20T23:34:43.173Z"
   },
   {
    "duration": 29,
    "start_time": "2022-12-20T23:34:46.208Z"
   },
   {
    "duration": 34,
    "start_time": "2022-12-20T23:34:46.239Z"
   },
   {
    "duration": 27,
    "start_time": "2022-12-20T23:35:03.610Z"
   },
   {
    "duration": 34,
    "start_time": "2022-12-20T23:35:04.059Z"
   },
   {
    "duration": 18,
    "start_time": "2022-12-20T23:35:04.465Z"
   },
   {
    "duration": 95,
    "start_time": "2022-12-20T23:35:04.947Z"
   },
   {
    "duration": 27,
    "start_time": "2022-12-20T23:35:05.355Z"
   },
   {
    "duration": 17,
    "start_time": "2022-12-20T23:35:05.858Z"
   },
   {
    "duration": 3,
    "start_time": "2022-12-20T23:35:06.342Z"
   },
   {
    "duration": 2949,
    "start_time": "2022-12-20T23:35:06.926Z"
   },
   {
    "duration": 17,
    "start_time": "2022-12-20T23:35:09.877Z"
   },
   {
    "duration": 25,
    "start_time": "2022-12-20T23:35:20.883Z"
   },
   {
    "duration": 33,
    "start_time": "2022-12-20T23:35:21.354Z"
   },
   {
    "duration": 18,
    "start_time": "2022-12-20T23:35:21.884Z"
   },
   {
    "duration": 108,
    "start_time": "2022-12-20T23:35:22.439Z"
   },
   {
    "duration": 26,
    "start_time": "2022-12-20T23:35:22.926Z"
   },
   {
    "duration": 18,
    "start_time": "2022-12-20T23:35:23.486Z"
   },
   {
    "duration": 3,
    "start_time": "2022-12-20T23:35:24.022Z"
   },
   {
    "duration": 1287,
    "start_time": "2022-12-20T23:35:24.905Z"
   },
   {
    "duration": 3000,
    "start_time": "2022-12-20T23:35:40.411Z"
   },
   {
    "duration": 7,
    "start_time": "2022-12-20T23:35:44.250Z"
   },
   {
    "duration": 9,
    "start_time": "2022-12-20T23:35:45.028Z"
   },
   {
    "duration": 17,
    "start_time": "2022-12-20T23:36:22.097Z"
   },
   {
    "duration": 36,
    "start_time": "2022-12-20T23:36:22.616Z"
   },
   {
    "duration": 17,
    "start_time": "2022-12-20T23:36:23.167Z"
   },
   {
    "duration": 108,
    "start_time": "2022-12-20T23:36:23.664Z"
   },
   {
    "duration": 27,
    "start_time": "2022-12-20T23:36:24.171Z"
   },
   {
    "duration": 19,
    "start_time": "2022-12-20T23:36:24.827Z"
   },
   {
    "duration": 3,
    "start_time": "2022-12-20T23:36:25.308Z"
   },
   {
    "duration": 2987,
    "start_time": "2022-12-20T23:36:25.979Z"
   },
   {
    "duration": 19,
    "start_time": "2022-12-20T23:36:28.968Z"
   },
   {
    "duration": 34,
    "start_time": "2022-12-20T23:36:30.388Z"
   },
   {
    "duration": 28,
    "start_time": "2022-12-20T23:37:20.766Z"
   },
   {
    "duration": 34,
    "start_time": "2022-12-20T23:37:21.218Z"
   },
   {
    "duration": 16,
    "start_time": "2022-12-20T23:37:21.738Z"
   },
   {
    "duration": 91,
    "start_time": "2022-12-20T23:37:22.242Z"
   },
   {
    "duration": 28,
    "start_time": "2022-12-20T23:37:22.753Z"
   },
   {
    "duration": 18,
    "start_time": "2022-12-20T23:37:23.354Z"
   },
   {
    "duration": 2,
    "start_time": "2022-12-20T23:37:23.953Z"
   },
   {
    "duration": 2900,
    "start_time": "2022-12-20T23:37:24.461Z"
   },
   {
    "duration": 17,
    "start_time": "2022-12-20T23:37:27.363Z"
   },
   {
    "duration": 39,
    "start_time": "2022-12-20T23:37:27.382Z"
   },
   {
    "duration": 24,
    "start_time": "2022-12-20T23:40:13.006Z"
   },
   {
    "duration": 36,
    "start_time": "2022-12-20T23:40:14.204Z"
   },
   {
    "duration": 17,
    "start_time": "2022-12-20T23:40:14.832Z"
   },
   {
    "duration": 100,
    "start_time": "2022-12-20T23:40:15.514Z"
   },
   {
    "duration": 27,
    "start_time": "2022-12-20T23:40:16.474Z"
   },
   {
    "duration": 87,
    "start_time": "2022-12-20T23:40:17.605Z"
   },
   {
    "duration": 4,
    "start_time": "2022-12-20T23:40:35.665Z"
   },
   {
    "duration": 2920,
    "start_time": "2022-12-20T23:40:40.114Z"
   },
   {
    "duration": 17,
    "start_time": "2022-12-20T23:40:43.038Z"
   },
   {
    "duration": 34,
    "start_time": "2022-12-20T23:40:43.057Z"
   },
   {
    "duration": 8,
    "start_time": "2022-12-20T23:41:44.113Z"
   },
   {
    "duration": 1503,
    "start_time": "2022-12-20T23:41:47.938Z"
   },
   {
    "duration": 867,
    "start_time": "2022-12-20T23:41:49.443Z"
   },
   {
    "duration": 138,
    "start_time": "2022-12-20T23:41:50.311Z"
   },
   {
    "duration": 17,
    "start_time": "2022-12-20T23:41:50.452Z"
   },
   {
    "duration": 113,
    "start_time": "2022-12-20T23:41:50.471Z"
   },
   {
    "duration": 915,
    "start_time": "2022-12-20T23:41:50.586Z"
   },
   {
    "duration": 206,
    "start_time": "2022-12-20T23:41:51.503Z"
   },
   {
    "duration": 138,
    "start_time": "2022-12-20T23:41:51.711Z"
   },
   {
    "duration": 932,
    "start_time": "2022-12-20T23:41:52.070Z"
   },
   {
    "duration": 574,
    "start_time": "2022-12-20T23:41:53.004Z"
   },
   {
    "duration": 110,
    "start_time": "2022-12-20T23:41:53.579Z"
   },
   {
    "duration": 10,
    "start_time": "2022-12-20T23:41:53.795Z"
   },
   {
    "duration": 387,
    "start_time": "2022-12-20T23:41:54.978Z"
   },
   {
    "duration": 332,
    "start_time": "2022-12-20T23:41:55.870Z"
   },
   {
    "duration": 12,
    "start_time": "2022-12-20T23:41:56.319Z"
   },
   {
    "duration": 96,
    "start_time": "2022-12-20T23:41:56.733Z"
   },
   {
    "duration": 271,
    "start_time": "2022-12-20T23:41:57.710Z"
   },
   {
    "duration": 12,
    "start_time": "2022-12-20T23:41:58.190Z"
   },
   {
    "duration": 49,
    "start_time": "2022-12-20T23:41:58.638Z"
   },
   {
    "duration": 290,
    "start_time": "2022-12-20T23:41:59.130Z"
   },
   {
    "duration": 279,
    "start_time": "2022-12-20T23:41:59.986Z"
   },
   {
    "duration": 21,
    "start_time": "2022-12-20T23:42:00.410Z"
   },
   {
    "duration": 264,
    "start_time": "2022-12-20T23:42:00.979Z"
   },
   {
    "duration": 388,
    "start_time": "2022-12-20T23:42:01.951Z"
   },
   {
    "duration": 79,
    "start_time": "2022-12-20T23:42:02.998Z"
   },
   {
    "duration": 20,
    "start_time": "2022-12-20T23:42:04.014Z"
   },
   {
    "duration": 34,
    "start_time": "2022-12-20T23:42:04.534Z"
   },
   {
    "duration": 16,
    "start_time": "2022-12-20T23:42:05.058Z"
   },
   {
    "duration": 103,
    "start_time": "2022-12-20T23:42:05.660Z"
   },
   {
    "duration": 28,
    "start_time": "2022-12-20T23:42:06.162Z"
   },
   {
    "duration": 93,
    "start_time": "2022-12-20T23:42:06.754Z"
   },
   {
    "duration": 19,
    "start_time": "2022-12-20T23:42:07.234Z"
   },
   {
    "duration": 3,
    "start_time": "2022-12-20T23:42:07.874Z"
   },
   {
    "duration": 2719,
    "start_time": "2022-12-20T23:42:08.438Z"
   },
   {
    "duration": 17,
    "start_time": "2022-12-20T23:42:11.159Z"
   },
   {
    "duration": 48,
    "start_time": "2022-12-20T23:42:11.178Z"
   },
   {
    "duration": 21,
    "start_time": "2022-12-20T23:42:45.223Z"
   },
   {
    "duration": 36,
    "start_time": "2022-12-20T23:42:45.831Z"
   },
   {
    "duration": 16,
    "start_time": "2022-12-20T23:42:46.487Z"
   },
   {
    "duration": 94,
    "start_time": "2022-12-20T23:42:47.252Z"
   },
   {
    "duration": 27,
    "start_time": "2022-12-20T23:42:47.819Z"
   },
   {
    "duration": 86,
    "start_time": "2022-12-20T23:42:48.587Z"
   },
   {
    "duration": 18,
    "start_time": "2022-12-20T23:42:49.759Z"
   },
   {
    "duration": 3,
    "start_time": "2022-12-20T23:42:50.471Z"
   },
   {
    "duration": 1387,
    "start_time": "2022-12-20T23:42:51.330Z"
   },
   {
    "duration": 0,
    "start_time": "2022-12-20T23:42:52.719Z"
   },
   {
    "duration": 1440,
    "start_time": "2022-12-20T23:43:08.508Z"
   },
   {
    "duration": 841,
    "start_time": "2022-12-20T23:43:09.950Z"
   },
   {
    "duration": 134,
    "start_time": "2022-12-20T23:43:10.793Z"
   },
   {
    "duration": 18,
    "start_time": "2022-12-20T23:43:10.938Z"
   },
   {
    "duration": 118,
    "start_time": "2022-12-20T23:43:10.957Z"
   },
   {
    "duration": 909,
    "start_time": "2022-12-20T23:43:11.077Z"
   },
   {
    "duration": 213,
    "start_time": "2022-12-20T23:43:11.988Z"
   },
   {
    "duration": 124,
    "start_time": "2022-12-20T23:43:12.203Z"
   },
   {
    "duration": 900,
    "start_time": "2022-12-20T23:43:12.337Z"
   },
   {
    "duration": 604,
    "start_time": "2022-12-20T23:43:13.239Z"
   },
   {
    "duration": 120,
    "start_time": "2022-12-20T23:43:13.845Z"
   },
   {
    "duration": 12,
    "start_time": "2022-12-20T23:43:13.967Z"
   },
   {
    "duration": 389,
    "start_time": "2022-12-20T23:43:15.452Z"
   },
   {
    "duration": 321,
    "start_time": "2022-12-20T23:43:17.249Z"
   },
   {
    "duration": 14,
    "start_time": "2022-12-20T23:43:18.680Z"
   },
   {
    "duration": 89,
    "start_time": "2022-12-20T23:43:21.049Z"
   },
   {
    "duration": 254,
    "start_time": "2022-12-20T23:43:22.401Z"
   },
   {
    "duration": 11,
    "start_time": "2022-12-20T23:43:23.373Z"
   },
   {
    "duration": 49,
    "start_time": "2022-12-20T23:43:24.629Z"
   },
   {
    "duration": 288,
    "start_time": "2022-12-20T23:43:25.416Z"
   },
   {
    "duration": 276,
    "start_time": "2022-12-20T23:43:27.509Z"
   },
   {
    "duration": 20,
    "start_time": "2022-12-20T23:43:28.429Z"
   },
   {
    "duration": 258,
    "start_time": "2022-12-20T23:43:29.228Z"
   },
   {
    "duration": 386,
    "start_time": "2022-12-20T23:43:31.409Z"
   },
   {
    "duration": 75,
    "start_time": "2022-12-20T23:43:33.977Z"
   },
   {
    "duration": 20,
    "start_time": "2022-12-20T23:43:38.706Z"
   },
   {
    "duration": 32,
    "start_time": "2022-12-20T23:43:41.473Z"
   },
   {
    "duration": 17,
    "start_time": "2022-12-20T23:43:42.845Z"
   },
   {
    "duration": 104,
    "start_time": "2022-12-20T23:43:47.118Z"
   },
   {
    "duration": 25,
    "start_time": "2022-12-20T23:43:54.274Z"
   },
   {
    "duration": 85,
    "start_time": "2022-12-20T23:43:55.649Z"
   },
   {
    "duration": 102,
    "start_time": "2022-12-20T23:44:51.316Z"
   },
   {
    "duration": 20,
    "start_time": "2022-12-20T23:44:59.071Z"
   },
   {
    "duration": 33,
    "start_time": "2022-12-20T23:44:59.983Z"
   },
   {
    "duration": 18,
    "start_time": "2022-12-20T23:45:02.419Z"
   },
   {
    "duration": 88,
    "start_time": "2022-12-20T23:45:03.203Z"
   },
   {
    "duration": 29,
    "start_time": "2022-12-20T23:45:07.920Z"
   },
   {
    "duration": 84,
    "start_time": "2022-12-20T23:45:10.659Z"
   },
   {
    "duration": 17,
    "start_time": "2022-12-20T23:45:28.620Z"
   },
   {
    "duration": 3,
    "start_time": "2022-12-20T23:45:29.299Z"
   },
   {
    "duration": 5115,
    "start_time": "2022-12-20T23:45:33.087Z"
   },
   {
    "duration": 17,
    "start_time": "2022-12-20T23:45:38.204Z"
   },
   {
    "duration": 42,
    "start_time": "2022-12-20T23:45:38.223Z"
   },
   {
    "duration": 1568,
    "start_time": "2022-12-21T22:24:33.143Z"
   },
   {
    "duration": 1028,
    "start_time": "2022-12-21T22:24:34.712Z"
   },
   {
    "duration": 123,
    "start_time": "2022-12-21T22:24:35.742Z"
   },
   {
    "duration": 17,
    "start_time": "2022-12-21T22:24:35.868Z"
   },
   {
    "duration": 115,
    "start_time": "2022-12-21T22:24:35.887Z"
   },
   {
    "duration": 962,
    "start_time": "2022-12-21T22:24:36.003Z"
   },
   {
    "duration": 182,
    "start_time": "2022-12-21T22:24:36.967Z"
   },
   {
    "duration": 112,
    "start_time": "2022-12-21T22:24:37.151Z"
   },
   {
    "duration": 870,
    "start_time": "2022-12-21T22:24:37.265Z"
   },
   {
    "duration": 636,
    "start_time": "2022-12-21T22:24:38.138Z"
   },
   {
    "duration": 91,
    "start_time": "2022-12-21T22:24:38.776Z"
   },
   {
    "duration": 9,
    "start_time": "2022-12-21T22:24:38.869Z"
   },
   {
    "duration": 367,
    "start_time": "2022-12-21T22:24:39.436Z"
   },
   {
    "duration": 320,
    "start_time": "2022-12-21T22:24:40.309Z"
   },
   {
    "duration": 13,
    "start_time": "2022-12-21T22:24:40.728Z"
   },
   {
    "duration": 83,
    "start_time": "2022-12-21T22:24:41.159Z"
   },
   {
    "duration": 273,
    "start_time": "2022-12-21T22:24:42.047Z"
   },
   {
    "duration": 12,
    "start_time": "2022-12-21T22:24:42.560Z"
   },
   {
    "duration": 47,
    "start_time": "2022-12-21T22:24:43.040Z"
   },
   {
    "duration": 290,
    "start_time": "2022-12-21T22:24:43.472Z"
   },
   {
    "duration": 278,
    "start_time": "2022-12-21T22:24:44.580Z"
   },
   {
    "duration": 21,
    "start_time": "2022-12-21T22:24:45.036Z"
   },
   {
    "duration": 261,
    "start_time": "2022-12-21T22:24:45.580Z"
   },
   {
    "duration": 399,
    "start_time": "2022-12-21T22:24:46.639Z"
   },
   {
    "duration": 71,
    "start_time": "2022-12-21T22:24:48.367Z"
   },
   {
    "duration": 28,
    "start_time": "2022-12-21T22:24:49.540Z"
   },
   {
    "duration": 12,
    "start_time": "2022-12-21T22:24:50.364Z"
   },
   {
    "duration": 75,
    "start_time": "2022-12-21T22:24:50.868Z"
   },
   {
    "duration": 20,
    "start_time": "2022-12-21T22:24:51.364Z"
   },
   {
    "duration": 53,
    "start_time": "2022-12-21T22:24:51.927Z"
   },
   {
    "duration": 12,
    "start_time": "2022-12-21T22:24:52.712Z"
   },
   {
    "duration": 4,
    "start_time": "2022-12-21T22:24:53.263Z"
   },
   {
    "duration": 2368,
    "start_time": "2022-12-21T22:24:54.024Z"
   },
   {
    "duration": 21,
    "start_time": "2022-12-21T22:24:56.394Z"
   },
   {
    "duration": 47,
    "start_time": "2022-12-21T22:24:56.417Z"
   },
   {
    "duration": 21,
    "start_time": "2022-12-21T22:25:03.176Z"
   },
   {
    "duration": 13,
    "start_time": "2022-12-21T22:25:26.317Z"
   },
   {
    "duration": 152,
    "start_time": "2022-12-21T22:26:55.809Z"
   },
   {
    "duration": 68,
    "start_time": "2022-12-21T22:27:02.286Z"
   },
   {
    "duration": 11,
    "start_time": "2022-12-21T22:27:51.348Z"
   },
   {
    "duration": 10,
    "start_time": "2022-12-21T22:30:12.927Z"
   },
   {
    "duration": 2670,
    "start_time": "2022-12-21T22:31:34.365Z"
   },
   {
    "duration": 11,
    "start_time": "2022-12-21T22:32:04.154Z"
   },
   {
    "duration": 21,
    "start_time": "2022-12-21T22:32:18.102Z"
   },
   {
    "duration": 45,
    "start_time": "2022-12-21T22:35:09.994Z"
   },
   {
    "duration": 107,
    "start_time": "2022-12-21T22:35:54.658Z"
   },
   {
    "duration": 5,
    "start_time": "2022-12-21T22:56:01.857Z"
   },
   {
    "duration": 798,
    "start_time": "2022-12-21T22:56:02.607Z"
   },
   {
    "duration": 121,
    "start_time": "2022-12-21T22:56:03.406Z"
   },
   {
    "duration": 17,
    "start_time": "2022-12-21T22:56:03.608Z"
   },
   {
    "duration": 96,
    "start_time": "2022-12-21T22:56:04.159Z"
   },
   {
    "duration": 845,
    "start_time": "2022-12-21T22:56:04.811Z"
   },
   {
    "duration": 175,
    "start_time": "2022-12-21T22:56:05.658Z"
   },
   {
    "duration": 111,
    "start_time": "2022-12-21T22:56:06.196Z"
   },
   {
    "duration": 835,
    "start_time": "2022-12-21T22:56:06.931Z"
   },
   {
    "duration": 580,
    "start_time": "2022-12-21T22:56:07.768Z"
   },
   {
    "duration": 99,
    "start_time": "2022-12-21T22:56:08.349Z"
   },
   {
    "duration": 9,
    "start_time": "2022-12-21T22:56:08.991Z"
   },
   {
    "duration": 317,
    "start_time": "2022-12-21T22:56:10.180Z"
   },
   {
    "duration": 319,
    "start_time": "2022-12-21T22:56:11.635Z"
   },
   {
    "duration": 14,
    "start_time": "2022-12-21T22:56:12.298Z"
   },
   {
    "duration": 84,
    "start_time": "2022-12-21T22:56:13.047Z"
   },
   {
    "duration": 274,
    "start_time": "2022-12-21T22:56:14.631Z"
   },
   {
    "duration": 11,
    "start_time": "2022-12-21T22:56:15.240Z"
   },
   {
    "duration": 50,
    "start_time": "2022-12-21T22:56:15.810Z"
   },
   {
    "duration": 425,
    "start_time": "2022-12-21T22:56:16.444Z"
   },
   {
    "duration": 303,
    "start_time": "2022-12-21T22:56:17.563Z"
   },
   {
    "duration": 21,
    "start_time": "2022-12-21T22:56:18.107Z"
   },
   {
    "duration": 270,
    "start_time": "2022-12-21T22:56:18.703Z"
   },
   {
    "duration": 286,
    "start_time": "2022-12-21T22:56:20.500Z"
   },
   {
    "duration": 76,
    "start_time": "2022-12-21T22:56:22.156Z"
   },
   {
    "duration": 23,
    "start_time": "2022-12-21T22:56:23.552Z"
   },
   {
    "duration": 13,
    "start_time": "2022-12-21T22:56:24.151Z"
   },
   {
    "duration": 78,
    "start_time": "2022-12-21T22:56:24.792Z"
   },
   {
    "duration": 22,
    "start_time": "2022-12-21T22:56:28.939Z"
   },
   {
    "duration": 56,
    "start_time": "2022-12-21T22:56:29.668Z"
   },
   {
    "duration": 11,
    "start_time": "2022-12-21T22:56:30.267Z"
   },
   {
    "duration": 3,
    "start_time": "2022-12-21T22:56:30.932Z"
   },
   {
    "duration": 2445,
    "start_time": "2022-12-21T22:56:31.808Z"
   },
   {
    "duration": 12,
    "start_time": "2022-12-21T22:56:34.255Z"
   },
   {
    "duration": 27,
    "start_time": "2022-12-21T22:56:34.269Z"
   },
   {
    "duration": 25,
    "start_time": "2022-12-21T22:56:35.723Z"
   },
   {
    "duration": 12,
    "start_time": "2022-12-21T22:56:36.288Z"
   },
   {
    "duration": 69,
    "start_time": "2022-12-21T22:56:36.848Z"
   },
   {
    "duration": 12,
    "start_time": "2022-12-21T22:56:37.327Z"
   },
   {
    "duration": 2889,
    "start_time": "2022-12-21T22:56:37.827Z"
   },
   {
    "duration": 12,
    "start_time": "2022-12-21T22:56:40.718Z"
   },
   {
    "duration": 28,
    "start_time": "2022-12-21T22:56:40.731Z"
   },
   {
    "duration": 131,
    "start_time": "2022-12-21T22:56:40.761Z"
   },
   {
    "duration": 12,
    "start_time": "2022-12-21T22:56:41.663Z"
   },
   {
    "duration": 10,
    "start_time": "2022-12-21T22:56:54.204Z"
   },
   {
    "duration": 12,
    "start_time": "2022-12-21T23:01:37.590Z"
   },
   {
    "duration": 12,
    "start_time": "2022-12-21T23:02:17.487Z"
   },
   {
    "duration": 12,
    "start_time": "2022-12-21T23:02:23.860Z"
   },
   {
    "duration": 13,
    "start_time": "2022-12-21T23:02:49.144Z"
   },
   {
    "duration": 5,
    "start_time": "2022-12-21T23:04:03.971Z"
   },
   {
    "duration": 946,
    "start_time": "2022-12-21T23:04:04.432Z"
   },
   {
    "duration": 132,
    "start_time": "2022-12-21T23:04:05.380Z"
   },
   {
    "duration": 24,
    "start_time": "2022-12-21T23:04:05.515Z"
   },
   {
    "duration": 118,
    "start_time": "2022-12-21T23:04:05.573Z"
   },
   {
    "duration": 1135,
    "start_time": "2022-12-21T23:04:05.959Z"
   },
   {
    "duration": 245,
    "start_time": "2022-12-21T23:04:07.097Z"
   },
   {
    "duration": 137,
    "start_time": "2022-12-21T23:04:07.344Z"
   },
   {
    "duration": 1036,
    "start_time": "2022-12-21T23:04:07.484Z"
   },
   {
    "duration": 672,
    "start_time": "2022-12-21T23:04:08.522Z"
   },
   {
    "duration": 129,
    "start_time": "2022-12-21T23:04:09.197Z"
   },
   {
    "duration": 17,
    "start_time": "2022-12-21T23:04:09.328Z"
   },
   {
    "duration": 401,
    "start_time": "2022-12-21T23:04:09.350Z"
   },
   {
    "duration": 521,
    "start_time": "2022-12-21T23:04:09.753Z"
   },
   {
    "duration": 16,
    "start_time": "2022-12-21T23:04:10.279Z"
   },
   {
    "duration": 127,
    "start_time": "2022-12-21T23:04:10.296Z"
   },
   {
    "duration": 306,
    "start_time": "2022-12-21T23:04:10.891Z"
   },
   {
    "duration": 13,
    "start_time": "2022-12-21T23:04:11.244Z"
   },
   {
    "duration": 53,
    "start_time": "2022-12-21T23:04:11.646Z"
   },
   {
    "duration": 351,
    "start_time": "2022-12-21T23:04:12.005Z"
   },
   {
    "duration": 405,
    "start_time": "2022-12-21T23:04:12.790Z"
   },
   {
    "duration": 20,
    "start_time": "2022-12-21T23:04:13.222Z"
   },
   {
    "duration": 313,
    "start_time": "2022-12-21T23:04:13.590Z"
   },
   {
    "duration": 409,
    "start_time": "2022-12-21T23:04:14.357Z"
   },
   {
    "duration": 67,
    "start_time": "2022-12-21T23:04:15.082Z"
   },
   {
    "duration": 23,
    "start_time": "2022-12-21T23:04:15.857Z"
   },
   {
    "duration": 17,
    "start_time": "2022-12-21T23:04:16.290Z"
   },
   {
    "duration": 71,
    "start_time": "2022-12-21T23:04:16.739Z"
   },
   {
    "duration": 31,
    "start_time": "2022-12-21T23:04:17.139Z"
   },
   {
    "duration": 77,
    "start_time": "2022-12-21T23:04:17.566Z"
   },
   {
    "duration": 11,
    "start_time": "2022-12-21T23:04:17.918Z"
   },
   {
    "duration": 4,
    "start_time": "2022-12-21T23:04:18.310Z"
   },
   {
    "duration": 2508,
    "start_time": "2022-12-21T23:04:18.909Z"
   },
   {
    "duration": 12,
    "start_time": "2022-12-21T23:04:21.419Z"
   },
   {
    "duration": 32,
    "start_time": "2022-12-21T23:04:21.433Z"
   },
   {
    "duration": 28,
    "start_time": "2022-12-21T23:04:21.467Z"
   },
   {
    "duration": 40,
    "start_time": "2022-12-21T23:04:21.497Z"
   },
   {
    "duration": 120,
    "start_time": "2022-12-21T23:04:21.539Z"
   },
   {
    "duration": 12,
    "start_time": "2022-12-21T23:04:21.842Z"
   },
   {
    "duration": 2873,
    "start_time": "2022-12-21T23:04:22.634Z"
   },
   {
    "duration": 12,
    "start_time": "2022-12-21T23:04:25.509Z"
   },
   {
    "duration": 30,
    "start_time": "2022-12-21T23:04:25.522Z"
   },
   {
    "duration": 135,
    "start_time": "2022-12-21T23:04:25.554Z"
   },
   {
    "duration": 11,
    "start_time": "2022-12-21T23:04:25.691Z"
   },
   {
    "duration": 62,
    "start_time": "2022-12-21T23:04:56.547Z"
   },
   {
    "duration": 15,
    "start_time": "2022-12-21T23:09:16.958Z"
   },
   {
    "duration": 44,
    "start_time": "2022-12-21T23:09:24.341Z"
   },
   {
    "duration": 61,
    "start_time": "2022-12-21T23:12:30.601Z"
   },
   {
    "duration": 10,
    "start_time": "2022-12-21T23:14:09.147Z"
   },
   {
    "duration": 36,
    "start_time": "2022-12-21T23:14:30.636Z"
   },
   {
    "duration": 5,
    "start_time": "2022-12-21T23:16:55.815Z"
   },
   {
    "duration": 819,
    "start_time": "2022-12-21T23:16:56.210Z"
   },
   {
    "duration": 115,
    "start_time": "2022-12-21T23:16:57.031Z"
   },
   {
    "duration": 17,
    "start_time": "2022-12-21T23:16:57.148Z"
   },
   {
    "duration": 113,
    "start_time": "2022-12-21T23:16:57.168Z"
   },
   {
    "duration": 826,
    "start_time": "2022-12-21T23:16:57.283Z"
   },
   {
    "duration": 188,
    "start_time": "2022-12-21T23:16:58.111Z"
   },
   {
    "duration": 132,
    "start_time": "2022-12-21T23:16:58.302Z"
   },
   {
    "duration": 796,
    "start_time": "2022-12-21T23:16:58.437Z"
   },
   {
    "duration": 619,
    "start_time": "2022-12-21T23:16:59.235Z"
   },
   {
    "duration": 107,
    "start_time": "2022-12-21T23:16:59.856Z"
   },
   {
    "duration": 12,
    "start_time": "2022-12-21T23:16:59.966Z"
   },
   {
    "duration": 340,
    "start_time": "2022-12-21T23:16:59.980Z"
   },
   {
    "duration": 335,
    "start_time": "2022-12-21T23:17:00.322Z"
   },
   {
    "duration": 14,
    "start_time": "2022-12-21T23:17:00.659Z"
   },
   {
    "duration": 121,
    "start_time": "2022-12-21T23:17:00.676Z"
   },
   {
    "duration": 282,
    "start_time": "2022-12-21T23:17:00.800Z"
   },
   {
    "duration": 11,
    "start_time": "2022-12-21T23:17:01.085Z"
   },
   {
    "duration": 51,
    "start_time": "2022-12-21T23:17:01.239Z"
   },
   {
    "duration": 339,
    "start_time": "2022-12-21T23:17:01.831Z"
   },
   {
    "duration": 417,
    "start_time": "2022-12-21T23:17:02.213Z"
   },
   {
    "duration": 21,
    "start_time": "2022-12-21T23:17:02.632Z"
   },
   {
    "duration": 272,
    "start_time": "2022-12-21T23:17:02.706Z"
   },
   {
    "duration": 286,
    "start_time": "2022-12-21T23:17:03.796Z"
   },
   {
    "duration": 70,
    "start_time": "2022-12-21T23:17:04.084Z"
   },
   {
    "duration": 23,
    "start_time": "2022-12-21T23:17:04.419Z"
   },
   {
    "duration": 11,
    "start_time": "2022-12-21T23:17:04.722Z"
   },
   {
    "duration": 82,
    "start_time": "2022-12-21T23:17:05.011Z"
   },
   {
    "duration": 20,
    "start_time": "2022-12-21T23:17:05.351Z"
   },
   {
    "duration": 49,
    "start_time": "2022-12-21T23:17:05.719Z"
   },
   {
    "duration": 12,
    "start_time": "2022-12-21T23:17:06.071Z"
   },
   {
    "duration": 5,
    "start_time": "2022-12-21T23:17:06.407Z"
   },
   {
    "duration": 2261,
    "start_time": "2022-12-21T23:17:06.727Z"
   },
   {
    "duration": 12,
    "start_time": "2022-12-21T23:17:08.990Z"
   },
   {
    "duration": 22,
    "start_time": "2022-12-21T23:17:09.012Z"
   },
   {
    "duration": 27,
    "start_time": "2022-12-21T23:17:09.036Z"
   },
   {
    "duration": 15,
    "start_time": "2022-12-21T23:17:09.065Z"
   },
   {
    "duration": 86,
    "start_time": "2022-12-21T23:17:09.081Z"
   },
   {
    "duration": 18,
    "start_time": "2022-12-21T23:17:09.169Z"
   },
   {
    "duration": 2734,
    "start_time": "2022-12-21T23:17:09.323Z"
   },
   {
    "duration": 11,
    "start_time": "2022-12-21T23:17:12.060Z"
   },
   {
    "duration": 42,
    "start_time": "2022-12-21T23:17:12.073Z"
   },
   {
    "duration": 139,
    "start_time": "2022-12-21T23:17:12.117Z"
   },
   {
    "duration": 10,
    "start_time": "2022-12-21T23:17:12.258Z"
   },
   {
    "duration": 15,
    "start_time": "2022-12-21T23:17:12.269Z"
   },
   {
    "duration": 52,
    "start_time": "2022-12-21T23:17:12.285Z"
   },
   {
    "duration": 39,
    "start_time": "2022-12-21T23:17:12.782Z"
   },
   {
    "duration": 17,
    "start_time": "2022-12-21T23:18:07.696Z"
   },
   {
    "duration": 47,
    "start_time": "2022-12-21T23:18:08.876Z"
   },
   {
    "duration": 35,
    "start_time": "2022-12-21T23:18:13.456Z"
   },
   {
    "duration": 34,
    "start_time": "2022-12-21T23:18:27.905Z"
   },
   {
    "duration": 19,
    "start_time": "2022-12-21T23:18:33.649Z"
   },
   {
    "duration": 46,
    "start_time": "2022-12-21T23:19:36.673Z"
   },
   {
    "duration": 22,
    "start_time": "2022-12-21T23:21:56.905Z"
   },
   {
    "duration": 13,
    "start_time": "2022-12-21T23:21:57.481Z"
   },
   {
    "duration": 53,
    "start_time": "2022-12-21T23:21:58.153Z"
   },
   {
    "duration": 9,
    "start_time": "2022-12-21T23:24:38.601Z"
   },
   {
    "duration": 5,
    "start_time": "2022-12-21T23:37:08.913Z"
   },
   {
    "duration": 702,
    "start_time": "2022-12-21T23:37:09.498Z"
   },
   {
    "duration": 124,
    "start_time": "2022-12-21T23:37:10.203Z"
   },
   {
    "duration": 15,
    "start_time": "2022-12-21T23:37:10.502Z"
   },
   {
    "duration": 89,
    "start_time": "2022-12-21T23:37:11.086Z"
   },
   {
    "duration": 818,
    "start_time": "2022-12-21T23:37:11.734Z"
   },
   {
    "duration": 169,
    "start_time": "2022-12-21T23:37:12.554Z"
   },
   {
    "duration": 113,
    "start_time": "2022-12-21T23:37:12.785Z"
   },
   {
    "duration": 823,
    "start_time": "2022-12-21T23:37:13.361Z"
   },
   {
    "duration": 572,
    "start_time": "2022-12-21T23:37:14.187Z"
   },
   {
    "duration": 111,
    "start_time": "2022-12-21T23:37:14.762Z"
   },
   {
    "duration": 12,
    "start_time": "2022-12-21T23:37:14.875Z"
   },
   {
    "duration": 323,
    "start_time": "2022-12-21T23:37:15.964Z"
   },
   {
    "duration": 432,
    "start_time": "2022-12-21T23:37:16.886Z"
   },
   {
    "duration": 13,
    "start_time": "2022-12-21T23:37:17.334Z"
   },
   {
    "duration": 78,
    "start_time": "2022-12-21T23:37:17.830Z"
   },
   {
    "duration": 254,
    "start_time": "2022-12-21T23:37:18.679Z"
   },
   {
    "duration": 12,
    "start_time": "2022-12-21T23:37:19.121Z"
   },
   {
    "duration": 77,
    "start_time": "2022-12-21T23:37:19.578Z"
   },
   {
    "duration": 306,
    "start_time": "2022-12-21T23:37:20.042Z"
   },
   {
    "duration": 304,
    "start_time": "2022-12-21T23:37:20.948Z"
   },
   {
    "duration": 25,
    "start_time": "2022-12-21T23:37:21.361Z"
   },
   {
    "duration": 278,
    "start_time": "2022-12-21T23:37:21.831Z"
   },
   {
    "duration": 274,
    "start_time": "2022-12-21T23:37:23.889Z"
   },
   {
    "duration": 75,
    "start_time": "2022-12-21T23:37:24.165Z"
   },
   {
    "duration": 36,
    "start_time": "2022-12-21T23:37:24.518Z"
   },
   {
    "duration": 12,
    "start_time": "2022-12-21T23:37:25.098Z"
   },
   {
    "duration": 73,
    "start_time": "2022-12-21T23:37:25.579Z"
   },
   {
    "duration": 28,
    "start_time": "2022-12-21T23:37:26.027Z"
   },
   {
    "duration": 68,
    "start_time": "2022-12-21T23:37:26.505Z"
   },
   {
    "duration": 13,
    "start_time": "2022-12-21T23:37:27.425Z"
   },
   {
    "duration": 4,
    "start_time": "2022-12-21T23:37:27.942Z"
   },
   {
    "duration": 2419,
    "start_time": "2022-12-21T23:37:28.637Z"
   },
   {
    "duration": 14,
    "start_time": "2022-12-21T23:37:31.058Z"
   },
   {
    "duration": 79,
    "start_time": "2022-12-21T23:37:31.073Z"
   },
   {
    "duration": 68,
    "start_time": "2022-12-21T23:37:31.154Z"
   },
   {
    "duration": 20,
    "start_time": "2022-12-21T23:37:31.570Z"
   },
   {
    "duration": 201,
    "start_time": "2022-12-21T23:37:32.058Z"
   },
   {
    "duration": 13,
    "start_time": "2022-12-21T23:37:32.537Z"
   },
   {
    "duration": 2852,
    "start_time": "2022-12-21T23:37:33.018Z"
   },
   {
    "duration": 12,
    "start_time": "2022-12-21T23:37:35.872Z"
   },
   {
    "duration": 37,
    "start_time": "2022-12-21T23:37:35.886Z"
   },
   {
    "duration": 124,
    "start_time": "2022-12-21T23:37:35.925Z"
   },
   {
    "duration": 12,
    "start_time": "2022-12-21T23:37:36.051Z"
   },
   {
    "duration": 16,
    "start_time": "2022-12-21T23:37:36.537Z"
   },
   {
    "duration": 16,
    "start_time": "2022-12-21T23:37:37.466Z"
   },
   {
    "duration": 22,
    "start_time": "2022-12-21T23:37:38.545Z"
   },
   {
    "duration": 15,
    "start_time": "2022-12-21T23:37:39.130Z"
   },
   {
    "duration": 21,
    "start_time": "2022-12-21T23:37:40.126Z"
   },
   {
    "duration": 15,
    "start_time": "2022-12-21T23:37:41.141Z"
   },
   {
    "duration": 10,
    "start_time": "2022-12-21T23:37:41.639Z"
   },
   {
    "duration": 37,
    "start_time": "2022-12-21T23:37:42.198Z"
   },
   {
    "duration": 47,
    "start_time": "2022-12-21T23:38:10.278Z"
   },
   {
    "duration": 6,
    "start_time": "2022-12-21T23:38:10.823Z"
   },
   {
    "duration": 1484,
    "start_time": "2022-12-21T23:38:14.414Z"
   },
   {
    "duration": 1271,
    "start_time": "2022-12-21T23:38:15.900Z"
   },
   {
    "duration": 121,
    "start_time": "2022-12-21T23:38:17.839Z"
   },
   {
    "duration": 26,
    "start_time": "2022-12-21T23:38:19.224Z"
   },
   {
    "duration": 101,
    "start_time": "2022-12-21T23:38:20.239Z"
   },
   {
    "duration": 875,
    "start_time": "2022-12-21T23:38:21.651Z"
   },
   {
    "duration": 202,
    "start_time": "2022-12-21T23:38:23.574Z"
   },
   {
    "duration": 124,
    "start_time": "2022-12-21T23:38:24.995Z"
   },
   {
    "duration": 1061,
    "start_time": "2022-12-21T23:38:25.987Z"
   },
   {
    "duration": 646,
    "start_time": "2022-12-21T23:38:27.887Z"
   },
   {
    "duration": 91,
    "start_time": "2022-12-21T23:38:29.443Z"
   },
   {
    "duration": 10,
    "start_time": "2022-12-21T23:38:30.551Z"
   },
   {
    "duration": 377,
    "start_time": "2022-12-21T23:38:33.858Z"
   },
   {
    "duration": 360,
    "start_time": "2022-12-21T23:38:36.479Z"
   },
   {
    "duration": 12,
    "start_time": "2022-12-21T23:38:37.475Z"
   },
   {
    "duration": 85,
    "start_time": "2022-12-21T23:38:38.695Z"
   },
   {
    "duration": 277,
    "start_time": "2022-12-21T23:38:41.308Z"
   },
   {
    "duration": 13,
    "start_time": "2022-12-21T23:38:42.407Z"
   },
   {
    "duration": 47,
    "start_time": "2022-12-21T23:38:43.616Z"
   },
   {
    "duration": 309,
    "start_time": "2022-12-21T23:38:45.012Z"
   },
   {
    "duration": 316,
    "start_time": "2022-12-21T23:38:46.999Z"
   },
   {
    "duration": 22,
    "start_time": "2022-12-21T23:38:47.943Z"
   },
   {
    "duration": 282,
    "start_time": "2022-12-21T23:38:48.775Z"
   },
   {
    "duration": 385,
    "start_time": "2022-12-21T23:38:53.133Z"
   },
   {
    "duration": 64,
    "start_time": "2022-12-21T23:38:53.521Z"
   },
   {
    "duration": 24,
    "start_time": "2022-12-21T23:38:54.503Z"
   },
   {
    "duration": 12,
    "start_time": "2022-12-21T23:38:55.371Z"
   },
   {
    "duration": 70,
    "start_time": "2022-12-21T23:38:56.060Z"
   },
   {
    "duration": 19,
    "start_time": "2022-12-21T23:38:56.991Z"
   },
   {
    "duration": 99,
    "start_time": "2022-12-21T23:38:57.953Z"
   },
   {
    "duration": 19,
    "start_time": "2022-12-21T23:38:59.012Z"
   },
   {
    "duration": 4,
    "start_time": "2022-12-21T23:38:59.868Z"
   },
   {
    "duration": 2423,
    "start_time": "2022-12-21T23:39:00.936Z"
   },
   {
    "duration": 12,
    "start_time": "2022-12-21T23:39:03.362Z"
   },
   {
    "duration": 22,
    "start_time": "2022-12-21T23:39:04.099Z"
   },
   {
    "duration": 23,
    "start_time": "2022-12-21T23:39:05.920Z"
   },
   {
    "duration": 12,
    "start_time": "2022-12-21T23:39:06.687Z"
   },
   {
    "duration": 71,
    "start_time": "2022-12-21T23:39:07.540Z"
   },
   {
    "duration": 11,
    "start_time": "2022-12-21T23:39:08.508Z"
   },
   {
    "duration": 2764,
    "start_time": "2022-12-21T23:39:09.148Z"
   },
   {
    "duration": 12,
    "start_time": "2022-12-21T23:39:11.914Z"
   },
   {
    "duration": 35,
    "start_time": "2022-12-21T23:39:11.928Z"
   },
   {
    "duration": 126,
    "start_time": "2022-12-21T23:39:16.012Z"
   },
   {
    "duration": 15,
    "start_time": "2022-12-21T23:39:18.583Z"
   },
   {
    "duration": 20,
    "start_time": "2022-12-21T23:39:20.348Z"
   },
   {
    "duration": 24,
    "start_time": "2022-12-21T23:39:21.615Z"
   },
   {
    "duration": 36,
    "start_time": "2022-12-21T23:39:23.017Z"
   },
   {
    "duration": 15,
    "start_time": "2022-12-21T23:39:23.776Z"
   },
   {
    "duration": 41,
    "start_time": "2022-12-21T23:39:25.001Z"
   },
   {
    "duration": 23,
    "start_time": "2022-12-21T23:39:26.372Z"
   },
   {
    "duration": 13,
    "start_time": "2022-12-21T23:39:27.005Z"
   },
   {
    "duration": 53,
    "start_time": "2022-12-21T23:39:27.700Z"
   },
   {
    "duration": 1479,
    "start_time": "2022-12-21T23:40:46.851Z"
   },
   {
    "duration": 1186,
    "start_time": "2022-12-21T23:40:48.332Z"
   },
   {
    "duration": 118,
    "start_time": "2022-12-21T23:40:49.519Z"
   },
   {
    "duration": 19,
    "start_time": "2022-12-21T23:40:49.638Z"
   },
   {
    "duration": 130,
    "start_time": "2022-12-21T23:40:49.658Z"
   },
   {
    "duration": 854,
    "start_time": "2022-12-21T23:40:49.942Z"
   },
   {
    "duration": 181,
    "start_time": "2022-12-21T23:40:51.007Z"
   },
   {
    "duration": 121,
    "start_time": "2022-12-21T23:40:51.939Z"
   },
   {
    "duration": 923,
    "start_time": "2022-12-21T23:40:52.636Z"
   },
   {
    "duration": 581,
    "start_time": "2022-12-21T23:40:53.561Z"
   },
   {
    "duration": 85,
    "start_time": "2022-12-21T23:40:54.647Z"
   },
   {
    "duration": 11,
    "start_time": "2022-12-21T23:40:55.494Z"
   },
   {
    "duration": 409,
    "start_time": "2022-12-21T23:40:57.498Z"
   },
   {
    "duration": 333,
    "start_time": "2022-12-21T23:40:59.422Z"
   },
   {
    "duration": 13,
    "start_time": "2022-12-21T23:41:00.343Z"
   },
   {
    "duration": 81,
    "start_time": "2022-12-21T23:41:01.154Z"
   },
   {
    "duration": 291,
    "start_time": "2022-12-21T23:41:02.962Z"
   },
   {
    "duration": 11,
    "start_time": "2022-12-21T23:41:03.838Z"
   },
   {
    "duration": 54,
    "start_time": "2022-12-21T23:41:04.595Z"
   },
   {
    "duration": 302,
    "start_time": "2022-12-21T23:41:05.399Z"
   },
   {
    "duration": 277,
    "start_time": "2022-12-21T23:41:07.179Z"
   },
   {
    "duration": 21,
    "start_time": "2022-12-21T23:41:08.079Z"
   },
   {
    "duration": 289,
    "start_time": "2022-12-21T23:41:08.806Z"
   },
   {
    "duration": 421,
    "start_time": "2022-12-21T23:41:10.441Z"
   },
   {
    "duration": 82,
    "start_time": "2022-12-21T23:41:12.163Z"
   },
   {
    "duration": 20,
    "start_time": "2022-12-21T23:41:13.494Z"
   },
   {
    "duration": 11,
    "start_time": "2022-12-21T23:41:14.295Z"
   },
   {
    "duration": 73,
    "start_time": "2022-12-21T23:41:15.048Z"
   },
   {
    "duration": 20,
    "start_time": "2022-12-21T23:41:15.812Z"
   },
   {
    "duration": 56,
    "start_time": "2022-12-21T23:41:16.835Z"
   },
   {
    "duration": 12,
    "start_time": "2022-12-21T23:41:17.733Z"
   },
   {
    "duration": 4,
    "start_time": "2022-12-21T23:41:18.534Z"
   },
   {
    "duration": 2329,
    "start_time": "2022-12-21T23:41:19.263Z"
   },
   {
    "duration": 20,
    "start_time": "2022-12-21T23:41:21.594Z"
   },
   {
    "duration": 40,
    "start_time": "2022-12-21T23:41:21.617Z"
   },
   {
    "duration": 22,
    "start_time": "2022-12-21T23:41:21.723Z"
   },
   {
    "duration": 18,
    "start_time": "2022-12-21T23:41:22.299Z"
   },
   {
    "duration": 81,
    "start_time": "2022-12-21T23:41:22.947Z"
   },
   {
    "duration": 12,
    "start_time": "2022-12-21T23:41:23.614Z"
   },
   {
    "duration": 2850,
    "start_time": "2022-12-21T23:41:24.188Z"
   },
   {
    "duration": 13,
    "start_time": "2022-12-21T23:41:27.040Z"
   },
   {
    "duration": 41,
    "start_time": "2022-12-21T23:41:27.054Z"
   },
   {
    "duration": 246,
    "start_time": "2022-12-21T23:41:27.098Z"
   },
   {
    "duration": 11,
    "start_time": "2022-12-21T23:41:27.427Z"
   },
   {
    "duration": 14,
    "start_time": "2022-12-21T23:41:28.491Z"
   },
   {
    "duration": 18,
    "start_time": "2022-12-21T23:41:29.319Z"
   },
   {
    "duration": 28,
    "start_time": "2022-12-21T23:41:30.184Z"
   },
   {
    "duration": 22,
    "start_time": "2022-12-21T23:41:30.679Z"
   },
   {
    "duration": 38,
    "start_time": "2022-12-21T23:41:31.551Z"
   },
   {
    "duration": 25,
    "start_time": "2022-12-21T23:41:32.443Z"
   },
   {
    "duration": 13,
    "start_time": "2022-12-21T23:41:32.882Z"
   },
   {
    "duration": 56,
    "start_time": "2022-12-21T23:41:33.347Z"
   },
   {
    "duration": 344,
    "start_time": "2022-12-21T23:41:34.891Z"
   },
   {
    "duration": 14,
    "start_time": "2022-12-21T23:41:37.299Z"
   },
   {
    "duration": 128,
    "start_time": "2022-12-21T23:41:40.383Z"
   },
   {
    "duration": 183,
    "start_time": "2022-12-21T23:41:41.324Z"
   },
   {
    "duration": 62,
    "start_time": "2022-12-21T23:41:42.173Z"
   },
   {
    "duration": 3,
    "start_time": "2022-12-21T23:59:24.051Z"
   },
   {
    "duration": 124,
    "start_time": "2022-12-21T23:59:24.712Z"
   },
   {
    "duration": 6,
    "start_time": "2022-12-22T00:00:41.897Z"
   },
   {
    "duration": 3,
    "start_time": "2022-12-22T00:00:47.969Z"
   },
   {
    "duration": 3,
    "start_time": "2022-12-22T00:00:48.688Z"
   },
   {
    "duration": 10,
    "start_time": "2022-12-22T00:00:49.573Z"
   },
   {
    "duration": 6,
    "start_time": "2022-12-22T00:01:21.327Z"
   },
   {
    "duration": 4,
    "start_time": "2022-12-22T00:01:26.277Z"
   },
   {
    "duration": 8,
    "start_time": "2022-12-22T00:01:26.923Z"
   },
   {
    "duration": 12,
    "start_time": "2022-12-22T00:01:27.529Z"
   },
   {
    "duration": 9,
    "start_time": "2022-12-22T00:07:28.753Z"
   },
   {
    "duration": 6,
    "start_time": "2022-12-22T00:08:08.292Z"
   },
   {
    "duration": 17,
    "start_time": "2022-12-22T00:08:13.402Z"
   },
   {
    "duration": 12,
    "start_time": "2022-12-22T00:11:56.560Z"
   },
   {
    "duration": 10,
    "start_time": "2022-12-22T00:12:50.460Z"
   },
   {
    "duration": 15,
    "start_time": "2022-12-22T00:12:56.892Z"
   },
   {
    "duration": 3,
    "start_time": "2022-12-22T00:14:09.638Z"
   },
   {
    "duration": 3,
    "start_time": "2022-12-22T00:16:10.976Z"
   },
   {
    "duration": 3,
    "start_time": "2022-12-22T00:16:51.478Z"
   },
   {
    "duration": 3,
    "start_time": "2022-12-22T00:16:52.041Z"
   },
   {
    "duration": 3,
    "start_time": "2022-12-22T00:16:53.160Z"
   },
   {
    "duration": 3,
    "start_time": "2022-12-22T00:16:53.705Z"
   },
   {
    "duration": 3,
    "start_time": "2022-12-22T00:16:56.586Z"
   },
   {
    "duration": 5,
    "start_time": "2022-12-22T00:20:13.886Z"
   },
   {
    "duration": 717,
    "start_time": "2022-12-22T00:20:14.425Z"
   },
   {
    "duration": 105,
    "start_time": "2022-12-22T00:20:15.144Z"
   },
   {
    "duration": 15,
    "start_time": "2022-12-22T00:20:15.361Z"
   },
   {
    "duration": 86,
    "start_time": "2022-12-22T00:20:15.782Z"
   },
   {
    "duration": 874,
    "start_time": "2022-12-22T00:20:16.216Z"
   },
   {
    "duration": 185,
    "start_time": "2022-12-22T00:20:17.092Z"
   },
   {
    "duration": 112,
    "start_time": "2022-12-22T00:20:17.280Z"
   },
   {
    "duration": 795,
    "start_time": "2022-12-22T00:20:17.582Z"
   },
   {
    "duration": 569,
    "start_time": "2022-12-22T00:20:18.379Z"
   },
   {
    "duration": 102,
    "start_time": "2022-12-22T00:20:18.950Z"
   },
   {
    "duration": 10,
    "start_time": "2022-12-22T00:20:19.054Z"
   },
   {
    "duration": 310,
    "start_time": "2022-12-22T00:20:19.906Z"
   },
   {
    "duration": 337,
    "start_time": "2022-12-22T00:20:20.873Z"
   },
   {
    "duration": 12,
    "start_time": "2022-12-22T00:20:21.289Z"
   },
   {
    "duration": 80,
    "start_time": "2022-12-22T00:20:21.750Z"
   },
   {
    "duration": 261,
    "start_time": "2022-12-22T00:20:22.590Z"
   },
   {
    "duration": 12,
    "start_time": "2022-12-22T00:20:23.022Z"
   },
   {
    "duration": 49,
    "start_time": "2022-12-22T00:20:23.438Z"
   },
   {
    "duration": 413,
    "start_time": "2022-12-22T00:20:23.925Z"
   },
   {
    "duration": 290,
    "start_time": "2022-12-22T00:20:25.081Z"
   },
   {
    "duration": 21,
    "start_time": "2022-12-22T00:20:25.593Z"
   },
   {
    "duration": 329,
    "start_time": "2022-12-22T00:20:26.130Z"
   },
   {
    "duration": 296,
    "start_time": "2022-12-22T00:20:27.075Z"
   },
   {
    "duration": 63,
    "start_time": "2022-12-22T00:20:28.038Z"
   },
   {
    "duration": 22,
    "start_time": "2022-12-22T00:20:29.069Z"
   },
   {
    "duration": 12,
    "start_time": "2022-12-22T00:20:29.483Z"
   },
   {
    "duration": 71,
    "start_time": "2022-12-22T00:20:29.877Z"
   },
   {
    "duration": 19,
    "start_time": "2022-12-22T00:20:30.262Z"
   },
   {
    "duration": 50,
    "start_time": "2022-12-22T00:20:30.658Z"
   },
   {
    "duration": 12,
    "start_time": "2022-12-22T00:20:31.050Z"
   },
   {
    "duration": 4,
    "start_time": "2022-12-22T00:20:31.434Z"
   },
   {
    "duration": 2281,
    "start_time": "2022-12-22T00:20:31.819Z"
   },
   {
    "duration": 16,
    "start_time": "2022-12-22T00:20:34.102Z"
   },
   {
    "duration": 28,
    "start_time": "2022-12-22T00:20:34.120Z"
   },
   {
    "duration": 30,
    "start_time": "2022-12-22T00:20:34.150Z"
   },
   {
    "duration": 21,
    "start_time": "2022-12-22T00:20:34.182Z"
   },
   {
    "duration": 74,
    "start_time": "2022-12-22T00:20:34.205Z"
   },
   {
    "duration": 12,
    "start_time": "2022-12-22T00:20:34.413Z"
   },
   {
    "duration": 2793,
    "start_time": "2022-12-22T00:20:34.814Z"
   },
   {
    "duration": 12,
    "start_time": "2022-12-22T00:20:37.609Z"
   },
   {
    "duration": 28,
    "start_time": "2022-12-22T00:20:37.623Z"
   },
   {
    "duration": 126,
    "start_time": "2022-12-22T00:20:37.653Z"
   },
   {
    "duration": 11,
    "start_time": "2022-12-22T00:20:37.780Z"
   },
   {
    "duration": 24,
    "start_time": "2022-12-22T00:20:37.792Z"
   },
   {
    "duration": 15,
    "start_time": "2022-12-22T00:20:38.266Z"
   },
   {
    "duration": 24,
    "start_time": "2022-12-22T00:20:38.858Z"
   },
   {
    "duration": 21,
    "start_time": "2022-12-22T00:20:39.147Z"
   },
   {
    "duration": 23,
    "start_time": "2022-12-22T00:20:39.726Z"
   },
   {
    "duration": 17,
    "start_time": "2022-12-22T00:20:40.318Z"
   },
   {
    "duration": 11,
    "start_time": "2022-12-22T00:20:40.758Z"
   },
   {
    "duration": 57,
    "start_time": "2022-12-22T00:20:41.062Z"
   },
   {
    "duration": 338,
    "start_time": "2022-12-22T00:20:41.959Z"
   },
   {
    "duration": 21,
    "start_time": "2022-12-22T00:20:42.299Z"
   },
   {
    "duration": 134,
    "start_time": "2022-12-22T00:20:42.810Z"
   },
   {
    "duration": 211,
    "start_time": "2022-12-22T00:20:43.185Z"
   },
   {
    "duration": 55,
    "start_time": "2022-12-22T00:20:43.578Z"
   },
   {
    "duration": 3,
    "start_time": "2022-12-22T00:20:44.393Z"
   },
   {
    "duration": 3,
    "start_time": "2022-12-22T00:20:44.810Z"
   },
   {
    "duration": 3,
    "start_time": "2022-12-22T00:20:45.466Z"
   },
   {
    "duration": 3,
    "start_time": "2022-12-22T00:20:46.039Z"
   },
   {
    "duration": 4,
    "start_time": "2022-12-22T00:20:46.983Z"
   },
   {
    "duration": 4,
    "start_time": "2022-12-22T00:22:22.320Z"
   },
   {
    "duration": 49,
    "start_time": "2022-12-22T00:22:23.068Z"
   },
   {
    "duration": 876931,
    "start_time": "2022-12-22T00:22:31.692Z"
   },
   {
    "duration": 5,
    "start_time": "2022-12-22T00:37:11.988Z"
   },
   {
    "duration": 2,
    "start_time": "2022-12-22T00:37:13.696Z"
   },
   {
    "duration": 4,
    "start_time": "2022-12-22T00:37:16.137Z"
   },
   {
    "duration": 3,
    "start_time": "2022-12-22T00:38:46.515Z"
   },
   {
    "duration": 3,
    "start_time": "2022-12-22T00:38:51.267Z"
   },
   {
    "duration": 3,
    "start_time": "2022-12-22T00:38:51.851Z"
   },
   {
    "duration": 3,
    "start_time": "2022-12-22T00:38:53.022Z"
   },
   {
    "duration": 4,
    "start_time": "2022-12-22T00:38:53.574Z"
   },
   {
    "duration": 871715,
    "start_time": "2022-12-22T00:38:55.274Z"
   },
   {
    "duration": 6,
    "start_time": "2022-12-22T00:53:26.991Z"
   },
   {
    "duration": 15,
    "start_time": "2022-12-22T00:53:26.998Z"
   },
   {
    "duration": 6,
    "start_time": "2022-12-22T00:53:27.016Z"
   },
   {
    "duration": 10,
    "start_time": "2022-12-22T00:58:00.475Z"
   },
   {
    "duration": 891,
    "start_time": "2022-12-22T00:58:03.467Z"
   },
   {
    "duration": 4,
    "start_time": "2022-12-22T00:58:04.387Z"
   },
   {
    "duration": 5,
    "start_time": "2022-12-22T00:59:27.664Z"
   },
   {
    "duration": 10,
    "start_time": "2022-12-22T01:02:04.992Z"
   },
   {
    "duration": 5,
    "start_time": "2022-12-22T01:02:49.053Z"
   },
   {
    "duration": 3,
    "start_time": "2022-12-22T01:02:55.709Z"
   },
   {
    "duration": 3,
    "start_time": "2022-12-22T01:02:56.446Z"
   },
   {
    "duration": 9,
    "start_time": "2022-12-22T01:04:33.127Z"
   },
   {
    "duration": 2,
    "start_time": "2022-12-22T01:04:43.624Z"
   },
   {
    "duration": 1607,
    "start_time": "2022-12-22T10:40:11.249Z"
   },
   {
    "duration": 1063,
    "start_time": "2022-12-22T10:40:12.858Z"
   },
   {
    "duration": 158,
    "start_time": "2022-12-22T10:40:13.923Z"
   },
   {
    "duration": 19,
    "start_time": "2022-12-22T10:40:14.083Z"
   },
   {
    "duration": 101,
    "start_time": "2022-12-22T10:40:14.116Z"
   },
   {
    "duration": 829,
    "start_time": "2022-12-22T10:40:14.239Z"
   },
   {
    "duration": 202,
    "start_time": "2022-12-22T10:40:15.069Z"
   },
   {
    "duration": 139,
    "start_time": "2022-12-22T10:40:15.329Z"
   },
   {
    "duration": 856,
    "start_time": "2022-12-22T10:40:15.796Z"
   },
   {
    "duration": 644,
    "start_time": "2022-12-22T10:40:16.654Z"
   },
   {
    "duration": 105,
    "start_time": "2022-12-22T10:40:17.300Z"
   },
   {
    "duration": 15,
    "start_time": "2022-12-22T10:40:17.407Z"
   },
   {
    "duration": 376,
    "start_time": "2022-12-22T10:40:18.035Z"
   },
   {
    "duration": 337,
    "start_time": "2022-12-22T10:40:18.864Z"
   },
   {
    "duration": 13,
    "start_time": "2022-12-22T10:40:19.320Z"
   },
   {
    "duration": 90,
    "start_time": "2022-12-22T10:40:19.792Z"
   },
   {
    "duration": 244,
    "start_time": "2022-12-22T10:40:20.656Z"
   },
   {
    "duration": 11,
    "start_time": "2022-12-22T10:40:21.352Z"
   },
   {
    "duration": 48,
    "start_time": "2022-12-22T10:40:21.948Z"
   },
   {
    "duration": 310,
    "start_time": "2022-12-22T10:40:22.404Z"
   },
   {
    "duration": 259,
    "start_time": "2022-12-22T10:40:23.213Z"
   },
   {
    "duration": 20,
    "start_time": "2022-12-22T10:40:23.644Z"
   },
   {
    "duration": 265,
    "start_time": "2022-12-22T10:40:24.060Z"
   },
   {
    "duration": 369,
    "start_time": "2022-12-22T10:40:24.986Z"
   },
   {
    "duration": 83,
    "start_time": "2022-12-22T10:40:26.120Z"
   },
   {
    "duration": 23,
    "start_time": "2022-12-22T10:40:27.540Z"
   },
   {
    "duration": 13,
    "start_time": "2022-12-22T10:40:28.012Z"
   },
   {
    "duration": 79,
    "start_time": "2022-12-22T10:40:28.533Z"
   },
   {
    "duration": 20,
    "start_time": "2022-12-22T10:40:29.084Z"
   },
   {
    "duration": 56,
    "start_time": "2022-12-22T10:40:29.629Z"
   },
   {
    "duration": 14,
    "start_time": "2022-12-22T10:40:30.116Z"
   },
   {
    "duration": 4,
    "start_time": "2022-12-22T10:40:30.680Z"
   },
   {
    "duration": 2208,
    "start_time": "2022-12-22T10:40:31.392Z"
   },
   {
    "duration": 14,
    "start_time": "2022-12-22T10:40:33.602Z"
   },
   {
    "duration": 30,
    "start_time": "2022-12-22T10:40:33.617Z"
   },
   {
    "duration": 31,
    "start_time": "2022-12-22T10:40:33.649Z"
   },
   {
    "duration": 12,
    "start_time": "2022-12-22T10:40:33.739Z"
   },
   {
    "duration": 71,
    "start_time": "2022-12-22T10:40:34.324Z"
   },
   {
    "duration": 12,
    "start_time": "2022-12-22T10:40:34.837Z"
   },
   {
    "duration": 2550,
    "start_time": "2022-12-22T10:40:35.484Z"
   },
   {
    "duration": 13,
    "start_time": "2022-12-22T10:40:38.036Z"
   },
   {
    "duration": 27,
    "start_time": "2022-12-22T10:40:38.050Z"
   },
   {
    "duration": 125,
    "start_time": "2022-12-22T10:40:38.079Z"
   },
   {
    "duration": 10,
    "start_time": "2022-12-22T10:40:38.832Z"
   },
   {
    "duration": 14,
    "start_time": "2022-12-22T10:40:39.628Z"
   },
   {
    "duration": 16,
    "start_time": "2022-12-22T10:40:40.660Z"
   },
   {
    "duration": 28,
    "start_time": "2022-12-22T10:40:41.628Z"
   },
   {
    "duration": 16,
    "start_time": "2022-12-22T10:40:43.249Z"
   },
   {
    "duration": 24,
    "start_time": "2022-12-22T10:40:45.532Z"
   },
   {
    "duration": 20,
    "start_time": "2022-12-22T10:40:47.145Z"
   },
   {
    "duration": 11,
    "start_time": "2022-12-22T10:40:47.544Z"
   },
   {
    "duration": 38,
    "start_time": "2022-12-22T10:40:48.320Z"
   },
   {
    "duration": 304,
    "start_time": "2022-12-22T10:40:53.053Z"
   },
   {
    "duration": 14,
    "start_time": "2022-12-22T10:40:53.444Z"
   },
   {
    "duration": 132,
    "start_time": "2022-12-22T10:40:56.068Z"
   },
   {
    "duration": 191,
    "start_time": "2022-12-22T10:40:57.925Z"
   },
   {
    "duration": 57,
    "start_time": "2022-12-22T10:40:58.913Z"
   },
   {
    "duration": 3,
    "start_time": "2022-12-22T10:41:01.260Z"
   },
   {
    "duration": 2,
    "start_time": "2022-12-22T10:41:02.349Z"
   },
   {
    "duration": 111,
    "start_time": "2022-12-22T10:41:07.006Z"
   },
   {
    "duration": 10,
    "start_time": "2022-12-22T10:45:27.983Z"
   },
   {
    "duration": 10,
    "start_time": "2022-12-22T10:46:18.414Z"
   },
   {
    "duration": 10,
    "start_time": "2022-12-22T10:46:52.046Z"
   },
   {
    "duration": 10,
    "start_time": "2022-12-22T10:46:57.674Z"
   },
   {
    "duration": 11,
    "start_time": "2022-12-22T10:48:15.627Z"
   },
   {
    "duration": 5,
    "start_time": "2022-12-22T10:48:20.828Z"
   },
   {
    "duration": 4,
    "start_time": "2022-12-22T10:48:26.143Z"
   },
   {
    "duration": 2,
    "start_time": "2022-12-22T10:48:28.832Z"
   },
   {
    "duration": 10,
    "start_time": "2022-12-22T10:48:29.688Z"
   },
   {
    "duration": 10,
    "start_time": "2022-12-22T10:48:53.943Z"
   },
   {
    "duration": 3,
    "start_time": "2022-12-22T10:49:03.584Z"
   },
   {
    "duration": 5260,
    "start_time": "2022-12-22T10:49:04.941Z"
   },
   {
    "duration": 11,
    "start_time": "2022-12-22T10:51:42.919Z"
   },
   {
    "duration": 3,
    "start_time": "2022-12-22T10:51:54.620Z"
   },
   {
    "duration": 55,
    "start_time": "2022-12-22T11:06:22.279Z"
   },
   {
    "duration": 82,
    "start_time": "2022-12-22T11:06:47.057Z"
   },
   {
    "duration": 3,
    "start_time": "2022-12-22T11:07:10.809Z"
   },
   {
    "duration": 3,
    "start_time": "2022-12-22T11:08:00.569Z"
   },
   {
    "duration": 3,
    "start_time": "2022-12-22T11:08:01.138Z"
   },
   {
    "duration": 3,
    "start_time": "2022-12-22T11:08:01.624Z"
   },
   {
    "duration": 76,
    "start_time": "2022-12-22T11:08:03.877Z"
   },
   {
    "duration": 3,
    "start_time": "2022-12-22T11:08:35.711Z"
   },
   {
    "duration": 8,
    "start_time": "2022-12-22T11:08:56.895Z"
   },
   {
    "duration": 949,
    "start_time": "2022-12-22T11:08:57.300Z"
   },
   {
    "duration": 129,
    "start_time": "2022-12-22T11:08:58.250Z"
   },
   {
    "duration": 15,
    "start_time": "2022-12-22T11:08:58.381Z"
   },
   {
    "duration": 102,
    "start_time": "2022-12-22T11:08:58.415Z"
   },
   {
    "duration": 859,
    "start_time": "2022-12-22T11:08:58.519Z"
   },
   {
    "duration": 209,
    "start_time": "2022-12-22T11:08:59.380Z"
   },
   {
    "duration": 137,
    "start_time": "2022-12-22T11:08:59.591Z"
   },
   {
    "duration": 760,
    "start_time": "2022-12-22T11:08:59.730Z"
   },
   {
    "duration": 614,
    "start_time": "2022-12-22T11:09:00.492Z"
   },
   {
    "duration": 112,
    "start_time": "2022-12-22T11:09:01.108Z"
   },
   {
    "duration": 10,
    "start_time": "2022-12-22T11:09:01.221Z"
   },
   {
    "duration": 325,
    "start_time": "2022-12-22T11:09:01.233Z"
   },
   {
    "duration": 322,
    "start_time": "2022-12-22T11:09:01.560Z"
   },
   {
    "duration": 13,
    "start_time": "2022-12-22T11:09:01.884Z"
   },
   {
    "duration": 104,
    "start_time": "2022-12-22T11:09:01.900Z"
   },
   {
    "duration": 250,
    "start_time": "2022-12-22T11:09:02.078Z"
   },
   {
    "duration": 11,
    "start_time": "2022-12-22T11:09:02.333Z"
   },
   {
    "duration": 53,
    "start_time": "2022-12-22T11:09:02.609Z"
   },
   {
    "duration": 381,
    "start_time": "2022-12-22T11:09:02.846Z"
   },
   {
    "duration": 269,
    "start_time": "2022-12-22T11:09:03.402Z"
   },
   {
    "duration": 19,
    "start_time": "2022-12-22T11:09:03.724Z"
   },
   {
    "duration": 261,
    "start_time": "2022-12-22T11:09:04.038Z"
   },
   {
    "duration": 277,
    "start_time": "2022-12-22T11:09:06.046Z"
   },
   {
    "duration": 111,
    "start_time": "2022-12-22T11:09:06.325Z"
   },
   {
    "duration": 38,
    "start_time": "2022-12-22T11:09:06.437Z"
   },
   {
    "duration": 17,
    "start_time": "2022-12-22T11:09:06.505Z"
   },
   {
    "duration": 68,
    "start_time": "2022-12-22T11:09:06.843Z"
   },
   {
    "duration": 20,
    "start_time": "2022-12-22T11:09:07.227Z"
   },
   {
    "duration": 69,
    "start_time": "2022-12-22T11:09:07.578Z"
   },
   {
    "duration": 12,
    "start_time": "2022-12-22T11:09:07.914Z"
   },
   {
    "duration": 3,
    "start_time": "2022-12-22T11:09:08.255Z"
   },
   {
    "duration": 2184,
    "start_time": "2022-12-22T11:09:08.606Z"
   },
   {
    "duration": 12,
    "start_time": "2022-12-22T11:09:10.792Z"
   },
   {
    "duration": 35,
    "start_time": "2022-12-22T11:09:10.806Z"
   },
   {
    "duration": 24,
    "start_time": "2022-12-22T11:09:10.842Z"
   },
   {
    "duration": 13,
    "start_time": "2022-12-22T11:09:10.868Z"
   },
   {
    "duration": 66,
    "start_time": "2022-12-22T11:09:11.427Z"
   },
   {
    "duration": 14,
    "start_time": "2022-12-22T11:09:11.867Z"
   },
   {
    "duration": 2728,
    "start_time": "2022-12-22T11:09:12.354Z"
   },
   {
    "duration": 13,
    "start_time": "2022-12-22T11:09:15.084Z"
   },
   {
    "duration": 35,
    "start_time": "2022-12-22T11:09:15.099Z"
   },
   {
    "duration": 121,
    "start_time": "2022-12-22T11:09:15.136Z"
   },
   {
    "duration": 11,
    "start_time": "2022-12-22T11:09:15.259Z"
   },
   {
    "duration": 15,
    "start_time": "2022-12-22T11:09:15.271Z"
   },
   {
    "duration": 31,
    "start_time": "2022-12-22T11:09:15.288Z"
   },
   {
    "duration": 29,
    "start_time": "2022-12-22T11:09:16.327Z"
   },
   {
    "duration": 21,
    "start_time": "2022-12-22T11:09:16.604Z"
   },
   {
    "duration": 25,
    "start_time": "2022-12-22T11:09:17.226Z"
   },
   {
    "duration": 16,
    "start_time": "2022-12-22T11:09:18.025Z"
   },
   {
    "duration": 11,
    "start_time": "2022-12-22T11:09:18.386Z"
   },
   {
    "duration": 41,
    "start_time": "2022-12-22T11:09:18.674Z"
   },
   {
    "duration": 462,
    "start_time": "2022-12-22T11:09:19.918Z"
   },
   {
    "duration": 13,
    "start_time": "2022-12-22T11:09:20.382Z"
   },
   {
    "duration": 294,
    "start_time": "2022-12-22T11:09:21.013Z"
   },
   {
    "duration": 179,
    "start_time": "2022-12-22T11:09:21.351Z"
   },
   {
    "duration": 55,
    "start_time": "2022-12-22T11:09:21.686Z"
   },
   {
    "duration": 3,
    "start_time": "2022-12-22T11:09:23.306Z"
   },
   {
    "duration": 3,
    "start_time": "2022-12-22T11:09:23.700Z"
   },
   {
    "duration": 3,
    "start_time": "2022-12-22T11:09:24.123Z"
   },
   {
    "duration": 4,
    "start_time": "2022-12-22T11:09:24.515Z"
   },
   {
    "duration": 4,
    "start_time": "2022-12-22T11:09:25.026Z"
   },
   {
    "duration": 833064,
    "start_time": "2022-12-22T11:09:25.702Z"
   },
   {
    "duration": 4,
    "start_time": "2022-12-22T11:23:18.768Z"
   },
   {
    "duration": 7,
    "start_time": "2022-12-22T11:23:18.774Z"
   },
   {
    "duration": 12,
    "start_time": "2022-12-22T11:23:18.783Z"
   },
   {
    "duration": 855,
    "start_time": "2022-12-22T11:23:18.797Z"
   },
   {
    "duration": 6,
    "start_time": "2022-12-22T11:23:19.654Z"
   },
   {
    "duration": 6,
    "start_time": "2022-12-22T11:23:19.661Z"
   },
   {
    "duration": 4,
    "start_time": "2022-12-22T11:23:19.669Z"
   },
   {
    "duration": 94,
    "start_time": "2022-12-22T16:33:37.670Z"
   },
   {
    "duration": 1429,
    "start_time": "2022-12-22T16:34:39.973Z"
   },
   {
    "duration": 215,
    "start_time": "2022-12-22T16:35:04.563Z"
   },
   {
    "duration": 71,
    "start_time": "2022-12-22T16:35:40.064Z"
   },
   {
    "duration": 4,
    "start_time": "2022-12-22T16:35:47.035Z"
   },
   {
    "duration": 826,
    "start_time": "2022-12-22T16:35:47.451Z"
   },
   {
    "duration": 142,
    "start_time": "2022-12-22T16:35:48.279Z"
   },
   {
    "duration": 17,
    "start_time": "2022-12-22T16:35:48.423Z"
   },
   {
    "duration": 90,
    "start_time": "2022-12-22T16:35:48.526Z"
   },
   {
    "duration": 853,
    "start_time": "2022-12-22T16:35:48.731Z"
   },
   {
    "duration": 204,
    "start_time": "2022-12-22T16:35:49.586Z"
   },
   {
    "duration": 138,
    "start_time": "2022-12-22T16:35:49.792Z"
   },
   {
    "duration": 892,
    "start_time": "2022-12-22T16:35:49.932Z"
   },
   {
    "duration": 595,
    "start_time": "2022-12-22T16:35:50.826Z"
   },
   {
    "duration": 108,
    "start_time": "2022-12-22T16:35:51.422Z"
   },
   {
    "duration": 8,
    "start_time": "2022-12-22T16:35:51.531Z"
   },
   {
    "duration": 366,
    "start_time": "2022-12-22T16:35:51.541Z"
   },
   {
    "duration": 340,
    "start_time": "2022-12-22T16:35:51.915Z"
   },
   {
    "duration": 12,
    "start_time": "2022-12-22T16:35:52.257Z"
   },
   {
    "duration": 97,
    "start_time": "2022-12-22T16:35:52.443Z"
   },
   {
    "duration": 245,
    "start_time": "2022-12-22T16:35:53.066Z"
   },
   {
    "duration": 12,
    "start_time": "2022-12-22T16:35:53.355Z"
   },
   {
    "duration": 50,
    "start_time": "2022-12-22T16:35:53.596Z"
   },
   {
    "duration": 289,
    "start_time": "2022-12-22T16:35:53.819Z"
   },
   {
    "duration": 263,
    "start_time": "2022-12-22T16:35:54.251Z"
   },
   {
    "duration": 19,
    "start_time": "2022-12-22T16:35:54.516Z"
   },
   {
    "duration": 251,
    "start_time": "2022-12-22T16:35:55.124Z"
   },
   {
    "duration": 402,
    "start_time": "2022-12-22T16:35:55.559Z"
   },
   {
    "duration": 75,
    "start_time": "2022-12-22T16:35:56.216Z"
   },
   {
    "duration": 25,
    "start_time": "2022-12-22T16:35:57.120Z"
   },
   {
    "duration": 14,
    "start_time": "2022-12-22T16:35:57.519Z"
   },
   {
    "duration": 74,
    "start_time": "2022-12-22T16:35:57.920Z"
   },
   {
    "duration": 19,
    "start_time": "2022-12-22T16:35:58.291Z"
   },
   {
    "duration": 59,
    "start_time": "2022-12-22T16:35:58.747Z"
   },
   {
    "duration": 13,
    "start_time": "2022-12-22T16:35:59.155Z"
   },
   {
    "duration": 3,
    "start_time": "2022-12-22T16:35:59.651Z"
   },
   {
    "duration": 2215,
    "start_time": "2022-12-22T16:36:00.060Z"
   },
   {
    "duration": 14,
    "start_time": "2022-12-22T16:36:02.278Z"
   },
   {
    "duration": 34,
    "start_time": "2022-12-22T16:36:02.293Z"
   },
   {
    "duration": 24,
    "start_time": "2022-12-22T16:36:02.328Z"
   },
   {
    "duration": 13,
    "start_time": "2022-12-22T16:36:02.656Z"
   },
   {
    "duration": 66,
    "start_time": "2022-12-22T16:36:03.520Z"
   },
   {
    "duration": 13,
    "start_time": "2022-12-22T16:36:03.824Z"
   },
   {
    "duration": 2567,
    "start_time": "2022-12-22T16:36:04.436Z"
   },
   {
    "duration": 23,
    "start_time": "2022-12-22T16:36:07.005Z"
   },
   {
    "duration": 28,
    "start_time": "2022-12-22T16:36:07.029Z"
   },
   {
    "duration": 130,
    "start_time": "2022-12-22T16:36:07.059Z"
   },
   {
    "duration": 11,
    "start_time": "2022-12-22T16:36:08.795Z"
   },
   {
    "duration": 14,
    "start_time": "2022-12-22T16:36:09.899Z"
   },
   {
    "duration": 17,
    "start_time": "2022-12-22T16:36:10.698Z"
   },
   {
    "duration": 33,
    "start_time": "2022-12-22T16:36:12.063Z"
   },
   {
    "duration": 16,
    "start_time": "2022-12-22T16:36:12.711Z"
   },
   {
    "duration": 29,
    "start_time": "2022-12-22T16:36:14.064Z"
   },
   {
    "duration": 21,
    "start_time": "2022-12-22T16:36:14.675Z"
   },
   {
    "duration": 11,
    "start_time": "2022-12-22T16:36:14.964Z"
   },
   {
    "duration": 43,
    "start_time": "2022-12-22T16:36:15.236Z"
   },
   {
    "duration": 298,
    "start_time": "2022-12-22T16:36:18.764Z"
   },
   {
    "duration": 14,
    "start_time": "2022-12-22T16:36:20.808Z"
   },
   {
    "duration": 120,
    "start_time": "2022-12-22T16:38:50.903Z"
   },
   {
    "duration": 178,
    "start_time": "2022-12-22T16:38:51.635Z"
   },
   {
    "duration": 57,
    "start_time": "2022-12-22T16:38:52.307Z"
   },
   {
    "duration": 4,
    "start_time": "2022-12-22T16:38:53.898Z"
   },
   {
    "duration": 3,
    "start_time": "2022-12-22T16:38:54.463Z"
   },
   {
    "duration": 1534,
    "start_time": "2022-12-22T16:41:18.500Z"
   },
   {
    "duration": 805,
    "start_time": "2022-12-22T16:41:20.036Z"
   },
   {
    "duration": 142,
    "start_time": "2022-12-22T16:41:20.843Z"
   },
   {
    "duration": 17,
    "start_time": "2022-12-22T16:41:20.987Z"
   },
   {
    "duration": 110,
    "start_time": "2022-12-22T16:41:21.006Z"
   },
   {
    "duration": 793,
    "start_time": "2022-12-22T16:41:21.118Z"
   },
   {
    "duration": 209,
    "start_time": "2022-12-22T16:41:21.916Z"
   },
   {
    "duration": 135,
    "start_time": "2022-12-22T16:41:22.127Z"
   },
   {
    "duration": 858,
    "start_time": "2022-12-22T16:41:22.264Z"
   },
   {
    "duration": 580,
    "start_time": "2022-12-22T16:41:23.125Z"
   },
   {
    "duration": 114,
    "start_time": "2022-12-22T16:41:23.706Z"
   },
   {
    "duration": 9,
    "start_time": "2022-12-22T16:41:23.822Z"
   },
   {
    "duration": 376,
    "start_time": "2022-12-22T16:41:23.832Z"
   },
   {
    "duration": 297,
    "start_time": "2022-12-22T16:41:24.210Z"
   },
   {
    "duration": 17,
    "start_time": "2022-12-22T16:41:24.508Z"
   },
   {
    "duration": 98,
    "start_time": "2022-12-22T16:41:24.527Z"
   },
   {
    "duration": 238,
    "start_time": "2022-12-22T16:41:24.627Z"
   },
   {
    "duration": 11,
    "start_time": "2022-12-22T16:41:24.867Z"
   },
   {
    "duration": 57,
    "start_time": "2022-12-22T16:41:24.879Z"
   },
   {
    "duration": 287,
    "start_time": "2022-12-22T16:41:24.938Z"
   },
   {
    "duration": 277,
    "start_time": "2022-12-22T16:41:25.226Z"
   },
   {
    "duration": 23,
    "start_time": "2022-12-22T16:41:25.506Z"
   },
   {
    "duration": 261,
    "start_time": "2022-12-22T16:41:25.531Z"
   },
   {
    "duration": 371,
    "start_time": "2022-12-22T16:41:26.987Z"
   },
   {
    "duration": 84,
    "start_time": "2022-12-22T16:41:27.360Z"
   },
   {
    "duration": 24,
    "start_time": "2022-12-22T16:41:27.446Z"
   },
   {
    "duration": 13,
    "start_time": "2022-12-22T16:41:28.381Z"
   },
   {
    "duration": 69,
    "start_time": "2022-12-22T16:41:29.025Z"
   },
   {
    "duration": 20,
    "start_time": "2022-12-22T16:41:30.472Z"
   },
   {
    "duration": 58,
    "start_time": "2022-12-22T16:41:31.484Z"
   },
   {
    "duration": 12,
    "start_time": "2022-12-22T16:41:32.022Z"
   },
   {
    "duration": 3,
    "start_time": "2022-12-22T16:41:32.765Z"
   },
   {
    "duration": 2155,
    "start_time": "2022-12-22T16:41:33.640Z"
   },
   {
    "duration": 17,
    "start_time": "2022-12-22T16:41:35.798Z"
   },
   {
    "duration": 27,
    "start_time": "2022-12-22T16:41:35.817Z"
   },
   {
    "duration": 38,
    "start_time": "2022-12-22T16:41:35.846Z"
   },
   {
    "duration": 19,
    "start_time": "2022-12-22T16:41:35.885Z"
   },
   {
    "duration": 67,
    "start_time": "2022-12-22T16:41:36.813Z"
   },
   {
    "duration": 15,
    "start_time": "2022-12-22T16:41:37.565Z"
   },
   {
    "duration": 2498,
    "start_time": "2022-12-22T16:41:38.085Z"
   },
   {
    "duration": 12,
    "start_time": "2022-12-22T16:41:40.585Z"
   },
   {
    "duration": 34,
    "start_time": "2022-12-22T16:41:40.599Z"
   },
   {
    "duration": 120,
    "start_time": "2022-12-22T16:41:41.453Z"
   },
   {
    "duration": 11,
    "start_time": "2022-12-22T16:41:43.157Z"
   },
   {
    "duration": 15,
    "start_time": "2022-12-22T16:41:45.685Z"
   },
   {
    "duration": 19,
    "start_time": "2022-12-22T16:41:47.621Z"
   },
   {
    "duration": 25,
    "start_time": "2022-12-22T16:41:49.064Z"
   },
   {
    "duration": 16,
    "start_time": "2022-12-22T16:41:50.806Z"
   },
   {
    "duration": 24,
    "start_time": "2022-12-22T16:41:51.581Z"
   },
   {
    "duration": 22,
    "start_time": "2022-12-22T16:41:52.342Z"
   },
   {
    "duration": 11,
    "start_time": "2022-12-22T16:41:52.553Z"
   },
   {
    "duration": 40,
    "start_time": "2022-12-22T16:41:52.780Z"
   },
   {
    "duration": 318,
    "start_time": "2022-12-22T16:41:54.673Z"
   },
   {
    "duration": 15,
    "start_time": "2022-12-22T16:41:55.117Z"
   },
   {
    "duration": 121,
    "start_time": "2022-12-22T16:41:56.509Z"
   },
   {
    "duration": 183,
    "start_time": "2022-12-22T16:41:57.189Z"
   },
   {
    "duration": 58,
    "start_time": "2022-12-22T16:41:57.445Z"
   },
   {
    "duration": 3,
    "start_time": "2022-12-22T16:41:57.977Z"
   },
   {
    "duration": 3,
    "start_time": "2022-12-22T16:41:58.369Z"
   },
   {
    "duration": 144917,
    "start_time": "2022-12-22T16:42:02.502Z"
   },
   {
    "duration": 109,
    "start_time": "2022-12-22T16:45:56.258Z"
   },
   {
    "duration": 72,
    "start_time": "2022-12-22T16:49:19.939Z"
   },
   {
    "duration": 99,
    "start_time": "2022-12-22T16:50:11.290Z"
   },
   {
    "duration": 52,
    "start_time": "2022-12-22T16:52:04.580Z"
   },
   {
    "duration": 54,
    "start_time": "2022-12-22T16:52:10.943Z"
   },
   {
    "duration": 72,
    "start_time": "2022-12-22T16:53:06.772Z"
   },
   {
    "duration": 4,
    "start_time": "2022-12-22T16:56:51.126Z"
   },
   {
    "duration": 158754,
    "start_time": "2022-12-22T16:57:08.878Z"
   },
   {
    "duration": 4,
    "start_time": "2022-12-22T17:00:27.873Z"
   },
   {
    "duration": 12,
    "start_time": "2022-12-22T17:00:53.382Z"
   },
   {
    "duration": 3,
    "start_time": "2022-12-22T17:01:48.331Z"
   },
   {
    "duration": 2,
    "start_time": "2022-12-22T17:02:13.929Z"
   },
   {
    "duration": 214210,
    "start_time": "2022-12-22T17:03:59.119Z"
   },
   {
    "duration": 4,
    "start_time": "2022-12-22T17:07:33.331Z"
   },
   {
    "duration": 3,
    "start_time": "2022-12-22T17:07:57.859Z"
   },
   {
    "duration": 5,
    "start_time": "2022-12-22T17:08:16.411Z"
   },
   {
    "duration": 4842,
    "start_time": "2022-12-22T17:08:18.904Z"
   },
   {
    "duration": 4,
    "start_time": "2022-12-22T17:08:24.736Z"
   },
   {
    "duration": 2,
    "start_time": "2022-12-22T17:18:41.543Z"
   },
   {
    "duration": 7,
    "start_time": "2022-12-22T17:18:42.361Z"
   },
   {
    "duration": 8,
    "start_time": "2022-12-22T17:18:43.440Z"
   },
   {
    "duration": 12,
    "start_time": "2022-12-22T17:18:53.469Z"
   },
   {
    "duration": 3,
    "start_time": "2022-12-22T17:19:01.563Z"
   },
   {
    "duration": 4,
    "start_time": "2022-12-22T17:19:02.329Z"
   },
   {
    "duration": 7115,
    "start_time": "2022-12-22T17:26:53.275Z"
   },
   {
    "duration": 75,
    "start_time": "2022-12-22T17:27:02.007Z"
   },
   {
    "duration": 13556,
    "start_time": "2022-12-22T17:27:03.815Z"
   },
   {
    "duration": 45,
    "start_time": "2022-12-22T17:27:17.424Z"
   },
   {
    "duration": 56,
    "start_time": "2022-12-22T17:27:19.686Z"
   },
   {
    "duration": 4,
    "start_time": "2022-12-22T17:27:31.511Z"
   },
   {
    "duration": 52,
    "start_time": "2022-12-22T17:27:39.915Z"
   },
   {
    "duration": 1375,
    "start_time": "2022-12-22T17:28:20.852Z"
   },
   {
    "duration": 799,
    "start_time": "2022-12-22T17:28:22.229Z"
   },
   {
    "duration": 125,
    "start_time": "2022-12-22T17:28:23.030Z"
   },
   {
    "duration": 17,
    "start_time": "2022-12-22T17:28:23.482Z"
   },
   {
    "duration": 91,
    "start_time": "2022-12-22T17:28:23.748Z"
   },
   {
    "duration": 812,
    "start_time": "2022-12-22T17:28:23.940Z"
   },
   {
    "duration": 203,
    "start_time": "2022-12-22T17:28:24.753Z"
   },
   {
    "duration": 140,
    "start_time": "2022-12-22T17:28:24.958Z"
   },
   {
    "duration": 887,
    "start_time": "2022-12-22T17:28:25.101Z"
   },
   {
    "duration": 621,
    "start_time": "2022-12-22T17:28:25.990Z"
   },
   {
    "duration": 103,
    "start_time": "2022-12-22T17:28:26.613Z"
   },
   {
    "duration": 8,
    "start_time": "2022-12-22T17:28:26.717Z"
   },
   {
    "duration": 352,
    "start_time": "2022-12-22T17:28:26.728Z"
   },
   {
    "duration": 319,
    "start_time": "2022-12-22T17:28:27.082Z"
   },
   {
    "duration": 18,
    "start_time": "2022-12-22T17:28:27.403Z"
   },
   {
    "duration": 91,
    "start_time": "2022-12-22T17:28:27.785Z"
   },
   {
    "duration": 231,
    "start_time": "2022-12-22T17:28:28.748Z"
   },
   {
    "duration": 13,
    "start_time": "2022-12-22T17:28:29.148Z"
   },
   {
    "duration": 47,
    "start_time": "2022-12-22T17:28:29.612Z"
   },
   {
    "duration": 273,
    "start_time": "2022-12-22T17:28:30.101Z"
   },
   {
    "duration": 280,
    "start_time": "2022-12-22T17:28:31.213Z"
   },
   {
    "duration": 20,
    "start_time": "2022-12-22T17:28:31.848Z"
   },
   {
    "duration": 260,
    "start_time": "2022-12-22T17:28:32.345Z"
   },
   {
    "duration": 347,
    "start_time": "2022-12-22T17:28:32.904Z"
   },
   {
    "duration": 82,
    "start_time": "2022-12-22T17:28:33.416Z"
   },
   {
    "duration": 24,
    "start_time": "2022-12-22T17:28:34.500Z"
   },
   {
    "duration": 12,
    "start_time": "2022-12-22T17:28:34.893Z"
   },
   {
    "duration": 71,
    "start_time": "2022-12-22T17:28:35.316Z"
   },
   {
    "duration": 20,
    "start_time": "2022-12-22T17:28:35.876Z"
   },
   {
    "duration": 76,
    "start_time": "2022-12-22T17:28:36.349Z"
   },
   {
    "duration": 12,
    "start_time": "2022-12-22T17:28:36.924Z"
   },
   {
    "duration": 4,
    "start_time": "2022-12-22T17:28:37.466Z"
   },
   {
    "duration": 2143,
    "start_time": "2022-12-22T17:28:38.272Z"
   },
   {
    "duration": 13,
    "start_time": "2022-12-22T17:28:40.417Z"
   },
   {
    "duration": 25,
    "start_time": "2022-12-22T17:28:40.432Z"
   },
   {
    "duration": 24,
    "start_time": "2022-12-22T17:28:40.459Z"
   },
   {
    "duration": 33,
    "start_time": "2022-12-22T17:28:40.484Z"
   },
   {
    "duration": 63,
    "start_time": "2022-12-22T17:28:40.518Z"
   },
   {
    "duration": 13,
    "start_time": "2022-12-22T17:28:40.708Z"
   },
   {
    "duration": 2460,
    "start_time": "2022-12-22T17:28:41.277Z"
   },
   {
    "duration": 13,
    "start_time": "2022-12-22T17:28:43.738Z"
   },
   {
    "duration": 26,
    "start_time": "2022-12-22T17:28:43.753Z"
   },
   {
    "duration": 120,
    "start_time": "2022-12-22T17:28:43.781Z"
   },
   {
    "duration": 17,
    "start_time": "2022-12-22T17:28:43.902Z"
   },
   {
    "duration": 17,
    "start_time": "2022-12-22T17:28:44.009Z"
   },
   {
    "duration": 16,
    "start_time": "2022-12-22T17:28:45.184Z"
   },
   {
    "duration": 29,
    "start_time": "2022-12-22T17:28:46.513Z"
   },
   {
    "duration": 14,
    "start_time": "2022-12-22T17:28:47.061Z"
   },
   {
    "duration": 24,
    "start_time": "2022-12-22T17:28:48.196Z"
   },
   {
    "duration": 15,
    "start_time": "2022-12-22T17:28:49.601Z"
   },
   {
    "duration": 11,
    "start_time": "2022-12-22T17:28:49.857Z"
   },
   {
    "duration": 39,
    "start_time": "2022-12-22T17:28:50.762Z"
   },
   {
    "duration": 330,
    "start_time": "2022-12-22T17:28:53.140Z"
   },
   {
    "duration": 20,
    "start_time": "2022-12-22T17:28:53.545Z"
   },
   {
    "duration": 131,
    "start_time": "2022-12-22T17:28:57.616Z"
   },
   {
    "duration": 178,
    "start_time": "2022-12-22T17:28:58.545Z"
   },
   {
    "duration": 55,
    "start_time": "2022-12-22T17:29:01.689Z"
   },
   {
    "duration": 2,
    "start_time": "2022-12-22T17:29:02.866Z"
   },
   {
    "duration": 2,
    "start_time": "2022-12-22T17:29:03.798Z"
   },
   {
    "duration": 164,
    "start_time": "2022-12-22T17:29:13.778Z"
   },
   {
    "duration": 64,
    "start_time": "2022-12-22T17:29:18.867Z"
   },
   {
    "duration": 51,
    "start_time": "2022-12-22T17:29:30.086Z"
   },
   {
    "duration": 11,
    "start_time": "2022-12-22T17:30:14.751Z"
   },
   {
    "duration": 12,
    "start_time": "2022-12-22T17:30:32.100Z"
   },
   {
    "duration": 12,
    "start_time": "2022-12-22T17:30:48.468Z"
   },
   {
    "duration": 6,
    "start_time": "2022-12-22T17:30:52.072Z"
   },
   {
    "duration": 155473,
    "start_time": "2022-12-22T17:31:05.852Z"
   },
   {
    "duration": 136903,
    "start_time": "2022-12-22T17:33:41.327Z"
   },
   {
    "duration": 4,
    "start_time": "2022-12-22T17:35:58.232Z"
   },
   {
    "duration": 13,
    "start_time": "2022-12-22T17:35:58.238Z"
   },
   {
    "duration": 7,
    "start_time": "2022-12-22T17:35:58.253Z"
   },
   {
    "duration": 4784,
    "start_time": "2022-12-22T17:35:58.262Z"
   },
   {
    "duration": 5,
    "start_time": "2022-12-22T17:36:03.048Z"
   },
   {
    "duration": 3,
    "start_time": "2022-12-22T17:38:19.985Z"
   },
   {
    "duration": 4,
    "start_time": "2022-12-22T17:38:20.672Z"
   },
   {
    "duration": 3,
    "start_time": "2022-12-22T17:38:21.380Z"
   },
   {
    "duration": 378388,
    "start_time": "2022-12-22T17:38:22.407Z"
   },
   {
    "duration": 1413,
    "start_time": "2022-12-22T17:44:48.041Z"
   },
   {
    "duration": 816,
    "start_time": "2022-12-22T17:44:49.456Z"
   },
   {
    "duration": 137,
    "start_time": "2022-12-22T17:44:50.273Z"
   },
   {
    "duration": 19,
    "start_time": "2022-12-22T17:44:50.412Z"
   },
   {
    "duration": 108,
    "start_time": "2022-12-22T17:44:50.432Z"
   },
   {
    "duration": 825,
    "start_time": "2022-12-22T17:44:50.542Z"
   },
   {
    "duration": 208,
    "start_time": "2022-12-22T17:44:51.369Z"
   },
   {
    "duration": 143,
    "start_time": "2022-12-22T17:44:51.579Z"
   },
   {
    "duration": 894,
    "start_time": "2022-12-22T17:44:51.723Z"
   },
   {
    "duration": 590,
    "start_time": "2022-12-22T17:44:52.620Z"
   },
   {
    "duration": 108,
    "start_time": "2022-12-22T17:44:53.211Z"
   },
   {
    "duration": 10,
    "start_time": "2022-12-22T17:44:53.320Z"
   },
   {
    "duration": 397,
    "start_time": "2022-12-22T17:44:53.332Z"
   },
   {
    "duration": 324,
    "start_time": "2022-12-22T17:44:53.731Z"
   },
   {
    "duration": 13,
    "start_time": "2022-12-22T17:44:54.060Z"
   },
   {
    "duration": 102,
    "start_time": "2022-12-22T17:44:54.075Z"
   },
   {
    "duration": 249,
    "start_time": "2022-12-22T17:44:54.179Z"
   },
   {
    "duration": 11,
    "start_time": "2022-12-22T17:44:54.430Z"
   },
   {
    "duration": 55,
    "start_time": "2022-12-22T17:44:54.443Z"
   },
   {
    "duration": 305,
    "start_time": "2022-12-22T17:44:54.499Z"
   },
   {
    "duration": 282,
    "start_time": "2022-12-22T17:44:54.806Z"
   },
   {
    "duration": 30,
    "start_time": "2022-12-22T17:44:55.089Z"
   },
   {
    "duration": 263,
    "start_time": "2022-12-22T17:44:55.121Z"
   },
   {
    "duration": 378,
    "start_time": "2022-12-22T17:44:55.387Z"
   },
   {
    "duration": 84,
    "start_time": "2022-12-22T17:44:55.767Z"
   },
   {
    "duration": 22,
    "start_time": "2022-12-22T17:44:55.853Z"
   },
   {
    "duration": 16,
    "start_time": "2022-12-22T17:44:55.876Z"
   },
   {
    "duration": 82,
    "start_time": "2022-12-22T17:44:55.894Z"
   },
   {
    "duration": 18,
    "start_time": "2022-12-22T17:44:55.978Z"
   },
   {
    "duration": 72,
    "start_time": "2022-12-22T17:44:55.997Z"
   },
   {
    "duration": 12,
    "start_time": "2022-12-22T17:44:56.071Z"
   },
   {
    "duration": 4,
    "start_time": "2022-12-22T17:44:56.085Z"
   },
   {
    "duration": 2337,
    "start_time": "2022-12-22T17:44:56.091Z"
   },
   {
    "duration": 14,
    "start_time": "2022-12-22T17:44:58.429Z"
   },
   {
    "duration": 30,
    "start_time": "2022-12-22T17:44:58.444Z"
   },
   {
    "duration": 27,
    "start_time": "2022-12-22T17:44:58.476Z"
   },
   {
    "duration": 15,
    "start_time": "2022-12-22T17:44:58.516Z"
   },
   {
    "duration": 70,
    "start_time": "2022-12-22T17:44:58.533Z"
   },
   {
    "duration": 22,
    "start_time": "2022-12-22T17:44:58.605Z"
   },
   {
    "duration": 2578,
    "start_time": "2022-12-22T17:44:58.629Z"
   },
   {
    "duration": 18,
    "start_time": "2022-12-22T17:45:01.209Z"
   },
   {
    "duration": 45,
    "start_time": "2022-12-22T17:45:01.228Z"
   },
   {
    "duration": 140,
    "start_time": "2022-12-22T17:45:01.274Z"
   },
   {
    "duration": 10,
    "start_time": "2022-12-22T17:45:01.416Z"
   },
   {
    "duration": 35,
    "start_time": "2022-12-22T17:45:01.428Z"
   },
   {
    "duration": 33,
    "start_time": "2022-12-22T17:45:01.465Z"
   },
   {
    "duration": 24,
    "start_time": "2022-12-22T17:45:02.347Z"
   },
   {
    "duration": 18,
    "start_time": "2022-12-22T17:45:03.470Z"
   },
   {
    "duration": 29,
    "start_time": "2022-12-22T17:45:04.031Z"
   },
   {
    "duration": 16,
    "start_time": "2022-12-22T17:45:05.534Z"
   },
   {
    "duration": 10,
    "start_time": "2022-12-22T17:45:06.090Z"
   },
   {
    "duration": 52,
    "start_time": "2022-12-22T17:45:06.362Z"
   },
   {
    "duration": 301,
    "start_time": "2022-12-22T17:45:10.555Z"
   },
   {
    "duration": 13,
    "start_time": "2022-12-22T17:45:11.243Z"
   },
   {
    "duration": 123,
    "start_time": "2022-12-22T17:45:13.022Z"
   },
   {
    "duration": 182,
    "start_time": "2022-12-22T17:45:13.863Z"
   },
   {
    "duration": 58,
    "start_time": "2022-12-22T17:45:14.208Z"
   },
   {
    "duration": 3,
    "start_time": "2022-12-22T17:45:15.139Z"
   },
   {
    "duration": 2,
    "start_time": "2022-12-22T17:45:15.771Z"
   },
   {
    "duration": 3,
    "start_time": "2022-12-22T17:45:18.335Z"
   },
   {
    "duration": 157359,
    "start_time": "2022-12-22T17:45:26.666Z"
   },
   {
    "duration": 144500,
    "start_time": "2022-12-22T17:48:04.027Z"
   },
   {
    "duration": 5,
    "start_time": "2022-12-22T17:50:28.528Z"
   },
   {
    "duration": 6,
    "start_time": "2022-12-22T17:50:28.535Z"
   },
   {
    "duration": 6,
    "start_time": "2022-12-22T17:50:28.542Z"
   },
   {
    "duration": 4697,
    "start_time": "2022-12-22T17:50:28.549Z"
   },
   {
    "duration": 5,
    "start_time": "2022-12-22T17:50:33.247Z"
   },
   {
    "duration": 4,
    "start_time": "2022-12-22T17:50:40.069Z"
   },
   {
    "duration": 3,
    "start_time": "2022-12-22T17:50:40.806Z"
   },
   {
    "duration": 3,
    "start_time": "2022-12-22T17:50:41.630Z"
   },
   {
    "duration": 4709,
    "start_time": "2022-12-22T17:50:42.222Z"
   },
   {
    "duration": 4,
    "start_time": "2022-12-22T17:50:46.933Z"
   },
   {
    "duration": 3,
    "start_time": "2022-12-22T17:50:52.986Z"
   },
   {
    "duration": 3,
    "start_time": "2022-12-22T17:50:54.453Z"
   },
   {
    "duration": 4,
    "start_time": "2022-12-22T17:50:54.997Z"
   },
   {
    "duration": 461884,
    "start_time": "2022-12-22T17:50:55.809Z"
   },
   {
    "duration": 3,
    "start_time": "2022-12-22T18:05:02.910Z"
   },
   {
    "duration": 4,
    "start_time": "2022-12-22T18:05:04.751Z"
   },
   {
    "duration": 61,
    "start_time": "2022-12-22T18:05:06.035Z"
   },
   {
    "duration": 2,
    "start_time": "2022-12-22T18:05:24.854Z"
   },
   {
    "duration": 3,
    "start_time": "2022-12-22T18:05:25.357Z"
   },
   {
    "duration": 51,
    "start_time": "2022-12-22T18:05:25.913Z"
   },
   {
    "duration": 3,
    "start_time": "2022-12-22T18:05:42.452Z"
   },
   {
    "duration": 3,
    "start_time": "2022-12-22T18:05:42.862Z"
   },
   {
    "duration": 46,
    "start_time": "2022-12-22T18:05:43.268Z"
   },
   {
    "duration": 4,
    "start_time": "2022-12-22T18:06:24.275Z"
   },
   {
    "duration": 4,
    "start_time": "2022-12-22T18:06:26.510Z"
   },
   {
    "duration": 3,
    "start_time": "2022-12-22T18:06:34.130Z"
   },
   {
    "duration": 4,
    "start_time": "2022-12-22T18:06:34.635Z"
   },
   {
    "duration": 45,
    "start_time": "2022-12-22T18:06:35.146Z"
   },
   {
    "duration": 3,
    "start_time": "2022-12-22T18:07:52.939Z"
   },
   {
    "duration": 4,
    "start_time": "2022-12-22T18:07:53.364Z"
   },
   {
    "duration": 50,
    "start_time": "2022-12-22T18:07:53.767Z"
   },
   {
    "duration": 45,
    "start_time": "2022-12-22T18:09:27.429Z"
   },
   {
    "duration": 46,
    "start_time": "2022-12-22T18:09:35.057Z"
   },
   {
    "duration": 3,
    "start_time": "2022-12-22T18:09:39.882Z"
   },
   {
    "duration": 51,
    "start_time": "2022-12-22T18:09:40.361Z"
   },
   {
    "duration": 43,
    "start_time": "2022-12-22T18:09:49.458Z"
   },
   {
    "duration": 5,
    "start_time": "2022-12-22T18:11:19.187Z"
   },
   {
    "duration": 3,
    "start_time": "2022-12-22T18:11:26.154Z"
   },
   {
    "duration": 3,
    "start_time": "2022-12-22T18:11:26.568Z"
   },
   {
    "duration": 45,
    "start_time": "2022-12-22T18:11:27.232Z"
   },
   {
    "duration": 3,
    "start_time": "2022-12-22T18:12:11.332Z"
   },
   {
    "duration": 3,
    "start_time": "2022-12-22T18:12:11.928Z"
   },
   {
    "duration": 52,
    "start_time": "2022-12-22T18:12:12.361Z"
   },
   {
    "duration": 42,
    "start_time": "2022-12-22T18:14:42.232Z"
   },
   {
    "duration": 2,
    "start_time": "2022-12-22T18:14:56.228Z"
   },
   {
    "duration": 4,
    "start_time": "2022-12-22T18:14:56.675Z"
   },
   {
    "duration": 63,
    "start_time": "2022-12-22T18:14:57.368Z"
   },
   {
    "duration": 10,
    "start_time": "2022-12-22T18:15:23.813Z"
   },
   {
    "duration": 10,
    "start_time": "2022-12-22T18:15:51.730Z"
   },
   {
    "duration": 3,
    "start_time": "2022-12-22T18:15:58.698Z"
   },
   {
    "duration": 1516,
    "start_time": "2022-12-22T18:17:50.898Z"
   },
   {
    "duration": 824,
    "start_time": "2022-12-22T18:17:52.419Z"
   },
   {
    "duration": 138,
    "start_time": "2022-12-22T18:17:53.319Z"
   },
   {
    "duration": 19,
    "start_time": "2022-12-22T18:17:53.623Z"
   },
   {
    "duration": 96,
    "start_time": "2022-12-22T18:17:53.943Z"
   },
   {
    "duration": 884,
    "start_time": "2022-12-22T18:17:54.151Z"
   },
   {
    "duration": 207,
    "start_time": "2022-12-22T18:17:55.037Z"
   },
   {
    "duration": 132,
    "start_time": "2022-12-22T18:17:55.246Z"
   },
   {
    "duration": 884,
    "start_time": "2022-12-22T18:17:55.380Z"
   },
   {
    "duration": 689,
    "start_time": "2022-12-22T18:17:56.265Z"
   },
   {
    "duration": 120,
    "start_time": "2022-12-22T18:17:56.956Z"
   },
   {
    "duration": 12,
    "start_time": "2022-12-22T18:17:57.078Z"
   },
   {
    "duration": 402,
    "start_time": "2022-12-22T18:17:57.093Z"
   },
   {
    "duration": 349,
    "start_time": "2022-12-22T18:17:57.497Z"
   },
   {
    "duration": 13,
    "start_time": "2022-12-22T18:17:57.848Z"
   },
   {
    "duration": 115,
    "start_time": "2022-12-22T18:17:57.862Z"
   },
   {
    "duration": 274,
    "start_time": "2022-12-22T18:17:57.978Z"
   },
   {
    "duration": 13,
    "start_time": "2022-12-22T18:17:58.253Z"
   },
   {
    "duration": 72,
    "start_time": "2022-12-22T18:17:58.267Z"
   },
   {
    "duration": 337,
    "start_time": "2022-12-22T18:17:58.342Z"
   },
   {
    "duration": 316,
    "start_time": "2022-12-22T18:17:58.681Z"
   },
   {
    "duration": 30,
    "start_time": "2022-12-22T18:17:59.000Z"
   },
   {
    "duration": 275,
    "start_time": "2022-12-22T18:17:59.032Z"
   },
   {
    "duration": 453,
    "start_time": "2022-12-22T18:17:59.309Z"
   },
   {
    "duration": 102,
    "start_time": "2022-12-22T18:17:59.764Z"
   },
   {
    "duration": 30,
    "start_time": "2022-12-22T18:17:59.868Z"
   },
   {
    "duration": 25,
    "start_time": "2022-12-22T18:17:59.900Z"
   },
   {
    "duration": 95,
    "start_time": "2022-12-22T18:17:59.927Z"
   },
   {
    "duration": 33,
    "start_time": "2022-12-22T18:18:00.128Z"
   },
   {
    "duration": 79,
    "start_time": "2022-12-22T18:18:00.752Z"
   },
   {
    "duration": 14,
    "start_time": "2022-12-22T18:18:01.009Z"
   },
   {
    "duration": 4,
    "start_time": "2022-12-22T18:18:01.247Z"
   },
   {
    "duration": 2382,
    "start_time": "2022-12-22T18:18:01.520Z"
   },
   {
    "duration": 19,
    "start_time": "2022-12-22T18:18:03.903Z"
   },
   {
    "duration": 50,
    "start_time": "2022-12-22T18:18:03.924Z"
   },
   {
    "duration": 43,
    "start_time": "2022-12-22T18:18:03.979Z"
   },
   {
    "duration": 28,
    "start_time": "2022-12-22T18:18:04.024Z"
   },
   {
    "duration": 101,
    "start_time": "2022-12-22T18:18:04.053Z"
   },
   {
    "duration": 15,
    "start_time": "2022-12-22T18:18:04.156Z"
   },
   {
    "duration": 2863,
    "start_time": "2022-12-22T18:18:04.174Z"
   },
   {
    "duration": 15,
    "start_time": "2022-12-22T18:18:07.040Z"
   },
   {
    "duration": 44,
    "start_time": "2022-12-22T18:18:07.056Z"
   },
   {
    "duration": 170,
    "start_time": "2022-12-22T18:18:07.101Z"
   },
   {
    "duration": 11,
    "start_time": "2022-12-22T18:18:07.273Z"
   },
   {
    "duration": 20,
    "start_time": "2022-12-22T18:18:07.286Z"
   },
   {
    "duration": 32,
    "start_time": "2022-12-22T18:18:07.308Z"
   },
   {
    "duration": 37,
    "start_time": "2022-12-22T18:18:07.952Z"
   },
   {
    "duration": 21,
    "start_time": "2022-12-22T18:18:08.311Z"
   },
   {
    "duration": 43,
    "start_time": "2022-12-22T18:18:08.915Z"
   },
   {
    "duration": 23,
    "start_time": "2022-12-22T18:18:09.812Z"
   },
   {
    "duration": 12,
    "start_time": "2022-12-22T18:18:10.035Z"
   },
   {
    "duration": 40,
    "start_time": "2022-12-22T18:18:10.276Z"
   },
   {
    "duration": 409,
    "start_time": "2022-12-22T18:18:11.679Z"
   },
   {
    "duration": 30,
    "start_time": "2022-12-22T18:18:12.091Z"
   },
   {
    "duration": 130,
    "start_time": "2022-12-22T18:18:12.647Z"
   },
   {
    "duration": 181,
    "start_time": "2022-12-22T18:18:13.183Z"
   },
   {
    "duration": 59,
    "start_time": "2022-12-22T18:18:13.438Z"
   },
   {
    "duration": 3,
    "start_time": "2022-12-22T18:18:13.891Z"
   },
   {
    "duration": 2,
    "start_time": "2022-12-22T18:18:14.132Z"
   },
   {
    "duration": 3,
    "start_time": "2022-12-22T18:18:14.491Z"
   },
   {
    "duration": 4,
    "start_time": "2022-12-22T18:18:14.779Z"
   },
   {
    "duration": 4,
    "start_time": "2022-12-22T18:18:15.396Z"
   },
   {
    "duration": 193,
    "start_time": "2022-12-22T18:18:15.660Z"
   },
   {
    "duration": 13,
    "start_time": "2022-12-22T18:18:16.147Z"
   },
   {
    "duration": 3,
    "start_time": "2022-12-22T18:18:38.384Z"
   },
   {
    "duration": 2,
    "start_time": "2022-12-22T18:18:38.786Z"
   },
   {
    "duration": 3,
    "start_time": "2022-12-22T18:18:39.168Z"
   },
   {
    "duration": 4,
    "start_time": "2022-12-22T18:18:39.660Z"
   },
   {
    "duration": 6,
    "start_time": "2022-12-22T18:18:40.077Z"
   },
   {
    "duration": 87,
    "start_time": "2022-12-22T18:18:40.767Z"
   },
   {
    "duration": 8,
    "start_time": "2022-12-22T18:20:45.131Z"
   },
   {
    "duration": 5,
    "start_time": "2022-12-22T18:20:57.209Z"
   },
   {
    "duration": 13,
    "start_time": "2022-12-22T18:21:10.320Z"
   },
   {
    "duration": 5,
    "start_time": "2022-12-22T18:21:24.392Z"
   },
   {
    "duration": 4,
    "start_time": "2022-12-22T18:21:35.944Z"
   },
   {
    "duration": 4,
    "start_time": "2022-12-22T18:21:38.125Z"
   },
   {
    "duration": 3,
    "start_time": "2022-12-22T18:21:48.348Z"
   },
   {
    "duration": 4,
    "start_time": "2022-12-22T18:21:50.272Z"
   },
   {
    "duration": 3,
    "start_time": "2022-12-22T18:21:51.760Z"
   },
   {
    "duration": 11,
    "start_time": "2022-12-22T18:30:09.918Z"
   },
   {
    "duration": 41,
    "start_time": "2022-12-22T18:30:10.347Z"
   },
   {
    "duration": 1354,
    "start_time": "2022-12-22T18:30:23.775Z"
   },
   {
    "duration": 776,
    "start_time": "2022-12-22T18:30:25.131Z"
   },
   {
    "duration": 130,
    "start_time": "2022-12-22T18:30:25.908Z"
   },
   {
    "duration": 21,
    "start_time": "2022-12-22T18:30:26.040Z"
   },
   {
    "duration": 111,
    "start_time": "2022-12-22T18:30:26.063Z"
   },
   {
    "duration": 853,
    "start_time": "2022-12-22T18:30:26.175Z"
   },
   {
    "duration": 190,
    "start_time": "2022-12-22T18:30:27.030Z"
   },
   {
    "duration": 137,
    "start_time": "2022-12-22T18:30:27.222Z"
   },
   {
    "duration": 853,
    "start_time": "2022-12-22T18:30:27.360Z"
   },
   {
    "duration": 582,
    "start_time": "2022-12-22T18:30:28.216Z"
   },
   {
    "duration": 105,
    "start_time": "2022-12-22T18:30:28.799Z"
   },
   {
    "duration": 18,
    "start_time": "2022-12-22T18:30:28.905Z"
   },
   {
    "duration": 364,
    "start_time": "2022-12-22T18:30:28.925Z"
   },
   {
    "duration": 315,
    "start_time": "2022-12-22T18:30:29.290Z"
   },
   {
    "duration": 18,
    "start_time": "2022-12-22T18:30:29.607Z"
   },
   {
    "duration": 101,
    "start_time": "2022-12-22T18:30:29.627Z"
   },
   {
    "duration": 255,
    "start_time": "2022-12-22T18:30:29.729Z"
   },
   {
    "duration": 11,
    "start_time": "2022-12-22T18:30:29.985Z"
   },
   {
    "duration": 80,
    "start_time": "2022-12-22T18:30:29.997Z"
   },
   {
    "duration": 288,
    "start_time": "2022-12-22T18:30:30.078Z"
   },
   {
    "duration": 265,
    "start_time": "2022-12-22T18:30:30.368Z"
   },
   {
    "duration": 20,
    "start_time": "2022-12-22T18:30:30.636Z"
   },
   {
    "duration": 278,
    "start_time": "2022-12-22T18:30:30.657Z"
   },
   {
    "duration": 400,
    "start_time": "2022-12-22T18:30:30.937Z"
   },
   {
    "duration": 88,
    "start_time": "2022-12-22T18:30:31.338Z"
   },
   {
    "duration": 22,
    "start_time": "2022-12-22T18:30:31.428Z"
   },
   {
    "duration": 16,
    "start_time": "2022-12-22T18:30:31.451Z"
   },
   {
    "duration": 78,
    "start_time": "2022-12-22T18:30:31.468Z"
   },
   {
    "duration": 18,
    "start_time": "2022-12-22T18:30:31.548Z"
   },
   {
    "duration": 70,
    "start_time": "2022-12-22T18:30:31.568Z"
   },
   {
    "duration": 12,
    "start_time": "2022-12-22T18:30:31.639Z"
   },
   {
    "duration": 10,
    "start_time": "2022-12-22T18:30:31.653Z"
   },
   {
    "duration": 2156,
    "start_time": "2022-12-22T18:30:31.664Z"
   },
   {
    "duration": 12,
    "start_time": "2022-12-22T18:30:33.823Z"
   },
   {
    "duration": 25,
    "start_time": "2022-12-22T18:30:33.836Z"
   },
   {
    "duration": 25,
    "start_time": "2022-12-22T18:30:33.862Z"
   },
   {
    "duration": 31,
    "start_time": "2022-12-22T18:30:33.889Z"
   },
   {
    "duration": 73,
    "start_time": "2022-12-22T18:30:33.922Z"
   },
   {
    "duration": 20,
    "start_time": "2022-12-22T18:30:33.997Z"
   },
   {
    "duration": 2522,
    "start_time": "2022-12-22T18:30:34.386Z"
   },
   {
    "duration": 13,
    "start_time": "2022-12-22T18:30:36.915Z"
   },
   {
    "duration": 28,
    "start_time": "2022-12-22T18:30:36.929Z"
   },
   {
    "duration": 126,
    "start_time": "2022-12-22T18:30:36.959Z"
   },
   {
    "duration": 11,
    "start_time": "2022-12-22T18:30:37.086Z"
   },
   {
    "duration": 27,
    "start_time": "2022-12-22T18:30:37.099Z"
   },
   {
    "duration": 18,
    "start_time": "2022-12-22T18:30:37.167Z"
   },
   {
    "duration": 24,
    "start_time": "2022-12-22T18:30:37.810Z"
   },
   {
    "duration": 16,
    "start_time": "2022-12-22T18:30:37.995Z"
   },
   {
    "duration": 27,
    "start_time": "2022-12-22T18:30:38.731Z"
   },
   {
    "duration": 16,
    "start_time": "2022-12-22T18:30:39.755Z"
   },
   {
    "duration": 11,
    "start_time": "2022-12-22T18:30:40.011Z"
   },
   {
    "duration": 40,
    "start_time": "2022-12-22T18:30:40.267Z"
   },
   {
    "duration": 328,
    "start_time": "2022-12-22T18:30:41.775Z"
   },
   {
    "duration": 19,
    "start_time": "2022-12-22T18:30:42.105Z"
   },
   {
    "duration": 126,
    "start_time": "2022-12-22T18:30:43.186Z"
   },
   {
    "duration": 180,
    "start_time": "2022-12-22T18:30:44.715Z"
   },
   {
    "duration": 56,
    "start_time": "2022-12-22T18:30:45.119Z"
   },
   {
    "duration": 2,
    "start_time": "2022-12-22T18:30:46.063Z"
   },
   {
    "duration": 3,
    "start_time": "2022-12-22T18:30:46.527Z"
   },
   {
    "duration": 3,
    "start_time": "2022-12-22T18:30:47.595Z"
   },
   {
    "duration": 3,
    "start_time": "2022-12-22T18:30:50.663Z"
   },
   {
    "duration": 130,
    "start_time": "2022-12-22T18:30:53.532Z"
   },
   {
    "duration": 4,
    "start_time": "2022-12-22T18:31:07.468Z"
   },
   {
    "duration": 10761,
    "start_time": "2022-12-22T18:31:10.420Z"
   },
   {
    "duration": 4,
    "start_time": "2022-12-22T18:31:21.184Z"
   },
   {
    "duration": 4,
    "start_time": "2022-12-22T18:31:21.190Z"
   },
   {
    "duration": 7,
    "start_time": "2022-12-22T18:31:21.196Z"
   },
   {
    "duration": 58,
    "start_time": "2022-12-22T18:31:21.204Z"
   },
   {
    "duration": 9,
    "start_time": "2022-12-22T18:31:21.264Z"
   },
   {
    "duration": 3,
    "start_time": "2022-12-22T18:31:37.893Z"
   },
   {
    "duration": 4,
    "start_time": "2022-12-22T18:31:38.509Z"
   },
   {
    "duration": 1384,
    "start_time": "2022-12-22T18:39:36.356Z"
   },
   {
    "duration": 799,
    "start_time": "2022-12-22T18:39:37.741Z"
   },
   {
    "duration": 132,
    "start_time": "2022-12-22T18:39:38.542Z"
   },
   {
    "duration": 18,
    "start_time": "2022-12-22T18:39:38.676Z"
   },
   {
    "duration": 107,
    "start_time": "2022-12-22T18:39:38.695Z"
   },
   {
    "duration": 859,
    "start_time": "2022-12-22T18:39:38.804Z"
   },
   {
    "duration": 201,
    "start_time": "2022-12-22T18:39:39.665Z"
   },
   {
    "duration": 131,
    "start_time": "2022-12-22T18:39:39.868Z"
   },
   {
    "duration": 889,
    "start_time": "2022-12-22T18:39:40.001Z"
   },
   {
    "duration": 581,
    "start_time": "2022-12-22T18:39:40.894Z"
   },
   {
    "duration": 103,
    "start_time": "2022-12-22T18:39:41.477Z"
   },
   {
    "duration": 9,
    "start_time": "2022-12-22T18:39:41.582Z"
   },
   {
    "duration": 377,
    "start_time": "2022-12-22T18:39:41.593Z"
   },
   {
    "duration": 316,
    "start_time": "2022-12-22T18:39:41.971Z"
   },
   {
    "duration": 11,
    "start_time": "2022-12-22T18:39:42.289Z"
   },
   {
    "duration": 98,
    "start_time": "2022-12-22T18:39:42.302Z"
   },
   {
    "duration": 302,
    "start_time": "2022-12-22T18:39:42.402Z"
   },
   {
    "duration": 16,
    "start_time": "2022-12-22T18:39:42.706Z"
   },
   {
    "duration": 46,
    "start_time": "2022-12-22T18:39:42.724Z"
   },
   {
    "duration": 287,
    "start_time": "2022-12-22T18:39:42.772Z"
   },
   {
    "duration": 265,
    "start_time": "2022-12-22T18:39:43.061Z"
   },
   {
    "duration": 19,
    "start_time": "2022-12-22T18:39:43.329Z"
   },
   {
    "duration": 264,
    "start_time": "2022-12-22T18:39:43.349Z"
   },
   {
    "duration": 404,
    "start_time": "2022-12-22T18:39:43.616Z"
   },
   {
    "duration": 101,
    "start_time": "2022-12-22T18:39:44.021Z"
   },
   {
    "duration": 24,
    "start_time": "2022-12-22T18:39:44.123Z"
   },
   {
    "duration": 31,
    "start_time": "2022-12-22T18:39:44.149Z"
   },
   {
    "duration": 73,
    "start_time": "2022-12-22T18:39:44.182Z"
   },
   {
    "duration": 19,
    "start_time": "2022-12-22T18:39:44.257Z"
   },
   {
    "duration": 68,
    "start_time": "2022-12-22T18:39:44.277Z"
   },
   {
    "duration": 12,
    "start_time": "2022-12-22T18:39:44.347Z"
   },
   {
    "duration": 20,
    "start_time": "2022-12-22T18:39:44.360Z"
   },
   {
    "duration": 2229,
    "start_time": "2022-12-22T18:39:44.381Z"
   },
   {
    "duration": 15,
    "start_time": "2022-12-22T18:39:46.614Z"
   },
   {
    "duration": 29,
    "start_time": "2022-12-22T18:39:46.631Z"
   },
   {
    "duration": 40,
    "start_time": "2022-12-22T18:39:46.661Z"
   },
   {
    "duration": 19,
    "start_time": "2022-12-22T18:39:46.702Z"
   },
   {
    "duration": 74,
    "start_time": "2022-12-22T18:39:46.723Z"
   },
   {
    "duration": 11,
    "start_time": "2022-12-22T18:39:46.799Z"
   },
   {
    "duration": 2504,
    "start_time": "2022-12-22T18:39:46.815Z"
   },
   {
    "duration": 12,
    "start_time": "2022-12-22T18:39:49.321Z"
   },
   {
    "duration": 28,
    "start_time": "2022-12-22T18:39:49.335Z"
   },
   {
    "duration": 122,
    "start_time": "2022-12-22T18:39:49.364Z"
   },
   {
    "duration": 10,
    "start_time": "2022-12-22T18:39:49.488Z"
   },
   {
    "duration": 23,
    "start_time": "2022-12-22T18:39:49.499Z"
   },
   {
    "duration": 18,
    "start_time": "2022-12-22T18:39:49.523Z"
   },
   {
    "duration": 31,
    "start_time": "2022-12-22T18:39:49.543Z"
   },
   {
    "duration": 13,
    "start_time": "2022-12-22T18:39:49.576Z"
   },
   {
    "duration": 33,
    "start_time": "2022-12-22T18:39:49.591Z"
   },
   {
    "duration": 15,
    "start_time": "2022-12-22T18:39:49.692Z"
   },
   {
    "duration": 11,
    "start_time": "2022-12-22T18:39:49.924Z"
   },
   {
    "duration": 38,
    "start_time": "2022-12-22T18:39:50.123Z"
   },
   {
    "duration": 307,
    "start_time": "2022-12-22T18:39:50.962Z"
   },
   {
    "duration": 14,
    "start_time": "2022-12-22T18:39:51.271Z"
   },
   {
    "duration": 121,
    "start_time": "2022-12-22T18:39:51.610Z"
   },
   {
    "duration": 178,
    "start_time": "2022-12-22T18:39:51.847Z"
   },
   {
    "duration": 62,
    "start_time": "2022-12-22T18:39:52.086Z"
   },
   {
    "duration": 3,
    "start_time": "2022-12-22T18:39:53.235Z"
   },
   {
    "duration": 3,
    "start_time": "2022-12-22T18:39:53.933Z"
   },
   {
    "duration": 2,
    "start_time": "2022-12-22T18:39:54.631Z"
   },
   {
    "duration": 3,
    "start_time": "2022-12-22T18:39:58.091Z"
   },
   {
    "duration": 2,
    "start_time": "2022-12-22T18:39:58.683Z"
   },
   {
    "duration": 3,
    "start_time": "2022-12-22T18:39:59.528Z"
   },
   {
    "duration": 1408262,
    "start_time": "2022-12-22T18:40:00.227Z"
   },
   {
    "duration": 3,
    "start_time": "2022-12-22T19:03:28.491Z"
   },
   {
    "duration": 11,
    "start_time": "2022-12-22T19:03:28.495Z"
   },
   {
    "duration": 9,
    "start_time": "2022-12-22T19:03:28.508Z"
   },
   {
    "duration": 1075,
    "start_time": "2022-12-22T19:03:28.518Z"
   },
   {
    "duration": 4,
    "start_time": "2022-12-22T19:03:29.596Z"
   },
   {
    "duration": 263518,
    "start_time": "2022-12-22T19:11:56.508Z"
   },
   {
    "duration": 400699,
    "start_time": "2022-12-22T19:16:20.028Z"
   },
   {
    "duration": 4,
    "start_time": "2022-12-22T19:23:00.729Z"
   },
   {
    "duration": 22,
    "start_time": "2022-12-22T19:23:00.735Z"
   },
   {
    "duration": 32,
    "start_time": "2022-12-22T19:23:00.758Z"
   },
   {
    "duration": 5235,
    "start_time": "2022-12-22T19:23:00.792Z"
   },
   {
    "duration": 4,
    "start_time": "2022-12-22T19:23:06.029Z"
   },
   {
    "duration": 3,
    "start_time": "2022-12-22T19:31:37.851Z"
   },
   {
    "duration": 3,
    "start_time": "2022-12-22T19:31:38.415Z"
   },
   {
    "duration": 156,
    "start_time": "2022-12-22T19:31:39.056Z"
   },
   {
    "duration": 4,
    "start_time": "2022-12-22T19:33:07.711Z"
   },
   {
    "duration": 11,
    "start_time": "2022-12-22T20:03:48.041Z"
   },
   {
    "duration": 1398,
    "start_time": "2022-12-22T20:08:07.521Z"
   },
   {
    "duration": 778,
    "start_time": "2022-12-22T20:08:08.921Z"
   },
   {
    "duration": 140,
    "start_time": "2022-12-22T20:08:09.700Z"
   },
   {
    "duration": 18,
    "start_time": "2022-12-22T20:08:09.842Z"
   },
   {
    "duration": 112,
    "start_time": "2022-12-22T20:08:09.862Z"
   },
   {
    "duration": 797,
    "start_time": "2022-12-22T20:08:09.975Z"
   },
   {
    "duration": 198,
    "start_time": "2022-12-22T20:08:10.773Z"
   },
   {
    "duration": 126,
    "start_time": "2022-12-22T20:08:10.973Z"
   },
   {
    "duration": 829,
    "start_time": "2022-12-22T20:08:11.100Z"
   },
   {
    "duration": 619,
    "start_time": "2022-12-22T20:08:11.931Z"
   },
   {
    "duration": 117,
    "start_time": "2022-12-22T20:08:12.552Z"
   },
   {
    "duration": 9,
    "start_time": "2022-12-22T20:08:12.671Z"
   },
   {
    "duration": 361,
    "start_time": "2022-12-22T20:08:12.682Z"
   },
   {
    "duration": 298,
    "start_time": "2022-12-22T20:08:13.453Z"
   },
   {
    "duration": 13,
    "start_time": "2022-12-22T20:08:13.914Z"
   },
   {
    "duration": 95,
    "start_time": "2022-12-22T20:08:14.327Z"
   },
   {
    "duration": 273,
    "start_time": "2022-12-22T20:08:15.149Z"
   },
   {
    "duration": 11,
    "start_time": "2022-12-22T20:08:15.620Z"
   },
   {
    "duration": 60,
    "start_time": "2022-12-22T20:08:16.041Z"
   },
   {
    "duration": 318,
    "start_time": "2022-12-22T20:08:16.519Z"
   },
   {
    "duration": 272,
    "start_time": "2022-12-22T20:08:17.408Z"
   },
   {
    "duration": 24,
    "start_time": "2022-12-22T20:08:17.844Z"
   },
   {
    "duration": 241,
    "start_time": "2022-12-22T20:08:18.228Z"
   },
   {
    "duration": 385,
    "start_time": "2022-12-22T20:08:19.653Z"
   },
   {
    "duration": 92,
    "start_time": "2022-12-22T20:08:20.041Z"
   },
   {
    "duration": 24,
    "start_time": "2022-12-22T20:08:21.073Z"
   },
   {
    "duration": 12,
    "start_time": "2022-12-22T20:08:21.441Z"
   },
   {
    "duration": 66,
    "start_time": "2022-12-22T20:08:21.817Z"
   },
   {
    "duration": 20,
    "start_time": "2022-12-22T20:08:22.160Z"
   },
   {
    "duration": 62,
    "start_time": "2022-12-22T20:08:22.541Z"
   },
   {
    "duration": 12,
    "start_time": "2022-12-22T20:08:22.921Z"
   },
   {
    "duration": 3,
    "start_time": "2022-12-22T20:08:23.253Z"
   },
   {
    "duration": 2168,
    "start_time": "2022-12-22T20:08:23.629Z"
   },
   {
    "duration": 17,
    "start_time": "2022-12-22T20:08:25.799Z"
   },
   {
    "duration": 24,
    "start_time": "2022-12-22T20:08:25.817Z"
   },
   {
    "duration": 25,
    "start_time": "2022-12-22T20:08:25.843Z"
   },
   {
    "duration": 12,
    "start_time": "2022-12-22T20:08:26.461Z"
   },
   {
    "duration": 65,
    "start_time": "2022-12-22T20:08:26.877Z"
   },
   {
    "duration": 13,
    "start_time": "2022-12-22T20:08:27.253Z"
   },
   {
    "duration": 2464,
    "start_time": "2022-12-22T20:08:27.630Z"
   },
   {
    "duration": 12,
    "start_time": "2022-12-22T20:08:30.096Z"
   },
   {
    "duration": 37,
    "start_time": "2022-12-22T20:08:30.116Z"
   },
   {
    "duration": 121,
    "start_time": "2022-12-22T20:08:30.155Z"
   },
   {
    "duration": 10,
    "start_time": "2022-12-22T20:08:30.278Z"
   },
   {
    "duration": 13,
    "start_time": "2022-12-22T20:08:30.961Z"
   },
   {
    "duration": 17,
    "start_time": "2022-12-22T20:08:31.557Z"
   },
   {
    "duration": 26,
    "start_time": "2022-12-22T20:08:32.118Z"
   },
   {
    "duration": 16,
    "start_time": "2022-12-22T20:08:32.429Z"
   },
   {
    "duration": 24,
    "start_time": "2022-12-22T20:08:33.125Z"
   },
   {
    "duration": 15,
    "start_time": "2022-12-22T20:08:33.782Z"
   },
   {
    "duration": 11,
    "start_time": "2022-12-22T20:08:34.122Z"
   },
   {
    "duration": 39,
    "start_time": "2022-12-22T20:08:34.777Z"
   },
   {
    "duration": 336,
    "start_time": "2022-12-22T20:08:36.377Z"
   },
   {
    "duration": 13,
    "start_time": "2022-12-22T20:08:36.718Z"
   },
   {
    "duration": 119,
    "start_time": "2022-12-22T20:08:37.357Z"
   },
   {
    "duration": 178,
    "start_time": "2022-12-22T20:08:37.749Z"
   },
   {
    "duration": 53,
    "start_time": "2022-12-22T20:08:38.104Z"
   },
   {
    "duration": 3,
    "start_time": "2022-12-22T20:08:38.966Z"
   },
   {
    "duration": 3,
    "start_time": "2022-12-22T20:08:39.357Z"
   },
   {
    "duration": 2,
    "start_time": "2022-12-22T20:08:39.742Z"
   },
   {
    "duration": 3,
    "start_time": "2022-12-22T20:08:40.133Z"
   },
   {
    "duration": 4,
    "start_time": "2022-12-22T20:08:40.521Z"
   },
   {
    "duration": 793697,
    "start_time": "2022-12-22T20:08:40.874Z"
   },
   {
    "duration": 3,
    "start_time": "2022-12-22T20:21:54.573Z"
   },
   {
    "duration": 14,
    "start_time": "2022-12-22T20:21:54.578Z"
   },
   {
    "duration": 12,
    "start_time": "2022-12-22T20:21:54.594Z"
   },
   {
    "duration": 701,
    "start_time": "2022-12-22T20:21:54.608Z"
   },
   {
    "duration": 5,
    "start_time": "2022-12-22T20:21:55.311Z"
   },
   {
    "duration": 295711,
    "start_time": "2022-12-22T20:21:55.318Z"
   },
   {
    "duration": 280398,
    "start_time": "2022-12-22T20:26:51.030Z"
   },
   {
    "duration": 3,
    "start_time": "2022-12-22T20:31:31.430Z"
   },
   {
    "duration": 10,
    "start_time": "2022-12-22T20:31:31.435Z"
   },
   {
    "duration": 19,
    "start_time": "2022-12-22T20:31:31.447Z"
   },
   {
    "duration": 5271,
    "start_time": "2022-12-22T20:31:31.468Z"
   },
   {
    "duration": 4,
    "start_time": "2022-12-22T20:31:36.740Z"
   },
   {
    "duration": 6,
    "start_time": "2022-12-22T20:31:36.746Z"
   },
   {
    "duration": 5,
    "start_time": "2022-12-22T20:31:36.753Z"
   },
   {
    "duration": 5,
    "start_time": "2022-12-22T20:31:36.760Z"
   },
   {
    "duration": 2006371,
    "start_time": "2022-12-22T20:31:36.766Z"
   },
   {
    "duration": 6,
    "start_time": "2022-12-22T21:05:03.139Z"
   },
   {
    "duration": 5,
    "start_time": "2022-12-22T21:05:03.146Z"
   },
   {
    "duration": 6,
    "start_time": "2022-12-22T21:05:03.152Z"
   },
   {
    "duration": 663,
    "start_time": "2022-12-22T21:05:03.159Z"
   },
   {
    "duration": 7,
    "start_time": "2022-12-22T21:05:03.824Z"
   },
   {
    "duration": 4,
    "start_time": "2022-12-22T21:05:03.832Z"
   },
   {
    "duration": 8,
    "start_time": "2022-12-22T21:05:03.838Z"
   },
   {
    "duration": 7,
    "start_time": "2022-12-22T21:05:03.847Z"
   },
   {
    "duration": 9,
    "start_time": "2022-12-22T21:05:03.856Z"
   },
   {
    "duration": 6,
    "start_time": "2022-12-22T21:25:48.525Z"
   },
   {
    "duration": 701,
    "start_time": "2022-12-22T21:31:39.140Z"
   },
   {
    "duration": 5,
    "start_time": "2022-12-22T21:31:40.656Z"
   },
   {
    "duration": 5,
    "start_time": "2022-12-22T21:32:14.278Z"
   },
   {
    "duration": 5302,
    "start_time": "2022-12-22T21:32:19.437Z"
   },
   {
    "duration": 4,
    "start_time": "2022-12-22T21:32:24.741Z"
   },
   {
    "duration": 607,
    "start_time": "2022-12-22T21:32:55.836Z"
   },
   {
    "duration": 6,
    "start_time": "2022-12-22T21:32:57.194Z"
   },
   {
    "duration": 5257,
    "start_time": "2022-12-22T21:34:32.060Z"
   },
   {
    "duration": 4,
    "start_time": "2022-12-22T21:34:37.319Z"
   },
   {
    "duration": 5,
    "start_time": "2022-12-22T21:34:56.793Z"
   },
   {
    "duration": 4,
    "start_time": "2022-12-22T21:35:06.813Z"
   },
   {
    "duration": 5,
    "start_time": "2022-12-22T21:35:16.381Z"
   },
   {
    "duration": 5,
    "start_time": "2022-12-22T21:35:24.937Z"
   },
   {
    "duration": 5,
    "start_time": "2022-12-22T21:36:18.878Z"
   },
   {
    "duration": 2,
    "start_time": "2022-12-22T21:37:38.876Z"
   },
   {
    "duration": 5,
    "start_time": "2022-12-22T21:37:39.772Z"
   },
   {
    "duration": 2,
    "start_time": "2022-12-22T21:37:40.492Z"
   },
   {
    "duration": 5,
    "start_time": "2022-12-22T21:37:41.023Z"
   },
   {
    "duration": 5201,
    "start_time": "2022-12-22T21:39:06.354Z"
   },
   {
    "duration": 4,
    "start_time": "2022-12-22T21:39:11.557Z"
   },
   {
    "duration": 720,
    "start_time": "2022-12-22T21:39:48.979Z"
   },
   {
    "duration": 4,
    "start_time": "2022-12-22T21:39:49.701Z"
   },
   {
    "duration": 6,
    "start_time": "2022-12-22T21:40:33.876Z"
   },
   {
    "duration": 5241,
    "start_time": "2022-12-22T21:41:51.894Z"
   },
   {
    "duration": 6,
    "start_time": "2022-12-22T21:41:57.137Z"
   },
   {
    "duration": 5,
    "start_time": "2022-12-22T21:41:57.145Z"
   },
   {
    "duration": 5,
    "start_time": "2022-12-22T21:41:57.922Z"
   },
   {
    "duration": 3,
    "start_time": "2022-12-22T21:42:00.478Z"
   },
   {
    "duration": 5,
    "start_time": "2022-12-22T21:42:00.965Z"
   },
   {
    "duration": 4,
    "start_time": "2022-12-22T22:04:44.041Z"
   },
   {
    "duration": 3,
    "start_time": "2022-12-22T22:04:44.883Z"
   },
   {
    "duration": 3,
    "start_time": "2022-12-22T22:04:45.671Z"
   },
   {
    "duration": 726,
    "start_time": "2022-12-22T22:04:46.584Z"
   },
   {
    "duration": 5,
    "start_time": "2022-12-22T22:04:47.312Z"
   },
   {
    "duration": 3,
    "start_time": "2022-12-22T22:05:11.095Z"
   },
   {
    "duration": 3,
    "start_time": "2022-12-22T22:05:11.688Z"
   },
   {
    "duration": 4,
    "start_time": "2022-12-22T22:05:12.319Z"
   },
   {
    "duration": 701,
    "start_time": "2022-12-22T22:05:13.016Z"
   },
   {
    "duration": 4,
    "start_time": "2022-12-22T22:05:13.719Z"
   },
   {
    "duration": 5,
    "start_time": "2022-12-22T22:05:49.033Z"
   },
   {
    "duration": 2,
    "start_time": "2022-12-22T22:05:49.589Z"
   },
   {
    "duration": 3,
    "start_time": "2022-12-22T22:05:50.132Z"
   },
   {
    "duration": 5275,
    "start_time": "2022-12-22T22:05:53.081Z"
   },
   {
    "duration": 58,
    "start_time": "2022-12-22T22:05:58.358Z"
   },
   {
    "duration": 6,
    "start_time": "2022-12-22T22:06:17.754Z"
   },
   {
    "duration": 2,
    "start_time": "2022-12-22T22:06:20.522Z"
   },
   {
    "duration": 3,
    "start_time": "2022-12-22T22:06:21.033Z"
   },
   {
    "duration": 598,
    "start_time": "2022-12-22T22:06:24.831Z"
   },
   {
    "duration": 5,
    "start_time": "2022-12-22T22:06:25.531Z"
   },
   {
    "duration": 5226,
    "start_time": "2022-12-22T22:06:50.946Z"
   },
   {
    "duration": 45,
    "start_time": "2022-12-22T22:06:56.174Z"
   },
   {
    "duration": 1479,
    "start_time": "2022-12-24T00:31:49.157Z"
   },
   {
    "duration": 805,
    "start_time": "2022-12-24T00:31:50.638Z"
   },
   {
    "duration": 141,
    "start_time": "2022-12-24T00:31:51.445Z"
   },
   {
    "duration": 30,
    "start_time": "2022-12-24T00:31:51.589Z"
   },
   {
    "duration": 103,
    "start_time": "2022-12-24T00:31:51.621Z"
   },
   {
    "duration": 850,
    "start_time": "2022-12-24T00:31:51.726Z"
   },
   {
    "duration": 212,
    "start_time": "2022-12-24T00:31:52.578Z"
   },
   {
    "duration": 137,
    "start_time": "2022-12-24T00:31:52.792Z"
   },
   {
    "duration": 842,
    "start_time": "2022-12-24T00:31:52.931Z"
   },
   {
    "duration": 592,
    "start_time": "2022-12-24T00:31:53.775Z"
   },
   {
    "duration": 98,
    "start_time": "2022-12-24T00:31:54.369Z"
   },
   {
    "duration": 9,
    "start_time": "2022-12-24T00:31:54.468Z"
   },
   {
    "duration": 364,
    "start_time": "2022-12-24T00:31:54.479Z"
   },
   {
    "duration": 319,
    "start_time": "2022-12-24T00:31:54.846Z"
   },
   {
    "duration": 12,
    "start_time": "2022-12-24T00:31:55.166Z"
   },
   {
    "duration": 102,
    "start_time": "2022-12-24T00:31:55.180Z"
   },
   {
    "duration": 241,
    "start_time": "2022-12-24T00:31:55.284Z"
   },
   {
    "duration": 11,
    "start_time": "2022-12-24T00:31:55.526Z"
   },
   {
    "duration": 50,
    "start_time": "2022-12-24T00:31:55.538Z"
   },
   {
    "duration": 297,
    "start_time": "2022-12-24T00:31:55.590Z"
   },
   {
    "duration": 272,
    "start_time": "2022-12-24T00:31:55.889Z"
   },
   {
    "duration": 20,
    "start_time": "2022-12-24T00:31:56.163Z"
   },
   {
    "duration": 326,
    "start_time": "2022-12-24T00:31:56.185Z"
   },
   {
    "duration": 364,
    "start_time": "2022-12-24T00:31:56.513Z"
   },
   {
    "duration": 81,
    "start_time": "2022-12-24T00:31:56.879Z"
   },
   {
    "duration": 22,
    "start_time": "2022-12-24T00:31:56.961Z"
   },
   {
    "duration": 30,
    "start_time": "2022-12-24T00:31:56.985Z"
   },
   {
    "duration": 65,
    "start_time": "2022-12-24T00:31:57.017Z"
   },
   {
    "duration": 31,
    "start_time": "2022-12-24T00:31:57.084Z"
   },
   {
    "duration": 61,
    "start_time": "2022-12-24T00:31:57.117Z"
   },
   {
    "duration": 12,
    "start_time": "2022-12-24T00:31:57.179Z"
   },
   {
    "duration": 24,
    "start_time": "2022-12-24T00:31:57.193Z"
   },
   {
    "duration": 2088,
    "start_time": "2022-12-24T00:31:57.219Z"
   },
   {
    "duration": 13,
    "start_time": "2022-12-24T00:31:59.309Z"
   },
   {
    "duration": 26,
    "start_time": "2022-12-24T00:31:59.324Z"
   },
   {
    "duration": 24,
    "start_time": "2022-12-24T00:31:59.351Z"
   },
   {
    "duration": 14,
    "start_time": "2022-12-24T00:31:59.377Z"
   },
   {
    "duration": 62,
    "start_time": "2022-12-24T00:31:59.415Z"
   },
   {
    "duration": 13,
    "start_time": "2022-12-24T00:31:59.478Z"
   },
   {
    "duration": 2443,
    "start_time": "2022-12-24T00:31:59.493Z"
   },
   {
    "duration": 12,
    "start_time": "2022-12-24T00:32:01.941Z"
   },
   {
    "duration": 30,
    "start_time": "2022-12-24T00:32:01.955Z"
   },
   {
    "duration": 143,
    "start_time": "2022-12-24T00:32:01.987Z"
   },
   {
    "duration": 12,
    "start_time": "2022-12-24T00:32:02.132Z"
   },
   {
    "duration": 21,
    "start_time": "2022-12-24T00:32:02.145Z"
   },
   {
    "duration": 24,
    "start_time": "2022-12-24T00:32:02.168Z"
   },
   {
    "duration": 36,
    "start_time": "2022-12-24T00:32:02.193Z"
   },
   {
    "duration": 15,
    "start_time": "2022-12-24T00:32:02.231Z"
   },
   {
    "duration": 33,
    "start_time": "2022-12-24T00:32:02.247Z"
   },
   {
    "duration": 36,
    "start_time": "2022-12-24T00:32:02.281Z"
   },
   {
    "duration": 11,
    "start_time": "2022-12-24T00:32:02.318Z"
   },
   {
    "duration": 40,
    "start_time": "2022-12-24T00:32:02.330Z"
   },
   {
    "duration": 357,
    "start_time": "2022-12-24T00:32:02.372Z"
   },
   {
    "duration": 13,
    "start_time": "2022-12-24T00:32:02.731Z"
   },
   {
    "duration": 130,
    "start_time": "2022-12-24T00:32:02.745Z"
   },
   {
    "duration": 186,
    "start_time": "2022-12-24T00:32:02.876Z"
   },
   {
    "duration": 60,
    "start_time": "2022-12-24T00:32:03.064Z"
   },
   {
    "duration": 3,
    "start_time": "2022-12-24T00:32:03.126Z"
   },
   {
    "duration": 9,
    "start_time": "2022-12-24T00:32:03.131Z"
   },
   {
    "duration": 8,
    "start_time": "2022-12-24T00:32:03.142Z"
   },
   {
    "duration": 6,
    "start_time": "2022-12-24T00:32:03.151Z"
   },
   {
    "duration": 9,
    "start_time": "2022-12-24T00:32:03.159Z"
   },
   {
    "duration": 792045,
    "start_time": "2022-12-24T00:32:03.170Z"
   },
   {
    "duration": 4,
    "start_time": "2022-12-24T00:45:15.217Z"
   },
   {
    "duration": 12,
    "start_time": "2022-12-24T00:45:15.223Z"
   },
   {
    "duration": 10,
    "start_time": "2022-12-24T00:45:15.237Z"
   },
   {
    "duration": 63,
    "start_time": "2022-12-24T00:45:15.249Z"
   },
   {
    "duration": 11,
    "start_time": "2022-12-24T00:45:15.313Z"
   },
   {
    "duration": 0,
    "start_time": "2022-12-24T00:45:15.326Z"
   },
   {
    "duration": 0,
    "start_time": "2022-12-24T00:45:15.328Z"
   },
   {
    "duration": 0,
    "start_time": "2022-12-24T00:45:15.329Z"
   },
   {
    "duration": 0,
    "start_time": "2022-12-24T00:45:15.330Z"
   },
   {
    "duration": 0,
    "start_time": "2022-12-24T00:45:15.332Z"
   },
   {
    "duration": 0,
    "start_time": "2022-12-24T00:45:15.335Z"
   },
   {
    "duration": 0,
    "start_time": "2022-12-24T00:45:15.336Z"
   },
   {
    "duration": 0,
    "start_time": "2022-12-24T00:45:15.337Z"
   },
   {
    "duration": 0,
    "start_time": "2022-12-24T00:45:15.339Z"
   },
   {
    "duration": 0,
    "start_time": "2022-12-24T00:45:15.340Z"
   },
   {
    "duration": 0,
    "start_time": "2022-12-24T00:45:15.342Z"
   },
   {
    "duration": 0,
    "start_time": "2022-12-24T00:45:15.343Z"
   },
   {
    "duration": 0,
    "start_time": "2022-12-24T00:45:15.344Z"
   },
   {
    "duration": 0,
    "start_time": "2022-12-24T00:45:15.345Z"
   },
   {
    "duration": 0,
    "start_time": "2022-12-24T00:45:15.345Z"
   },
   {
    "duration": 0,
    "start_time": "2022-12-24T00:45:15.347Z"
   },
   {
    "duration": 0,
    "start_time": "2022-12-24T00:45:15.348Z"
   },
   {
    "duration": 0,
    "start_time": "2022-12-24T00:45:15.350Z"
   },
   {
    "duration": 0,
    "start_time": "2022-12-24T00:45:15.351Z"
   },
   {
    "duration": 0,
    "start_time": "2022-12-24T00:45:15.353Z"
   },
   {
    "duration": 0,
    "start_time": "2022-12-24T00:45:15.354Z"
   },
   {
    "duration": 0,
    "start_time": "2022-12-24T00:45:15.355Z"
   },
   {
    "duration": 0,
    "start_time": "2022-12-24T00:45:15.358Z"
   },
   {
    "duration": 1657,
    "start_time": "2022-12-24T13:00:11.227Z"
   },
   {
    "duration": 1086,
    "start_time": "2022-12-24T13:00:12.886Z"
   },
   {
    "duration": 135,
    "start_time": "2022-12-24T13:00:13.974Z"
   },
   {
    "duration": 26,
    "start_time": "2022-12-24T13:00:14.110Z"
   },
   {
    "duration": 103,
    "start_time": "2022-12-24T13:00:14.378Z"
   },
   {
    "duration": 899,
    "start_time": "2022-12-24T13:00:15.003Z"
   },
   {
    "duration": 191,
    "start_time": "2022-12-24T13:00:15.917Z"
   },
   {
    "duration": 117,
    "start_time": "2022-12-24T13:00:16.383Z"
   },
   {
    "duration": 886,
    "start_time": "2022-12-24T13:00:16.855Z"
   },
   {
    "duration": 618,
    "start_time": "2022-12-24T13:00:17.743Z"
   },
   {
    "duration": 99,
    "start_time": "2022-12-24T13:00:20.974Z"
   },
   {
    "duration": 9,
    "start_time": "2022-12-24T13:00:21.703Z"
   },
   {
    "duration": 356,
    "start_time": "2022-12-24T13:00:22.794Z"
   },
   {
    "duration": 297,
    "start_time": "2022-12-24T13:00:23.611Z"
   },
   {
    "duration": 13,
    "start_time": "2022-12-24T13:00:24.017Z"
   },
   {
    "duration": 107,
    "start_time": "2022-12-24T13:00:24.515Z"
   },
   {
    "duration": 249,
    "start_time": "2022-12-24T13:00:25.919Z"
   },
   {
    "duration": 12,
    "start_time": "2022-12-24T13:00:26.375Z"
   },
   {
    "duration": 46,
    "start_time": "2022-12-24T13:00:26.863Z"
   },
   {
    "duration": 259,
    "start_time": "2022-12-24T13:00:27.335Z"
   },
   {
    "duration": 253,
    "start_time": "2022-12-24T13:00:28.851Z"
   },
   {
    "duration": 20,
    "start_time": "2022-12-24T13:00:29.411Z"
   },
   {
    "duration": 256,
    "start_time": "2022-12-24T13:00:30.019Z"
   },
   {
    "duration": 369,
    "start_time": "2022-12-24T13:00:32.794Z"
   },
   {
    "duration": 70,
    "start_time": "2022-12-24T13:00:35.611Z"
   },
   {
    "duration": 22,
    "start_time": "2022-12-24T13:00:37.407Z"
   },
   {
    "duration": 12,
    "start_time": "2022-12-24T13:00:38.055Z"
   },
   {
    "duration": 66,
    "start_time": "2022-12-24T13:00:38.472Z"
   },
   {
    "duration": 19,
    "start_time": "2022-12-24T13:00:39.163Z"
   },
   {
    "duration": 57,
    "start_time": "2022-12-24T13:00:40.896Z"
   },
   {
    "duration": 14,
    "start_time": "2022-12-24T13:00:41.374Z"
   },
   {
    "duration": 3,
    "start_time": "2022-12-24T13:00:41.887Z"
   },
   {
    "duration": 2085,
    "start_time": "2022-12-24T13:00:42.607Z"
   },
   {
    "duration": 12,
    "start_time": "2022-12-24T13:00:44.694Z"
   },
   {
    "duration": 30,
    "start_time": "2022-12-24T13:00:44.707Z"
   },
   {
    "duration": 23,
    "start_time": "2022-12-24T13:00:44.892Z"
   },
   {
    "duration": 18,
    "start_time": "2022-12-24T13:00:45.549Z"
   },
   {
    "duration": 65,
    "start_time": "2022-12-24T13:00:45.988Z"
   },
   {
    "duration": 14,
    "start_time": "2022-12-24T13:00:46.556Z"
   },
   {
    "duration": 2439,
    "start_time": "2022-12-24T13:00:47.080Z"
   },
   {
    "duration": 14,
    "start_time": "2022-12-24T13:00:49.521Z"
   },
   {
    "duration": 26,
    "start_time": "2022-12-24T13:00:49.537Z"
   },
   {
    "duration": 137,
    "start_time": "2022-12-24T13:00:49.569Z"
   },
   {
    "duration": 10,
    "start_time": "2022-12-24T13:00:51.075Z"
   },
   {
    "duration": 13,
    "start_time": "2022-12-24T13:00:52.663Z"
   },
   {
    "duration": 16,
    "start_time": "2022-12-24T13:00:53.583Z"
   },
   {
    "duration": 33,
    "start_time": "2022-12-24T13:01:02.043Z"
   },
   {
    "duration": 16,
    "start_time": "2022-12-24T13:01:02.668Z"
   },
   {
    "duration": 25,
    "start_time": "2022-12-24T13:01:03.612Z"
   },
   {
    "duration": 15,
    "start_time": "2022-12-24T13:01:04.750Z"
   },
   {
    "duration": 11,
    "start_time": "2022-12-24T13:01:05.216Z"
   },
   {
    "duration": 38,
    "start_time": "2022-12-24T13:01:05.720Z"
   },
   {
    "duration": 3,
    "start_time": "2022-12-24T13:02:20.626Z"
   },
   {
    "duration": 133,
    "start_time": "2022-12-24T13:02:55.264Z"
   },
   {
    "duration": 14,
    "start_time": "2022-12-24T13:02:55.740Z"
   },
   {
    "duration": 2,
    "start_time": "2022-12-24T13:03:16.869Z"
   },
   {
    "duration": 8,
    "start_time": "2022-12-24T13:03:17.489Z"
   },
   {
    "duration": 39,
    "start_time": "2022-12-24T13:03:20.367Z"
   },
   {
    "duration": 26,
    "start_time": "2022-12-24T13:03:20.616Z"
   },
   {
    "duration": 30,
    "start_time": "2022-12-24T13:03:21.759Z"
   },
   {
    "duration": 2,
    "start_time": "2022-12-24T13:03:35.077Z"
   },
   {
    "duration": 248,
    "start_time": "2022-12-24T13:03:37.219Z"
   },
   {
    "duration": 263,
    "start_time": "2022-12-24T13:05:30.675Z"
   },
   {
    "duration": 231,
    "start_time": "2022-12-24T13:07:34.263Z"
   },
   {
    "duration": 3,
    "start_time": "2022-12-24T13:07:44.793Z"
   },
   {
    "duration": 14,
    "start_time": "2022-12-24T13:07:45.678Z"
   },
   {
    "duration": 46,
    "start_time": "2022-12-24T13:07:46.165Z"
   },
   {
    "duration": 16,
    "start_time": "2022-12-24T13:07:46.653Z"
   },
   {
    "duration": 244,
    "start_time": "2022-12-24T13:07:47.590Z"
   },
   {
    "duration": 5,
    "start_time": "2022-12-24T13:08:52.563Z"
   },
   {
    "duration": 738,
    "start_time": "2022-12-24T13:08:53.290Z"
   },
   {
    "duration": 124,
    "start_time": "2022-12-24T13:08:54.030Z"
   },
   {
    "duration": 32,
    "start_time": "2022-12-24T13:08:54.156Z"
   },
   {
    "duration": 102,
    "start_time": "2022-12-24T13:08:54.190Z"
   },
   {
    "duration": 803,
    "start_time": "2022-12-24T13:08:54.294Z"
   },
   {
    "duration": 212,
    "start_time": "2022-12-24T13:08:55.098Z"
   },
   {
    "duration": 178,
    "start_time": "2022-12-24T13:08:55.312Z"
   },
   {
    "duration": 807,
    "start_time": "2022-12-24T13:08:55.493Z"
   },
   {
    "duration": 562,
    "start_time": "2022-12-24T13:08:56.302Z"
   },
   {
    "duration": 105,
    "start_time": "2022-12-24T13:08:56.865Z"
   },
   {
    "duration": 9,
    "start_time": "2022-12-24T13:08:56.973Z"
   },
   {
    "duration": 296,
    "start_time": "2022-12-24T13:08:56.983Z"
   },
   {
    "duration": 295,
    "start_time": "2022-12-24T13:08:57.281Z"
   },
   {
    "duration": 12,
    "start_time": "2022-12-24T13:08:57.577Z"
   },
   {
    "duration": 98,
    "start_time": "2022-12-24T13:08:57.591Z"
   },
   {
    "duration": 261,
    "start_time": "2022-12-24T13:08:57.691Z"
   },
   {
    "duration": 11,
    "start_time": "2022-12-24T13:08:57.954Z"
   },
   {
    "duration": 58,
    "start_time": "2022-12-24T13:08:57.967Z"
   },
   {
    "duration": 394,
    "start_time": "2022-12-24T13:08:58.027Z"
   },
   {
    "duration": 275,
    "start_time": "2022-12-24T13:08:58.423Z"
   },
   {
    "duration": 26,
    "start_time": "2022-12-24T13:08:58.700Z"
   },
   {
    "duration": 248,
    "start_time": "2022-12-24T13:08:58.811Z"
   },
   {
    "duration": 273,
    "start_time": "2022-12-24T13:09:00.213Z"
   },
   {
    "duration": 71,
    "start_time": "2022-12-24T13:09:01.343Z"
   },
   {
    "duration": 28,
    "start_time": "2022-12-24T13:09:03.402Z"
   },
   {
    "duration": 14,
    "start_time": "2022-12-24T13:09:03.819Z"
   },
   {
    "duration": 72,
    "start_time": "2022-12-24T13:09:04.387Z"
   },
   {
    "duration": 19,
    "start_time": "2022-12-24T13:09:04.835Z"
   },
   {
    "duration": 78,
    "start_time": "2022-12-24T13:09:05.331Z"
   },
   {
    "duration": 12,
    "start_time": "2022-12-24T13:09:07.623Z"
   },
   {
    "duration": 5,
    "start_time": "2022-12-24T13:09:08.210Z"
   },
   {
    "duration": 2145,
    "start_time": "2022-12-24T13:09:08.651Z"
   },
   {
    "duration": 12,
    "start_time": "2022-12-24T13:09:10.798Z"
   },
   {
    "duration": 31,
    "start_time": "2022-12-24T13:09:10.811Z"
   },
   {
    "duration": 25,
    "start_time": "2022-12-24T13:09:11.446Z"
   },
   {
    "duration": 12,
    "start_time": "2022-12-24T13:09:11.846Z"
   },
   {
    "duration": 67,
    "start_time": "2022-12-24T13:09:12.214Z"
   },
   {
    "duration": 12,
    "start_time": "2022-12-24T13:09:12.598Z"
   },
   {
    "duration": 2503,
    "start_time": "2022-12-24T13:09:13.111Z"
   },
   {
    "duration": 14,
    "start_time": "2022-12-24T13:09:15.615Z"
   },
   {
    "duration": 26,
    "start_time": "2022-12-24T13:09:15.631Z"
   },
   {
    "duration": 120,
    "start_time": "2022-12-24T13:09:15.658Z"
   },
   {
    "duration": 10,
    "start_time": "2022-12-24T13:09:17.182Z"
   },
   {
    "duration": 16,
    "start_time": "2022-12-24T13:09:18.567Z"
   },
   {
    "duration": 15,
    "start_time": "2022-12-24T13:09:20.032Z"
   },
   {
    "duration": 25,
    "start_time": "2022-12-24T13:09:21.498Z"
   },
   {
    "duration": 14,
    "start_time": "2022-12-24T13:09:22.248Z"
   },
   {
    "duration": 24,
    "start_time": "2022-12-24T13:09:23.222Z"
   },
   {
    "duration": 17,
    "start_time": "2022-12-24T13:09:24.527Z"
   },
   {
    "duration": 12,
    "start_time": "2022-12-24T13:09:24.939Z"
   },
   {
    "duration": 38,
    "start_time": "2022-12-24T13:09:25.459Z"
   },
   {
    "duration": 3,
    "start_time": "2022-12-24T13:09:28.382Z"
   },
   {
    "duration": 2,
    "start_time": "2022-12-24T13:09:29.871Z"
   },
   {
    "duration": 9,
    "start_time": "2022-12-24T13:09:30.404Z"
   },
   {
    "duration": 38,
    "start_time": "2022-12-24T13:09:30.931Z"
   },
   {
    "duration": 17,
    "start_time": "2022-12-24T13:09:31.331Z"
   },
   {
    "duration": 248,
    "start_time": "2022-12-24T13:09:32.251Z"
   },
   {
    "duration": 337,
    "start_time": "2022-12-24T13:11:35.251Z"
   },
   {
    "duration": 14,
    "start_time": "2022-12-24T13:11:47.763Z"
   },
   {
    "duration": 295,
    "start_time": "2022-12-24T13:11:59.068Z"
   },
   {
    "duration": 13,
    "start_time": "2022-12-24T13:12:01.319Z"
   },
   {
    "duration": 15,
    "start_time": "2022-12-24T13:14:38.018Z"
   },
   {
    "duration": 271,
    "start_time": "2022-12-24T13:14:47.602Z"
   },
   {
    "duration": 12,
    "start_time": "2022-12-24T13:14:48.075Z"
   },
   {
    "duration": 242,
    "start_time": "2022-12-24T13:15:09.187Z"
   },
   {
    "duration": 3,
    "start_time": "2022-12-24T13:15:20.988Z"
   },
   {
    "duration": 11,
    "start_time": "2022-12-24T13:15:21.475Z"
   },
   {
    "duration": 36,
    "start_time": "2022-12-24T13:15:21.931Z"
   },
   {
    "duration": 21,
    "start_time": "2022-12-24T13:15:22.377Z"
   },
   {
    "duration": 279,
    "start_time": "2022-12-24T13:15:23.175Z"
   },
   {
    "duration": 208,
    "start_time": "2022-12-24T13:15:37.563Z"
   },
   {
    "duration": 10,
    "start_time": "2022-12-24T13:15:40.032Z"
   },
   {
    "duration": 10,
    "start_time": "2022-12-24T13:17:08.289Z"
   },
   {
    "duration": 209,
    "start_time": "2022-12-24T13:18:01.868Z"
   },
   {
    "duration": 236,
    "start_time": "2022-12-24T13:18:17.092Z"
   },
   {
    "duration": 1905,
    "start_time": "2022-12-24T20:04:00.086Z"
   },
   {
    "duration": 2988,
    "start_time": "2022-12-24T20:04:01.993Z"
   },
   {
    "duration": 149,
    "start_time": "2022-12-24T20:04:04.983Z"
   },
   {
    "duration": 53,
    "start_time": "2022-12-24T20:04:05.134Z"
   },
   {
    "duration": 124,
    "start_time": "2022-12-24T20:04:05.189Z"
   },
   {
    "duration": 1051,
    "start_time": "2022-12-24T20:04:05.316Z"
   },
   {
    "duration": 233,
    "start_time": "2022-12-24T20:04:06.369Z"
   },
   {
    "duration": 163,
    "start_time": "2022-12-24T20:04:06.604Z"
   },
   {
    "duration": 1023,
    "start_time": "2022-12-24T20:04:06.769Z"
   },
   {
    "duration": 693,
    "start_time": "2022-12-24T20:04:07.795Z"
   },
   {
    "duration": 120,
    "start_time": "2022-12-24T20:04:08.490Z"
   },
   {
    "duration": 10,
    "start_time": "2022-12-24T20:04:08.611Z"
   },
   {
    "duration": 449,
    "start_time": "2022-12-24T20:04:08.623Z"
   },
   {
    "duration": 361,
    "start_time": "2022-12-24T20:04:09.074Z"
   },
   {
    "duration": 31,
    "start_time": "2022-12-24T20:04:09.436Z"
   },
   {
    "duration": 122,
    "start_time": "2022-12-24T20:04:09.470Z"
   },
   {
    "duration": 396,
    "start_time": "2022-12-24T20:04:09.594Z"
   },
   {
    "duration": 15,
    "start_time": "2022-12-24T20:04:09.993Z"
   },
   {
    "duration": 74,
    "start_time": "2022-12-24T20:04:10.011Z"
   },
   {
    "duration": 341,
    "start_time": "2022-12-24T20:04:10.087Z"
   },
   {
    "duration": 339,
    "start_time": "2022-12-24T20:04:10.430Z"
   },
   {
    "duration": 21,
    "start_time": "2022-12-24T20:04:10.771Z"
   },
   {
    "duration": 312,
    "start_time": "2022-12-24T20:04:10.794Z"
   },
   {
    "duration": 455,
    "start_time": "2022-12-24T20:04:11.109Z"
   },
   {
    "duration": 83,
    "start_time": "2022-12-24T20:04:11.566Z"
   },
   {
    "duration": 36,
    "start_time": "2022-12-24T20:04:11.651Z"
   },
   {
    "duration": 18,
    "start_time": "2022-12-24T20:04:11.689Z"
   },
   {
    "duration": 105,
    "start_time": "2022-12-24T20:04:11.708Z"
   },
   {
    "duration": 21,
    "start_time": "2022-12-24T20:04:11.816Z"
   },
   {
    "duration": 75,
    "start_time": "2022-12-24T20:04:11.857Z"
   },
   {
    "duration": 14,
    "start_time": "2022-12-24T20:04:12.266Z"
   },
   {
    "duration": 4,
    "start_time": "2022-12-24T20:04:12.676Z"
   },
   {
    "duration": 2435,
    "start_time": "2022-12-24T20:04:13.091Z"
   },
   {
    "duration": 15,
    "start_time": "2022-12-24T20:04:15.528Z"
   },
   {
    "duration": 41,
    "start_time": "2022-12-24T20:04:15.550Z"
   },
   {
    "duration": 44,
    "start_time": "2022-12-24T20:04:15.594Z"
   },
   {
    "duration": 35,
    "start_time": "2022-12-24T20:04:15.641Z"
   },
   {
    "duration": 83,
    "start_time": "2022-12-24T20:04:16.753Z"
   },
   {
    "duration": 13,
    "start_time": "2022-12-24T20:04:17.408Z"
   },
   {
    "duration": 3181,
    "start_time": "2022-12-24T20:04:17.744Z"
   },
   {
    "duration": 15,
    "start_time": "2022-12-24T20:04:20.927Z"
   },
   {
    "duration": 53,
    "start_time": "2022-12-24T20:04:20.953Z"
   },
   {
    "duration": 137,
    "start_time": "2022-12-24T20:04:21.009Z"
   },
   {
    "duration": 19,
    "start_time": "2022-12-24T20:04:21.148Z"
   },
   {
    "duration": 21,
    "start_time": "2022-12-24T20:04:21.171Z"
   },
   {
    "duration": 27,
    "start_time": "2022-12-24T20:04:21.647Z"
   },
   {
    "duration": 32,
    "start_time": "2022-12-24T20:04:22.172Z"
   },
   {
    "duration": 16,
    "start_time": "2022-12-24T20:04:22.432Z"
   },
   {
    "duration": 29,
    "start_time": "2022-12-24T20:04:23.103Z"
   },
   {
    "duration": 16,
    "start_time": "2022-12-24T20:04:23.711Z"
   },
   {
    "duration": 11,
    "start_time": "2022-12-24T20:04:24.103Z"
   },
   {
    "duration": 45,
    "start_time": "2022-12-24T20:04:24.412Z"
   },
   {
    "duration": 2,
    "start_time": "2022-12-24T20:04:26.732Z"
   },
   {
    "duration": 141,
    "start_time": "2022-12-24T20:04:29.163Z"
   },
   {
    "duration": 2,
    "start_time": "2022-12-24T20:04:35.440Z"
   },
   {
    "duration": 8,
    "start_time": "2022-12-24T20:04:36.192Z"
   },
   {
    "duration": 46,
    "start_time": "2022-12-24T20:04:36.640Z"
   },
   {
    "duration": 20,
    "start_time": "2022-12-24T20:04:37.264Z"
   },
   {
    "duration": 98,
    "start_time": "2022-12-24T20:04:38.676Z"
   },
   {
    "duration": 109,
    "start_time": "2022-12-24T20:11:16.833Z"
   },
   {
    "duration": 11,
    "start_time": "2022-12-24T20:11:20.164Z"
   },
   {
    "duration": 16,
    "start_time": "2022-12-24T20:11:36.993Z"
   },
   {
    "duration": 252,
    "start_time": "2022-12-24T20:11:50.269Z"
   },
   {
    "duration": 13,
    "start_time": "2022-12-24T20:11:50.868Z"
   },
   {
    "duration": 4,
    "start_time": "2022-12-24T20:12:19.336Z"
   },
   {
    "duration": 16,
    "start_time": "2022-12-24T20:12:19.849Z"
   },
   {
    "duration": 38,
    "start_time": "2022-12-24T20:12:20.413Z"
   },
   {
    "duration": 19,
    "start_time": "2022-12-24T20:12:20.885Z"
   },
   {
    "duration": 303,
    "start_time": "2022-12-24T20:12:21.869Z"
   },
   {
    "duration": 13,
    "start_time": "2022-12-24T20:12:23.221Z"
   },
   {
    "duration": 249,
    "start_time": "2022-12-24T20:12:49.390Z"
   },
   {
    "duration": 45,
    "start_time": "2022-12-24T20:13:13.058Z"
   },
   {
    "duration": 19,
    "start_time": "2022-12-24T20:13:13.538Z"
   },
   {
    "duration": 382,
    "start_time": "2022-12-24T20:13:14.029Z"
   },
   {
    "duration": 12,
    "start_time": "2022-12-24T20:13:20.267Z"
   },
   {
    "duration": 13,
    "start_time": "2022-12-24T20:13:24.906Z"
   },
   {
    "duration": 21,
    "start_time": "2022-12-24T20:17:57.641Z"
   },
   {
    "duration": 341,
    "start_time": "2022-12-24T20:18:03.917Z"
   },
   {
    "duration": 16,
    "start_time": "2022-12-24T20:18:05.018Z"
   },
   {
    "duration": 43,
    "start_time": "2022-12-24T20:32:04.599Z"
   },
   {
    "duration": 11,
    "start_time": "2022-12-24T20:32:13.223Z"
   },
   {
    "duration": 6,
    "start_time": "2022-12-24T20:32:27.756Z"
   },
   {
    "duration": 1583,
    "start_time": "2022-12-24T20:33:34.181Z"
   },
   {
    "duration": 926,
    "start_time": "2022-12-24T20:33:35.766Z"
   },
   {
    "duration": 157,
    "start_time": "2022-12-24T20:33:36.694Z"
   },
   {
    "duration": 20,
    "start_time": "2022-12-24T20:33:36.853Z"
   },
   {
    "duration": 127,
    "start_time": "2022-12-24T20:33:36.875Z"
   },
   {
    "duration": 980,
    "start_time": "2022-12-24T20:33:37.004Z"
   },
   {
    "duration": 238,
    "start_time": "2022-12-24T20:33:37.987Z"
   },
   {
    "duration": 150,
    "start_time": "2022-12-24T20:33:38.227Z"
   },
   {
    "duration": 1076,
    "start_time": "2022-12-24T20:33:38.379Z"
   },
   {
    "duration": 784,
    "start_time": "2022-12-24T20:33:39.458Z"
   },
   {
    "duration": 128,
    "start_time": "2022-12-24T20:33:40.252Z"
   },
   {
    "duration": 11,
    "start_time": "2022-12-24T20:33:40.382Z"
   },
   {
    "duration": 476,
    "start_time": "2022-12-24T20:33:40.396Z"
   },
   {
    "duration": 351,
    "start_time": "2022-12-24T20:33:40.875Z"
   },
   {
    "duration": 26,
    "start_time": "2022-12-24T20:33:41.228Z"
   },
   {
    "duration": 99,
    "start_time": "2022-12-24T20:33:41.397Z"
   },
   {
    "duration": 299,
    "start_time": "2022-12-24T20:33:42.436Z"
   },
   {
    "duration": 22,
    "start_time": "2022-12-24T20:33:42.741Z"
   },
   {
    "duration": 80,
    "start_time": "2022-12-24T20:33:43.061Z"
   },
   {
    "duration": 328,
    "start_time": "2022-12-24T20:33:43.417Z"
   },
   {
    "duration": 286,
    "start_time": "2022-12-24T20:33:44.281Z"
   },
   {
    "duration": 21,
    "start_time": "2022-12-24T20:33:44.571Z"
   },
   {
    "duration": 273,
    "start_time": "2022-12-24T20:33:44.873Z"
   },
   {
    "duration": 459,
    "start_time": "2022-12-24T20:33:46.076Z"
   },
   {
    "duration": 87,
    "start_time": "2022-12-24T20:33:46.813Z"
   },
   {
    "duration": 28,
    "start_time": "2022-12-24T20:33:48.044Z"
   },
   {
    "duration": 23,
    "start_time": "2022-12-24T20:33:48.366Z"
   },
   {
    "duration": 88,
    "start_time": "2022-12-24T20:33:48.686Z"
   },
   {
    "duration": 21,
    "start_time": "2022-12-24T20:33:48.973Z"
   },
   {
    "duration": 91,
    "start_time": "2022-12-24T20:33:49.261Z"
   },
   {
    "duration": 18,
    "start_time": "2022-12-24T20:33:49.618Z"
   },
   {
    "duration": 5,
    "start_time": "2022-12-24T20:33:49.937Z"
   },
   {
    "duration": 2444,
    "start_time": "2022-12-24T20:33:50.224Z"
   },
   {
    "duration": 15,
    "start_time": "2022-12-24T20:33:52.670Z"
   },
   {
    "duration": 39,
    "start_time": "2022-12-24T20:33:52.687Z"
   },
   {
    "duration": 36,
    "start_time": "2022-12-24T20:33:52.728Z"
   },
   {
    "duration": 16,
    "start_time": "2022-12-24T20:33:52.766Z"
   },
   {
    "duration": 98,
    "start_time": "2022-12-24T20:33:52.784Z"
   },
   {
    "duration": 15,
    "start_time": "2022-12-24T20:33:52.884Z"
   },
   {
    "duration": 2724,
    "start_time": "2022-12-24T20:33:53.184Z"
   },
   {
    "duration": 13,
    "start_time": "2022-12-24T20:33:55.911Z"
   },
   {
    "duration": 37,
    "start_time": "2022-12-24T20:33:55.926Z"
   },
   {
    "duration": 132,
    "start_time": "2022-12-24T20:33:55.966Z"
   },
   {
    "duration": 12,
    "start_time": "2022-12-24T20:33:56.100Z"
   },
   {
    "duration": 16,
    "start_time": "2022-12-24T20:33:56.330Z"
   },
   {
    "duration": 18,
    "start_time": "2022-12-24T20:33:56.920Z"
   },
   {
    "duration": 28,
    "start_time": "2022-12-24T20:33:57.544Z"
   },
   {
    "duration": 17,
    "start_time": "2022-12-24T20:33:57.865Z"
   },
   {
    "duration": 27,
    "start_time": "2022-12-24T20:33:58.524Z"
   },
   {
    "duration": 21,
    "start_time": "2022-12-24T20:33:59.182Z"
   },
   {
    "duration": 11,
    "start_time": "2022-12-24T20:33:59.485Z"
   },
   {
    "duration": 50,
    "start_time": "2022-12-24T20:33:59.790Z"
   },
   {
    "duration": 3,
    "start_time": "2022-12-24T20:34:13.041Z"
   },
   {
    "duration": 9,
    "start_time": "2022-12-24T20:34:13.490Z"
   },
   {
    "duration": 39,
    "start_time": "2022-12-24T20:34:13.970Z"
   },
   {
    "duration": 22,
    "start_time": "2022-12-24T20:34:14.958Z"
   },
   {
    "duration": 380,
    "start_time": "2022-12-24T20:34:15.598Z"
   },
   {
    "duration": 17,
    "start_time": "2022-12-24T20:34:29.716Z"
   },
   {
    "duration": 53,
    "start_time": "2022-12-24T20:34:30.482Z"
   },
   {
    "duration": 4,
    "start_time": "2022-12-24T20:34:33.935Z"
   },
   {
    "duration": 3,
    "start_time": "2022-12-24T20:34:34.762Z"
   },
   {
    "duration": 4,
    "start_time": "2022-12-24T20:34:35.506Z"
   },
   {
    "duration": 4,
    "start_time": "2022-12-24T20:34:36.155Z"
   },
   {
    "duration": 6,
    "start_time": "2022-12-24T20:34:36.634Z"
   },
   {
    "duration": 117932,
    "start_time": "2022-12-24T20:34:40.195Z"
   },
   {
    "duration": 4,
    "start_time": "2022-12-24T20:36:38.129Z"
   },
   {
    "duration": 21,
    "start_time": "2022-12-24T20:36:38.135Z"
   },
   {
    "duration": 7,
    "start_time": "2022-12-24T20:36:38.159Z"
   },
   {
    "duration": 791,
    "start_time": "2022-12-24T20:36:38.168Z"
   },
   {
    "duration": 7,
    "start_time": "2022-12-24T20:36:38.960Z"
   },
   {
    "duration": 1630,
    "start_time": "2022-12-24T20:44:14.443Z"
   },
   {
    "duration": 936,
    "start_time": "2022-12-24T20:44:16.076Z"
   },
   {
    "duration": 153,
    "start_time": "2022-12-24T20:44:17.014Z"
   },
   {
    "duration": 22,
    "start_time": "2022-12-24T20:44:17.169Z"
   },
   {
    "duration": 132,
    "start_time": "2022-12-24T20:44:17.192Z"
   },
   {
    "duration": 1054,
    "start_time": "2022-12-24T20:44:17.326Z"
   },
   {
    "duration": 219,
    "start_time": "2022-12-24T20:44:18.382Z"
   },
   {
    "duration": 137,
    "start_time": "2022-12-24T20:44:18.603Z"
   },
   {
    "duration": 1145,
    "start_time": "2022-12-24T20:44:18.742Z"
   },
   {
    "duration": 635,
    "start_time": "2022-12-24T20:44:19.889Z"
   },
   {
    "duration": 187,
    "start_time": "2022-12-24T20:44:20.526Z"
   },
   {
    "duration": 14,
    "start_time": "2022-12-24T20:44:20.715Z"
   },
   {
    "duration": 438,
    "start_time": "2022-12-24T20:44:20.731Z"
   },
   {
    "duration": 353,
    "start_time": "2022-12-24T20:44:21.172Z"
   },
   {
    "duration": 25,
    "start_time": "2022-12-24T20:44:21.526Z"
   },
   {
    "duration": 106,
    "start_time": "2022-12-24T20:44:21.552Z"
   },
   {
    "duration": 296,
    "start_time": "2022-12-24T20:44:21.660Z"
   },
   {
    "duration": 12,
    "start_time": "2022-12-24T20:44:21.959Z"
   },
   {
    "duration": 70,
    "start_time": "2022-12-24T20:44:21.972Z"
   },
   {
    "duration": 355,
    "start_time": "2022-12-24T20:44:22.044Z"
   },
   {
    "duration": 314,
    "start_time": "2022-12-24T20:44:22.401Z"
   },
   {
    "duration": 34,
    "start_time": "2022-12-24T20:44:22.717Z"
   },
   {
    "duration": 287,
    "start_time": "2022-12-24T20:44:22.752Z"
   },
   {
    "duration": 468,
    "start_time": "2022-12-24T20:44:23.041Z"
   },
   {
    "duration": 94,
    "start_time": "2022-12-24T20:44:23.512Z"
   },
   {
    "duration": 27,
    "start_time": "2022-12-24T20:44:25.063Z"
   },
   {
    "duration": 14,
    "start_time": "2022-12-24T20:44:25.319Z"
   },
   {
    "duration": 75,
    "start_time": "2022-12-24T20:44:25.560Z"
   },
   {
    "duration": 20,
    "start_time": "2022-12-24T20:44:25.880Z"
   },
   {
    "duration": 64,
    "start_time": "2022-12-24T20:44:26.400Z"
   },
   {
    "duration": 15,
    "start_time": "2022-12-24T20:44:26.736Z"
   },
   {
    "duration": 3,
    "start_time": "2022-12-24T20:44:27.228Z"
   },
   {
    "duration": 2524,
    "start_time": "2022-12-24T20:44:27.637Z"
   },
   {
    "duration": 20,
    "start_time": "2022-12-24T20:44:30.164Z"
   },
   {
    "duration": 45,
    "start_time": "2022-12-24T20:44:30.186Z"
   },
   {
    "duration": 42,
    "start_time": "2022-12-24T20:44:30.234Z"
   },
   {
    "duration": 41,
    "start_time": "2022-12-24T20:44:30.278Z"
   },
   {
    "duration": 100,
    "start_time": "2022-12-24T20:44:30.321Z"
   },
   {
    "duration": 15,
    "start_time": "2022-12-24T20:44:30.744Z"
   },
   {
    "duration": 2726,
    "start_time": "2022-12-24T20:44:31.121Z"
   },
   {
    "duration": 14,
    "start_time": "2022-12-24T20:44:33.850Z"
   },
   {
    "duration": 31,
    "start_time": "2022-12-24T20:44:33.866Z"
   },
   {
    "duration": 134,
    "start_time": "2022-12-24T20:44:33.900Z"
   },
   {
    "duration": 19,
    "start_time": "2022-12-24T20:44:34.036Z"
   },
   {
    "duration": 14,
    "start_time": "2022-12-24T20:44:34.500Z"
   },
   {
    "duration": 19,
    "start_time": "2022-12-24T20:44:35.124Z"
   },
   {
    "duration": 28,
    "start_time": "2022-12-24T20:44:36.080Z"
   },
   {
    "duration": 16,
    "start_time": "2022-12-24T20:44:36.632Z"
   },
   {
    "duration": 31,
    "start_time": "2022-12-24T20:44:37.633Z"
   },
   {
    "duration": 19,
    "start_time": "2022-12-24T20:44:38.847Z"
   },
   {
    "duration": 14,
    "start_time": "2022-12-24T20:44:39.204Z"
   },
   {
    "duration": 52,
    "start_time": "2022-12-24T20:44:39.725Z"
   },
   {
    "duration": 11,
    "start_time": "2022-12-24T20:44:42.162Z"
   },
   {
    "duration": 41,
    "start_time": "2022-12-24T20:44:42.697Z"
   },
   {
    "duration": 21,
    "start_time": "2022-12-24T20:44:45.077Z"
   },
   {
    "duration": 3,
    "start_time": "2022-12-24T20:44:46.143Z"
   },
   {
    "duration": 381,
    "start_time": "2022-12-24T20:44:46.664Z"
   },
   {
    "duration": 17,
    "start_time": "2022-12-24T20:44:47.408Z"
   },
   {
    "duration": 130,
    "start_time": "2022-12-24T20:44:48.441Z"
   },
   {
    "duration": 13,
    "start_time": "2022-12-24T20:44:48.925Z"
   },
   {
    "duration": 4,
    "start_time": "2022-12-24T20:45:03.620Z"
   },
   {
    "duration": 3,
    "start_time": "2022-12-24T20:45:03.989Z"
   },
   {
    "duration": 3,
    "start_time": "2022-12-24T20:45:04.357Z"
   },
   {
    "duration": 3,
    "start_time": "2022-12-24T20:45:04.737Z"
   },
   {
    "duration": 8,
    "start_time": "2022-12-24T20:45:05.313Z"
   },
   {
    "duration": 119964,
    "start_time": "2022-12-24T20:45:06.937Z"
   },
   {
    "duration": 4,
    "start_time": "2022-12-24T20:47:06.902Z"
   },
   {
    "duration": 5,
    "start_time": "2022-12-24T20:47:06.908Z"
   },
   {
    "duration": 5,
    "start_time": "2022-12-24T20:47:06.915Z"
   },
   {
    "duration": 787,
    "start_time": "2022-12-24T20:47:06.922Z"
   },
   {
    "duration": 5,
    "start_time": "2022-12-24T20:47:07.711Z"
   },
   {
    "duration": 11649954,
    "start_time": "2022-12-24T20:47:07.718Z"
   },
   {
    "duration": 543518,
    "start_time": "2022-12-25T00:01:17.751Z"
   },
   {
    "duration": 79,
    "start_time": "2022-12-25T00:10:21.272Z"
   },
   {
    "duration": 8,
    "start_time": "2022-12-25T00:10:21.354Z"
   },
   {
    "duration": 17,
    "start_time": "2022-12-25T00:10:21.364Z"
   },
   {
    "duration": 4086,
    "start_time": "2022-12-25T00:10:21.383Z"
   },
   {
    "duration": 6,
    "start_time": "2022-12-25T00:10:25.471Z"
   },
   {
    "duration": 13,
    "start_time": "2022-12-25T00:10:25.478Z"
   },
   {
    "duration": 5,
    "start_time": "2022-12-25T00:10:25.493Z"
   },
   {
    "duration": 3,
    "start_time": "2022-12-25T00:10:25.552Z"
   },
   {
    "duration": 656052,
    "start_time": "2022-12-25T00:10:25.557Z"
   },
   {
    "duration": 6,
    "start_time": "2022-12-25T00:21:21.611Z"
   },
   {
    "duration": 3,
    "start_time": "2022-12-25T00:21:21.619Z"
   },
   {
    "duration": 7,
    "start_time": "2022-12-25T00:21:21.623Z"
   },
   {
    "duration": 202,
    "start_time": "2022-12-25T00:21:21.650Z"
   },
   {
    "duration": 5,
    "start_time": "2022-12-25T00:21:21.853Z"
   },
   {
    "duration": 8,
    "start_time": "2022-12-25T00:21:21.860Z"
   },
   {
    "duration": 4100,
    "start_time": "2022-12-25T00:21:21.869Z"
   },
   {
    "duration": 5,
    "start_time": "2022-12-25T00:21:25.971Z"
   },
   {
    "duration": 5,
    "start_time": "2022-12-25T00:21:25.978Z"
   },
   {
    "duration": 8,
    "start_time": "2022-12-25T00:21:25.985Z"
   },
   {
    "duration": 2,
    "start_time": "2022-12-25T00:21:25.997Z"
   },
   {
    "duration": 5,
    "start_time": "2022-12-25T00:21:26.051Z"
   },
   {
    "duration": 5,
    "start_time": "2022-12-25T01:30:38.465Z"
   }
  ],
  "kernelspec": {
   "display_name": "Python 3",
   "language": "python",
   "name": "python3"
  },
  "language_info": {
   "codemirror_mode": {
    "name": "ipython",
    "version": 3
   },
   "file_extension": ".py",
   "mimetype": "text/x-python",
   "name": "python",
   "nbconvert_exporter": "python",
   "pygments_lexer": "ipython3",
   "version": "3.9.13 (tags/v3.9.13:6de2ca5, May 17 2022, 16:36:42) [MSC v.1929 64 bit (AMD64)]"
  },
  "toc": {
   "base_numbering": 1,
   "nav_menu": {},
   "number_sections": true,
   "sideBar": true,
   "skip_h1_title": true,
   "title_cell": "Table of Contents",
   "title_sidebar": "Contents",
   "toc_cell": false,
   "toc_position": {},
   "toc_section_display": true,
   "toc_window_display": false
  },
  "vscode": {
   "interpreter": {
    "hash": "776c22ba5f7df23aea7492efe904b60bfc92e3ac4cc28e069830ba47b2bb13d9"
   }
  }
 },
 "nbformat": 4,
 "nbformat_minor": 2
}
