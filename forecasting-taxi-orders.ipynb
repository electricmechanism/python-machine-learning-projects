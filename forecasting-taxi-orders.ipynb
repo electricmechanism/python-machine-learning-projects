{
 "cells": [
  {
   "cell_type": "markdown",
   "metadata": {},
   "source": [
    "#  Прогнозирование заказов такси"
   ]
  },
  {
   "cell_type": "markdown",
   "metadata": {},
   "source": [
    "Компания «Чётенькое такси» собрала исторические данные о заказах такси в аэропортах. Чтобы привлекать больше водителей в период пиковой нагрузки, нужно спрогнозировать количество заказов такси на следующий час. Постройте модель для такого предсказания.\n",
    "\n",
    "Значение метрики *RMSE* на тестовой выборке должно быть не больше 48.\n",
    "\n",
    "Вам нужно:\n",
    "\n",
    "1. Загрузить данные и выполнить их ресемплирование по одному часу.\n",
    "2. Проанализировать данные.\n",
    "3. Обучить разные модели с различными гиперпараметрами. Сделать тестовую выборку размером 10% от исходных данных.\n",
    "4. Проверить данные на тестовой выборке и сделать выводы.\n",
    "\n",
    "\n",
    "Данные лежат в файле `taxi.csv`. Количество заказов находится в столбце `num_orders` (от англ. *number of orders*, «число заказов»)."
   ]
  },
  {
   "cell_type": "markdown",
   "metadata": {},
   "source": [
    "## Подготовка"
   ]
  },
  {
   "cell_type": "code",
   "execution_count": 1,
   "metadata": {},
   "outputs": [],
   "source": [
    "import matplotlib.pyplot as plt\n",
    "import numpy as np\n",
    "import pandas as pd\n",
    "import seaborn as sns\n",
    "\n",
    "from statsmodels.tsa.seasonal import seasonal_decompose\n",
    "from statsmodels.tsa.stattools import adfuller\n",
    "import statsmodels.api as sm\n",
    "from statsmodels.graphics.tsaplots import plot_acf\n",
    "import matplotlib as mpl\n",
    "\n",
    "from sklearn.model_selection import train_test_split\n",
    "\n",
    "from sklearn.preprocessing import StandardScaler\n",
    "\n",
    "from sklearn.metrics import mean_squared_error\n",
    "from sklearn.metrics import make_scorer\n",
    "\n",
    "from sklearn.model_selection import cross_val_score\n",
    "from sklearn.model_selection import GridSearchCV\n",
    "from sklearn.model_selection import TimeSeriesSplit\n",
    "\n",
    "from sklearn.linear_model import LinearRegression\n",
    "from sklearn.ensemble import RandomForestRegressor\n",
    "import lightgbm as lgb\n",
    "from xgboost import XGBRegressor\n",
    "\n",
    "from sklearn.dummy import DummyRegressor\n",
    "\n",
    "import time\n",
    "import warnings\n",
    "warnings.filterwarnings('ignore')"
   ]
  },
  {
   "cell_type": "code",
   "execution_count": 2,
   "metadata": {},
   "outputs": [],
   "source": [
    "data = pd.read_csv('/datasets/taxi.csv',index_col=[0], parse_dates=[0]) "
   ]
  },
  {
   "cell_type": "code",
   "execution_count": 3,
   "metadata": {},
   "outputs": [
    {
     "data": {
      "text/plain": [
       "True"
      ]
     },
     "metadata": {},
     "output_type": "display_data"
    }
   ],
   "source": [
    "display(data.index.is_monotonic)"
   ]
  },
  {
   "cell_type": "code",
   "execution_count": 4,
   "metadata": {},
   "outputs": [
    {
     "data": {
      "text/html": [
       "<div>\n",
       "<style scoped>\n",
       "    .dataframe tbody tr th:only-of-type {\n",
       "        vertical-align: middle;\n",
       "    }\n",
       "\n",
       "    .dataframe tbody tr th {\n",
       "        vertical-align: top;\n",
       "    }\n",
       "\n",
       "    .dataframe thead th {\n",
       "        text-align: right;\n",
       "    }\n",
       "</style>\n",
       "<table border=\"1\" class=\"dataframe\">\n",
       "  <thead>\n",
       "    <tr style=\"text-align: right;\">\n",
       "      <th></th>\n",
       "      <th>num_orders</th>\n",
       "    </tr>\n",
       "    <tr>\n",
       "      <th>datetime</th>\n",
       "      <th></th>\n",
       "    </tr>\n",
       "  </thead>\n",
       "  <tbody>\n",
       "    <tr>\n",
       "      <th>2018-03-01 00:00:00</th>\n",
       "      <td>9</td>\n",
       "    </tr>\n",
       "    <tr>\n",
       "      <th>2018-03-01 00:10:00</th>\n",
       "      <td>14</td>\n",
       "    </tr>\n",
       "    <tr>\n",
       "      <th>2018-03-01 00:20:00</th>\n",
       "      <td>28</td>\n",
       "    </tr>\n",
       "    <tr>\n",
       "      <th>2018-03-01 00:30:00</th>\n",
       "      <td>20</td>\n",
       "    </tr>\n",
       "    <tr>\n",
       "      <th>2018-03-01 00:40:00</th>\n",
       "      <td>32</td>\n",
       "    </tr>\n",
       "    <tr>\n",
       "      <th>2018-03-01 00:50:00</th>\n",
       "      <td>21</td>\n",
       "    </tr>\n",
       "    <tr>\n",
       "      <th>2018-03-01 01:00:00</th>\n",
       "      <td>7</td>\n",
       "    </tr>\n",
       "    <tr>\n",
       "      <th>2018-03-01 01:10:00</th>\n",
       "      <td>5</td>\n",
       "    </tr>\n",
       "    <tr>\n",
       "      <th>2018-03-01 01:20:00</th>\n",
       "      <td>17</td>\n",
       "    </tr>\n",
       "    <tr>\n",
       "      <th>2018-03-01 01:30:00</th>\n",
       "      <td>12</td>\n",
       "    </tr>\n",
       "  </tbody>\n",
       "</table>\n",
       "</div>"
      ],
      "text/plain": [
       "                     num_orders\n",
       "datetime                       \n",
       "2018-03-01 00:00:00           9\n",
       "2018-03-01 00:10:00          14\n",
       "2018-03-01 00:20:00          28\n",
       "2018-03-01 00:30:00          20\n",
       "2018-03-01 00:40:00          32\n",
       "2018-03-01 00:50:00          21\n",
       "2018-03-01 01:00:00           7\n",
       "2018-03-01 01:10:00           5\n",
       "2018-03-01 01:20:00          17\n",
       "2018-03-01 01:30:00          12"
      ]
     },
     "metadata": {},
     "output_type": "display_data"
    }
   ],
   "source": [
    "display(data.head(10))"
   ]
  },
  {
   "cell_type": "code",
   "execution_count": 5,
   "metadata": {},
   "outputs": [
    {
     "name": "stdout",
     "output_type": "stream",
     "text": [
      "<class 'pandas.core.frame.DataFrame'>\n",
      "DatetimeIndex: 26496 entries, 2018-03-01 00:00:00 to 2018-08-31 23:50:00\n",
      "Data columns (total 1 columns):\n",
      " #   Column      Non-Null Count  Dtype\n",
      "---  ------      --------------  -----\n",
      " 0   num_orders  26496 non-null  int64\n",
      "dtypes: int64(1)\n",
      "memory usage: 414.0 KB\n"
     ]
    }
   ],
   "source": [
    "data.info()"
   ]
  },
  {
   "cell_type": "markdown",
   "metadata": {},
   "source": [
    "<div style=\"background-color: WhiteSmoke; border-left: 7px solid Silver\">\n",
    "В набор данных входят столбцы: <br> \n",
    "datetime - дата и время заказа такси, <br>\n",
    "num_orders - количество заказов такси (целевой признак). <br>\n",
    "Пропуски в данных отсутствуют.   \n",
    "</div>"
   ]
  },
  {
   "cell_type": "markdown",
   "metadata": {},
   "source": [
    "## Анализ"
   ]
  },
  {
   "cell_type": "markdown",
   "metadata": {},
   "source": [
    "<div style=\"background-color: WhiteSmoke; border-left: 7px solid Silver\">\n",
    "<b>Разложение временного ряда на компоненты</b>   \n",
    "</div>"
   ]
  },
  {
   "cell_type": "code",
   "execution_count": 6,
   "metadata": {},
   "outputs": [
    {
     "name": "stdout",
     "output_type": "stream",
     "text": [
      "-Начальная дата- 2018-03-01 00:00:00\n",
      "-Конечная дата- 2018-08-31 23:50:00\n",
      "-Общее время- 183 days 23:50:00\n"
     ]
    }
   ],
   "source": [
    "print('-Начальная дата-',data.index.min())\n",
    "print('-Конечная дата-',data.index.max())\n",
    "print('-Общее время-',data.index.max() - data.index.min())"
   ]
  },
  {
   "cell_type": "code",
   "execution_count": 7,
   "metadata": {},
   "outputs": [
    {
     "data": {
      "text/html": [
       "<div>\n",
       "<style scoped>\n",
       "    .dataframe tbody tr th:only-of-type {\n",
       "        vertical-align: middle;\n",
       "    }\n",
       "\n",
       "    .dataframe tbody tr th {\n",
       "        vertical-align: top;\n",
       "    }\n",
       "\n",
       "    .dataframe thead th {\n",
       "        text-align: right;\n",
       "    }\n",
       "</style>\n",
       "<table border=\"1\" class=\"dataframe\">\n",
       "  <thead>\n",
       "    <tr style=\"text-align: right;\">\n",
       "      <th></th>\n",
       "      <th>num_orders</th>\n",
       "    </tr>\n",
       "  </thead>\n",
       "  <tbody>\n",
       "    <tr>\n",
       "      <th>count</th>\n",
       "      <td>26496.000000</td>\n",
       "    </tr>\n",
       "    <tr>\n",
       "      <th>mean</th>\n",
       "      <td>14.070463</td>\n",
       "    </tr>\n",
       "    <tr>\n",
       "      <th>std</th>\n",
       "      <td>9.211330</td>\n",
       "    </tr>\n",
       "    <tr>\n",
       "      <th>min</th>\n",
       "      <td>0.000000</td>\n",
       "    </tr>\n",
       "    <tr>\n",
       "      <th>25%</th>\n",
       "      <td>8.000000</td>\n",
       "    </tr>\n",
       "    <tr>\n",
       "      <th>50%</th>\n",
       "      <td>13.000000</td>\n",
       "    </tr>\n",
       "    <tr>\n",
       "      <th>75%</th>\n",
       "      <td>19.000000</td>\n",
       "    </tr>\n",
       "    <tr>\n",
       "      <th>max</th>\n",
       "      <td>119.000000</td>\n",
       "    </tr>\n",
       "  </tbody>\n",
       "</table>\n",
       "</div>"
      ],
      "text/plain": [
       "         num_orders\n",
       "count  26496.000000\n",
       "mean      14.070463\n",
       "std        9.211330\n",
       "min        0.000000\n",
       "25%        8.000000\n",
       "50%       13.000000\n",
       "75%       19.000000\n",
       "max      119.000000"
      ]
     },
     "execution_count": 7,
     "metadata": {},
     "output_type": "execute_result"
    }
   ],
   "source": [
    "data.describe()"
   ]
  },
  {
   "cell_type": "code",
   "execution_count": 8,
   "metadata": {},
   "outputs": [
    {
     "data": {
      "text/plain": [
       "<AxesSubplot:xlabel='datetime'>"
      ]
     },
     "execution_count": 8,
     "metadata": {},
     "output_type": "execute_result"
    },
    {
     "data": {
      "image/png": "[encoded data removed]",
      "text/plain": [
       "<Figure size 1008x360 with 1 Axes>"
      ]
     },
     "metadata": {
      "needs_background": "light"
     },
     "output_type": "display_data"
    }
   ],
   "source": [
    "data.resample('1H').sum().plot(figsize=(14, 5))"
   ]
  },
  {
   "cell_type": "code",
   "execution_count": 9,
   "metadata": {},
   "outputs": [
    {
     "data": {
      "text/plain": [
       "<AxesSubplot:xlabel='datetime'>"
      ]
     },
     "execution_count": 9,
     "metadata": {},
     "output_type": "execute_result"
    },
    {
     "data": {
      "image/png": "[encoded data removed]",
      "text/plain": [
       "<Figure size 1008x360 with 1 Axes>"
      ]
     },
     "metadata": {
      "needs_background": "light"
     },
     "output_type": "display_data"
    }
   ],
   "source": [
    "data.resample('1D').sum().plot(figsize=(14, 5))"
   ]
  },
  {
   "cell_type": "code",
   "execution_count": 10,
   "metadata": {},
   "outputs": [
    {
     "data": {
      "text/plain": [
       "<AxesSubplot:xlabel='datetime'>"
      ]
     },
     "execution_count": 10,
     "metadata": {},
     "output_type": "execute_result"
    },
    {
     "data": {
      "image/png": "[encoded data removed]",
      "text/plain": [
       "<Figure size 1008x360 with 1 Axes>"
      ]
     },
     "metadata": {
      "needs_background": "light"
     },
     "output_type": "display_data"
    }
   ],
   "source": [
    "data.rolling(100).mean().plot(figsize=(14, 5))"
   ]
  },
  {
   "cell_type": "code",
   "execution_count": 11,
   "metadata": {},
   "outputs": [],
   "source": [
    "data = data.resample('1H').sum()"
   ]
  },
  {
   "cell_type": "code",
   "execution_count": 12,
   "metadata": {},
   "outputs": [
    {
     "data": {
      "image/png": "[encoded data removed]",
      "text/plain": [
       "<Figure size 864x1008 with 3 Axes>"
      ]
     },
     "metadata": {
      "needs_background": "light"
     },
     "output_type": "display_data"
    }
   ],
   "source": [
    "decomposed = seasonal_decompose(data)\n",
    "\n",
    "plt.figure(figsize=(12, 14))\n",
    "\n",
    "plt.subplot(311)\n",
    "decomposed.trend.plot(ax=plt.gca())\n",
    "plt.title('Trend')\n",
    "\n",
    "plt.subplot(312)\n",
    "decomposed.seasonal.plot(ax=plt.gca())\n",
    "plt.title('Seasonality')\n",
    "\n",
    "plt.subplot(313)\n",
    "decomposed.resid.plot(ax=plt.gca())\n",
    "plt.title('Residuals')\n",
    "plt.tight_layout()"
   ]
  },
  {
   "cell_type": "markdown",
   "metadata": {},
   "source": [
    "<div style=\"background-color: WhiteSmoke; border-left: 7px solid Silver\">\n",
    "Проведем анализ данных для недельного интервала.   \n",
    "</div>"
   ]
  },
  {
   "cell_type": "code",
   "execution_count": 13,
   "metadata": {},
   "outputs": [
    {
     "data": {
      "image/png": "[encoded data removed]",
      "text/plain": [
       "<Figure size 864x1008 with 3 Axes>"
      ]
     },
     "metadata": {
      "needs_background": "light"
     },
     "output_type": "display_data"
    }
   ],
   "source": [
    "decomposed = seasonal_decompose(data['2018-08-01':'2018-08-07'])\n",
    "\n",
    "plt.figure(figsize=(12, 14))\n",
    "\n",
    "plt.subplot(311)\n",
    "decomposed.trend.plot(ax=plt.gca())\n",
    "plt.title('Trend')\n",
    "\n",
    "plt.subplot(312)\n",
    "decomposed.seasonal.plot(ax=plt.gca())\n",
    "plt.title('Seasonality')\n",
    "\n",
    "plt.subplot(313)\n",
    "decomposed.resid.plot(ax=plt.gca())\n",
    "plt.title('Residuals')\n",
    "plt.tight_layout()"
   ]
  },
  {
   "cell_type": "markdown",
   "metadata": {},
   "source": [
    "<div style=\"background-color: WhiteSmoke; border-left: 7px solid Silver\">\n",
    "<b>Стационарность</b>   \n",
    "</div>"
   ]
  },
  {
   "cell_type": "markdown",
   "metadata": {},
   "source": [
    "<div style=\"background-color: WhiteSmoke; border-left: 7px solid Silver\">\n",
    "Для оценки стационарности применим тест Дики-Фуллера (Dickey-Fuller test).    \n",
    "</div>"
   ]
  },
  {
   "cell_type": "code",
   "execution_count": 14,
   "metadata": {},
   "outputs": [
    {
     "name": "stdout",
     "output_type": "stream",
     "text": [
      "Критерий ADF: -3.068924\n",
      "P-значение: 0.028940\n",
      "Критические значения:\n",
      "\t1%: -3.432\n",
      "\t5%: -2.862\n",
      "\t10%: -2.567\n",
      "Нулевая гипотеза отвергнута – Временной ряд стационарен\n"
     ]
    }
   ],
   "source": [
    "result = adfuller(data['num_orders'])\n",
    "\n",
    "print('Критерий ADF: %f' % result[0])\n",
    "\n",
    "print('P-значение: %f' % result[1])\n",
    "\n",
    "print('Критические значения:')\n",
    "\n",
    "for key, value in result[4].items():\n",
    "    print('\\t%s: %.3f' % (key, value))\n",
    "if result[0] < result[4][\"5%\"]:\n",
    "    print (\"Нулевая гипотеза отвергнута – Временной ряд стационарен\")\n",
    "else:\n",
    "    print (\"Нулевая гипотеза не отвергнута – Временной ряд не стационарен\")"
   ]
  },
  {
   "cell_type": "markdown",
   "metadata": {},
   "source": [
    "<div style=\"background-color: WhiteSmoke; border-left: 7px solid Silver\">\n",
    "Вероятность (p-value) для данных меньше, чем 0,05. Временной ряд можно считать стационарным.    \n",
    "</div>"
   ]
  },
  {
   "cell_type": "markdown",
   "metadata": {},
   "source": [
    "<div style=\"background-color: WhiteSmoke; border-left: 7px solid Silver\">\n",
    "<b>Автокорреляция</b>   \n",
    "</div>"
   ]
  },
  {
   "cell_type": "markdown",
   "metadata": {},
   "source": [
    "<div style=\"background-color: WhiteSmoke; border-left: 7px solid Silver\">\n",
    "Автокорреляция также показывает степень взаимосвязи в диапазоне от –1 до 1, но только не двух переменных, а одной и той же переменной в разные моменты времени.    \n",
    "</div>"
   ]
  },
  {
   "cell_type": "code",
   "execution_count": 15,
   "metadata": {},
   "outputs": [
    {
     "data": {
      "image/png": "[encoded data removed]",
      "text/plain": [
       "<Figure size 1008x504 with 1 Axes>"
      ]
     },
     "metadata": {
      "needs_background": "light"
     },
     "output_type": "display_data"
    }
   ],
   "source": [
    "with mpl.rc_context():\n",
    "    mpl.rc(\"figure\", figsize=(14,7))\n",
    "    plot_acf(data, lags=48)"
   ]
  },
  {
   "cell_type": "markdown",
   "metadata": {},
   "source": [
    "<div style=\"background-color: WhiteSmoke; border-left: 7px solid Silver\">\n",
    "Мы видим, что лаг 24 сильнее коррелирует с исходным рядом, чем соседние лаги 23 и 25. Такая автокорреляция позволяет предположить наличие суточных (часовых) колебаний. <br>\n",
    "Анализируя графики декомпозиции временного ряда, а также график автокорреляции, выберем окно для формирования признаков предсказательной модели равным 24.    \n",
    "</div>"
   ]
  },
  {
   "cell_type": "markdown",
   "metadata": {},
   "source": [
    "## Обучение"
   ]
  },
  {
   "cell_type": "code",
   "execution_count": 16,
   "metadata": {},
   "outputs": [],
   "source": [
    "def RMSE(y_true,y_pred):\n",
    "    error = mean_squared_error(y_true, y_pred) ** 0.5 \n",
    "    return error"
   ]
  },
  {
   "cell_type": "code",
   "execution_count": 17,
   "metadata": {},
   "outputs": [],
   "source": [
    "score = make_scorer(RMSE,greater_is_better=False)"
   ]
  },
  {
   "cell_type": "code",
   "execution_count": 18,
   "metadata": {},
   "outputs": [],
   "source": [
    "def make_features(data, max_lag, rolling_mean_size):\n",
    "    \n",
    "    for lag in range(1, max_lag + 1):\n",
    "        data['lag_{}'.format(lag)] = data['num_orders'].shift(lag)\n",
    "\n",
    "    data['year'] = data.index.year\n",
    "    data['month'] = data.index.month\n",
    "    data['day'] = data.index.day\n",
    "    data['weekday'] = data.index.weekday\n",
    "    data['is_weekend'] = data.weekday.isin([5,6])*1 \n",
    "    data['rolling_mean'] = data['num_orders'].shift().rolling(rolling_mean_size).mean()"
   ]
  },
  {
   "cell_type": "code",
   "execution_count": 19,
   "metadata": {},
   "outputs": [],
   "source": [
    "make_features(data, 24, 100)\n",
    "\n",
    "train, test = train_test_split(data, shuffle=False, test_size=0.1)\n",
    "train = train.dropna()\n",
    "\n",
    "features_train  = train.drop('num_orders', axis=1)\n",
    "target_train = train[['num_orders']]\n",
    "features_test = test.drop('num_orders', axis=1)\n",
    "target_test = test[['num_orders']]"
   ]
  },
  {
   "cell_type": "code",
   "execution_count": 20,
   "metadata": {},
   "outputs": [
    {
     "data": {
      "text/html": [
       "<div>\n",
       "<style scoped>\n",
       "    .dataframe tbody tr th:only-of-type {\n",
       "        vertical-align: middle;\n",
       "    }\n",
       "\n",
       "    .dataframe tbody tr th {\n",
       "        vertical-align: top;\n",
       "    }\n",
       "\n",
       "    .dataframe thead th {\n",
       "        text-align: right;\n",
       "    }\n",
       "</style>\n",
       "<table border=\"1\" class=\"dataframe\">\n",
       "  <thead>\n",
       "    <tr style=\"text-align: right;\">\n",
       "      <th></th>\n",
       "      <th>lag_1</th>\n",
       "      <th>lag_2</th>\n",
       "      <th>lag_3</th>\n",
       "      <th>lag_4</th>\n",
       "      <th>lag_5</th>\n",
       "      <th>lag_6</th>\n",
       "      <th>lag_7</th>\n",
       "      <th>lag_8</th>\n",
       "      <th>lag_9</th>\n",
       "      <th>lag_10</th>\n",
       "      <th>...</th>\n",
       "      <th>lag_21</th>\n",
       "      <th>lag_22</th>\n",
       "      <th>lag_23</th>\n",
       "      <th>lag_24</th>\n",
       "      <th>year</th>\n",
       "      <th>month</th>\n",
       "      <th>day</th>\n",
       "      <th>weekday</th>\n",
       "      <th>is_weekend</th>\n",
       "      <th>rolling_mean</th>\n",
       "    </tr>\n",
       "    <tr>\n",
       "      <th>datetime</th>\n",
       "      <th></th>\n",
       "      <th></th>\n",
       "      <th></th>\n",
       "      <th></th>\n",
       "      <th></th>\n",
       "      <th></th>\n",
       "      <th></th>\n",
       "      <th></th>\n",
       "      <th></th>\n",
       "      <th></th>\n",
       "      <th></th>\n",
       "      <th></th>\n",
       "      <th></th>\n",
       "      <th></th>\n",
       "      <th></th>\n",
       "      <th></th>\n",
       "      <th></th>\n",
       "      <th></th>\n",
       "      <th></th>\n",
       "      <th></th>\n",
       "      <th></th>\n",
       "    </tr>\n",
       "  </thead>\n",
       "  <tbody>\n",
       "    <tr>\n",
       "      <th>2018-03-05 04:00:00</th>\n",
       "      <td>51.0</td>\n",
       "      <td>32.0</td>\n",
       "      <td>176.0</td>\n",
       "      <td>86.0</td>\n",
       "      <td>68.0</td>\n",
       "      <td>83.0</td>\n",
       "      <td>75.0</td>\n",
       "      <td>77.0</td>\n",
       "      <td>56.0</td>\n",
       "      <td>80.0</td>\n",
       "      <td>...</td>\n",
       "      <td>12.0</td>\n",
       "      <td>11.0</td>\n",
       "      <td>22.0</td>\n",
       "      <td>27.0</td>\n",
       "      <td>2018</td>\n",
       "      <td>3</td>\n",
       "      <td>5</td>\n",
       "      <td>0</td>\n",
       "      <td>0</td>\n",
       "      <td>56.46</td>\n",
       "    </tr>\n",
       "    <tr>\n",
       "      <th>2018-03-05 05:00:00</th>\n",
       "      <td>34.0</td>\n",
       "      <td>51.0</td>\n",
       "      <td>32.0</td>\n",
       "      <td>176.0</td>\n",
       "      <td>86.0</td>\n",
       "      <td>68.0</td>\n",
       "      <td>83.0</td>\n",
       "      <td>75.0</td>\n",
       "      <td>77.0</td>\n",
       "      <td>56.0</td>\n",
       "      <td>...</td>\n",
       "      <td>39.0</td>\n",
       "      <td>12.0</td>\n",
       "      <td>11.0</td>\n",
       "      <td>22.0</td>\n",
       "      <td>2018</td>\n",
       "      <td>3</td>\n",
       "      <td>5</td>\n",
       "      <td>0</td>\n",
       "      <td>0</td>\n",
       "      <td>55.56</td>\n",
       "    </tr>\n",
       "    <tr>\n",
       "      <th>2018-03-05 06:00:00</th>\n",
       "      <td>16.0</td>\n",
       "      <td>34.0</td>\n",
       "      <td>51.0</td>\n",
       "      <td>32.0</td>\n",
       "      <td>176.0</td>\n",
       "      <td>86.0</td>\n",
       "      <td>68.0</td>\n",
       "      <td>83.0</td>\n",
       "      <td>75.0</td>\n",
       "      <td>77.0</td>\n",
       "      <td>...</td>\n",
       "      <td>39.0</td>\n",
       "      <td>39.0</td>\n",
       "      <td>12.0</td>\n",
       "      <td>11.0</td>\n",
       "      <td>2018</td>\n",
       "      <td>3</td>\n",
       "      <td>5</td>\n",
       "      <td>0</td>\n",
       "      <td>0</td>\n",
       "      <td>54.87</td>\n",
       "    </tr>\n",
       "    <tr>\n",
       "      <th>2018-03-05 07:00:00</th>\n",
       "      <td>3.0</td>\n",
       "      <td>16.0</td>\n",
       "      <td>34.0</td>\n",
       "      <td>51.0</td>\n",
       "      <td>32.0</td>\n",
       "      <td>176.0</td>\n",
       "      <td>86.0</td>\n",
       "      <td>68.0</td>\n",
       "      <td>83.0</td>\n",
       "      <td>75.0</td>\n",
       "      <td>...</td>\n",
       "      <td>19.0</td>\n",
       "      <td>39.0</td>\n",
       "      <td>39.0</td>\n",
       "      <td>12.0</td>\n",
       "      <td>2018</td>\n",
       "      <td>3</td>\n",
       "      <td>5</td>\n",
       "      <td>0</td>\n",
       "      <td>0</td>\n",
       "      <td>54.19</td>\n",
       "    </tr>\n",
       "    <tr>\n",
       "      <th>2018-03-05 08:00:00</th>\n",
       "      <td>14.0</td>\n",
       "      <td>3.0</td>\n",
       "      <td>16.0</td>\n",
       "      <td>34.0</td>\n",
       "      <td>51.0</td>\n",
       "      <td>32.0</td>\n",
       "      <td>176.0</td>\n",
       "      <td>86.0</td>\n",
       "      <td>68.0</td>\n",
       "      <td>83.0</td>\n",
       "      <td>...</td>\n",
       "      <td>41.0</td>\n",
       "      <td>19.0</td>\n",
       "      <td>39.0</td>\n",
       "      <td>39.0</td>\n",
       "      <td>2018</td>\n",
       "      <td>3</td>\n",
       "      <td>5</td>\n",
       "      <td>0</td>\n",
       "      <td>0</td>\n",
       "      <td>53.67</td>\n",
       "    </tr>\n",
       "    <tr>\n",
       "      <th>...</th>\n",
       "      <td>...</td>\n",
       "      <td>...</td>\n",
       "      <td>...</td>\n",
       "      <td>...</td>\n",
       "      <td>...</td>\n",
       "      <td>...</td>\n",
       "      <td>...</td>\n",
       "      <td>...</td>\n",
       "      <td>...</td>\n",
       "      <td>...</td>\n",
       "      <td>...</td>\n",
       "      <td>...</td>\n",
       "      <td>...</td>\n",
       "      <td>...</td>\n",
       "      <td>...</td>\n",
       "      <td>...</td>\n",
       "      <td>...</td>\n",
       "      <td>...</td>\n",
       "      <td>...</td>\n",
       "      <td>...</td>\n",
       "      <td>...</td>\n",
       "    </tr>\n",
       "    <tr>\n",
       "      <th>2018-08-13 09:00:00</th>\n",
       "      <td>91.0</td>\n",
       "      <td>39.0</td>\n",
       "      <td>66.0</td>\n",
       "      <td>83.0</td>\n",
       "      <td>143.0</td>\n",
       "      <td>168.0</td>\n",
       "      <td>437.0</td>\n",
       "      <td>273.0</td>\n",
       "      <td>160.0</td>\n",
       "      <td>185.0</td>\n",
       "      <td>...</td>\n",
       "      <td>123.0</td>\n",
       "      <td>81.0</td>\n",
       "      <td>108.0</td>\n",
       "      <td>108.0</td>\n",
       "      <td>2018</td>\n",
       "      <td>8</td>\n",
       "      <td>13</td>\n",
       "      <td>0</td>\n",
       "      <td>0</td>\n",
       "      <td>117.23</td>\n",
       "    </tr>\n",
       "    <tr>\n",
       "      <th>2018-08-13 10:00:00</th>\n",
       "      <td>137.0</td>\n",
       "      <td>91.0</td>\n",
       "      <td>39.0</td>\n",
       "      <td>66.0</td>\n",
       "      <td>83.0</td>\n",
       "      <td>143.0</td>\n",
       "      <td>168.0</td>\n",
       "      <td>437.0</td>\n",
       "      <td>273.0</td>\n",
       "      <td>160.0</td>\n",
       "      <td>...</td>\n",
       "      <td>120.0</td>\n",
       "      <td>123.0</td>\n",
       "      <td>81.0</td>\n",
       "      <td>108.0</td>\n",
       "      <td>2018</td>\n",
       "      <td>8</td>\n",
       "      <td>13</td>\n",
       "      <td>0</td>\n",
       "      <td>0</td>\n",
       "      <td>117.97</td>\n",
       "    </tr>\n",
       "    <tr>\n",
       "      <th>2018-08-13 11:00:00</th>\n",
       "      <td>156.0</td>\n",
       "      <td>137.0</td>\n",
       "      <td>91.0</td>\n",
       "      <td>39.0</td>\n",
       "      <td>66.0</td>\n",
       "      <td>83.0</td>\n",
       "      <td>143.0</td>\n",
       "      <td>168.0</td>\n",
       "      <td>437.0</td>\n",
       "      <td>273.0</td>\n",
       "      <td>...</td>\n",
       "      <td>104.0</td>\n",
       "      <td>120.0</td>\n",
       "      <td>123.0</td>\n",
       "      <td>81.0</td>\n",
       "      <td>2018</td>\n",
       "      <td>8</td>\n",
       "      <td>13</td>\n",
       "      <td>0</td>\n",
       "      <td>0</td>\n",
       "      <td>119.19</td>\n",
       "    </tr>\n",
       "    <tr>\n",
       "      <th>2018-08-13 12:00:00</th>\n",
       "      <td>144.0</td>\n",
       "      <td>156.0</td>\n",
       "      <td>137.0</td>\n",
       "      <td>91.0</td>\n",
       "      <td>39.0</td>\n",
       "      <td>66.0</td>\n",
       "      <td>83.0</td>\n",
       "      <td>143.0</td>\n",
       "      <td>168.0</td>\n",
       "      <td>437.0</td>\n",
       "      <td>...</td>\n",
       "      <td>149.0</td>\n",
       "      <td>104.0</td>\n",
       "      <td>120.0</td>\n",
       "      <td>123.0</td>\n",
       "      <td>2018</td>\n",
       "      <td>8</td>\n",
       "      <td>13</td>\n",
       "      <td>0</td>\n",
       "      <td>0</td>\n",
       "      <td>120.35</td>\n",
       "    </tr>\n",
       "    <tr>\n",
       "      <th>2018-08-13 13:00:00</th>\n",
       "      <td>92.0</td>\n",
       "      <td>144.0</td>\n",
       "      <td>156.0</td>\n",
       "      <td>137.0</td>\n",
       "      <td>91.0</td>\n",
       "      <td>39.0</td>\n",
       "      <td>66.0</td>\n",
       "      <td>83.0</td>\n",
       "      <td>143.0</td>\n",
       "      <td>168.0</td>\n",
       "      <td>...</td>\n",
       "      <td>153.0</td>\n",
       "      <td>149.0</td>\n",
       "      <td>104.0</td>\n",
       "      <td>120.0</td>\n",
       "      <td>2018</td>\n",
       "      <td>8</td>\n",
       "      <td>13</td>\n",
       "      <td>0</td>\n",
       "      <td>0</td>\n",
       "      <td>120.49</td>\n",
       "    </tr>\n",
       "  </tbody>\n",
       "</table>\n",
       "<p>3874 rows × 30 columns</p>\n",
       "</div>"
      ],
      "text/plain": [
       "                     lag_1  lag_2  lag_3  lag_4  lag_5  lag_6  lag_7  lag_8  \\\n",
       "datetime                                                                      \n",
       "2018-03-05 04:00:00   51.0   32.0  176.0   86.0   68.0   83.0   75.0   77.0   \n",
       "2018-03-05 05:00:00   34.0   51.0   32.0  176.0   86.0   68.0   83.0   75.0   \n",
       "2018-03-05 06:00:00   16.0   34.0   51.0   32.0  176.0   86.0   68.0   83.0   \n",
       "2018-03-05 07:00:00    3.0   16.0   34.0   51.0   32.0  176.0   86.0   68.0   \n",
       "2018-03-05 08:00:00   14.0    3.0   16.0   34.0   51.0   32.0  176.0   86.0   \n",
       "...                    ...    ...    ...    ...    ...    ...    ...    ...   \n",
       "2018-08-13 09:00:00   91.0   39.0   66.0   83.0  143.0  168.0  437.0  273.0   \n",
       "2018-08-13 10:00:00  137.0   91.0   39.0   66.0   83.0  143.0  168.0  437.0   \n",
       "2018-08-13 11:00:00  156.0  137.0   91.0   39.0   66.0   83.0  143.0  168.0   \n",
       "2018-08-13 12:00:00  144.0  156.0  137.0   91.0   39.0   66.0   83.0  143.0   \n",
       "2018-08-13 13:00:00   92.0  144.0  156.0  137.0   91.0   39.0   66.0   83.0   \n",
       "\n",
       "                     lag_9  lag_10  ...  lag_21  lag_22  lag_23  lag_24  year  \\\n",
       "datetime                            ...                                         \n",
       "2018-03-05 04:00:00   56.0    80.0  ...    12.0    11.0    22.0    27.0  2018   \n",
       "2018-03-05 05:00:00   77.0    56.0  ...    39.0    12.0    11.0    22.0  2018   \n",
       "2018-03-05 06:00:00   75.0    77.0  ...    39.0    39.0    12.0    11.0  2018   \n",
       "2018-03-05 07:00:00   83.0    75.0  ...    19.0    39.0    39.0    12.0  2018   \n",
       "2018-03-05 08:00:00   68.0    83.0  ...    41.0    19.0    39.0    39.0  2018   \n",
       "...                    ...     ...  ...     ...     ...     ...     ...   ...   \n",
       "2018-08-13 09:00:00  160.0   185.0  ...   123.0    81.0   108.0   108.0  2018   \n",
       "2018-08-13 10:00:00  273.0   160.0  ...   120.0   123.0    81.0   108.0  2018   \n",
       "2018-08-13 11:00:00  437.0   273.0  ...   104.0   120.0   123.0    81.0  2018   \n",
       "2018-08-13 12:00:00  168.0   437.0  ...   149.0   104.0   120.0   123.0  2018   \n",
       "2018-08-13 13:00:00  143.0   168.0  ...   153.0   149.0   104.0   120.0  2018   \n",
       "\n",
       "                     month  day  weekday  is_weekend  rolling_mean  \n",
       "datetime                                                            \n",
       "2018-03-05 04:00:00      3    5        0           0         56.46  \n",
       "2018-03-05 05:00:00      3    5        0           0         55.56  \n",
       "2018-03-05 06:00:00      3    5        0           0         54.87  \n",
       "2018-03-05 07:00:00      3    5        0           0         54.19  \n",
       "2018-03-05 08:00:00      3    5        0           0         53.67  \n",
       "...                    ...  ...      ...         ...           ...  \n",
       "2018-08-13 09:00:00      8   13        0           0        117.23  \n",
       "2018-08-13 10:00:00      8   13        0           0        117.97  \n",
       "2018-08-13 11:00:00      8   13        0           0        119.19  \n",
       "2018-08-13 12:00:00      8   13        0           0        120.35  \n",
       "2018-08-13 13:00:00      8   13        0           0        120.49  \n",
       "\n",
       "[3874 rows x 30 columns]"
      ]
     },
     "execution_count": 20,
     "metadata": {},
     "output_type": "execute_result"
    }
   ],
   "source": [
    "features_train"
   ]
  },
  {
   "cell_type": "markdown",
   "metadata": {},
   "source": [
    "<div style=\"background-color: WhiteSmoke; border-left: 7px solid Silver\">\n",
    "<p>\n",
    "<b>Масштабирование численных признаков</b>\n",
    "</p>\n",
    "</div>"
   ]
  },
  {
   "cell_type": "code",
   "execution_count": 21,
   "metadata": {},
   "outputs": [],
   "source": [
    "num_cols = ['lag_1','lag_2','lag_3','lag_4','lag_5','lag_6','lag_7','lag_8','lag_9','lag_10','lag_11','lag_12','lag_13','lag_14','lag_15','lag_16','lag_17',\n",
    "            'lag_18','lag_19','lag_20','lag_21','lag_22','lag_23','lag_24','year','month','day','weekday','is_weekend','rolling_mean']\n",
    "scaler = StandardScaler()\n",
    "features_train[num_cols] = scaler.fit_transform(features_train[num_cols])\n",
    "\n",
    "features_test[num_cols] = scaler.transform(features_test[num_cols])"
   ]
  },
  {
   "cell_type": "code",
   "execution_count": 22,
   "metadata": {},
   "outputs": [
    {
     "data": {
      "text/html": [
       "<div>\n",
       "<style scoped>\n",
       "    .dataframe tbody tr th:only-of-type {\n",
       "        vertical-align: middle;\n",
       "    }\n",
       "\n",
       "    .dataframe tbody tr th {\n",
       "        vertical-align: top;\n",
       "    }\n",
       "\n",
       "    .dataframe thead th {\n",
       "        text-align: right;\n",
       "    }\n",
       "</style>\n",
       "<table border=\"1\" class=\"dataframe\">\n",
       "  <thead>\n",
       "    <tr style=\"text-align: right;\">\n",
       "      <th></th>\n",
       "      <th>lag_1</th>\n",
       "      <th>lag_2</th>\n",
       "      <th>lag_3</th>\n",
       "      <th>lag_4</th>\n",
       "      <th>lag_5</th>\n",
       "      <th>lag_6</th>\n",
       "      <th>lag_7</th>\n",
       "      <th>lag_8</th>\n",
       "      <th>lag_9</th>\n",
       "      <th>lag_10</th>\n",
       "      <th>...</th>\n",
       "      <th>lag_21</th>\n",
       "      <th>lag_22</th>\n",
       "      <th>lag_23</th>\n",
       "      <th>lag_24</th>\n",
       "      <th>year</th>\n",
       "      <th>month</th>\n",
       "      <th>day</th>\n",
       "      <th>weekday</th>\n",
       "      <th>is_weekend</th>\n",
       "      <th>rolling_mean</th>\n",
       "    </tr>\n",
       "    <tr>\n",
       "      <th>datetime</th>\n",
       "      <th></th>\n",
       "      <th></th>\n",
       "      <th></th>\n",
       "      <th></th>\n",
       "      <th></th>\n",
       "      <th></th>\n",
       "      <th></th>\n",
       "      <th></th>\n",
       "      <th></th>\n",
       "      <th></th>\n",
       "      <th></th>\n",
       "      <th></th>\n",
       "      <th></th>\n",
       "      <th></th>\n",
       "      <th></th>\n",
       "      <th></th>\n",
       "      <th></th>\n",
       "      <th></th>\n",
       "      <th></th>\n",
       "      <th></th>\n",
       "      <th></th>\n",
       "    </tr>\n",
       "  </thead>\n",
       "  <tbody>\n",
       "    <tr>\n",
       "      <th>2018-03-05 04:00:00</th>\n",
       "      <td>-0.719908</td>\n",
       "      <td>-1.210673</td>\n",
       "      <td>2.511455</td>\n",
       "      <td>0.185892</td>\n",
       "      <td>-0.279188</td>\n",
       "      <td>0.108861</td>\n",
       "      <td>-0.098325</td>\n",
       "      <td>-0.046659</td>\n",
       "      <td>-0.589733</td>\n",
       "      <td>0.031563</td>\n",
       "      <td>...</td>\n",
       "      <td>-1.746057</td>\n",
       "      <td>-1.771544</td>\n",
       "      <td>-1.481710</td>\n",
       "      <td>-1.349469</td>\n",
       "      <td>0.0</td>\n",
       "      <td>-1.467671</td>\n",
       "      <td>-1.192587</td>\n",
       "      <td>-1.493731</td>\n",
       "      <td>-0.631313</td>\n",
       "      <td>-1.225223</td>\n",
       "    </tr>\n",
       "    <tr>\n",
       "      <th>2018-03-05 05:00:00</th>\n",
       "      <td>-1.159560</td>\n",
       "      <td>-0.719382</td>\n",
       "      <td>-1.210344</td>\n",
       "      <td>2.513202</td>\n",
       "      <td>0.186406</td>\n",
       "      <td>-0.279137</td>\n",
       "      <td>0.108636</td>\n",
       "      <td>-0.098400</td>\n",
       "      <td>-0.046477</td>\n",
       "      <td>-0.589522</td>\n",
       "      <td>...</td>\n",
       "      <td>-1.036239</td>\n",
       "      <td>-1.745252</td>\n",
       "      <td>-1.770969</td>\n",
       "      <td>-1.480926</td>\n",
       "      <td>0.0</td>\n",
       "      <td>-1.467671</td>\n",
       "      <td>-1.192587</td>\n",
       "      <td>-1.493731</td>\n",
       "      <td>-0.631313</td>\n",
       "      <td>-1.276470</td>\n",
       "    </tr>\n",
       "    <tr>\n",
       "      <th>2018-03-05 06:00:00</th>\n",
       "      <td>-1.625075</td>\n",
       "      <td>-1.158958</td>\n",
       "      <td>-0.719273</td>\n",
       "      <td>-1.210493</td>\n",
       "      <td>2.514372</td>\n",
       "      <td>0.186461</td>\n",
       "      <td>-0.279416</td>\n",
       "      <td>0.108564</td>\n",
       "      <td>-0.098215</td>\n",
       "      <td>-0.046072</td>\n",
       "      <td>...</td>\n",
       "      <td>-1.036239</td>\n",
       "      <td>-1.035369</td>\n",
       "      <td>-1.744672</td>\n",
       "      <td>-1.770134</td>\n",
       "      <td>0.0</td>\n",
       "      <td>-1.467671</td>\n",
       "      <td>-1.192587</td>\n",
       "      <td>-1.493731</td>\n",
       "      <td>-0.631313</td>\n",
       "      <td>-1.315759</td>\n",
       "    </tr>\n",
       "    <tr>\n",
       "      <th>2018-03-05 07:00:00</th>\n",
       "      <td>-1.961280</td>\n",
       "      <td>-1.624391</td>\n",
       "      <td>-1.158652</td>\n",
       "      <td>-0.719172</td>\n",
       "      <td>-1.210374</td>\n",
       "      <td>2.514454</td>\n",
       "      <td>0.186246</td>\n",
       "      <td>-0.279493</td>\n",
       "      <td>0.108739</td>\n",
       "      <td>-0.097829</td>\n",
       "      <td>...</td>\n",
       "      <td>-1.562030</td>\n",
       "      <td>-1.035369</td>\n",
       "      <td>-1.034675</td>\n",
       "      <td>-1.743842</td>\n",
       "      <td>0.0</td>\n",
       "      <td>-1.467671</td>\n",
       "      <td>-1.192587</td>\n",
       "      <td>-1.493731</td>\n",
       "      <td>-0.631313</td>\n",
       "      <td>-1.354479</td>\n",
       "    </tr>\n",
       "    <tr>\n",
       "      <th>2018-03-05 08:00:00</th>\n",
       "      <td>-1.676799</td>\n",
       "      <td>-1.960537</td>\n",
       "      <td>-1.623877</td>\n",
       "      <td>-1.158775</td>\n",
       "      <td>-0.718915</td>\n",
       "      <td>-1.210335</td>\n",
       "      <td>2.514554</td>\n",
       "      <td>0.186175</td>\n",
       "      <td>-0.279301</td>\n",
       "      <td>0.109199</td>\n",
       "      <td>...</td>\n",
       "      <td>-0.983659</td>\n",
       "      <td>-1.561208</td>\n",
       "      <td>-1.034675</td>\n",
       "      <td>-1.033970</td>\n",
       "      <td>0.0</td>\n",
       "      <td>-1.467671</td>\n",
       "      <td>-1.192587</td>\n",
       "      <td>-1.493731</td>\n",
       "      <td>-0.631313</td>\n",
       "      <td>-1.384088</td>\n",
       "    </tr>\n",
       "    <tr>\n",
       "      <th>...</th>\n",
       "      <td>...</td>\n",
       "      <td>...</td>\n",
       "      <td>...</td>\n",
       "      <td>...</td>\n",
       "      <td>...</td>\n",
       "      <td>...</td>\n",
       "      <td>...</td>\n",
       "      <td>...</td>\n",
       "      <td>...</td>\n",
       "      <td>...</td>\n",
       "      <td>...</td>\n",
       "      <td>...</td>\n",
       "      <td>...</td>\n",
       "      <td>...</td>\n",
       "      <td>...</td>\n",
       "      <td>...</td>\n",
       "      <td>...</td>\n",
       "      <td>...</td>\n",
       "      <td>...</td>\n",
       "      <td>...</td>\n",
       "      <td>...</td>\n",
       "    </tr>\n",
       "    <tr>\n",
       "      <th>2018-08-13 09:00:00</th>\n",
       "      <td>0.314569</td>\n",
       "      <td>-1.029671</td>\n",
       "      <td>-0.331586</td>\n",
       "      <td>0.108315</td>\n",
       "      <td>1.660784</td>\n",
       "      <td>2.307521</td>\n",
       "      <td>9.266648</td>\n",
       "      <td>5.023950</td>\n",
       "      <td>2.100678</td>\n",
       "      <td>2.748810</td>\n",
       "      <td>...</td>\n",
       "      <td>1.172084</td>\n",
       "      <td>0.068893</td>\n",
       "      <td>0.779763</td>\n",
       "      <td>0.780148</td>\n",
       "      <td>0.0</td>\n",
       "      <td>1.743170</td>\n",
       "      <td>-0.278986</td>\n",
       "      <td>-1.493731</td>\n",
       "      <td>-0.631313</td>\n",
       "      <td>2.235079</td>\n",
       "    </tr>\n",
       "    <tr>\n",
       "      <th>2018-08-13 10:00:00</th>\n",
       "      <td>1.504217</td>\n",
       "      <td>0.314914</td>\n",
       "      <td>-1.029423</td>\n",
       "      <td>-0.331287</td>\n",
       "      <td>0.108807</td>\n",
       "      <td>1.660857</td>\n",
       "      <td>2.307594</td>\n",
       "      <td>9.266704</td>\n",
       "      <td>5.023912</td>\n",
       "      <td>2.101847</td>\n",
       "      <td>...</td>\n",
       "      <td>1.093215</td>\n",
       "      <td>1.173154</td>\n",
       "      <td>0.069766</td>\n",
       "      <td>0.780148</td>\n",
       "      <td>0.0</td>\n",
       "      <td>1.743170</td>\n",
       "      <td>-0.278986</td>\n",
       "      <td>-1.493731</td>\n",
       "      <td>-0.631313</td>\n",
       "      <td>2.277216</td>\n",
       "    </tr>\n",
       "    <tr>\n",
       "      <th>2018-08-13 11:00:00</th>\n",
       "      <td>1.995593</td>\n",
       "      <td>1.504355</td>\n",
       "      <td>0.314560</td>\n",
       "      <td>-1.029480</td>\n",
       "      <td>-0.330920</td>\n",
       "      <td>0.108861</td>\n",
       "      <td>1.660841</td>\n",
       "      <td>2.307552</td>\n",
       "      <td>9.266482</td>\n",
       "      <td>5.026122</td>\n",
       "      <td>...</td>\n",
       "      <td>0.672582</td>\n",
       "      <td>1.094279</td>\n",
       "      <td>1.174206</td>\n",
       "      <td>0.070276</td>\n",
       "      <td>0.0</td>\n",
       "      <td>1.743170</td>\n",
       "      <td>-0.278986</td>\n",
       "      <td>-1.493731</td>\n",
       "      <td>-0.631313</td>\n",
       "      <td>2.346684</td>\n",
       "    </tr>\n",
       "    <tr>\n",
       "      <th>2018-08-13 12:00:00</th>\n",
       "      <td>1.685250</td>\n",
       "      <td>1.995646</td>\n",
       "      <td>1.503468</td>\n",
       "      <td>0.315187</td>\n",
       "      <td>-1.029310</td>\n",
       "      <td>-0.330871</td>\n",
       "      <td>0.108636</td>\n",
       "      <td>1.660791</td>\n",
       "      <td>2.307632</td>\n",
       "      <td>9.270203</td>\n",
       "      <td>...</td>\n",
       "      <td>1.855612</td>\n",
       "      <td>0.673607</td>\n",
       "      <td>1.095318</td>\n",
       "      <td>1.174522</td>\n",
       "      <td>0.0</td>\n",
       "      <td>1.743170</td>\n",
       "      <td>-0.278986</td>\n",
       "      <td>-1.493731</td>\n",
       "      <td>-0.631313</td>\n",
       "      <td>2.412735</td>\n",
       "    </tr>\n",
       "    <tr>\n",
       "      <th>2018-08-13 13:00:00</th>\n",
       "      <td>0.340431</td>\n",
       "      <td>1.685357</td>\n",
       "      <td>1.994538</td>\n",
       "      <td>1.504701</td>\n",
       "      <td>0.315737</td>\n",
       "      <td>-1.029268</td>\n",
       "      <td>-0.331156</td>\n",
       "      <td>0.108564</td>\n",
       "      <td>1.660899</td>\n",
       "      <td>2.308875</td>\n",
       "      <td>...</td>\n",
       "      <td>1.960770</td>\n",
       "      <td>1.856745</td>\n",
       "      <td>0.674578</td>\n",
       "      <td>1.095647</td>\n",
       "      <td>0.0</td>\n",
       "      <td>1.743170</td>\n",
       "      <td>-0.278986</td>\n",
       "      <td>-1.493731</td>\n",
       "      <td>-0.631313</td>\n",
       "      <td>2.420707</td>\n",
       "    </tr>\n",
       "  </tbody>\n",
       "</table>\n",
       "<p>3874 rows × 30 columns</p>\n",
       "</div>"
      ],
      "text/plain": [
       "                        lag_1     lag_2     lag_3     lag_4     lag_5  \\\n",
       "datetime                                                                \n",
       "2018-03-05 04:00:00 -0.719908 -1.210673  2.511455  0.185892 -0.279188   \n",
       "2018-03-05 05:00:00 -1.159560 -0.719382 -1.210344  2.513202  0.186406   \n",
       "2018-03-05 06:00:00 -1.625075 -1.158958 -0.719273 -1.210493  2.514372   \n",
       "2018-03-05 07:00:00 -1.961280 -1.624391 -1.158652 -0.719172 -1.210374   \n",
       "2018-03-05 08:00:00 -1.676799 -1.960537 -1.623877 -1.158775 -0.718915   \n",
       "...                       ...       ...       ...       ...       ...   \n",
       "2018-08-13 09:00:00  0.314569 -1.029671 -0.331586  0.108315  1.660784   \n",
       "2018-08-13 10:00:00  1.504217  0.314914 -1.029423 -0.331287  0.108807   \n",
       "2018-08-13 11:00:00  1.995593  1.504355  0.314560 -1.029480 -0.330920   \n",
       "2018-08-13 12:00:00  1.685250  1.995646  1.503468  0.315187 -1.029310   \n",
       "2018-08-13 13:00:00  0.340431  1.685357  1.994538  1.504701  0.315737   \n",
       "\n",
       "                        lag_6     lag_7     lag_8     lag_9    lag_10  ...  \\\n",
       "datetime                                                               ...   \n",
       "2018-03-05 04:00:00  0.108861 -0.098325 -0.046659 -0.589733  0.031563  ...   \n",
       "2018-03-05 05:00:00 -0.279137  0.108636 -0.098400 -0.046477 -0.589522  ...   \n",
       "2018-03-05 06:00:00  0.186461 -0.279416  0.108564 -0.098215 -0.046072  ...   \n",
       "2018-03-05 07:00:00  2.514454  0.186246 -0.279493  0.108739 -0.097829  ...   \n",
       "2018-03-05 08:00:00 -1.210335  2.514554  0.186175 -0.279301  0.109199  ...   \n",
       "...                       ...       ...       ...       ...       ...  ...   \n",
       "2018-08-13 09:00:00  2.307521  9.266648  5.023950  2.100678  2.748810  ...   \n",
       "2018-08-13 10:00:00  1.660857  2.307594  9.266704  5.023912  2.101847  ...   \n",
       "2018-08-13 11:00:00  0.108861  1.660841  2.307552  9.266482  5.026122  ...   \n",
       "2018-08-13 12:00:00 -0.330871  0.108636  1.660791  2.307632  9.270203  ...   \n",
       "2018-08-13 13:00:00 -1.029268 -0.331156  0.108564  1.660899  2.308875  ...   \n",
       "\n",
       "                       lag_21    lag_22    lag_23    lag_24  year     month  \\\n",
       "datetime                                                                      \n",
       "2018-03-05 04:00:00 -1.746057 -1.771544 -1.481710 -1.349469   0.0 -1.467671   \n",
       "2018-03-05 05:00:00 -1.036239 -1.745252 -1.770969 -1.480926   0.0 -1.467671   \n",
       "2018-03-05 06:00:00 -1.036239 -1.035369 -1.744672 -1.770134   0.0 -1.467671   \n",
       "2018-03-05 07:00:00 -1.562030 -1.035369 -1.034675 -1.743842   0.0 -1.467671   \n",
       "2018-03-05 08:00:00 -0.983659 -1.561208 -1.034675 -1.033970   0.0 -1.467671   \n",
       "...                       ...       ...       ...       ...   ...       ...   \n",
       "2018-08-13 09:00:00  1.172084  0.068893  0.779763  0.780148   0.0  1.743170   \n",
       "2018-08-13 10:00:00  1.093215  1.173154  0.069766  0.780148   0.0  1.743170   \n",
       "2018-08-13 11:00:00  0.672582  1.094279  1.174206  0.070276   0.0  1.743170   \n",
       "2018-08-13 12:00:00  1.855612  0.673607  1.095318  1.174522   0.0  1.743170   \n",
       "2018-08-13 13:00:00  1.960770  1.856745  0.674578  1.095647   0.0  1.743170   \n",
       "\n",
       "                          day   weekday  is_weekend  rolling_mean  \n",
       "datetime                                                           \n",
       "2018-03-05 04:00:00 -1.192587 -1.493731   -0.631313     -1.225223  \n",
       "2018-03-05 05:00:00 -1.192587 -1.493731   -0.631313     -1.276470  \n",
       "2018-03-05 06:00:00 -1.192587 -1.493731   -0.631313     -1.315759  \n",
       "2018-03-05 07:00:00 -1.192587 -1.493731   -0.631313     -1.354479  \n",
       "2018-03-05 08:00:00 -1.192587 -1.493731   -0.631313     -1.384088  \n",
       "...                       ...       ...         ...           ...  \n",
       "2018-08-13 09:00:00 -0.278986 -1.493731   -0.631313      2.235079  \n",
       "2018-08-13 10:00:00 -0.278986 -1.493731   -0.631313      2.277216  \n",
       "2018-08-13 11:00:00 -0.278986 -1.493731   -0.631313      2.346684  \n",
       "2018-08-13 12:00:00 -0.278986 -1.493731   -0.631313      2.412735  \n",
       "2018-08-13 13:00:00 -0.278986 -1.493731   -0.631313      2.420707  \n",
       "\n",
       "[3874 rows x 30 columns]"
      ]
     },
     "execution_count": 22,
     "metadata": {},
     "output_type": "execute_result"
    }
   ],
   "source": [
    "features_train"
   ]
  },
  {
   "cell_type": "markdown",
   "metadata": {},
   "source": [
    "<div style=\"background-color: WhiteSmoke; border-left: 7px solid Silver\">\n",
    "<p>\n",
    "<b>RandomForestRegressor</b>\n",
    "</p>\n",
    "</div>"
   ]
  },
  {
   "cell_type": "code",
   "execution_count": 23,
   "metadata": {},
   "outputs": [],
   "source": [
    "model1 = RandomForestRegressor(random_state=577)"
   ]
  },
  {
   "cell_type": "code",
   "execution_count": 24,
   "metadata": {},
   "outputs": [],
   "source": [
    "param_RF = { \n",
    "    'n_estimators': [10,100],\n",
    "    'max_depth' : [1,10]\n",
    "    }"
   ]
  },
  {
   "cell_type": "code",
   "execution_count": 25,
   "metadata": {},
   "outputs": [
    {
     "name": "stdout",
     "output_type": "stream",
     "text": [
      "CPU times: user 44 µs, sys: 28 µs, total: 72 µs\n",
      "Wall time: 74.1 µs\n"
     ]
    }
   ],
   "source": [
    "%%time\n",
    "ts_split = TimeSeriesSplit(n_splits=5)\n",
    "grid_model1 = GridSearchCV(model1,\n",
    "                           param_grid = param_RF,\n",
    "                           scoring='neg_mean_squared_error',\n",
    "                           cv= ts_split)"
   ]
  },
  {
   "cell_type": "code",
   "execution_count": 26,
   "metadata": {},
   "outputs": [
    {
     "name": "stdout",
     "output_type": "stream",
     "text": [
      "CPU times: user 14.1 s, sys: 9.97 ms, total: 14.1 s\n",
      "Wall time: 14.2 s\n"
     ]
    },
    {
     "data": {
      "text/plain": [
       "GridSearchCV(cv=TimeSeriesSplit(gap=0, max_train_size=None, n_splits=5, test_size=None),\n",
       "             estimator=RandomForestRegressor(random_state=577),\n",
       "             param_grid={'max_depth': [1, 10], 'n_estimators': [10, 100]},\n",
       "             scoring='neg_mean_squared_error')"
      ]
     },
     "execution_count": 26,
     "metadata": {},
     "output_type": "execute_result"
    }
   ],
   "source": [
    "%%time\n",
    "grid_model1.fit(features_train,target_train)"
   ]
  },
  {
   "cell_type": "code",
   "execution_count": 27,
   "metadata": {},
   "outputs": [
    {
     "name": "stdout",
     "output_type": "stream",
     "text": [
      "-Лучшая модель-RandomForestRegressor-\n",
      "RandomForestRegressor(max_depth=10, random_state=577)\n"
     ]
    }
   ],
   "source": [
    "print(\"-Лучшая модель-RandomForestRegressor-\")\n",
    "print(grid_model1.best_estimator_)"
   ]
  },
  {
   "cell_type": "code",
   "execution_count": 28,
   "metadata": {},
   "outputs": [],
   "source": [
    "best_score_model1 = grid_model1.best_score_"
   ]
  },
  {
   "cell_type": "code",
   "execution_count": 29,
   "metadata": {},
   "outputs": [
    {
     "name": "stdout",
     "output_type": "stream",
     "text": [
      "RandomForestRegressor -691.2827698269766\n"
     ]
    }
   ],
   "source": [
    "print(\"RandomForestRegressor\",best_score_model1)"
   ]
  },
  {
   "cell_type": "markdown",
   "metadata": {},
   "source": [
    "<div style=\"background-color: WhiteSmoke; border-left: 7px solid Silver\">\n",
    "<p>\n",
    "<b>LGBMRegressor</b>\n",
    "</p>\n",
    "</div>"
   ]
  },
  {
   "cell_type": "code",
   "execution_count": 30,
   "metadata": {},
   "outputs": [
    {
     "name": "stdout",
     "output_type": "stream",
     "text": [
      "Fitting 5 folds for each of 4 candidates, totalling 20 fits\n",
      "CPU times: user 8min 10s, sys: 6.21 s, total: 8min 16s\n",
      "Wall time: 8min 20s\n"
     ]
    }
   ],
   "source": [
    "%%time\n",
    "model2 = lgb.LGBMRegressor(objective ='regression',random_state = 577)\n",
    "\n",
    "params_lgbm = {\n",
    "    'num_leaves':[10,30],\n",
    "    'learning_rate':[0.05],     \n",
    "    'n_estimators':[100,1000],\n",
    "    'colsample_bytree': [0.3,],\n",
    "    'subsample': [0.55,],\n",
    "    'reg_alpha': [0.05,], \n",
    "    'reg_lambda': [0],\n",
    "               } \n",
    "ts_split = TimeSeriesSplit(n_splits=5)   \n",
    "grid_model2 = GridSearchCV(estimator=model2, \n",
    "                                param_grid=params_lgbm,\n",
    "                                verbose = 1, \n",
    "                                cv = ts_split,\n",
    "                                scoring='neg_mean_squared_error', \n",
    "                                n_jobs=-1).fit(features_train,target_train)"
   ]
  },
  {
   "cell_type": "code",
   "execution_count": 31,
   "metadata": {},
   "outputs": [
    {
     "name": "stdout",
     "output_type": "stream",
     "text": [
      "Fitting 5 folds for each of 4 candidates, totalling 20 fits\n",
      "CPU times: user 3min 2s, sys: 2.26 s, total: 3min 4s\n",
      "Wall time: 3min 6s\n"
     ]
    },
    {
     "data": {
      "text/plain": [
       "GridSearchCV(cv=TimeSeriesSplit(gap=0, max_train_size=None, n_splits=5, test_size=None),\n",
       "             estimator=LGBMRegressor(objective='regression', random_state=577),\n",
       "             n_jobs=-1,\n",
       "             param_grid={'colsample_bytree': [0.3], 'learning_rate': [0.05],\n",
       "                         'n_estimators': [100, 1000], 'num_leaves': [10, 30],\n",
       "                         'reg_alpha': [0.05], 'reg_lambda': [0],\n",
       "                         'subsample': [0.55]},\n",
       "             scoring='neg_mean_squared_error', verbose=1)"
      ]
     },
     "execution_count": 31,
     "metadata": {},
     "output_type": "execute_result"
    }
   ],
   "source": [
    "%%time\n",
    "grid_model2.fit(features_train,target_train)"
   ]
  },
  {
   "cell_type": "code",
   "execution_count": 32,
   "metadata": {},
   "outputs": [
    {
     "name": "stdout",
     "output_type": "stream",
     "text": [
      "-Лучшая модель-LGBMRegressor-\n",
      "LGBMRegressor(colsample_bytree=0.3, learning_rate=0.05, n_estimators=1000,\n",
      "              num_leaves=30, objective='regression', random_state=577,\n",
      "              reg_alpha=0.05, reg_lambda=0, subsample=0.55)\n"
     ]
    }
   ],
   "source": [
    "print(\"-Лучшая модель-LGBMRegressor-\")\n",
    "print(grid_model2.best_estimator_)"
   ]
  },
  {
   "cell_type": "code",
   "execution_count": 33,
   "metadata": {},
   "outputs": [],
   "source": [
    "best_score_model2 = grid_model2.best_score_"
   ]
  },
  {
   "cell_type": "code",
   "execution_count": 34,
   "metadata": {},
   "outputs": [
    {
     "name": "stdout",
     "output_type": "stream",
     "text": [
      "LGBMRegressor -680.432004069243\n"
     ]
    }
   ],
   "source": [
    "print(\"LGBMRegressor\",best_score_model2)"
   ]
  },
  {
   "cell_type": "markdown",
   "metadata": {},
   "source": [
    "<div style=\"background-color: WhiteSmoke; border-left: 7px solid Silver\">\n",
    "<p>\n",
    "<b>XGBRegressor</b>\n",
    "</p>\n",
    "</div>"
   ]
  },
  {
   "cell_type": "code",
   "execution_count": 35,
   "metadata": {},
   "outputs": [],
   "source": [
    "model3 = XGBRegressor(random_state=577) "
   ]
  },
  {
   "cell_type": "code",
   "execution_count": 36,
   "metadata": {},
   "outputs": [],
   "source": [
    "param_set = {\"learning_rate\": [0.05,], \n",
    "                        \"max_depth\": [ 3, 4, 5, 7],\n",
    "                        \"min_child_weight\": [1],\n",
    "                        \"gamma\":[ 0.0, 0.1, 0.2],\n",
    "                        \"colsample_bytree\":[0.3],}"
   ]
  },
  {
   "cell_type": "code",
   "execution_count": 37,
   "metadata": {},
   "outputs": [
    {
     "name": "stdout",
     "output_type": "stream",
     "text": [
      "CPU times: user 58 µs, sys: 1 µs, total: 59 µs\n",
      "Wall time: 61.8 µs\n"
     ]
    }
   ],
   "source": [
    "%%time\n",
    "ts_split = TimeSeriesSplit(n_splits=5)\n",
    "grid_model3 = GridSearchCV(estimator=model3,\n",
    "                           param_grid=param_set,\n",
    "                           cv=ts_split, \n",
    "                           scoring='neg_mean_squared_error', \n",
    "                           verbose=0, \n",
    "                           n_jobs=-1)"
   ]
  },
  {
   "cell_type": "code",
   "execution_count": null,
   "metadata": {},
   "outputs": [],
   "source": [
    "%%time\n",
    "grid_model3.fit(features_train,target_train)"
   ]
  },
  {
   "cell_type": "code",
   "execution_count": null,
   "metadata": {},
   "outputs": [],
   "source": [
    "print(\"-Лучшая модель-XGBRegressor-\")\n",
    "print(grid_model3.best_estimator_)"
   ]
  },
  {
   "cell_type": "code",
   "execution_count": null,
   "metadata": {},
   "outputs": [],
   "source": [
    "best_score_model3 = grid_model3.best_score_"
   ]
  },
  {
   "cell_type": "code",
   "execution_count": null,
   "metadata": {},
   "outputs": [],
   "source": [
    "print(\"XGBRegressor\",best_score_model3)"
   ]
  },
  {
   "cell_type": "markdown",
   "metadata": {},
   "source": [
    "<div style=\"background-color: WhiteSmoke; border-left: 7px solid Silver\">\n",
    "<p>\n",
    "<b>Обучим константную модель и оценим адекватность нашей модели</b>\n",
    "</p>\n",
    "</div>"
   ]
  },
  {
   "cell_type": "code",
   "execution_count": null,
   "metadata": {},
   "outputs": [],
   "source": [
    "model4 = DummyRegressor(strategy=\"median\")"
   ]
  },
  {
   "cell_type": "code",
   "execution_count": null,
   "metadata": {},
   "outputs": [],
   "source": [
    "model4.fit(features_train,target_train)"
   ]
  },
  {
   "cell_type": "code",
   "execution_count": null,
   "metadata": {},
   "outputs": [],
   "source": [
    "predicted_test = model4.predict(features_test)"
   ]
  },
  {
   "cell_type": "code",
   "execution_count": null,
   "metadata": {},
   "outputs": [],
   "source": [
    "print('-Оценка Константной модели-')\n",
    "rmse_val = RMSE(target_test,predicted_test)\n",
    "print('-RMSE на тестовой выборке-',rmse_val)"
   ]
  },
  {
   "cell_type": "markdown",
   "metadata": {},
   "source": [
    "## Тестирование"
   ]
  },
  {
   "cell_type": "markdown",
   "metadata": {},
   "source": [
    "<div style=\"background-color: WhiteSmoke; border-left: 7px solid Silver\">\n",
    "<p>\n",
    "Обучили и исследовали три модели: RandomForestRegressor, LGBMRegressor, XGBRegressor. Для оценки качества моделей обучили константную модель DummyRegressor. Самые лучшие результаты по качеству предсказания показала модель: LGBMRegressor с результатам кросс-валидации: 680. Протестируем эту лучшую модель и построим графики исходного и предсказанных рядов.\n",
    "</p>\n",
    "</div>"
   ]
  },
  {
   "cell_type": "code",
   "execution_count": null,
   "metadata": {},
   "outputs": [],
   "source": [
    "%%time\n",
    "predicted_test = grid_model2.predict(features_test)"
   ]
  },
  {
   "cell_type": "code",
   "execution_count": null,
   "metadata": {},
   "outputs": [],
   "source": [
    "print('-LGBMRegressor-')\n",
    "rmse_val = RMSE(target_test,predicted_test)\n",
    "print('-RMSE на тестовой выборке-',rmse_val)"
   ]
  },
  {
   "cell_type": "code",
   "execution_count": null,
   "metadata": {},
   "outputs": [],
   "source": [
    "plt.figure(figsize=(14, 7))\n",
    "plt.plot(predicted_test, \"r\", label=\"predicted\")\n",
    "plt.plot(target_test.values, label=\"actual\")\n",
    "plt.legend(loc=\"best\")\n",
    "plt.title(\"LGBMRegressor\")\n",
    "plt.grid(True);"
   ]
  },
  {
   "cell_type": "markdown",
   "metadata": {},
   "source": [
    "<div style=\"background-color: WhiteSmoke; border-left: 7px solid Silver\">\n",
    "<p>\n",
    "Результаты предсказания лучшей модели LGBMRegressor на тестовой выборке: -RMSE на тестовой выборке- 40.89. Цель проекта достигнула, получено RMSE на тестовой выборке, меньше 48.\n",
    "</p>\n",
    "</div>"
   ]
  },
  {
   "cell_type": "markdown",
   "metadata": {},
   "source": [
    "<div style=\"background-color: WhiteSmoke; border-left: 7px solid Silver\">\n",
    "<p>\n",
    "Обучили констрантную модель DummyRegressor. Результат: -Оценка Константной модели-\n",
    "-RMSE на тестовой выборке- 87.15. Это значение является намного худшим результатом, чем результат полученной лучшей модели LGBMRegressor на тестовой выборке 40.89. \n",
    "</p>\n",
    "</div>"
   ]
  }
 ],
 "metadata": {
  "ExecuteTimeLog": [
   {
    "duration": 1476,
    "start_time": "2022-12-27T20:59:27.668Z"
   },
   {
    "duration": 155,
    "start_time": "2022-12-27T20:59:39.941Z"
   },
   {
    "duration": 5,
    "start_time": "2022-12-27T20:59:47.270Z"
   },
   {
    "duration": 9,
    "start_time": "2022-12-27T20:59:56.274Z"
   },
   {
    "duration": 10,
    "start_time": "2022-12-27T21:00:07.599Z"
   },
   {
    "duration": 251,
    "start_time": "2022-12-27T21:00:44.875Z"
   },
   {
    "duration": 301,
    "start_time": "2022-12-27T21:02:13.897Z"
   },
   {
    "duration": 238,
    "start_time": "2022-12-27T21:02:20.849Z"
   },
   {
    "duration": 230,
    "start_time": "2022-12-27T21:02:27.654Z"
   },
   {
    "duration": 217,
    "start_time": "2022-12-27T21:02:38.139Z"
   },
   {
    "duration": 225,
    "start_time": "2022-12-27T21:02:45.905Z"
   },
   {
    "duration": 6,
    "start_time": "2022-12-27T21:10:10.358Z"
   },
   {
    "duration": 111,
    "start_time": "2022-12-27T21:10:12.170Z"
   },
   {
    "duration": 10,
    "start_time": "2022-12-27T21:10:17.463Z"
   },
   {
    "duration": 190,
    "start_time": "2022-12-27T21:11:10.968Z"
   },
   {
    "duration": 291,
    "start_time": "2022-12-27T21:13:12.013Z"
   },
   {
    "duration": 212,
    "start_time": "2022-12-27T21:13:28.727Z"
   },
   {
    "duration": 49,
    "start_time": "2022-12-27T21:13:46.907Z"
   },
   {
    "duration": 227,
    "start_time": "2022-12-27T21:13:50.879Z"
   },
   {
    "duration": 198,
    "start_time": "2022-12-27T21:14:00.906Z"
   },
   {
    "duration": 9,
    "start_time": "2022-12-27T21:14:25.329Z"
   },
   {
    "duration": 11,
    "start_time": "2022-12-27T21:15:04.670Z"
   },
   {
    "duration": 4,
    "start_time": "2022-12-27T21:15:58.509Z"
   },
   {
    "duration": 45,
    "start_time": "2022-12-27T21:16:00.287Z"
   },
   {
    "duration": 570,
    "start_time": "2022-12-27T21:16:04.630Z"
   },
   {
    "duration": 673,
    "start_time": "2022-12-27T21:16:18.508Z"
   },
   {
    "duration": 185,
    "start_time": "2022-12-27T21:16:25.788Z"
   },
   {
    "duration": 10,
    "start_time": "2022-12-27T21:16:31.059Z"
   },
   {
    "duration": 4,
    "start_time": "2022-12-27T21:16:46.980Z"
   },
   {
    "duration": 46,
    "start_time": "2022-12-27T21:16:47.413Z"
   },
   {
    "duration": 193,
    "start_time": "2022-12-27T21:16:50.583Z"
   },
   {
    "duration": 565,
    "start_time": "2022-12-27T21:16:51.306Z"
   },
   {
    "duration": 322,
    "start_time": "2022-12-27T21:16:54.952Z"
   },
   {
    "duration": 17,
    "start_time": "2022-12-27T21:18:46.138Z"
   },
   {
    "duration": 4,
    "start_time": "2022-12-27T21:19:36.140Z"
   },
   {
    "duration": 54,
    "start_time": "2022-12-27T21:19:36.604Z"
   },
   {
    "duration": 17,
    "start_time": "2022-12-27T21:19:42.868Z"
   },
   {
    "duration": 11,
    "start_time": "2022-12-27T21:19:51.255Z"
   },
   {
    "duration": 908,
    "start_time": "2022-12-27T21:21:25.125Z"
   },
   {
    "duration": 854,
    "start_time": "2022-12-27T21:21:59.919Z"
   },
   {
    "duration": 604,
    "start_time": "2022-12-27T22:09:29.827Z"
   },
   {
    "duration": 4,
    "start_time": "2022-12-27T22:24:17.255Z"
   },
   {
    "duration": 180,
    "start_time": "2022-12-27T22:33:52.178Z"
   },
   {
    "duration": 13,
    "start_time": "2022-12-27T22:35:18.869Z"
   },
   {
    "duration": 1354,
    "start_time": "2022-12-27T22:35:33.777Z"
   },
   {
    "duration": 3,
    "start_time": "2022-12-27T22:35:58.195Z"
   },
   {
    "duration": 7,
    "start_time": "2022-12-27T22:42:28.439Z"
   },
   {
    "duration": 249,
    "start_time": "2022-12-27T22:42:55.213Z"
   },
   {
    "duration": 145,
    "start_time": "2022-12-27T22:43:41.490Z"
   },
   {
    "duration": 208,
    "start_time": "2022-12-27T22:44:30.858Z"
   },
   {
    "duration": 239,
    "start_time": "2022-12-27T22:44:39.720Z"
   },
   {
    "duration": 223,
    "start_time": "2022-12-27T22:46:05.941Z"
   },
   {
    "duration": 257,
    "start_time": "2022-12-27T22:46:17.397Z"
   },
   {
    "duration": 139,
    "start_time": "2022-12-27T22:48:20.815Z"
   },
   {
    "duration": 371,
    "start_time": "2022-12-27T22:48:32.951Z"
   },
   {
    "duration": 234,
    "start_time": "2022-12-27T22:48:47.432Z"
   },
   {
    "duration": 285,
    "start_time": "2022-12-27T22:48:52.704Z"
   },
   {
    "duration": 257,
    "start_time": "2022-12-27T22:49:03.428Z"
   },
   {
    "duration": 219,
    "start_time": "2022-12-27T22:49:10.045Z"
   },
   {
    "duration": 223,
    "start_time": "2022-12-27T22:51:01.947Z"
   },
   {
    "duration": 249,
    "start_time": "2022-12-27T22:51:08.221Z"
   },
   {
    "duration": 198,
    "start_time": "2022-12-27T22:51:14.366Z"
   },
   {
    "duration": 324,
    "start_time": "2022-12-27T22:51:22.323Z"
   },
   {
    "duration": 334,
    "start_time": "2022-12-27T22:51:29.307Z"
   },
   {
    "duration": 268,
    "start_time": "2022-12-27T22:51:40.825Z"
   },
   {
    "duration": 278,
    "start_time": "2022-12-27T22:53:34.475Z"
   },
   {
    "duration": 232,
    "start_time": "2022-12-27T22:53:41.738Z"
   },
   {
    "duration": 256,
    "start_time": "2022-12-27T22:55:28.586Z"
   },
   {
    "duration": 12,
    "start_time": "2022-12-27T22:58:01.676Z"
   },
   {
    "duration": 311,
    "start_time": "2022-12-27T23:00:06.345Z"
   },
   {
    "duration": 248,
    "start_time": "2022-12-27T23:00:20.531Z"
   },
   {
    "duration": 262,
    "start_time": "2022-12-27T23:00:28.305Z"
   },
   {
    "duration": 224,
    "start_time": "2022-12-27T23:04:48.552Z"
   },
   {
    "duration": 809,
    "start_time": "2022-12-27T23:05:15.162Z"
   },
   {
    "duration": 4083,
    "start_time": "2022-12-27T23:05:21.044Z"
   },
   {
    "duration": 2633,
    "start_time": "2022-12-27T23:05:40.005Z"
   },
   {
    "duration": 485,
    "start_time": "2022-12-27T23:05:50.400Z"
   },
   {
    "duration": 2796,
    "start_time": "2022-12-27T23:06:04.279Z"
   },
   {
    "duration": 4181,
    "start_time": "2022-12-27T23:06:15.504Z"
   },
   {
    "duration": 13595,
    "start_time": "2022-12-27T23:06:39.665Z"
   },
   {
    "duration": 12296,
    "start_time": "2022-12-27T23:07:08.504Z"
   },
   {
    "duration": 16729,
    "start_time": "2022-12-27T23:07:31.688Z"
   },
   {
    "duration": 154,
    "start_time": "2022-12-27T23:09:00.171Z"
   },
   {
    "duration": 115,
    "start_time": "2022-12-27T23:12:07.259Z"
   },
   {
    "duration": 125,
    "start_time": "2022-12-27T23:12:18.931Z"
   },
   {
    "duration": 15979,
    "start_time": "2022-12-27T23:13:03.020Z"
   },
   {
    "duration": 15160,
    "start_time": "2022-12-27T23:13:56.747Z"
   },
   {
    "duration": 103,
    "start_time": "2022-12-27T23:16:38.869Z"
   },
   {
    "duration": 6,
    "start_time": "2022-12-27T23:19:38.702Z"
   },
   {
    "duration": 562,
    "start_time": "2022-12-27T23:20:11.377Z"
   },
   {
    "duration": 333,
    "start_time": "2022-12-27T23:20:23.202Z"
   },
   {
    "duration": 306,
    "start_time": "2022-12-27T23:20:28.766Z"
   },
   {
    "duration": 250,
    "start_time": "2022-12-27T23:20:35.950Z"
   },
   {
    "duration": 299,
    "start_time": "2022-12-27T23:20:44.113Z"
   },
   {
    "duration": 297,
    "start_time": "2022-12-27T23:22:22.309Z"
   },
   {
    "duration": 266,
    "start_time": "2022-12-27T23:22:32.717Z"
   },
   {
    "duration": 271,
    "start_time": "2022-12-27T23:22:42.111Z"
   },
   {
    "duration": 242,
    "start_time": "2022-12-27T23:23:17.441Z"
   },
   {
    "duration": 1624,
    "start_time": "2022-12-27T23:43:25.099Z"
   },
   {
    "duration": 73,
    "start_time": "2022-12-27T23:55:23.216Z"
   },
   {
    "duration": 74,
    "start_time": "2022-12-27T23:55:33.823Z"
   },
   {
    "duration": 2544,
    "start_time": "2022-12-27T23:55:41.773Z"
   },
   {
    "duration": 12,
    "start_time": "2022-12-28T10:21:28.967Z"
   },
   {
    "duration": 6,
    "start_time": "2022-12-28T10:22:49.697Z"
   },
   {
    "duration": 6,
    "start_time": "2022-12-28T10:22:56.388Z"
   },
   {
    "duration": 45,
    "start_time": "2022-12-28T10:29:13.608Z"
   },
   {
    "duration": 7,
    "start_time": "2022-12-28T10:29:36.229Z"
   },
   {
    "duration": 1992,
    "start_time": "2022-12-28T10:29:44.214Z"
   },
   {
    "duration": 199,
    "start_time": "2022-12-28T10:29:46.209Z"
   },
   {
    "duration": 7,
    "start_time": "2022-12-28T10:29:46.411Z"
   },
   {
    "duration": 16,
    "start_time": "2022-12-28T10:29:46.420Z"
   },
   {
    "duration": 24,
    "start_time": "2022-12-28T10:29:46.438Z"
   },
   {
    "duration": 5,
    "start_time": "2022-12-28T10:29:46.728Z"
   },
   {
    "duration": 12,
    "start_time": "2022-12-28T10:29:47.033Z"
   },
   {
    "duration": 293,
    "start_time": "2022-12-28T10:29:47.293Z"
   },
   {
    "duration": 261,
    "start_time": "2022-12-28T10:29:47.588Z"
   },
   {
    "duration": 663,
    "start_time": "2022-12-28T10:29:47.851Z"
   },
   {
    "duration": 6,
    "start_time": "2022-12-28T10:29:48.516Z"
   },
   {
    "duration": 999,
    "start_time": "2022-12-28T10:29:48.524Z"
   },
   {
    "duration": 603,
    "start_time": "2022-12-28T10:29:49.525Z"
   },
   {
    "duration": 1524,
    "start_time": "2022-12-28T10:29:50.180Z"
   },
   {
    "duration": 379,
    "start_time": "2022-12-28T10:29:51.798Z"
   },
   {
    "duration": 9,
    "start_time": "2022-12-28T10:29:54.141Z"
   },
   {
    "duration": 120,
    "start_time": "2022-12-28T10:29:54.813Z"
   },
   {
    "duration": 7,
    "start_time": "2022-12-28T10:31:01.292Z"
   },
   {
    "duration": 32,
    "start_time": "2022-12-28T10:31:02.773Z"
   },
   {
    "duration": 3,
    "start_time": "2022-12-28T10:34:58.971Z"
   },
   {
    "duration": 7,
    "start_time": "2022-12-28T10:34:59.392Z"
   },
   {
    "duration": 33,
    "start_time": "2022-12-28T10:35:00.879Z"
   },
   {
    "duration": 34,
    "start_time": "2022-12-28T10:35:08.827Z"
   },
   {
    "duration": 38,
    "start_time": "2022-12-28T10:42:04.013Z"
   },
   {
    "duration": 35,
    "start_time": "2022-12-28T10:42:04.545Z"
   },
   {
    "duration": 15,
    "start_time": "2022-12-28T10:43:35.918Z"
   },
   {
    "duration": 29,
    "start_time": "2022-12-28T10:43:51.209Z"
   },
   {
    "duration": 6,
    "start_time": "2022-12-28T10:45:53.457Z"
   },
   {
    "duration": 29,
    "start_time": "2022-12-28T10:45:54.670Z"
   },
   {
    "duration": 34,
    "start_time": "2022-12-28T10:45:55.310Z"
   },
   {
    "duration": 384,
    "start_time": "2022-12-28T10:46:02.908Z"
   },
   {
    "duration": 378,
    "start_time": "2022-12-28T10:46:29.247Z"
   },
   {
    "duration": 3,
    "start_time": "2022-12-28T10:48:11.874Z"
   },
   {
    "duration": 6,
    "start_time": "2022-12-28T10:48:14.968Z"
   },
   {
    "duration": 28,
    "start_time": "2022-12-28T10:48:15.605Z"
   },
   {
    "duration": 34,
    "start_time": "2022-12-28T10:48:16.305Z"
   },
   {
    "duration": 3,
    "start_time": "2022-12-28T10:55:15.361Z"
   },
   {
    "duration": 136,
    "start_time": "2022-12-28T10:56:51.965Z"
   },
   {
    "duration": 187,
    "start_time": "2022-12-28T10:58:44.212Z"
   },
   {
    "duration": 6,
    "start_time": "2022-12-28T10:58:44.774Z"
   },
   {
    "duration": 197,
    "start_time": "2022-12-28T10:58:52.435Z"
   },
   {
    "duration": 39,
    "start_time": "2022-12-28T11:03:53.062Z"
   },
   {
    "duration": 22,
    "start_time": "2022-12-28T11:04:11.914Z"
   },
   {
    "duration": 10,
    "start_time": "2022-12-28T11:04:15.570Z"
   },
   {
    "duration": 5,
    "start_time": "2022-12-28T11:04:16.029Z"
   },
   {
    "duration": 31,
    "start_time": "2022-12-28T11:04:45.380Z"
   },
   {
    "duration": 51,
    "start_time": "2022-12-28T11:04:53.153Z"
   },
   {
    "duration": 14,
    "start_time": "2022-12-28T11:05:22.215Z"
   },
   {
    "duration": 37,
    "start_time": "2022-12-28T11:05:22.779Z"
   },
   {
    "duration": 6,
    "start_time": "2022-12-28T11:05:50.510Z"
   },
   {
    "duration": 39,
    "start_time": "2022-12-28T11:05:57.777Z"
   },
   {
    "duration": 149,
    "start_time": "2022-12-28T13:41:14.437Z"
   },
   {
    "duration": 9,
    "start_time": "2022-12-28T13:41:27.534Z"
   },
   {
    "duration": 481,
    "start_time": "2022-12-28T13:42:01.231Z"
   },
   {
    "duration": 420,
    "start_time": "2022-12-28T13:42:38.426Z"
   },
   {
    "duration": 7,
    "start_time": "2022-12-28T13:43:06.822Z"
   },
   {
    "duration": 12,
    "start_time": "2022-12-28T13:43:08.127Z"
   },
   {
    "duration": 8,
    "start_time": "2022-12-28T13:43:20.867Z"
   },
   {
    "duration": 5,
    "start_time": "2022-12-28T13:43:21.276Z"
   },
   {
    "duration": 137,
    "start_time": "2022-12-28T13:43:39.860Z"
   },
   {
    "duration": 5,
    "start_time": "2022-12-28T13:43:40.355Z"
   },
   {
    "duration": 4,
    "start_time": "2022-12-28T13:44:35.850Z"
   },
   {
    "duration": 69,
    "start_time": "2022-12-28T13:44:40.345Z"
   },
   {
    "duration": 5,
    "start_time": "2022-12-28T13:44:40.929Z"
   },
   {
    "duration": 7,
    "start_time": "2022-12-28T13:45:24.743Z"
   },
   {
    "duration": 15,
    "start_time": "2022-12-28T13:45:56.572Z"
   },
   {
    "duration": 12,
    "start_time": "2022-12-28T13:46:06.638Z"
   },
   {
    "duration": 16,
    "start_time": "2022-12-28T13:46:18.684Z"
   },
   {
    "duration": 5,
    "start_time": "2022-12-28T13:46:40.836Z"
   },
   {
    "duration": 63,
    "start_time": "2022-12-28T13:46:41.225Z"
   },
   {
    "duration": 5,
    "start_time": "2022-12-28T13:46:41.532Z"
   },
   {
    "duration": 10,
    "start_time": "2022-12-28T13:46:41.755Z"
   },
   {
    "duration": 11,
    "start_time": "2022-12-28T13:46:41.981Z"
   },
   {
    "duration": 5,
    "start_time": "2022-12-28T13:46:42.929Z"
   },
   {
    "duration": 24,
    "start_time": "2022-12-28T13:46:43.184Z"
   },
   {
    "duration": 266,
    "start_time": "2022-12-28T13:46:43.440Z"
   },
   {
    "duration": 303,
    "start_time": "2022-12-28T13:46:43.760Z"
   },
   {
    "duration": 785,
    "start_time": "2022-12-28T13:46:44.066Z"
   },
   {
    "duration": 7,
    "start_time": "2022-12-28T13:46:44.853Z"
   },
   {
    "duration": 918,
    "start_time": "2022-12-28T13:46:44.862Z"
   },
   {
    "duration": 684,
    "start_time": "2022-12-28T13:46:45.783Z"
   },
   {
    "duration": 4650,
    "start_time": "2022-12-28T13:46:46.469Z"
   },
   {
    "duration": 388,
    "start_time": "2022-12-28T13:46:51.201Z"
   },
   {
    "duration": 4,
    "start_time": "2022-12-28T13:46:51.592Z"
   },
   {
    "duration": 26,
    "start_time": "2022-12-28T13:46:51.598Z"
   },
   {
    "duration": 9,
    "start_time": "2022-12-28T13:46:51.626Z"
   },
   {
    "duration": 36,
    "start_time": "2022-12-28T13:46:51.636Z"
   },
   {
    "duration": 37,
    "start_time": "2022-12-28T13:46:51.861Z"
   },
   {
    "duration": 34,
    "start_time": "2022-12-28T13:46:53.569Z"
   },
   {
    "duration": 44,
    "start_time": "2022-12-28T13:46:54.671Z"
   },
   {
    "duration": 29,
    "start_time": "2022-12-28T13:47:01.821Z"
   },
   {
    "duration": 68,
    "start_time": "2022-12-28T13:47:09.332Z"
   },
   {
    "duration": 6,
    "start_time": "2022-12-28T13:47:10.081Z"
   },
   {
    "duration": 197,
    "start_time": "2022-12-28T13:47:12.844Z"
   },
   {
    "duration": 26,
    "start_time": "2022-12-28T13:47:29.334Z"
   },
   {
    "duration": 1919,
    "start_time": "2022-12-28T13:55:56.715Z"
   },
   {
    "duration": 54,
    "start_time": "2022-12-28T13:55:58.636Z"
   },
   {
    "duration": 6,
    "start_time": "2022-12-28T13:55:58.691Z"
   },
   {
    "duration": 16,
    "start_time": "2022-12-28T13:55:58.700Z"
   },
   {
    "duration": 38,
    "start_time": "2022-12-28T13:55:58.718Z"
   },
   {
    "duration": 6,
    "start_time": "2022-12-28T13:55:59.150Z"
   },
   {
    "duration": 18,
    "start_time": "2022-12-28T13:55:59.437Z"
   },
   {
    "duration": 299,
    "start_time": "2022-12-28T13:55:59.724Z"
   },
   {
    "duration": 283,
    "start_time": "2022-12-28T13:56:00.025Z"
   },
   {
    "duration": 700,
    "start_time": "2022-12-28T13:56:00.310Z"
   },
   {
    "duration": 8,
    "start_time": "2022-12-28T13:56:01.012Z"
   },
   {
    "duration": 1063,
    "start_time": "2022-12-28T13:56:01.022Z"
   },
   {
    "duration": 689,
    "start_time": "2022-12-28T13:56:02.088Z"
   },
   {
    "duration": 1231,
    "start_time": "2022-12-28T13:56:02.779Z"
   },
   {
    "duration": 285,
    "start_time": "2022-12-28T13:56:07.625Z"
   },
   {
    "duration": 3,
    "start_time": "2022-12-28T13:56:10.521Z"
   },
   {
    "duration": 4,
    "start_time": "2022-12-28T13:56:10.999Z"
   },
   {
    "duration": 6,
    "start_time": "2022-12-28T13:56:13.109Z"
   },
   {
    "duration": 26,
    "start_time": "2022-12-28T13:56:14.193Z"
   },
   {
    "duration": 47,
    "start_time": "2022-12-28T13:56:15.113Z"
   },
   {
    "duration": 34,
    "start_time": "2022-12-28T13:56:19.369Z"
   },
   {
    "duration": 25,
    "start_time": "2022-12-28T13:56:19.968Z"
   },
   {
    "duration": 27,
    "start_time": "2022-12-28T13:56:27.425Z"
   },
   {
    "duration": 123,
    "start_time": "2022-12-28T13:56:30.685Z"
   },
   {
    "duration": 5,
    "start_time": "2022-12-28T13:56:31.158Z"
   },
   {
    "duration": 10,
    "start_time": "2022-12-28T21:28:18.398Z"
   },
   {
    "duration": 51,
    "start_time": "2022-12-28T21:28:19.484Z"
   },
   {
    "duration": 1987,
    "start_time": "2022-12-28T21:28:29.780Z"
   },
   {
    "duration": 112,
    "start_time": "2022-12-28T21:28:31.769Z"
   },
   {
    "duration": 5,
    "start_time": "2022-12-28T21:28:31.883Z"
   },
   {
    "duration": 11,
    "start_time": "2022-12-28T21:28:31.889Z"
   },
   {
    "duration": 10,
    "start_time": "2022-12-28T21:28:32.182Z"
   },
   {
    "duration": 4,
    "start_time": "2022-12-28T21:28:33.840Z"
   },
   {
    "duration": 12,
    "start_time": "2022-12-28T21:28:34.224Z"
   },
   {
    "duration": 377,
    "start_time": "2022-12-28T21:28:34.644Z"
   },
   {
    "duration": 231,
    "start_time": "2022-12-28T21:28:35.074Z"
   },
   {
    "duration": 645,
    "start_time": "2022-12-28T21:28:35.476Z"
   },
   {
    "duration": 7,
    "start_time": "2022-12-28T21:28:36.124Z"
   },
   {
    "duration": 957,
    "start_time": "2022-12-28T21:28:36.299Z"
   },
   {
    "duration": 562,
    "start_time": "2022-12-28T21:28:37.487Z"
   },
   {
    "duration": 1767,
    "start_time": "2022-12-28T21:28:38.916Z"
   },
   {
    "duration": 269,
    "start_time": "2022-12-28T21:28:41.300Z"
   },
   {
    "duration": 3,
    "start_time": "2022-12-28T21:28:44.084Z"
   },
   {
    "duration": 2,
    "start_time": "2022-12-28T21:28:44.640Z"
   },
   {
    "duration": 6,
    "start_time": "2022-12-28T21:28:45.691Z"
   },
   {
    "duration": 807,
    "start_time": "2022-12-28T21:28:47.344Z"
   },
   {
    "duration": 1681,
    "start_time": "2022-12-28T21:31:33.847Z"
   },
   {
    "duration": 67,
    "start_time": "2022-12-28T21:31:35.530Z"
   },
   {
    "duration": 5,
    "start_time": "2022-12-28T21:31:35.599Z"
   },
   {
    "duration": 10,
    "start_time": "2022-12-28T21:31:35.606Z"
   },
   {
    "duration": 10,
    "start_time": "2022-12-28T21:31:35.618Z"
   },
   {
    "duration": 5,
    "start_time": "2022-12-28T21:31:36.320Z"
   },
   {
    "duration": 12,
    "start_time": "2022-12-28T21:31:36.528Z"
   },
   {
    "duration": 239,
    "start_time": "2022-12-28T21:31:36.751Z"
   },
   {
    "duration": 210,
    "start_time": "2022-12-28T21:31:36.991Z"
   },
   {
    "duration": 599,
    "start_time": "2022-12-28T21:31:37.202Z"
   },
   {
    "duration": 6,
    "start_time": "2022-12-28T21:31:37.803Z"
   },
   {
    "duration": 891,
    "start_time": "2022-12-28T21:31:37.810Z"
   },
   {
    "duration": 567,
    "start_time": "2022-12-28T21:31:38.702Z"
   },
   {
    "duration": 3205,
    "start_time": "2022-12-28T21:31:39.271Z"
   },
   {
    "duration": 404,
    "start_time": "2022-12-28T21:31:42.480Z"
   },
   {
    "duration": 4,
    "start_time": "2022-12-28T21:31:43.054Z"
   },
   {
    "duration": 3,
    "start_time": "2022-12-28T21:31:43.871Z"
   },
   {
    "duration": 9,
    "start_time": "2022-12-28T21:31:45.417Z"
   },
   {
    "duration": 828,
    "start_time": "2022-12-28T21:31:48.863Z"
   },
   {
    "duration": 5,
    "start_time": "2022-12-28T21:32:24.050Z"
   },
   {
    "duration": 894,
    "start_time": "2022-12-28T21:32:26.546Z"
   },
   {
    "duration": 7,
    "start_time": "2022-12-28T21:33:00.071Z"
   },
   {
    "duration": 752,
    "start_time": "2022-12-28T21:33:00.983Z"
   },
   {
    "duration": 9,
    "start_time": "2022-12-28T21:33:34.884Z"
   },
   {
    "duration": 26,
    "start_time": "2022-12-28T21:33:35.419Z"
   },
   {
    "duration": 42,
    "start_time": "2022-12-28T21:33:38.917Z"
   },
   {
    "duration": 6,
    "start_time": "2022-12-28T21:33:50.924Z"
   },
   {
    "duration": 705,
    "start_time": "2022-12-28T21:33:51.452Z"
   },
   {
    "duration": 6,
    "start_time": "2022-12-28T21:37:18.881Z"
   },
   {
    "duration": 710,
    "start_time": "2022-12-28T21:37:19.528Z"
   },
   {
    "duration": 5,
    "start_time": "2022-12-28T21:39:04.263Z"
   },
   {
    "duration": 774,
    "start_time": "2022-12-28T21:39:04.819Z"
   },
   {
    "duration": 4,
    "start_time": "2022-12-28T21:42:00.635Z"
   },
   {
    "duration": 4,
    "start_time": "2022-12-28T21:44:24.574Z"
   },
   {
    "duration": 27,
    "start_time": "2022-12-28T21:44:25.370Z"
   },
   {
    "duration": 35,
    "start_time": "2022-12-28T21:44:33.164Z"
   },
   {
    "duration": 4,
    "start_time": "2022-12-28T21:45:17.179Z"
   },
   {
    "duration": 20,
    "start_time": "2022-12-28T21:45:17.738Z"
   },
   {
    "duration": 31,
    "start_time": "2022-12-28T21:45:21.939Z"
   },
   {
    "duration": 1701,
    "start_time": "2022-12-28T21:45:45.875Z"
   },
   {
    "duration": 56,
    "start_time": "2022-12-28T21:45:47.578Z"
   },
   {
    "duration": 6,
    "start_time": "2022-12-28T21:45:47.636Z"
   },
   {
    "duration": 11,
    "start_time": "2022-12-28T21:45:47.644Z"
   },
   {
    "duration": 20,
    "start_time": "2022-12-28T21:45:47.656Z"
   },
   {
    "duration": 5,
    "start_time": "2022-12-28T21:45:47.678Z"
   },
   {
    "duration": 14,
    "start_time": "2022-12-28T21:45:47.842Z"
   },
   {
    "duration": 259,
    "start_time": "2022-12-28T21:45:48.020Z"
   },
   {
    "duration": 231,
    "start_time": "2022-12-28T21:45:48.281Z"
   },
   {
    "duration": 667,
    "start_time": "2022-12-28T21:45:48.514Z"
   },
   {
    "duration": 7,
    "start_time": "2022-12-28T21:45:49.183Z"
   },
   {
    "duration": 909,
    "start_time": "2022-12-28T21:45:49.192Z"
   },
   {
    "duration": 538,
    "start_time": "2022-12-28T21:45:50.103Z"
   },
   {
    "duration": 3737,
    "start_time": "2022-12-28T21:45:50.643Z"
   },
   {
    "duration": 367,
    "start_time": "2022-12-28T21:45:54.384Z"
   },
   {
    "duration": 4,
    "start_time": "2022-12-28T21:45:54.753Z"
   },
   {
    "duration": 27,
    "start_time": "2022-12-28T21:45:54.759Z"
   },
   {
    "duration": 4,
    "start_time": "2022-12-28T21:45:58.332Z"
   },
   {
    "duration": 31,
    "start_time": "2022-12-28T21:45:58.924Z"
   },
   {
    "duration": 50,
    "start_time": "2022-12-28T21:46:04.893Z"
   },
   {
    "duration": 149,
    "start_time": "2022-12-28T21:46:31.641Z"
   },
   {
    "duration": 5,
    "start_time": "2022-12-28T21:47:08.141Z"
   },
   {
    "duration": 29,
    "start_time": "2022-12-28T21:47:08.773Z"
   },
   {
    "duration": 1685,
    "start_time": "2022-12-28T21:49:30.168Z"
   },
   {
    "duration": 47,
    "start_time": "2022-12-28T21:49:31.854Z"
   },
   {
    "duration": 6,
    "start_time": "2022-12-28T21:49:31.903Z"
   },
   {
    "duration": 89,
    "start_time": "2022-12-28T21:49:31.910Z"
   },
   {
    "duration": 72,
    "start_time": "2022-12-28T21:49:32.000Z"
   },
   {
    "duration": 61,
    "start_time": "2022-12-28T21:49:32.074Z"
   },
   {
    "duration": 67,
    "start_time": "2022-12-28T21:49:32.137Z"
   },
   {
    "duration": 249,
    "start_time": "2022-12-28T21:49:32.635Z"
   },
   {
    "duration": 216,
    "start_time": "2022-12-28T21:49:32.885Z"
   },
   {
    "duration": 614,
    "start_time": "2022-12-28T21:49:33.103Z"
   },
   {
    "duration": 6,
    "start_time": "2022-12-28T21:49:33.719Z"
   },
   {
    "duration": 879,
    "start_time": "2022-12-28T21:49:33.727Z"
   },
   {
    "duration": 607,
    "start_time": "2022-12-28T21:49:34.608Z"
   },
   {
    "duration": 2060,
    "start_time": "2022-12-28T21:49:35.217Z"
   },
   {
    "duration": 362,
    "start_time": "2022-12-28T21:49:37.285Z"
   },
   {
    "duration": 3,
    "start_time": "2022-12-28T21:49:41.004Z"
   },
   {
    "duration": 3,
    "start_time": "2022-12-28T21:49:41.533Z"
   },
   {
    "duration": 6,
    "start_time": "2022-12-28T21:49:42.272Z"
   },
   {
    "duration": 35,
    "start_time": "2022-12-28T21:49:48.333Z"
   },
   {
    "duration": 31,
    "start_time": "2022-12-28T21:50:56.933Z"
   },
   {
    "duration": 32,
    "start_time": "2022-12-28T21:51:40.833Z"
   },
   {
    "duration": 26,
    "start_time": "2022-12-28T21:51:42.133Z"
   },
   {
    "duration": 18,
    "start_time": "2022-12-28T21:52:07.576Z"
   },
   {
    "duration": 43,
    "start_time": "2022-12-28T21:52:08.221Z"
   },
   {
    "duration": 97,
    "start_time": "2022-12-28T21:52:22.880Z"
   },
   {
    "duration": 7,
    "start_time": "2022-12-28T21:52:24.069Z"
   },
   {
    "duration": 131,
    "start_time": "2022-12-28T21:52:26.683Z"
   },
   {
    "duration": 189,
    "start_time": "2022-12-28T21:53:19.441Z"
   },
   {
    "duration": 25,
    "start_time": "2022-12-28T21:53:40.662Z"
   },
   {
    "duration": 25,
    "start_time": "2022-12-28T21:53:45.458Z"
   },
   {
    "duration": 5,
    "start_time": "2022-12-28T21:53:46.286Z"
   },
   {
    "duration": 196,
    "start_time": "2022-12-28T21:53:47.647Z"
   },
   {
    "duration": 1688,
    "start_time": "2022-12-28T21:54:37.762Z"
   },
   {
    "duration": 50,
    "start_time": "2022-12-28T21:54:39.451Z"
   },
   {
    "duration": 6,
    "start_time": "2022-12-28T21:54:39.502Z"
   },
   {
    "duration": 29,
    "start_time": "2022-12-28T21:54:39.509Z"
   },
   {
    "duration": 25,
    "start_time": "2022-12-28T21:54:39.540Z"
   },
   {
    "duration": 4,
    "start_time": "2022-12-28T21:54:40.899Z"
   },
   {
    "duration": 12,
    "start_time": "2022-12-28T21:54:41.172Z"
   },
   {
    "duration": 241,
    "start_time": "2022-12-28T21:54:41.478Z"
   },
   {
    "duration": 228,
    "start_time": "2022-12-28T21:54:41.854Z"
   },
   {
    "duration": 618,
    "start_time": "2022-12-28T21:54:42.191Z"
   },
   {
    "duration": 7,
    "start_time": "2022-12-28T21:54:42.811Z"
   },
   {
    "duration": 903,
    "start_time": "2022-12-28T21:54:42.934Z"
   },
   {
    "duration": 577,
    "start_time": "2022-12-28T21:54:43.839Z"
   },
   {
    "duration": 2178,
    "start_time": "2022-12-28T21:54:44.899Z"
   },
   {
    "duration": 364,
    "start_time": "2022-12-28T21:54:47.080Z"
   },
   {
    "duration": 3,
    "start_time": "2022-12-28T21:54:47.502Z"
   },
   {
    "duration": 3,
    "start_time": "2022-12-28T21:54:47.886Z"
   },
   {
    "duration": 4,
    "start_time": "2022-12-28T21:54:48.295Z"
   },
   {
    "duration": 30,
    "start_time": "2022-12-28T21:54:48.687Z"
   },
   {
    "duration": 32,
    "start_time": "2022-12-28T21:54:49.360Z"
   },
   {
    "duration": 31,
    "start_time": "2022-12-28T21:54:50.971Z"
   },
   {
    "duration": 42,
    "start_time": "2022-12-28T21:55:00.537Z"
   },
   {
    "duration": 28,
    "start_time": "2022-12-28T21:55:16.272Z"
   },
   {
    "duration": 14,
    "start_time": "2022-12-28T21:56:09.001Z"
   },
   {
    "duration": 26,
    "start_time": "2022-12-28T21:56:09.585Z"
   },
   {
    "duration": 21,
    "start_time": "2022-12-28T21:56:15.368Z"
   },
   {
    "duration": 6,
    "start_time": "2022-12-28T21:56:15.936Z"
   },
   {
    "duration": 176,
    "start_time": "2022-12-28T21:56:17.813Z"
   },
   {
    "duration": 84,
    "start_time": "2022-12-28T21:56:58.994Z"
   },
   {
    "duration": 6,
    "start_time": "2022-12-28T21:57:00.073Z"
   },
   {
    "duration": 197,
    "start_time": "2022-12-28T21:57:03.154Z"
   },
   {
    "duration": 58,
    "start_time": "2022-12-28T21:59:51.725Z"
   },
   {
    "duration": 5,
    "start_time": "2022-12-28T21:59:54.201Z"
   },
   {
    "duration": 142,
    "start_time": "2022-12-28T22:01:47.604Z"
   },
   {
    "duration": 181,
    "start_time": "2022-12-28T22:03:31.526Z"
   },
   {
    "duration": 15,
    "start_time": "2022-12-28T22:03:55.047Z"
   },
   {
    "duration": 21,
    "start_time": "2022-12-28T22:05:52.956Z"
   },
   {
    "duration": 34,
    "start_time": "2022-12-28T22:05:53.600Z"
   },
   {
    "duration": 35,
    "start_time": "2022-12-28T22:05:56.734Z"
   },
   {
    "duration": 27,
    "start_time": "2022-12-28T22:05:57.578Z"
   },
   {
    "duration": 199,
    "start_time": "2022-12-28T22:05:59.578Z"
   },
   {
    "duration": 6,
    "start_time": "2022-12-28T22:06:01.962Z"
   },
   {
    "duration": 170,
    "start_time": "2022-12-28T22:06:11.850Z"
   },
   {
    "duration": 2,
    "start_time": "2022-12-28T22:07:01.007Z"
   },
   {
    "duration": 3,
    "start_time": "2022-12-28T22:07:21.325Z"
   },
   {
    "duration": 4,
    "start_time": "2022-12-28T22:07:33.251Z"
   },
   {
    "duration": 26243,
    "start_time": "2022-12-28T22:08:06.883Z"
   },
   {
    "duration": 4,
    "start_time": "2022-12-28T22:10:30.472Z"
   },
   {
    "duration": 2,
    "start_time": "2022-12-28T22:10:44.225Z"
   },
   {
    "duration": 3,
    "start_time": "2022-12-28T22:10:58.750Z"
   },
   {
    "duration": 93,
    "start_time": "2022-12-28T22:11:14.438Z"
   },
   {
    "duration": 21,
    "start_time": "2022-12-28T22:11:29.478Z"
   },
   {
    "duration": 6,
    "start_time": "2022-12-28T22:11:57.018Z"
   },
   {
    "duration": 183,
    "start_time": "2022-12-28T22:12:33.823Z"
   },
   {
    "duration": 171,
    "start_time": "2022-12-28T22:12:57.996Z"
   },
   {
    "duration": 27,
    "start_time": "2022-12-28T22:13:18.126Z"
   },
   {
    "duration": 26,
    "start_time": "2022-12-28T22:13:27.409Z"
   },
   {
    "duration": 6,
    "start_time": "2022-12-28T22:13:54.493Z"
   },
   {
    "duration": 6,
    "start_time": "2022-12-28T22:14:09.045Z"
   },
   {
    "duration": 22,
    "start_time": "2022-12-28T22:15:02.089Z"
   },
   {
    "duration": 6,
    "start_time": "2022-12-28T22:15:02.831Z"
   },
   {
    "duration": 5,
    "start_time": "2022-12-28T22:15:50.263Z"
   },
   {
    "duration": 23,
    "start_time": "2022-12-28T22:15:59.200Z"
   },
   {
    "duration": 6,
    "start_time": "2022-12-28T22:15:59.784Z"
   },
   {
    "duration": 140,
    "start_time": "2022-12-28T22:16:11.236Z"
   },
   {
    "duration": 5,
    "start_time": "2022-12-28T22:16:12.152Z"
   },
   {
    "duration": 79821,
    "start_time": "2022-12-28T22:17:02.361Z"
   },
   {
    "duration": 81606,
    "start_time": "2022-12-28T22:18:22.184Z"
   },
   {
    "duration": 84,
    "start_time": "2022-12-28T22:19:43.793Z"
   },
   {
    "duration": 8,
    "start_time": "2022-12-28T22:19:43.879Z"
   },
   {
    "duration": 8,
    "start_time": "2022-12-28T22:19:43.889Z"
   },
   {
    "duration": 71,
    "start_time": "2022-12-28T22:19:43.898Z"
   },
   {
    "duration": 16,
    "start_time": "2022-12-28T22:20:52.136Z"
   },
   {
    "duration": 6,
    "start_time": "2022-12-28T22:21:30.951Z"
   },
   {
    "duration": 196,
    "start_time": "2022-12-28T22:22:11.146Z"
   },
   {
    "duration": 2,
    "start_time": "2022-12-28T22:26:16.038Z"
   },
   {
    "duration": 4,
    "start_time": "2022-12-28T22:26:16.898Z"
   },
   {
    "duration": 29238,
    "start_time": "2022-12-28T22:26:18.153Z"
   },
   {
    "duration": 3,
    "start_time": "2022-12-28T22:26:47.393Z"
   },
   {
    "duration": 6,
    "start_time": "2022-12-28T22:26:47.397Z"
   },
   {
    "duration": 8,
    "start_time": "2022-12-28T22:26:47.405Z"
   },
   {
    "duration": 23,
    "start_time": "2022-12-28T22:26:47.414Z"
   },
   {
    "duration": 4,
    "start_time": "2022-12-28T22:26:47.439Z"
   },
   {
    "duration": 209,
    "start_time": "2022-12-28T22:26:47.445Z"
   },
   {
    "duration": 2,
    "start_time": "2022-12-28T22:28:51.254Z"
   },
   {
    "duration": 4,
    "start_time": "2022-12-28T22:28:51.934Z"
   },
   {
    "duration": 58405,
    "start_time": "2022-12-28T22:28:52.621Z"
   },
   {
    "duration": 4,
    "start_time": "2022-12-28T22:29:51.027Z"
   },
   {
    "duration": 17,
    "start_time": "2022-12-28T22:29:51.032Z"
   },
   {
    "duration": 7,
    "start_time": "2022-12-28T22:29:51.051Z"
   },
   {
    "duration": 44,
    "start_time": "2022-12-28T22:29:51.060Z"
   },
   {
    "duration": 6,
    "start_time": "2022-12-28T22:29:51.105Z"
   },
   {
    "duration": 207,
    "start_time": "2022-12-28T22:29:51.113Z"
   },
   {
    "duration": 86750,
    "start_time": "2022-12-28T22:32:24.142Z"
   },
   {
    "duration": 76591,
    "start_time": "2022-12-28T22:33:50.894Z"
   },
   {
    "duration": 4,
    "start_time": "2022-12-28T22:35:07.487Z"
   },
   {
    "duration": 7,
    "start_time": "2022-12-28T22:35:07.493Z"
   },
   {
    "duration": 12,
    "start_time": "2022-12-28T22:35:07.502Z"
   },
   {
    "duration": 67,
    "start_time": "2022-12-28T22:35:07.515Z"
   },
   {
    "duration": 5,
    "start_time": "2022-12-28T22:35:07.584Z"
   },
   {
    "duration": 245,
    "start_time": "2022-12-28T22:35:07.591Z"
   },
   {
    "duration": 5,
    "start_time": "2022-12-28T22:35:19.250Z"
   },
   {
    "duration": 46591,
    "start_time": "2022-12-28T22:35:20.902Z"
   },
   {
    "duration": 8,
    "start_time": "2022-12-28T22:37:41.253Z"
   },
   {
    "duration": 1722,
    "start_time": "2022-12-28T22:42:29.860Z"
   },
   {
    "duration": 49,
    "start_time": "2022-12-28T22:42:31.584Z"
   },
   {
    "duration": 6,
    "start_time": "2022-12-28T22:42:31.635Z"
   },
   {
    "duration": 18,
    "start_time": "2022-12-28T22:42:31.643Z"
   },
   {
    "duration": 16,
    "start_time": "2022-12-28T22:42:31.663Z"
   },
   {
    "duration": 4,
    "start_time": "2022-12-28T22:42:33.781Z"
   },
   {
    "duration": 14,
    "start_time": "2022-12-28T22:42:34.211Z"
   },
   {
    "duration": 317,
    "start_time": "2022-12-28T22:42:34.675Z"
   },
   {
    "duration": 249,
    "start_time": "2022-12-28T22:42:35.158Z"
   },
   {
    "duration": 678,
    "start_time": "2022-12-28T22:42:35.583Z"
   },
   {
    "duration": 6,
    "start_time": "2022-12-28T22:42:36.263Z"
   },
   {
    "duration": 979,
    "start_time": "2022-12-28T22:42:36.464Z"
   },
   {
    "duration": 612,
    "start_time": "2022-12-28T22:42:37.445Z"
   },
   {
    "duration": 2815,
    "start_time": "2022-12-28T22:42:38.772Z"
   },
   {
    "duration": 477,
    "start_time": "2022-12-28T22:42:41.590Z"
   },
   {
    "duration": 3,
    "start_time": "2022-12-28T22:42:42.077Z"
   },
   {
    "duration": 3,
    "start_time": "2022-12-28T22:42:42.535Z"
   },
   {
    "duration": 4,
    "start_time": "2022-12-28T22:42:43.023Z"
   },
   {
    "duration": 34,
    "start_time": "2022-12-28T22:42:43.536Z"
   },
   {
    "duration": 35,
    "start_time": "2022-12-28T22:42:44.108Z"
   },
   {
    "duration": 43,
    "start_time": "2022-12-28T22:42:45.372Z"
   },
   {
    "duration": 27,
    "start_time": "2022-12-28T22:42:45.900Z"
   },
   {
    "duration": 182,
    "start_time": "2022-12-28T22:42:46.999Z"
   },
   {
    "duration": 8,
    "start_time": "2022-12-28T22:42:47.495Z"
   },
   {
    "duration": 225,
    "start_time": "2022-12-28T22:42:48.047Z"
   },
   {
    "duration": 3,
    "start_time": "2022-12-28T22:42:49.112Z"
   },
   {
    "duration": 3,
    "start_time": "2022-12-28T22:42:49.584Z"
   },
   {
    "duration": 4,
    "start_time": "2022-12-28T22:42:50.028Z"
   },
   {
    "duration": 56002,
    "start_time": "2022-12-28T22:42:50.467Z"
   },
   {
    "duration": 4,
    "start_time": "2022-12-28T22:43:46.475Z"
   },
   {
    "duration": 5,
    "start_time": "2022-12-28T22:43:46.480Z"
   },
   {
    "duration": 5,
    "start_time": "2022-12-28T22:43:46.487Z"
   },
   {
    "duration": 38,
    "start_time": "2022-12-28T22:43:46.493Z"
   },
   {
    "duration": 6,
    "start_time": "2022-12-28T22:43:46.532Z"
   },
   {
    "duration": 205,
    "start_time": "2022-12-28T22:43:46.539Z"
   },
   {
    "duration": 71433,
    "start_time": "2022-12-28T22:43:46.745Z"
   },
   {
    "duration": 77716,
    "start_time": "2022-12-28T22:44:58.179Z"
   },
   {
    "duration": 4,
    "start_time": "2022-12-28T22:46:15.897Z"
   },
   {
    "duration": 3,
    "start_time": "2022-12-28T22:46:15.977Z"
   },
   {
    "duration": 19,
    "start_time": "2022-12-28T22:46:15.981Z"
   },
   {
    "duration": 25,
    "start_time": "2022-12-28T22:46:16.002Z"
   },
   {
    "duration": 50,
    "start_time": "2022-12-28T22:46:16.029Z"
   },
   {
    "duration": 190,
    "start_time": "2022-12-28T22:46:16.081Z"
   },
   {
    "duration": 3,
    "start_time": "2022-12-28T22:46:16.276Z"
   },
   {
    "duration": 7,
    "start_time": "2022-12-28T22:46:16.280Z"
   },
   {
    "duration": 8,
    "start_time": "2022-12-28T22:46:16.288Z"
   },
   {
    "duration": 111912,
    "start_time": "2022-12-28T22:46:16.298Z"
   },
   {
    "duration": 6,
    "start_time": "2022-12-28T22:48:08.212Z"
   },
   {
    "duration": 5,
    "start_time": "2022-12-28T22:48:08.219Z"
   },
   {
    "duration": 6,
    "start_time": "2022-12-28T22:48:08.225Z"
   },
   {
    "duration": 9,
    "start_time": "2022-12-28T22:48:08.276Z"
   },
   {
    "duration": 24,
    "start_time": "2022-12-28T22:48:08.287Z"
   },
   {
    "duration": 196,
    "start_time": "2022-12-28T22:48:08.313Z"
   },
   {
    "duration": 3,
    "start_time": "2022-12-28T22:48:08.511Z"
   },
   {
    "duration": 9,
    "start_time": "2022-12-28T22:48:08.515Z"
   },
   {
    "duration": 3,
    "start_time": "2022-12-28T22:48:08.527Z"
   },
   {
    "duration": 7,
    "start_time": "2022-12-28T22:48:08.531Z"
   },
   {
    "duration": 9,
    "start_time": "2022-12-28T22:48:49.420Z"
   },
   {
    "duration": 6,
    "start_time": "2022-12-28T22:48:50.287Z"
   },
   {
    "duration": 177,
    "start_time": "2022-12-28T22:48:52.796Z"
   },
   {
    "duration": 73465,
    "start_time": "2022-12-28T22:50:27.412Z"
   },
   {
    "duration": 86199,
    "start_time": "2022-12-28T22:51:40.880Z"
   },
   {
    "duration": 4,
    "start_time": "2022-12-28T22:53:07.080Z"
   },
   {
    "duration": 11,
    "start_time": "2022-12-28T22:53:07.086Z"
   },
   {
    "duration": 27,
    "start_time": "2022-12-28T22:53:07.098Z"
   },
   {
    "duration": 49,
    "start_time": "2022-12-28T22:53:07.127Z"
   },
   {
    "duration": 5,
    "start_time": "2022-12-28T22:53:07.178Z"
   },
   {
    "duration": 199,
    "start_time": "2022-12-28T22:53:07.184Z"
   },
   {
    "duration": 3,
    "start_time": "2022-12-28T22:55:52.029Z"
   },
   {
    "duration": 3,
    "start_time": "2022-12-28T22:55:52.493Z"
   },
   {
    "duration": 5,
    "start_time": "2022-12-28T22:55:52.924Z"
   },
   {
    "duration": 1605,
    "start_time": "2022-12-28T23:02:40.999Z"
   },
   {
    "duration": 47,
    "start_time": "2022-12-28T23:02:44.942Z"
   },
   {
    "duration": 5,
    "start_time": "2022-12-28T23:02:45.399Z"
   },
   {
    "duration": 9,
    "start_time": "2022-12-28T23:02:45.838Z"
   },
   {
    "duration": 10,
    "start_time": "2022-12-28T23:02:46.281Z"
   },
   {
    "duration": 5,
    "start_time": "2022-12-28T23:02:47.986Z"
   },
   {
    "duration": 13,
    "start_time": "2022-12-28T23:02:48.419Z"
   },
   {
    "duration": 238,
    "start_time": "2022-12-28T23:02:48.802Z"
   },
   {
    "duration": 195,
    "start_time": "2022-12-28T23:02:49.200Z"
   },
   {
    "duration": 582,
    "start_time": "2022-12-28T23:02:49.567Z"
   },
   {
    "duration": 7,
    "start_time": "2022-12-28T23:02:50.151Z"
   },
   {
    "duration": 826,
    "start_time": "2022-12-28T23:02:50.278Z"
   },
   {
    "duration": 515,
    "start_time": "2022-12-28T23:02:51.106Z"
   },
   {
    "duration": 1781,
    "start_time": "2022-12-28T23:02:52.194Z"
   },
   {
    "duration": 368,
    "start_time": "2022-12-28T23:02:53.978Z"
   },
   {
    "duration": 3,
    "start_time": "2022-12-28T23:02:54.729Z"
   },
   {
    "duration": 2,
    "start_time": "2022-12-28T23:02:55.078Z"
   },
   {
    "duration": 3,
    "start_time": "2022-12-28T23:02:55.366Z"
   },
   {
    "duration": 29,
    "start_time": "2022-12-28T23:02:55.766Z"
   },
   {
    "duration": 29,
    "start_time": "2022-12-28T23:02:56.159Z"
   },
   {
    "duration": 38,
    "start_time": "2022-12-28T23:02:56.965Z"
   },
   {
    "duration": 25,
    "start_time": "2022-12-28T23:02:57.351Z"
   },
   {
    "duration": 85,
    "start_time": "2022-12-28T23:02:58.098Z"
   },
   {
    "duration": 5,
    "start_time": "2022-12-28T23:02:58.387Z"
   },
   {
    "duration": 163,
    "start_time": "2022-12-28T23:02:58.674Z"
   },
   {
    "duration": 3,
    "start_time": "2022-12-28T23:02:59.330Z"
   },
   {
    "duration": 3,
    "start_time": "2022-12-28T23:02:59.682Z"
   },
   {
    "duration": 4,
    "start_time": "2022-12-28T23:03:00.050Z"
   },
   {
    "duration": 52636,
    "start_time": "2022-12-28T23:03:00.306Z"
   },
   {
    "duration": 4,
    "start_time": "2022-12-28T23:03:52.944Z"
   },
   {
    "duration": 7,
    "start_time": "2022-12-28T23:03:52.949Z"
   },
   {
    "duration": 6,
    "start_time": "2022-12-28T23:03:52.958Z"
   },
   {
    "duration": 40,
    "start_time": "2022-12-28T23:03:52.965Z"
   },
   {
    "duration": 4,
    "start_time": "2022-12-28T23:03:53.006Z"
   },
   {
    "duration": 174,
    "start_time": "2022-12-28T23:03:53.012Z"
   },
   {
    "duration": 73106,
    "start_time": "2022-12-28T23:03:53.187Z"
   },
   {
    "duration": 64216,
    "start_time": "2022-12-28T23:05:06.377Z"
   },
   {
    "duration": 4,
    "start_time": "2022-12-28T23:06:10.595Z"
   },
   {
    "duration": 10,
    "start_time": "2022-12-28T23:06:10.600Z"
   },
   {
    "duration": 5,
    "start_time": "2022-12-28T23:06:10.612Z"
   },
   {
    "duration": 12,
    "start_time": "2022-12-28T23:06:10.677Z"
   },
   {
    "duration": 10,
    "start_time": "2022-12-28T23:06:10.691Z"
   },
   {
    "duration": 245,
    "start_time": "2022-12-28T23:06:10.702Z"
   },
   {
    "duration": 3,
    "start_time": "2022-12-28T23:06:10.948Z"
   },
   {
    "duration": 7,
    "start_time": "2022-12-28T23:06:10.952Z"
   },
   {
    "duration": 16,
    "start_time": "2022-12-28T23:06:10.960Z"
   },
   {
    "duration": 102305,
    "start_time": "2022-12-28T23:06:10.977Z"
   },
   {
    "duration": 6,
    "start_time": "2022-12-28T23:07:53.283Z"
   },
   {
    "duration": 19,
    "start_time": "2022-12-28T23:07:53.290Z"
   },
   {
    "duration": 18,
    "start_time": "2022-12-28T23:07:53.310Z"
   },
   {
    "duration": 26,
    "start_time": "2022-12-28T23:07:53.329Z"
   },
   {
    "duration": 21,
    "start_time": "2022-12-28T23:07:53.356Z"
   },
   {
    "duration": 171,
    "start_time": "2022-12-28T23:07:53.378Z"
   },
   {
    "duration": 3,
    "start_time": "2022-12-28T23:07:53.550Z"
   },
   {
    "duration": 33,
    "start_time": "2022-12-28T23:07:53.554Z"
   },
   {
    "duration": 25,
    "start_time": "2022-12-28T23:07:53.590Z"
   },
   {
    "duration": 29,
    "start_time": "2022-12-28T23:07:53.616Z"
   },
   {
    "duration": 30,
    "start_time": "2022-12-28T23:07:53.646Z"
   },
   {
    "duration": 39,
    "start_time": "2022-12-28T23:07:53.677Z"
   },
   {
    "duration": 19,
    "start_time": "2022-12-28T23:07:53.717Z"
   },
   {
    "duration": 6,
    "start_time": "2022-12-28T23:25:30.018Z"
   },
   {
    "duration": 1911,
    "start_time": "2022-12-29T19:37:56.372Z"
   },
   {
    "duration": 321,
    "start_time": "2022-12-29T19:37:58.285Z"
   },
   {
    "duration": 6,
    "start_time": "2022-12-29T19:37:58.608Z"
   },
   {
    "duration": 11,
    "start_time": "2022-12-29T19:37:58.930Z"
   },
   {
    "duration": 10,
    "start_time": "2022-12-29T19:37:59.426Z"
   },
   {
    "duration": 5,
    "start_time": "2022-12-29T19:38:01.471Z"
   },
   {
    "duration": 19,
    "start_time": "2022-12-29T19:38:01.910Z"
   },
   {
    "duration": 256,
    "start_time": "2022-12-29T19:38:02.326Z"
   },
   {
    "duration": 218,
    "start_time": "2022-12-29T19:38:02.739Z"
   },
   {
    "duration": 642,
    "start_time": "2022-12-29T19:38:03.183Z"
   },
   {
    "duration": 6,
    "start_time": "2022-12-29T19:38:03.828Z"
   },
   {
    "duration": 973,
    "start_time": "2022-12-29T19:38:04.029Z"
   },
   {
    "duration": 563,
    "start_time": "2022-12-29T19:38:05.004Z"
   },
   {
    "duration": 2054,
    "start_time": "2022-12-29T19:38:06.459Z"
   },
   {
    "duration": 369,
    "start_time": "2022-12-29T19:38:08.516Z"
   },
   {
    "duration": 2,
    "start_time": "2022-12-29T19:38:09.550Z"
   },
   {
    "duration": 3,
    "start_time": "2022-12-29T19:38:09.910Z"
   },
   {
    "duration": 4,
    "start_time": "2022-12-29T19:38:10.564Z"
   },
   {
    "duration": 31,
    "start_time": "2022-12-29T19:38:11.139Z"
   },
   {
    "duration": 32,
    "start_time": "2022-12-29T19:38:11.428Z"
   },
   {
    "duration": 36,
    "start_time": "2022-12-29T19:38:12.234Z"
   },
   {
    "duration": 24,
    "start_time": "2022-12-29T19:38:12.765Z"
   },
   {
    "duration": 68,
    "start_time": "2022-12-29T19:38:13.359Z"
   },
   {
    "duration": 7,
    "start_time": "2022-12-29T19:38:13.626Z"
   },
   {
    "duration": 177,
    "start_time": "2022-12-29T19:38:13.886Z"
   },
   {
    "duration": 2,
    "start_time": "2022-12-29T19:38:14.463Z"
   },
   {
    "duration": 3,
    "start_time": "2022-12-29T19:38:14.750Z"
   },
   {
    "duration": 4,
    "start_time": "2022-12-29T19:38:15.134Z"
   },
   {
    "duration": 36904,
    "start_time": "2022-12-29T19:38:16.042Z"
   },
   {
    "duration": 4,
    "start_time": "2022-12-29T19:38:52.947Z"
   },
   {
    "duration": 15,
    "start_time": "2022-12-29T19:38:52.952Z"
   },
   {
    "duration": 11,
    "start_time": "2022-12-29T19:38:52.969Z"
   },
   {
    "duration": 52,
    "start_time": "2022-12-29T19:38:52.982Z"
   },
   {
    "duration": 5,
    "start_time": "2022-12-29T19:38:53.036Z"
   },
   {
    "duration": 197,
    "start_time": "2022-12-29T19:38:53.043Z"
   },
   {
    "duration": 1790,
    "start_time": "2022-12-29T19:45:01.000Z"
   },
   {
    "duration": 55,
    "start_time": "2022-12-29T19:45:02.792Z"
   },
   {
    "duration": 5,
    "start_time": "2022-12-29T19:45:02.849Z"
   },
   {
    "duration": 8,
    "start_time": "2022-12-29T19:45:02.994Z"
   },
   {
    "duration": 11,
    "start_time": "2022-12-29T19:45:03.232Z"
   },
   {
    "duration": 4,
    "start_time": "2022-12-29T19:45:04.326Z"
   },
   {
    "duration": 14,
    "start_time": "2022-12-29T19:45:04.529Z"
   },
   {
    "duration": 262,
    "start_time": "2022-12-29T19:45:04.756Z"
   },
   {
    "duration": 216,
    "start_time": "2022-12-29T19:45:05.027Z"
   },
   {
    "duration": 638,
    "start_time": "2022-12-29T19:45:05.267Z"
   },
   {
    "duration": 9,
    "start_time": "2022-12-29T19:45:05.907Z"
   },
   {
    "duration": 935,
    "start_time": "2022-12-29T19:45:05.918Z"
   },
   {
    "duration": 554,
    "start_time": "2022-12-29T19:45:06.855Z"
   },
   {
    "duration": 2816,
    "start_time": "2022-12-29T19:45:07.413Z"
   },
   {
    "duration": 450,
    "start_time": "2022-12-29T19:45:10.232Z"
   },
   {
    "duration": 3,
    "start_time": "2022-12-29T19:45:10.683Z"
   },
   {
    "duration": 42,
    "start_time": "2022-12-29T19:45:10.688Z"
   },
   {
    "duration": 18,
    "start_time": "2022-12-29T19:45:10.732Z"
   },
   {
    "duration": 62,
    "start_time": "2022-12-29T19:45:10.752Z"
   },
   {
    "duration": 41,
    "start_time": "2022-12-29T19:45:10.815Z"
   },
   {
    "duration": 32,
    "start_time": "2022-12-29T19:45:10.879Z"
   },
   {
    "duration": 31,
    "start_time": "2022-12-29T19:45:11.308Z"
   },
   {
    "duration": 4,
    "start_time": "2022-12-29T19:45:12.010Z"
   },
   {
    "duration": 3,
    "start_time": "2022-12-29T19:45:12.232Z"
   },
   {
    "duration": 4,
    "start_time": "2022-12-29T19:45:12.456Z"
   },
   {
    "duration": 37391,
    "start_time": "2022-12-29T19:45:12.904Z"
   },
   {
    "duration": 12,
    "start_time": "2022-12-29T19:45:50.296Z"
   },
   {
    "duration": 4,
    "start_time": "2022-12-29T19:45:50.310Z"
   },
   {
    "duration": 32,
    "start_time": "2022-12-29T19:45:50.316Z"
   },
   {
    "duration": 938067,
    "start_time": "2022-12-29T19:45:50.350Z"
   },
   {
    "duration": 70817,
    "start_time": "2022-12-29T20:01:28.418Z"
   },
   {
    "duration": 77,
    "start_time": "2022-12-29T20:02:39.236Z"
   },
   {
    "duration": 33,
    "start_time": "2022-12-29T20:02:39.316Z"
   },
   {
    "duration": 18,
    "start_time": "2022-12-29T20:02:39.351Z"
   },
   {
    "duration": 29,
    "start_time": "2022-12-29T20:02:39.372Z"
   },
   {
    "duration": 14,
    "start_time": "2022-12-29T20:02:39.403Z"
   },
   {
    "duration": 41,
    "start_time": "2022-12-29T20:02:39.418Z"
   },
   {
    "duration": 271153,
    "start_time": "2022-12-29T20:02:39.460Z"
   },
   {
    "duration": 6,
    "start_time": "2022-12-29T20:07:10.614Z"
   },
   {
    "duration": 3,
    "start_time": "2022-12-29T20:07:10.622Z"
   },
   {
    "duration": 7,
    "start_time": "2022-12-29T20:07:10.626Z"
   },
   {
    "duration": 5,
    "start_time": "2022-12-29T20:07:10.634Z"
   },
   {
    "duration": 8,
    "start_time": "2022-12-29T20:07:10.641Z"
   },
   {
    "duration": 5,
    "start_time": "2022-12-29T20:07:10.650Z"
   },
   {
    "duration": 8,
    "start_time": "2022-12-29T20:07:10.656Z"
   },
   {
    "duration": 52,
    "start_time": "2022-12-29T20:07:10.665Z"
   },
   {
    "duration": 6,
    "start_time": "2022-12-29T20:07:10.718Z"
   },
   {
    "duration": 232,
    "start_time": "2022-12-29T20:07:10.725Z"
   },
   {
    "duration": 1604,
    "start_time": "2022-12-29T20:12:57.868Z"
   },
   {
    "duration": 47,
    "start_time": "2022-12-29T20:12:59.474Z"
   },
   {
    "duration": 5,
    "start_time": "2022-12-29T20:12:59.523Z"
   },
   {
    "duration": 11,
    "start_time": "2022-12-29T20:12:59.530Z"
   },
   {
    "duration": 10,
    "start_time": "2022-12-29T20:12:59.542Z"
   },
   {
    "duration": 5,
    "start_time": "2022-12-29T20:12:59.923Z"
   },
   {
    "duration": 12,
    "start_time": "2022-12-29T20:13:00.115Z"
   },
   {
    "duration": 276,
    "start_time": "2022-12-29T20:13:00.308Z"
   },
   {
    "duration": 215,
    "start_time": "2022-12-29T20:13:00.586Z"
   },
   {
    "duration": 622,
    "start_time": "2022-12-29T20:13:00.803Z"
   },
   {
    "duration": 6,
    "start_time": "2022-12-29T20:13:01.427Z"
   },
   {
    "duration": 919,
    "start_time": "2022-12-29T20:13:01.435Z"
   },
   {
    "duration": 515,
    "start_time": "2022-12-29T20:13:02.356Z"
   },
   {
    "duration": 1540,
    "start_time": "2022-12-29T20:13:02.873Z"
   },
   {
    "duration": 366,
    "start_time": "2022-12-29T20:13:04.418Z"
   },
   {
    "duration": 3,
    "start_time": "2022-12-29T20:13:04.785Z"
   },
   {
    "duration": 41,
    "start_time": "2022-12-29T20:13:04.789Z"
   },
   {
    "duration": 3,
    "start_time": "2022-12-29T20:13:04.934Z"
   },
   {
    "duration": 30,
    "start_time": "2022-12-29T20:13:05.460Z"
   },
   {
    "duration": 33,
    "start_time": "2022-12-29T20:13:05.733Z"
   },
   {
    "duration": 38,
    "start_time": "2022-12-29T20:13:06.879Z"
   },
   {
    "duration": 26,
    "start_time": "2022-12-29T20:13:07.328Z"
   },
   {
    "duration": 2,
    "start_time": "2022-12-29T20:13:08.072Z"
   },
   {
    "duration": 3,
    "start_time": "2022-12-29T20:13:08.360Z"
   },
   {
    "duration": 4,
    "start_time": "2022-12-29T20:13:08.616Z"
   },
   {
    "duration": 123,
    "start_time": "2022-12-29T20:13:09.956Z"
   },
   {
    "duration": 11,
    "start_time": "2022-12-29T20:13:10.260Z"
   },
   {
    "duration": 11,
    "start_time": "2022-12-29T20:13:10.548Z"
   },
   {
    "duration": 13597,
    "start_time": "2022-12-29T20:13:22.759Z"
   },
   {
    "duration": 4,
    "start_time": "2022-12-29T20:13:36.358Z"
   },
   {
    "duration": 16,
    "start_time": "2022-12-29T20:13:36.363Z"
   },
   {
    "duration": 9,
    "start_time": "2022-12-29T20:13:36.381Z"
   },
   {
    "duration": 91,
    "start_time": "2022-12-29T20:14:40.436Z"
   },
   {
    "duration": 1685,
    "start_time": "2022-12-29T20:15:07.209Z"
   },
   {
    "duration": 55,
    "start_time": "2022-12-29T20:15:08.896Z"
   },
   {
    "duration": 6,
    "start_time": "2022-12-29T20:15:08.953Z"
   },
   {
    "duration": 48,
    "start_time": "2022-12-29T20:15:08.961Z"
   },
   {
    "duration": 51,
    "start_time": "2022-12-29T20:15:09.011Z"
   },
   {
    "duration": 4,
    "start_time": "2022-12-29T20:15:09.526Z"
   },
   {
    "duration": 14,
    "start_time": "2022-12-29T20:15:09.721Z"
   },
   {
    "duration": 277,
    "start_time": "2022-12-29T20:15:09.899Z"
   },
   {
    "duration": 264,
    "start_time": "2022-12-29T20:15:10.178Z"
   },
   {
    "duration": 644,
    "start_time": "2022-12-29T20:15:10.445Z"
   },
   {
    "duration": 6,
    "start_time": "2022-12-29T20:15:11.090Z"
   },
   {
    "duration": 936,
    "start_time": "2022-12-29T20:15:11.098Z"
   },
   {
    "duration": 541,
    "start_time": "2022-12-29T20:15:12.036Z"
   },
   {
    "duration": 3139,
    "start_time": "2022-12-29T20:15:12.579Z"
   },
   {
    "duration": 357,
    "start_time": "2022-12-29T20:15:15.722Z"
   },
   {
    "duration": 3,
    "start_time": "2022-12-29T20:15:16.081Z"
   },
   {
    "duration": 7,
    "start_time": "2022-12-29T20:15:16.086Z"
   },
   {
    "duration": 6,
    "start_time": "2022-12-29T20:15:16.094Z"
   },
   {
    "duration": 31,
    "start_time": "2022-12-29T20:15:16.116Z"
   },
   {
    "duration": 32,
    "start_time": "2022-12-29T20:15:16.148Z"
   },
   {
    "duration": 57,
    "start_time": "2022-12-29T20:15:16.182Z"
   },
   {
    "duration": 26,
    "start_time": "2022-12-29T20:15:16.241Z"
   },
   {
    "duration": 3,
    "start_time": "2022-12-29T20:15:16.268Z"
   },
   {
    "duration": 7,
    "start_time": "2022-12-29T20:15:16.272Z"
   },
   {
    "duration": 5,
    "start_time": "2022-12-29T20:15:16.281Z"
   },
   {
    "duration": 14172,
    "start_time": "2022-12-29T20:15:16.810Z"
   },
   {
    "duration": 3,
    "start_time": "2022-12-29T20:15:30.984Z"
   },
   {
    "duration": 8,
    "start_time": "2022-12-29T20:15:30.988Z"
   },
   {
    "duration": 33,
    "start_time": "2022-12-29T20:15:30.998Z"
   },
   {
    "duration": 500097,
    "start_time": "2022-12-29T20:15:31.033Z"
   },
   {
    "duration": 186893,
    "start_time": "2022-12-29T20:23:51.132Z"
   },
   {
    "duration": 3,
    "start_time": "2022-12-29T20:26:58.027Z"
   },
   {
    "duration": 13,
    "start_time": "2022-12-29T20:26:58.032Z"
   },
   {
    "duration": 10,
    "start_time": "2022-12-29T20:26:58.047Z"
   },
   {
    "duration": 8,
    "start_time": "2022-12-29T20:26:58.060Z"
   },
   {
    "duration": 43,
    "start_time": "2022-12-29T20:26:58.070Z"
   },
   {
    "duration": 3,
    "start_time": "2022-12-29T20:26:58.115Z"
   }
  ],
  "kernelspec": {
   "display_name": "Python 3",
   "language": "python",
   "name": "python3"
  },
  "language_info": {
   "codemirror_mode": {
    "name": "ipython",
    "version": 3
   },
   "file_extension": ".py",
   "mimetype": "text/x-python",
   "name": "python",
   "nbconvert_exporter": "python",
   "pygments_lexer": "ipython3",
   "version": "3.9.13 (tags/v3.9.13:6de2ca5, May 17 2022, 16:36:42) [MSC v.1929 64 bit (AMD64)]"
  },
  "toc": {
   "base_numbering": 1,
   "nav_menu": {},
   "number_sections": true,
   "sideBar": true,
   "skip_h1_title": true,
   "title_cell": "Содержание",
   "title_sidebar": "Contents",
   "toc_cell": true,
   "toc_position": {},
   "toc_section_display": true,
   "toc_window_display": false
  },
  "vscode": {
   "interpreter": {
    "hash": "776c22ba5f7df23aea7492efe904b60bfc92e3ac4cc28e069830ba47b2bb13d9"
   }
  }
 },
 "nbformat": 4,
 "nbformat_minor": 2
}
