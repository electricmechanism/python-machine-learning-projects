{
 "cells": [
  {
   "cell_type": "markdown",
   "metadata": {
    "toc": true
   },
   "source": [
    "<h1>Содержание<span class=\"tocSkip\"></span></h1>\n",
    "<div class=\"toc\"><ul class=\"toc-item\"><li><span><a href=\"#Подготовка-данных\" data-toc-modified-id=\"Подготовка-данных-1\"><span class=\"toc-item-num\">1&nbsp;&nbsp;</span>Подготовка данных</a></span></li><li><span><a href=\"#Исследование-задачи\" data-toc-modified-id=\"Исследование-задачи-2\"><span class=\"toc-item-num\">2&nbsp;&nbsp;</span>Исследование задачи</a></span></li><li><span><a href=\"#Борьба-с-дисбалансом\" data-toc-modified-id=\"Борьба-с-дисбалансом-3\"><span class=\"toc-item-num\">3&nbsp;&nbsp;</span>Борьба с дисбалансом</a></span></li><li><span><a href=\"#Тестирование-модели\" data-toc-modified-id=\"Тестирование-модели-4\"><span class=\"toc-item-num\">4&nbsp;&nbsp;</span>Тестирование модели</a></span></li><li><span><a href=\"#Чек-лист-готовности-проекта\" data-toc-modified-id=\"Чек-лист-готовности-проекта-5\"><span class=\"toc-item-num\">5&nbsp;&nbsp;</span>Чек-лист готовности проекта</a></span></li></ul></div>"
   ]
  },
  {
   "cell_type": "markdown",
   "metadata": {},
   "source": [
    "# Отток клиентов"
   ]
  },
  {
   "cell_type": "markdown",
   "metadata": {},
   "source": [
    "Из «Бета-Банка» стали уходить клиенты. Каждый месяц. Немного, но заметно. Банковские маркетологи посчитали: сохранять текущих клиентов дешевле, чем привлекать новых.\n",
    "\n",
    "Нужно спрогнозировать, уйдёт клиент из банка в ближайшее время или нет. Вам предоставлены исторические данные о поведении клиентов и расторжении договоров с банком. \n",
    "\n",
    "Постройте модель с предельно большим значением *F1*-меры. Чтобы сдать проект успешно, нужно довести метрику до 0.59. Проверьте *F1*-меру на тестовой выборке самостоятельно.\n",
    "\n",
    "Дополнительно измеряйте *AUC-ROC*, сравнивайте её значение с *F1*-мерой.\n",
    "\n",
    "Источник данных: [https://www.kaggle.com/barelydedicated/bank-customer-churn-modeling](https://www.kaggle.com/barelydedicated/bank-customer-churn-modeling)"
   ]
  },
  {
   "cell_type": "markdown",
   "metadata": {},
   "source": [
    "## Подготовка данных"
   ]
  },
  {
   "cell_type": "code",
   "execution_count": 145,
   "metadata": {},
   "outputs": [],
   "source": [
    "import pandas as pd\n",
    "from sklearn.model_selection import train_test_split\n",
    "from sklearn.linear_model import LogisticRegression\n",
    "from sklearn.tree import DecisionTreeClassifier\n",
    "from sklearn.ensemble import RandomForestClassifier\n",
    "\n",
    "from sklearn.utils import shuffle\n",
    "from sklearn.preprocessing import StandardScaler\n",
    "\n",
    "from matplotlib import pyplot as plt\n",
    "import seaborn as sns\n",
    "\n",
    "from sklearn.metrics import f1_score\n",
    "from sklearn.metrics import accuracy_score\n",
    "from sklearn.metrics import precision_score, recall_score\n",
    "from sklearn.metrics import roc_curve\n",
    "from sklearn.metrics import roc_auc_score\n",
    "\n",
    "import time\n",
    "from tqdm import tqdm"
   ]
  },
  {
   "cell_type": "code",
   "execution_count": 3,
   "metadata": {},
   "outputs": [],
   "source": [
    "data = pd.read_csv('/datasets/Churn.csv')"
   ]
  },
  {
   "cell_type": "code",
   "execution_count": 4,
   "metadata": {},
   "outputs": [
    {
     "data": {
      "text/html": [
       "<div>\n",
       "<style scoped>\n",
       "    .dataframe tbody tr th:only-of-type {\n",
       "        vertical-align: middle;\n",
       "    }\n",
       "\n",
       "    .dataframe tbody tr th {\n",
       "        vertical-align: top;\n",
       "    }\n",
       "\n",
       "    .dataframe thead th {\n",
       "        text-align: right;\n",
       "    }\n",
       "</style>\n",
       "<table border=\"1\" class=\"dataframe\">\n",
       "  <thead>\n",
       "    <tr style=\"text-align: right;\">\n",
       "      <th></th>\n",
       "      <th>RowNumber</th>\n",
       "      <th>CustomerId</th>\n",
       "      <th>Surname</th>\n",
       "      <th>CreditScore</th>\n",
       "      <th>Geography</th>\n",
       "      <th>Gender</th>\n",
       "      <th>Age</th>\n",
       "      <th>Tenure</th>\n",
       "      <th>Balance</th>\n",
       "      <th>NumOfProducts</th>\n",
       "      <th>HasCrCard</th>\n",
       "      <th>IsActiveMember</th>\n",
       "      <th>EstimatedSalary</th>\n",
       "      <th>Exited</th>\n",
       "    </tr>\n",
       "  </thead>\n",
       "  <tbody>\n",
       "    <tr>\n",
       "      <th>0</th>\n",
       "      <td>1</td>\n",
       "      <td>15634602</td>\n",
       "      <td>Hargrave</td>\n",
       "      <td>619</td>\n",
       "      <td>France</td>\n",
       "      <td>Female</td>\n",
       "      <td>42</td>\n",
       "      <td>2.0</td>\n",
       "      <td>0.00</td>\n",
       "      <td>1</td>\n",
       "      <td>1</td>\n",
       "      <td>1</td>\n",
       "      <td>101348.88</td>\n",
       "      <td>1</td>\n",
       "    </tr>\n",
       "    <tr>\n",
       "      <th>1</th>\n",
       "      <td>2</td>\n",
       "      <td>15647311</td>\n",
       "      <td>Hill</td>\n",
       "      <td>608</td>\n",
       "      <td>Spain</td>\n",
       "      <td>Female</td>\n",
       "      <td>41</td>\n",
       "      <td>1.0</td>\n",
       "      <td>83807.86</td>\n",
       "      <td>1</td>\n",
       "      <td>0</td>\n",
       "      <td>1</td>\n",
       "      <td>112542.58</td>\n",
       "      <td>0</td>\n",
       "    </tr>\n",
       "    <tr>\n",
       "      <th>2</th>\n",
       "      <td>3</td>\n",
       "      <td>15619304</td>\n",
       "      <td>Onio</td>\n",
       "      <td>502</td>\n",
       "      <td>France</td>\n",
       "      <td>Female</td>\n",
       "      <td>42</td>\n",
       "      <td>8.0</td>\n",
       "      <td>159660.80</td>\n",
       "      <td>3</td>\n",
       "      <td>1</td>\n",
       "      <td>0</td>\n",
       "      <td>113931.57</td>\n",
       "      <td>1</td>\n",
       "    </tr>\n",
       "    <tr>\n",
       "      <th>3</th>\n",
       "      <td>4</td>\n",
       "      <td>15701354</td>\n",
       "      <td>Boni</td>\n",
       "      <td>699</td>\n",
       "      <td>France</td>\n",
       "      <td>Female</td>\n",
       "      <td>39</td>\n",
       "      <td>1.0</td>\n",
       "      <td>0.00</td>\n",
       "      <td>2</td>\n",
       "      <td>0</td>\n",
       "      <td>0</td>\n",
       "      <td>93826.63</td>\n",
       "      <td>0</td>\n",
       "    </tr>\n",
       "    <tr>\n",
       "      <th>4</th>\n",
       "      <td>5</td>\n",
       "      <td>15737888</td>\n",
       "      <td>Mitchell</td>\n",
       "      <td>850</td>\n",
       "      <td>Spain</td>\n",
       "      <td>Female</td>\n",
       "      <td>43</td>\n",
       "      <td>2.0</td>\n",
       "      <td>125510.82</td>\n",
       "      <td>1</td>\n",
       "      <td>1</td>\n",
       "      <td>1</td>\n",
       "      <td>79084.10</td>\n",
       "      <td>0</td>\n",
       "    </tr>\n",
       "  </tbody>\n",
       "</table>\n",
       "</div>"
      ],
      "text/plain": [
       "   RowNumber  CustomerId   Surname  CreditScore Geography  Gender  Age  \\\n",
       "0          1    15634602  Hargrave          619    France  Female   42   \n",
       "1          2    15647311      Hill          608     Spain  Female   41   \n",
       "2          3    15619304      Onio          502    France  Female   42   \n",
       "3          4    15701354      Boni          699    France  Female   39   \n",
       "4          5    15737888  Mitchell          850     Spain  Female   43   \n",
       "\n",
       "   Tenure    Balance  NumOfProducts  HasCrCard  IsActiveMember  \\\n",
       "0     2.0       0.00              1          1               1   \n",
       "1     1.0   83807.86              1          0               1   \n",
       "2     8.0  159660.80              3          1               0   \n",
       "3     1.0       0.00              2          0               0   \n",
       "4     2.0  125510.82              1          1               1   \n",
       "\n",
       "   EstimatedSalary  Exited  \n",
       "0        101348.88       1  \n",
       "1        112542.58       0  \n",
       "2        113931.57       1  \n",
       "3         93826.63       0  \n",
       "4         79084.10       0  "
      ]
     },
     "execution_count": 4,
     "metadata": {},
     "output_type": "execute_result"
    }
   ],
   "source": [
    "data.head()"
   ]
  },
  {
   "cell_type": "code",
   "execution_count": 5,
   "metadata": {},
   "outputs": [
    {
     "name": "stdout",
     "output_type": "stream",
     "text": [
      "<class 'pandas.core.frame.DataFrame'>\n",
      "RangeIndex: 10000 entries, 0 to 9999\n",
      "Data columns (total 14 columns):\n",
      " #   Column           Non-Null Count  Dtype  \n",
      "---  ------           --------------  -----  \n",
      " 0   RowNumber        10000 non-null  int64  \n",
      " 1   CustomerId       10000 non-null  int64  \n",
      " 2   Surname          10000 non-null  object \n",
      " 3   CreditScore      10000 non-null  int64  \n",
      " 4   Geography        10000 non-null  object \n",
      " 5   Gender           10000 non-null  object \n",
      " 6   Age              10000 non-null  int64  \n",
      " 7   Tenure           9091 non-null   float64\n",
      " 8   Balance          10000 non-null  float64\n",
      " 9   NumOfProducts    10000 non-null  int64  \n",
      " 10  HasCrCard        10000 non-null  int64  \n",
      " 11  IsActiveMember   10000 non-null  int64  \n",
      " 12  EstimatedSalary  10000 non-null  float64\n",
      " 13  Exited           10000 non-null  int64  \n",
      "dtypes: float64(3), int64(8), object(3)\n",
      "memory usage: 1.1+ MB\n"
     ]
    }
   ],
   "source": [
    "data.info()"
   ]
  },
  {
   "cell_type": "code",
   "execution_count": 6,
   "metadata": {},
   "outputs": [
    {
     "data": {
      "text/plain": [
       "(10000, 14)"
      ]
     },
     "execution_count": 6,
     "metadata": {},
     "output_type": "execute_result"
    }
   ],
   "source": [
    "data.shape"
   ]
  },
  {
   "cell_type": "markdown",
   "metadata": {},
   "source": [
    "<div style=\"background-color: WhiteSmoke; border-left: 7px solid Silver\">\n",
    "<p>\n",
    "<b>Пропуски</b>    \n",
    "</p>\n",
    "</div>"
   ]
  },
  {
   "cell_type": "code",
   "execution_count": 7,
   "metadata": {},
   "outputs": [
    {
     "data": {
      "text/plain": [
       "RowNumber            0\n",
       "CustomerId           0\n",
       "Surname              0\n",
       "CreditScore          0\n",
       "Geography            0\n",
       "Gender               0\n",
       "Age                  0\n",
       "Tenure             909\n",
       "Balance              0\n",
       "NumOfProducts        0\n",
       "HasCrCard            0\n",
       "IsActiveMember       0\n",
       "EstimatedSalary      0\n",
       "Exited               0\n",
       "dtype: int64"
      ]
     },
     "execution_count": 7,
     "metadata": {},
     "output_type": "execute_result"
    }
   ],
   "source": [
    "data.isna().sum()"
   ]
  },
  {
   "cell_type": "markdown",
   "metadata": {},
   "source": [
    "<div style=\"background-color: WhiteSmoke; border-left: 7px solid Silver\">\n",
    "<p>\n",
    "В столбце \"Tenure — сколько лет человек является клиентом банка\" есть пропуски. Причина может быть, что человек является клиентом банка менее года. Заменим пропуски 0 и переведем значения столбца в целочисленный тип. \n",
    "</p>\n",
    "</div>"
   ]
  },
  {
   "cell_type": "code",
   "execution_count": 8,
   "metadata": {},
   "outputs": [],
   "source": [
    "data['Tenure']=data['Tenure'].fillna(0).astype('int64')"
   ]
  },
  {
   "cell_type": "markdown",
   "metadata": {},
   "source": [
    "<div style=\"background-color: WhiteSmoke; border-left: 7px solid Silver\">\n",
    "<p>\n",
    "<b>Названия столбцов</b>    \n",
    "</p>\n",
    "</div>"
   ]
  },
  {
   "cell_type": "code",
   "execution_count": 9,
   "metadata": {},
   "outputs": [
    {
     "data": {
      "text/plain": [
       "Index(['RowNumber', 'CustomerId', 'Surname', 'CreditScore', 'Geography',\n",
       "       'Gender', 'Age', 'Tenure', 'Balance', 'NumOfProducts', 'HasCrCard',\n",
       "       'IsActiveMember', 'EstimatedSalary', 'Exited'],\n",
       "      dtype='object')"
      ]
     },
     "execution_count": 9,
     "metadata": {},
     "output_type": "execute_result"
    }
   ],
   "source": [
    "data.columns"
   ]
  },
  {
   "cell_type": "markdown",
   "metadata": {},
   "source": [
    "<div style=\"background-color: WhiteSmoke; border-left: 7px solid Silver\">\n",
    "<p>\n",
    "Приведем к стандартному виду названия столбцов.    \n",
    "</p>\n",
    "</div>"
   ]
  },
  {
   "cell_type": "code",
   "execution_count": 10,
   "metadata": {},
   "outputs": [
    {
     "data": {
      "text/plain": [
       "Index(['rownumber', 'customerid', 'surname', 'creditscore', 'geography',\n",
       "       'gender', 'age', 'tenure', 'balance', 'numofproducts', 'hascrcard',\n",
       "       'isactivemember', 'estimatedsalary', 'exited'],\n",
       "      dtype='object')"
      ]
     },
     "execution_count": 10,
     "metadata": {},
     "output_type": "execute_result"
    }
   ],
   "source": [
    "data.columns = data.columns.str.lower()\n",
    "data.columns"
   ]
  },
  {
   "cell_type": "markdown",
   "metadata": {},
   "source": [
    "<div style=\"background-color: WhiteSmoke; border-left: 7px solid Silver\">\n",
    "<p>\n",
    "<b>Дубликаты</b>    \n",
    "</p>\n",
    "</div>"
   ]
  },
  {
   "cell_type": "code",
   "execution_count": 11,
   "metadata": {},
   "outputs": [
    {
     "data": {
      "text/plain": [
       "0"
      ]
     },
     "execution_count": 11,
     "metadata": {},
     "output_type": "execute_result"
    }
   ],
   "source": [
    "data.duplicated().sum()"
   ]
  },
  {
   "cell_type": "code",
   "execution_count": 12,
   "metadata": {},
   "outputs": [
    {
     "data": {
      "text/plain": [
       "0"
      ]
     },
     "execution_count": 12,
     "metadata": {},
     "output_type": "execute_result"
    }
   ],
   "source": [
    "data['customerid'].duplicated().sum()"
   ]
  },
  {
   "cell_type": "markdown",
   "metadata": {},
   "source": [
    "<div style=\"background-color: WhiteSmoke; border-left: 7px solid Silver\">\n",
    "<p>\n",
    "Проверили данные на наличие дубоикатов. Дубликатов в данных не обнаружено.    \n",
    "</p>\n",
    "</div>"
   ]
  },
  {
   "cell_type": "markdown",
   "metadata": {},
   "source": [
    "<div style=\"background-color: WhiteSmoke; border-left: 7px solid Silver\">\n",
    "<p>\n",
    "<b>Лишние признаки</b>    \n",
    "</p>\n",
    "</div>"
   ]
  },
  {
   "cell_type": "code",
   "execution_count": 13,
   "metadata": {},
   "outputs": [],
   "source": [
    "data.drop(columns='rownumber', inplace=True)\n",
    "data.drop(columns='customerid', inplace=True)\n",
    "data.drop(columns='surname', inplace=True)"
   ]
  },
  {
   "cell_type": "markdown",
   "metadata": {},
   "source": [
    "<div style=\"background-color: WhiteSmoke; border-left: 7px solid Silver\">\n",
    "<p>\n",
    "Удалили лишние признаки-столбцы: 'rownumber', 'customerid', 'surname'.      \n",
    "</p>\n",
    "</div>"
   ]
  },
  {
   "cell_type": "markdown",
   "metadata": {},
   "source": [
    "<div style=\"background-color: WhiteSmoke; border-left: 7px solid Silver\">\n",
    "<p>\n",
    "<b>Выбросы</b>\n",
    "</p>\n",
    "</div>"
   ]
  },
  {
   "cell_type": "code",
   "execution_count": 14,
   "metadata": {},
   "outputs": [
    {
     "data": {
      "image/png": "[encoded data removed]",
      "text/plain": [
       "<Figure size 720x360 with 1 Axes>"
      ]
     },
     "metadata": {
      "needs_background": "light"
     },
     "output_type": "display_data"
    }
   ],
   "source": [
    "data.hist(column='creditscore', bins=50, color='green',grid=False, figsize=(10, 5))\n",
    "plt.show()"
   ]
  },
  {
   "cell_type": "code",
   "execution_count": 15,
   "metadata": {},
   "outputs": [
    {
     "data": {
      "image/png": "[encoded data removed]",
      "text/plain": [
       "<Figure size 720x360 with 1 Axes>"
      ]
     },
     "metadata": {
      "needs_background": "light"
     },
     "output_type": "display_data"
    }
   ],
   "source": [
    "data.hist(column='age', bins=50, color='green',grid=False, figsize=(10, 5))\n",
    "plt.show()"
   ]
  },
  {
   "cell_type": "code",
   "execution_count": 16,
   "metadata": {},
   "outputs": [
    {
     "data": {
      "image/png": "[encoded data removed]",
      "text/plain": [
       "<Figure size 720x360 with 1 Axes>"
      ]
     },
     "metadata": {
      "needs_background": "light"
     },
     "output_type": "display_data"
    }
   ],
   "source": [
    "data.hist(column='tenure', bins=50, color='green',grid=False, figsize=(10, 5))\n",
    "plt.show()"
   ]
  },
  {
   "cell_type": "code",
   "execution_count": 17,
   "metadata": {},
   "outputs": [
    {
     "data": {
      "image/png": "[encoded data removed]",
      "text/plain": [
       "<Figure size 720x360 with 1 Axes>"
      ]
     },
     "metadata": {
      "needs_background": "light"
     },
     "output_type": "display_data"
    }
   ],
   "source": [
    "data.hist(column='balance', bins=50, color='green',grid=False, figsize=(10, 5))\n",
    "plt.show()"
   ]
  },
  {
   "cell_type": "raw",
   "metadata": {},
   "source": [
    "data.hist(column='numofproducts', bins=100, color='green',grid=False, figsize=(10, 5))\n",
    "plt.show()"
   ]
  },
  {
   "cell_type": "markdown",
   "metadata": {},
   "source": [
    "<div style=\"background-color: WhiteSmoke; border-left: 7px solid Silver\">\n",
    "<p>\n",
    "В столбце 'balance' есть всплеск, напоминающий выброс около нуля. Но в контексте данной задачи, когда мы исследуем отток лиентов из банка, наличие нулевого баланса (столбец 'balance') нельзя считать вбросом. В остальных столбцах вбросов также не обнанужено.\n",
    "</p>\n",
    "</div>"
   ]
  },
  {
   "cell_type": "markdown",
   "metadata": {},
   "source": [
    "<div style=\"background-color: WhiteSmoke; border-left: 7px solid Silver\">\n",
    "<p>\n",
    "<b>Мультиколлинеарность</b>    \n",
    "</p>\n",
    "</div>"
   ]
  },
  {
   "cell_type": "code",
   "execution_count": 18,
   "metadata": {
    "scrolled": false
   },
   "outputs": [
    {
     "data": {
      "image/png": "[encoded data removed]",
      "text/plain": [
       "<Figure size 720x648 with 2 Axes>"
      ]
     },
     "metadata": {
      "needs_background": "light"
     },
     "output_type": "display_data"
    }
   ],
   "source": [
    "plt.figure(figsize = (10,9))\n",
    "df_plot = sns.heatmap(data.corr(), cmap=\"Spectral\", annot=True)       \n",
    "plt.show()"
   ]
  },
  {
   "cell_type": "markdown",
   "metadata": {},
   "source": [
    "<div style=\"background-color: WhiteSmoke; border-left: 7px solid Silver\">\n",
    "<p>\n",
    "Проверим распределение данных и проверим данные на мультиколлинеарность, чтобы выделить значимые переменные. Признаки никак не коррелируют между собой. Явления мультиколлинеарности в данных не обнанужено.\n",
    "</p>\n",
    "</div>"
   ]
  },
  {
   "cell_type": "markdown",
   "metadata": {},
   "source": [
    "<div style=\"background-color: WhiteSmoke; border-left: 7px solid Silver\">\n",
    "<p>\n",
    "<b>Кодирование данных</b>\n",
    "</p>\n",
    "</div>"
   ]
  },
  {
   "cell_type": "code",
   "execution_count": 19,
   "metadata": {},
   "outputs": [
    {
     "data": {
      "text/plain": [
       "array(['France', 'Spain', 'Germany'], dtype=object)"
      ]
     },
     "execution_count": 19,
     "metadata": {},
     "output_type": "execute_result"
    }
   ],
   "source": [
    "data['geography'].unique()"
   ]
  },
  {
   "cell_type": "code",
   "execution_count": 20,
   "metadata": {},
   "outputs": [
    {
     "data": {
      "text/plain": [
       "array(['Female', 'Male'], dtype=object)"
      ]
     },
     "execution_count": 20,
     "metadata": {},
     "output_type": "execute_result"
    }
   ],
   "source": [
    "data['gender'].unique()"
   ]
  },
  {
   "cell_type": "code",
   "execution_count": 21,
   "metadata": {},
   "outputs": [
    {
     "data": {
      "text/html": [
       "<div>\n",
       "<style scoped>\n",
       "    .dataframe tbody tr th:only-of-type {\n",
       "        vertical-align: middle;\n",
       "    }\n",
       "\n",
       "    .dataframe tbody tr th {\n",
       "        vertical-align: top;\n",
       "    }\n",
       "\n",
       "    .dataframe thead th {\n",
       "        text-align: right;\n",
       "    }\n",
       "</style>\n",
       "<table border=\"1\" class=\"dataframe\">\n",
       "  <thead>\n",
       "    <tr style=\"text-align: right;\">\n",
       "      <th></th>\n",
       "      <th>creditscore</th>\n",
       "      <th>age</th>\n",
       "      <th>tenure</th>\n",
       "      <th>balance</th>\n",
       "      <th>numofproducts</th>\n",
       "      <th>hascrcard</th>\n",
       "      <th>isactivemember</th>\n",
       "      <th>estimatedsalary</th>\n",
       "      <th>exited</th>\n",
       "      <th>geography_Germany</th>\n",
       "      <th>geography_Spain</th>\n",
       "      <th>gender_Male</th>\n",
       "    </tr>\n",
       "  </thead>\n",
       "  <tbody>\n",
       "    <tr>\n",
       "      <th>0</th>\n",
       "      <td>619</td>\n",
       "      <td>42</td>\n",
       "      <td>2</td>\n",
       "      <td>0.00</td>\n",
       "      <td>1</td>\n",
       "      <td>1</td>\n",
       "      <td>1</td>\n",
       "      <td>101348.88</td>\n",
       "      <td>1</td>\n",
       "      <td>0</td>\n",
       "      <td>0</td>\n",
       "      <td>0</td>\n",
       "    </tr>\n",
       "    <tr>\n",
       "      <th>1</th>\n",
       "      <td>608</td>\n",
       "      <td>41</td>\n",
       "      <td>1</td>\n",
       "      <td>83807.86</td>\n",
       "      <td>1</td>\n",
       "      <td>0</td>\n",
       "      <td>1</td>\n",
       "      <td>112542.58</td>\n",
       "      <td>0</td>\n",
       "      <td>0</td>\n",
       "      <td>1</td>\n",
       "      <td>0</td>\n",
       "    </tr>\n",
       "    <tr>\n",
       "      <th>2</th>\n",
       "      <td>502</td>\n",
       "      <td>42</td>\n",
       "      <td>8</td>\n",
       "      <td>159660.80</td>\n",
       "      <td>3</td>\n",
       "      <td>1</td>\n",
       "      <td>0</td>\n",
       "      <td>113931.57</td>\n",
       "      <td>1</td>\n",
       "      <td>0</td>\n",
       "      <td>0</td>\n",
       "      <td>0</td>\n",
       "    </tr>\n",
       "    <tr>\n",
       "      <th>3</th>\n",
       "      <td>699</td>\n",
       "      <td>39</td>\n",
       "      <td>1</td>\n",
       "      <td>0.00</td>\n",
       "      <td>2</td>\n",
       "      <td>0</td>\n",
       "      <td>0</td>\n",
       "      <td>93826.63</td>\n",
       "      <td>0</td>\n",
       "      <td>0</td>\n",
       "      <td>0</td>\n",
       "      <td>0</td>\n",
       "    </tr>\n",
       "    <tr>\n",
       "      <th>4</th>\n",
       "      <td>850</td>\n",
       "      <td>43</td>\n",
       "      <td>2</td>\n",
       "      <td>125510.82</td>\n",
       "      <td>1</td>\n",
       "      <td>1</td>\n",
       "      <td>1</td>\n",
       "      <td>79084.10</td>\n",
       "      <td>0</td>\n",
       "      <td>0</td>\n",
       "      <td>1</td>\n",
       "      <td>0</td>\n",
       "    </tr>\n",
       "  </tbody>\n",
       "</table>\n",
       "</div>"
      ],
      "text/plain": [
       "   creditscore  age  tenure    balance  numofproducts  hascrcard  \\\n",
       "0          619   42       2       0.00              1          1   \n",
       "1          608   41       1   83807.86              1          0   \n",
       "2          502   42       8  159660.80              3          1   \n",
       "3          699   39       1       0.00              2          0   \n",
       "4          850   43       2  125510.82              1          1   \n",
       "\n",
       "   isactivemember  estimatedsalary  exited  geography_Germany  \\\n",
       "0               1        101348.88       1                  0   \n",
       "1               1        112542.58       0                  0   \n",
       "2               0        113931.57       1                  0   \n",
       "3               0         93826.63       0                  0   \n",
       "4               1         79084.10       0                  0   \n",
       "\n",
       "   geography_Spain  gender_Male  \n",
       "0                0            0  \n",
       "1                1            0  \n",
       "2                0            0  \n",
       "3                0            0  \n",
       "4                1            0  "
      ]
     },
     "execution_count": 21,
     "metadata": {},
     "output_type": "execute_result"
    }
   ],
   "source": [
    "data1 = pd.get_dummies(data,drop_first=True)\n",
    "data1.head()"
   ]
  },
  {
   "cell_type": "code",
   "execution_count": 22,
   "metadata": {},
   "outputs": [
    {
     "data": {
      "text/plain": [
       "Index(['creditscore', 'age', 'tenure', 'balance', 'numofproducts', 'hascrcard',\n",
       "       'isactivemember', 'estimatedsalary', 'exited', 'geography_Germany',\n",
       "       'geography_Spain', 'gender_Male'],\n",
       "      dtype='object')"
      ]
     },
     "execution_count": 22,
     "metadata": {},
     "output_type": "execute_result"
    }
   ],
   "source": [
    "data1.columns"
   ]
  },
  {
   "cell_type": "code",
   "execution_count": 23,
   "metadata": {},
   "outputs": [],
   "source": [
    "data1 = data1.rename(\n",
    "    columns={'geography_Germany':'geography_germany', 'geography_Spain':'geography_spain', 'gender_Male':'gender_male'})"
   ]
  },
  {
   "cell_type": "code",
   "execution_count": 24,
   "metadata": {},
   "outputs": [
    {
     "data": {
      "text/html": [
       "<div>\n",
       "<style scoped>\n",
       "    .dataframe tbody tr th:only-of-type {\n",
       "        vertical-align: middle;\n",
       "    }\n",
       "\n",
       "    .dataframe tbody tr th {\n",
       "        vertical-align: top;\n",
       "    }\n",
       "\n",
       "    .dataframe thead th {\n",
       "        text-align: right;\n",
       "    }\n",
       "</style>\n",
       "<table border=\"1\" class=\"dataframe\">\n",
       "  <thead>\n",
       "    <tr style=\"text-align: right;\">\n",
       "      <th></th>\n",
       "      <th>creditscore</th>\n",
       "      <th>age</th>\n",
       "      <th>tenure</th>\n",
       "      <th>balance</th>\n",
       "      <th>numofproducts</th>\n",
       "      <th>hascrcard</th>\n",
       "      <th>isactivemember</th>\n",
       "      <th>estimatedsalary</th>\n",
       "      <th>exited</th>\n",
       "      <th>geography_germany</th>\n",
       "      <th>geography_spain</th>\n",
       "      <th>gender_male</th>\n",
       "    </tr>\n",
       "  </thead>\n",
       "  <tbody>\n",
       "    <tr>\n",
       "      <th>0</th>\n",
       "      <td>619</td>\n",
       "      <td>42</td>\n",
       "      <td>2</td>\n",
       "      <td>0.00</td>\n",
       "      <td>1</td>\n",
       "      <td>1</td>\n",
       "      <td>1</td>\n",
       "      <td>101348.88</td>\n",
       "      <td>1</td>\n",
       "      <td>0</td>\n",
       "      <td>0</td>\n",
       "      <td>0</td>\n",
       "    </tr>\n",
       "    <tr>\n",
       "      <th>1</th>\n",
       "      <td>608</td>\n",
       "      <td>41</td>\n",
       "      <td>1</td>\n",
       "      <td>83807.86</td>\n",
       "      <td>1</td>\n",
       "      <td>0</td>\n",
       "      <td>1</td>\n",
       "      <td>112542.58</td>\n",
       "      <td>0</td>\n",
       "      <td>0</td>\n",
       "      <td>1</td>\n",
       "      <td>0</td>\n",
       "    </tr>\n",
       "    <tr>\n",
       "      <th>2</th>\n",
       "      <td>502</td>\n",
       "      <td>42</td>\n",
       "      <td>8</td>\n",
       "      <td>159660.80</td>\n",
       "      <td>3</td>\n",
       "      <td>1</td>\n",
       "      <td>0</td>\n",
       "      <td>113931.57</td>\n",
       "      <td>1</td>\n",
       "      <td>0</td>\n",
       "      <td>0</td>\n",
       "      <td>0</td>\n",
       "    </tr>\n",
       "    <tr>\n",
       "      <th>3</th>\n",
       "      <td>699</td>\n",
       "      <td>39</td>\n",
       "      <td>1</td>\n",
       "      <td>0.00</td>\n",
       "      <td>2</td>\n",
       "      <td>0</td>\n",
       "      <td>0</td>\n",
       "      <td>93826.63</td>\n",
       "      <td>0</td>\n",
       "      <td>0</td>\n",
       "      <td>0</td>\n",
       "      <td>0</td>\n",
       "    </tr>\n",
       "    <tr>\n",
       "      <th>4</th>\n",
       "      <td>850</td>\n",
       "      <td>43</td>\n",
       "      <td>2</td>\n",
       "      <td>125510.82</td>\n",
       "      <td>1</td>\n",
       "      <td>1</td>\n",
       "      <td>1</td>\n",
       "      <td>79084.10</td>\n",
       "      <td>0</td>\n",
       "      <td>0</td>\n",
       "      <td>1</td>\n",
       "      <td>0</td>\n",
       "    </tr>\n",
       "  </tbody>\n",
       "</table>\n",
       "</div>"
      ],
      "text/plain": [
       "   creditscore  age  tenure    balance  numofproducts  hascrcard  \\\n",
       "0          619   42       2       0.00              1          1   \n",
       "1          608   41       1   83807.86              1          0   \n",
       "2          502   42       8  159660.80              3          1   \n",
       "3          699   39       1       0.00              2          0   \n",
       "4          850   43       2  125510.82              1          1   \n",
       "\n",
       "   isactivemember  estimatedsalary  exited  geography_germany  \\\n",
       "0               1        101348.88       1                  0   \n",
       "1               1        112542.58       0                  0   \n",
       "2               0        113931.57       1                  0   \n",
       "3               0         93826.63       0                  0   \n",
       "4               1         79084.10       0                  0   \n",
       "\n",
       "   geography_spain  gender_male  \n",
       "0                0            0  \n",
       "1                1            0  \n",
       "2                0            0  \n",
       "3                0            0  \n",
       "4                1            0  "
      ]
     },
     "execution_count": 24,
     "metadata": {},
     "output_type": "execute_result"
    }
   ],
   "source": [
    "data1.head()"
   ]
  },
  {
   "cell_type": "markdown",
   "metadata": {},
   "source": [
    "<div style=\"background-color: WhiteSmoke; border-left: 7px solid Silver\">\n",
    "<p>\n",
    "<b>Вывод:</b><br>\n",
    "Произведена подготовка двнных для построения модели и исследования. Обработаны пропуски. Произведена замена названий столбцов.\n",
    "Выполнена проверка данных на дубликаты. Дубликатов не обнаружено. Удалили лишние признаки-столбцы: 'rownumber', 'customerid', \n",
    "'surname'. Выполнена проверка даннх на выбросы. Выбросов не обнаружено. \n",
    "Выполнена проверка данных на мультиколлинеарность. Явления мультиколлинеарности в данных не обнанужено. \n",
    "Произвели кодирование данных и избавились от категориальных признаков методом One hot encoder (OHE).\n",
    "</p>\n",
    "</div>"
   ]
  },
  {
   "cell_type": "markdown",
   "metadata": {},
   "source": [
    "## Исследование задачи"
   ]
  },
  {
   "cell_type": "code",
   "execution_count": 25,
   "metadata": {},
   "outputs": [],
   "source": [
    "target = data1['exited']\n",
    "features = data1.drop('exited', axis=1)"
   ]
  },
  {
   "cell_type": "code",
   "execution_count": 26,
   "metadata": {},
   "outputs": [],
   "source": [
    "features_train, features_valid, target_train,target_valid = \\\n",
    "train_test_split(features, target, test_size=0.4, random_state=12345)"
   ]
  },
  {
   "cell_type": "code",
   "execution_count": 27,
   "metadata": {},
   "outputs": [],
   "source": [
    "features_valid, features_test, target_valid, target_test = \\\n",
    "train_test_split(features_valid, target_valid, test_size=0.5, random_state=12345)"
   ]
  },
  {
   "cell_type": "code",
   "execution_count": 28,
   "metadata": {},
   "outputs": [
    {
     "data": {
      "text/plain": [
       "(6000, 11)"
      ]
     },
     "execution_count": 28,
     "metadata": {},
     "output_type": "execute_result"
    }
   ],
   "source": [
    "features_train.shape"
   ]
  },
  {
   "cell_type": "code",
   "execution_count": 29,
   "metadata": {},
   "outputs": [
    {
     "data": {
      "text/plain": [
       "(2000, 11)"
      ]
     },
     "execution_count": 29,
     "metadata": {},
     "output_type": "execute_result"
    }
   ],
   "source": [
    "features_valid.shape"
   ]
  },
  {
   "cell_type": "code",
   "execution_count": 30,
   "metadata": {},
   "outputs": [
    {
     "data": {
      "text/plain": [
       "(2000, 11)"
      ]
     },
     "execution_count": 30,
     "metadata": {},
     "output_type": "execute_result"
    }
   ],
   "source": [
    "features_test.shape"
   ]
  },
  {
   "cell_type": "markdown",
   "metadata": {},
   "source": [
    "<div style=\"background-color: WhiteSmoke; border-left: 7px solid Silver\">\n",
    "<p>    \n",
    "Разобили исходные данные на три выборки: обучающую, валидационную и тестовую. Выделили 60 % данных на обучающую выборку, и по 20 % на валидационную и тестовую выборки. Получили три набора данных df_train для обучения модели, df_valid для поверки модели на переобучение, df_test для оценки качества и точности модели.\n",
    "</p>\n",
    "</div>"
   ]
  },
  {
   "cell_type": "markdown",
   "metadata": {},
   "source": [
    "<div style=\"background-color: WhiteSmoke; border-left: 7px solid Silver\">\n",
    "<p>\n",
    "<b>Дисбаланс</b>    \n",
    "</p>\n",
    "</div>"
   ]
  },
  {
   "cell_type": "code",
   "execution_count": 31,
   "metadata": {},
   "outputs": [
    {
     "data": {
      "text/plain": [
       "0    0.7963\n",
       "1    0.2037\n",
       "Name: exited, dtype: float64"
      ]
     },
     "execution_count": 31,
     "metadata": {},
     "output_type": "execute_result"
    }
   ],
   "source": [
    "target.value_counts(normalize=True)"
   ]
  },
  {
   "cell_type": "code",
   "execution_count": 31,
   "metadata": {},
   "outputs": [
    {
     "data": {
      "image/png": "[encoded data removed]",
      "text/plain": [
       "<Figure size 720x360 with 1 Axes>"
      ]
     },
     "metadata": {
      "needs_background": "light"
     },
     "output_type": "display_data"
    }
   ],
   "source": [
    "target.plot(kind='hist', color='red',grid=False, figsize=(10, 5))\n",
    "plt.title('Данные в target')\n",
    "plt.show()"
   ]
  },
  {
   "cell_type": "code",
   "execution_count": 32,
   "metadata": {},
   "outputs": [
    {
     "data": {
      "text/plain": [
       "0    0.7963\n",
       "1    0.2037\n",
       "Name: exited, dtype: float64"
      ]
     },
     "execution_count": 32,
     "metadata": {},
     "output_type": "execute_result"
    }
   ],
   "source": [
    "freq_0_1 = data['exited'].value_counts(normalize=True)\n",
    "freq_0_1"
   ]
  },
  {
   "cell_type": "markdown",
   "metadata": {},
   "source": [
    "<div style=\"background-color: WhiteSmoke; border-left: 7px solid Silver\">\n",
    "<p>\n",
    "Проверим, как часто в целевом признаке нашего исходного набора данных встречается класс \"1\" или \"0\". <br> \n",
    "Соотношение несбалансировано: 0 ~80% и 1 ~20%. <br> \n",
    "На первом этапе исследуем модели без учета дисбаланса классов.     \n",
    "</p>\n",
    "</div>    "
   ]
  },
  {
   "cell_type": "code",
   "execution_count": 33,
   "metadata": {},
   "outputs": [
    {
     "data": {
      "text/html": [
       "<div>\n",
       "<style scoped>\n",
       "    .dataframe tbody tr th:only-of-type {\n",
       "        vertical-align: middle;\n",
       "    }\n",
       "\n",
       "    .dataframe tbody tr th {\n",
       "        vertical-align: top;\n",
       "    }\n",
       "\n",
       "    .dataframe thead th {\n",
       "        text-align: right;\n",
       "    }\n",
       "</style>\n",
       "<table border=\"1\" class=\"dataframe\">\n",
       "  <thead>\n",
       "    <tr style=\"text-align: right;\">\n",
       "      <th></th>\n",
       "      <th>creditscore</th>\n",
       "      <th>age</th>\n",
       "      <th>tenure</th>\n",
       "      <th>balance</th>\n",
       "      <th>numofproducts</th>\n",
       "      <th>hascrcard</th>\n",
       "      <th>isactivemember</th>\n",
       "      <th>estimatedsalary</th>\n",
       "      <th>geography_germany</th>\n",
       "      <th>geography_spain</th>\n",
       "      <th>gender_male</th>\n",
       "    </tr>\n",
       "  </thead>\n",
       "  <tbody>\n",
       "    <tr>\n",
       "      <th>7479</th>\n",
       "      <td>567</td>\n",
       "      <td>35</td>\n",
       "      <td>8</td>\n",
       "      <td>153137.74</td>\n",
       "      <td>1</td>\n",
       "      <td>1</td>\n",
       "      <td>0</td>\n",
       "      <td>88659.07</td>\n",
       "      <td>0</td>\n",
       "      <td>1</td>\n",
       "      <td>1</td>\n",
       "    </tr>\n",
       "    <tr>\n",
       "      <th>3411</th>\n",
       "      <td>711</td>\n",
       "      <td>37</td>\n",
       "      <td>8</td>\n",
       "      <td>113899.92</td>\n",
       "      <td>1</td>\n",
       "      <td>0</td>\n",
       "      <td>0</td>\n",
       "      <td>80215.20</td>\n",
       "      <td>0</td>\n",
       "      <td>0</td>\n",
       "      <td>0</td>\n",
       "    </tr>\n",
       "    <tr>\n",
       "      <th>6027</th>\n",
       "      <td>850</td>\n",
       "      <td>44</td>\n",
       "      <td>3</td>\n",
       "      <td>140393.65</td>\n",
       "      <td>2</td>\n",
       "      <td>0</td>\n",
       "      <td>1</td>\n",
       "      <td>186285.52</td>\n",
       "      <td>1</td>\n",
       "      <td>0</td>\n",
       "      <td>1</td>\n",
       "    </tr>\n",
       "    <tr>\n",
       "      <th>1247</th>\n",
       "      <td>512</td>\n",
       "      <td>24</td>\n",
       "      <td>6</td>\n",
       "      <td>0.00</td>\n",
       "      <td>2</td>\n",
       "      <td>1</td>\n",
       "      <td>0</td>\n",
       "      <td>37654.31</td>\n",
       "      <td>0</td>\n",
       "      <td>0</td>\n",
       "      <td>1</td>\n",
       "    </tr>\n",
       "    <tr>\n",
       "      <th>3716</th>\n",
       "      <td>665</td>\n",
       "      <td>27</td>\n",
       "      <td>2</td>\n",
       "      <td>147435.96</td>\n",
       "      <td>1</td>\n",
       "      <td>0</td>\n",
       "      <td>0</td>\n",
       "      <td>187508.06</td>\n",
       "      <td>1</td>\n",
       "      <td>0</td>\n",
       "      <td>0</td>\n",
       "    </tr>\n",
       "  </tbody>\n",
       "</table>\n",
       "</div>"
      ],
      "text/plain": [
       "      creditscore  age  tenure    balance  numofproducts  hascrcard  \\\n",
       "7479          567   35       8  153137.74              1          1   \n",
       "3411          711   37       8  113899.92              1          0   \n",
       "6027          850   44       3  140393.65              2          0   \n",
       "1247          512   24       6       0.00              2          1   \n",
       "3716          665   27       2  147435.96              1          0   \n",
       "\n",
       "      isactivemember  estimatedsalary  geography_germany  geography_spain  \\\n",
       "7479               0         88659.07                  0                1   \n",
       "3411               0         80215.20                  0                0   \n",
       "6027               1        186285.52                  1                0   \n",
       "1247               0         37654.31                  0                0   \n",
       "3716               0        187508.06                  1                0   \n",
       "\n",
       "      gender_male  \n",
       "7479            1  \n",
       "3411            0  \n",
       "6027            1  \n",
       "1247            1  \n",
       "3716            0  "
      ]
     },
     "execution_count": 33,
     "metadata": {},
     "output_type": "execute_result"
    }
   ],
   "source": [
    "features_train.head()"
   ]
  },
  {
   "cell_type": "code",
   "execution_count": 34,
   "metadata": {},
   "outputs": [
    {
     "data": {
      "text/plain": [
       "Index(['creditscore', 'age', 'tenure', 'balance', 'numofproducts', 'hascrcard',\n",
       "       'isactivemember', 'estimatedsalary', 'geography_germany',\n",
       "       'geography_spain', 'gender_male'],\n",
       "      dtype='object')"
      ]
     },
     "execution_count": 34,
     "metadata": {},
     "output_type": "execute_result"
    }
   ],
   "source": [
    "features_train.columns"
   ]
  },
  {
   "cell_type": "code",
   "execution_count": 35,
   "metadata": {},
   "outputs": [],
   "source": [
    "numeric = ['creditscore', 'age', 'tenure', 'balance', 'estimatedsalary']"
   ]
  },
  {
   "cell_type": "code",
   "execution_count": 36,
   "metadata": {},
   "outputs": [],
   "source": [
    "#prevent SettingWithCopyWarning message from appearing\n",
    "pd.options.mode.chained_assignment = None\n",
    "scaler = StandardScaler()\n",
    "scaler.fit(features_train[numeric])\n",
    "features_train[numeric] = scaler.transform(features_train[numeric])\n",
    "features_valid[numeric] = scaler.transform(features_valid[numeric])\n",
    "features_test[numeric] = scaler.transform(features_test[numeric])"
   ]
  },
  {
   "cell_type": "code",
   "execution_count": 37,
   "metadata": {},
   "outputs": [
    {
     "data": {
      "text/html": [
       "<div>\n",
       "<style scoped>\n",
       "    .dataframe tbody tr th:only-of-type {\n",
       "        vertical-align: middle;\n",
       "    }\n",
       "\n",
       "    .dataframe tbody tr th {\n",
       "        vertical-align: top;\n",
       "    }\n",
       "\n",
       "    .dataframe thead th {\n",
       "        text-align: right;\n",
       "    }\n",
       "</style>\n",
       "<table border=\"1\" class=\"dataframe\">\n",
       "  <thead>\n",
       "    <tr style=\"text-align: right;\">\n",
       "      <th></th>\n",
       "      <th>creditscore</th>\n",
       "      <th>age</th>\n",
       "      <th>tenure</th>\n",
       "      <th>balance</th>\n",
       "      <th>numofproducts</th>\n",
       "      <th>hascrcard</th>\n",
       "      <th>isactivemember</th>\n",
       "      <th>estimatedsalary</th>\n",
       "      <th>geography_germany</th>\n",
       "      <th>geography_spain</th>\n",
       "      <th>gender_male</th>\n",
       "    </tr>\n",
       "  </thead>\n",
       "  <tbody>\n",
       "    <tr>\n",
       "      <th>7479</th>\n",
       "      <td>-0.886751</td>\n",
       "      <td>-0.373192</td>\n",
       "      <td>1.104696</td>\n",
       "      <td>1.232271</td>\n",
       "      <td>1</td>\n",
       "      <td>1</td>\n",
       "      <td>0</td>\n",
       "      <td>-0.187705</td>\n",
       "      <td>0</td>\n",
       "      <td>1</td>\n",
       "      <td>1</td>\n",
       "    </tr>\n",
       "    <tr>\n",
       "      <th>3411</th>\n",
       "      <td>0.608663</td>\n",
       "      <td>-0.183385</td>\n",
       "      <td>1.104696</td>\n",
       "      <td>0.600563</td>\n",
       "      <td>1</td>\n",
       "      <td>0</td>\n",
       "      <td>0</td>\n",
       "      <td>-0.333945</td>\n",
       "      <td>0</td>\n",
       "      <td>0</td>\n",
       "      <td>0</td>\n",
       "    </tr>\n",
       "    <tr>\n",
       "      <th>6027</th>\n",
       "      <td>2.052152</td>\n",
       "      <td>0.480939</td>\n",
       "      <td>-0.503694</td>\n",
       "      <td>1.027098</td>\n",
       "      <td>2</td>\n",
       "      <td>0</td>\n",
       "      <td>1</td>\n",
       "      <td>1.503095</td>\n",
       "      <td>1</td>\n",
       "      <td>0</td>\n",
       "      <td>1</td>\n",
       "    </tr>\n",
       "    <tr>\n",
       "      <th>1247</th>\n",
       "      <td>-1.457915</td>\n",
       "      <td>-1.417129</td>\n",
       "      <td>0.461340</td>\n",
       "      <td>-1.233163</td>\n",
       "      <td>2</td>\n",
       "      <td>1</td>\n",
       "      <td>0</td>\n",
       "      <td>-1.071061</td>\n",
       "      <td>0</td>\n",
       "      <td>0</td>\n",
       "      <td>1</td>\n",
       "    </tr>\n",
       "    <tr>\n",
       "      <th>3716</th>\n",
       "      <td>0.130961</td>\n",
       "      <td>-1.132419</td>\n",
       "      <td>-0.825373</td>\n",
       "      <td>1.140475</td>\n",
       "      <td>1</td>\n",
       "      <td>0</td>\n",
       "      <td>0</td>\n",
       "      <td>1.524268</td>\n",
       "      <td>1</td>\n",
       "      <td>0</td>\n",
       "      <td>0</td>\n",
       "    </tr>\n",
       "  </tbody>\n",
       "</table>\n",
       "</div>"
      ],
      "text/plain": [
       "      creditscore       age    tenure   balance  numofproducts  hascrcard  \\\n",
       "7479    -0.886751 -0.373192  1.104696  1.232271              1          1   \n",
       "3411     0.608663 -0.183385  1.104696  0.600563              1          0   \n",
       "6027     2.052152  0.480939 -0.503694  1.027098              2          0   \n",
       "1247    -1.457915 -1.417129  0.461340 -1.233163              2          1   \n",
       "3716     0.130961 -1.132419 -0.825373  1.140475              1          0   \n",
       "\n",
       "      isactivemember  estimatedsalary  geography_germany  geography_spain  \\\n",
       "7479               0        -0.187705                  0                1   \n",
       "3411               0        -0.333945                  0                0   \n",
       "6027               1         1.503095                  1                0   \n",
       "1247               0        -1.071061                  0                0   \n",
       "3716               0         1.524268                  1                0   \n",
       "\n",
       "      gender_male  \n",
       "7479            1  \n",
       "3411            0  \n",
       "6027            1  \n",
       "1247            1  \n",
       "3716            0  "
      ]
     },
     "execution_count": 37,
     "metadata": {},
     "output_type": "execute_result"
    }
   ],
   "source": [
    "features_train.head()"
   ]
  },
  {
   "cell_type": "markdown",
   "metadata": {},
   "source": [
    "<div style=\"background-color: WhiteSmoke; border-left: 7px solid Silver\">\n",
    "<p>\n",
    "<b>Logistic Regression</b>    \n",
    "</p>\n",
    "</div>"
   ]
  },
  {
   "cell_type": "code",
   "execution_count": 38,
   "metadata": {},
   "outputs": [],
   "source": [
    "model = LogisticRegression(random_state=12345, solver='liblinear')\n",
    "model.fit(features_train, target_train)\n",
    "predicted_valid = model.predict(features_valid)"
   ]
  },
  {
   "cell_type": "code",
   "execution_count": 39,
   "metadata": {},
   "outputs": [
    {
     "name": "stdout",
     "output_type": "stream",
     "text": [
      "Полнота: 0.23684210526315788\n",
      "Точность: 0.5657142857142857\n",
      "AUC-ROC: 0.5944008250715284\n",
      "F1-мера: 0.33389544688026984\n"
     ]
    }
   ],
   "source": [
    "print(\"Полнота:\" , recall_score(target_valid, predicted_valid))\n",
    "print(\"Точность:\", precision_score(target_valid, predicted_valid))\n",
    "print(\"AUC-ROC:\", roc_auc_score(target_valid, predicted_valid))\n",
    "print(\"F1-мера:\", f1_score(target_valid, predicted_valid))"
   ]
  },
  {
   "cell_type": "markdown",
   "metadata": {},
   "source": [
    "<div style=\"background-color: WhiteSmoke; border-left: 7px solid Silver\">\n",
    "<p>\n",
    "<b>Decision Tree Classifier</b>    \n",
    "</p>\n",
    "</div>"
   ]
  },
  {
   "cell_type": "code",
   "execution_count": 40,
   "metadata": {},
   "outputs": [
    {
     "name": "stdout",
     "output_type": "stream",
     "text": [
      "F1-мера: 0.0 1\n",
      "F1-мера: 0.5217391304347825 2\n",
      "F1-мера: 0.4234875444839857 3\n",
      "F1-мера: 0.5528700906344411 4\n",
      "F1-мера: 0.5406249999999999 5\n",
      "F1-мера: 0.5696969696969697 6\n",
      "F1-мера: 0.5320813771517998 7\n",
      "F1-мера: 0.5449010654490106 8\n",
      "F1-мера: 0.5786516853932585 9\n",
      "F1-мера: 0.528995756718529 10\n",
      "F1-мера: 0.5201072386058981 11\n",
      "F1-мера: 0.5013054830287207 12\n",
      "F1-мера: 0.5259067357512954 13\n",
      "F1-мера: 0.48391248391248387 14\n",
      "F1-мера: 0.5025125628140703 15\n",
      "F1-мера: 0.491183879093199 16\n",
      "F1-мера: 0.47160493827160493 17\n",
      "F1-мера: 0.49014778325123154 18\n",
      "F1-мера: 0.4921212121212121 19\n"
     ]
    }
   ],
   "source": [
    "for depth in range(1, 20, 1):\n",
    "    model = DecisionTreeClassifier(max_depth=depth, random_state=12345)\n",
    "    model.fit(features_train, target_train)\n",
    "    predicted_valid = model.predict(features_valid) \n",
    "    print(\"F1-мера:\", f1_score(target_valid, predicted_valid), depth)        "
   ]
  },
  {
   "cell_type": "code",
   "execution_count": 41,
   "metadata": {
    "scrolled": true
   },
   "outputs": [
    {
     "name": "stdout",
     "output_type": "stream",
     "text": [
      "Полнота: 0.49282296650717705\n",
      "Точность: 0.7006802721088435\n",
      "AUC-ROC: 0.7185985881840563\n",
      "F1-мера: 0.5786516853932585\n"
     ]
    }
   ],
   "source": [
    "model = DecisionTreeClassifier(max_depth=9, random_state=12345)\n",
    "model.fit(features_train, target_train)\n",
    "predicted_valid = model.predict(features_valid) \n",
    "\n",
    "print(\"Полнота:\" , recall_score(target_valid, predicted_valid))\n",
    "print(\"Точность:\", precision_score(target_valid, predicted_valid))\n",
    "print(\"AUC-ROC:\", roc_auc_score(target_valid, predicted_valid))\n",
    "print(\"F1-мера:\", f1_score(target_valid, predicted_valid))   "
   ]
  },
  {
   "cell_type": "markdown",
   "metadata": {},
   "source": [
    "<div style=\"background-color: WhiteSmoke; border-left: 7px solid Silver\">\n",
    "<p>\n",
    "Для модели Decision Tree Classifier лучшее значение F1-мера равно 0.5786516853932585 для глубины дерева равной 9.\n",
    "</p>\n",
    "</div>"
   ]
  },
  {
   "cell_type": "markdown",
   "metadata": {},
   "source": [
    "<div style=\"background-color: WhiteSmoke; border-left: 7px solid Silver\">\n",
    "<p>\n",
    "<b>Random Forest Classifier</b>    \n",
    "</p>\n",
    "</div>"
   ]
  },
  {
   "cell_type": "code",
   "execution_count": 42,
   "metadata": {},
   "outputs": [
    {
     "name": "stdout",
     "output_type": "stream",
     "text": [
      "Best Model: F1-мера: 0.5985185185185184 13 9\n"
     ]
    }
   ],
   "source": [
    "best_result = 0\n",
    "best_est = 0\n",
    "best_depth = 0\n",
    "for est in range(1, 20, 1):\n",
    "    for depth in range (1, 20, 1):\n",
    "        model = RandomForestClassifier(random_state=12345, n_estimators=est, max_depth=depth)   \n",
    "        model.fit(features_train,target_train)\n",
    "        predicted_valid = model.predict(features_valid)\n",
    "        result = f1_score(target_valid, predicted_valid) \n",
    "        if result > best_result:\n",
    "            best_result = result\n",
    "            best_est = est\n",
    "            best_depth = depth\n",
    "        \n",
    "print(\"Best Model: F1-мера:\", best_result, best_depth, best_est) "
   ]
  },
  {
   "cell_type": "markdown",
   "metadata": {},
   "source": [
    "<div style=\"background-color: WhiteSmoke; border-left: 7px solid Silver\">\n",
    "<p>\n",
    "Для модели Random Forest Classifier лучшее значение F1-мера равно 0.5985185185185184 для глубины дерева равной 13 и параметру estimators равному 9.\n",
    "</p>\n",
    "</div>"
   ]
  },
  {
   "cell_type": "code",
   "execution_count": 43,
   "metadata": {},
   "outputs": [
    {
     "name": "stdout",
     "output_type": "stream",
     "text": [
      "Полнота: 0.48325358851674644\n",
      "Точность: 0.7859922178988327\n",
      "AUC-ROC: 0.7242437348399156\n",
      "F1-мера: 0.5985185185185184\n"
     ]
    }
   ],
   "source": [
    "model = RandomForestClassifier(random_state=12345, n_estimators=9, max_depth=13)   \n",
    "model.fit(features_train, target_train)\n",
    "predicted_valid = model.predict(features_valid) \n",
    "\n",
    "print(\"Полнота:\" , recall_score(target_valid, predicted_valid))\n",
    "print(\"Точность:\", precision_score(target_valid, predicted_valid))\n",
    "print(\"AUC-ROC:\", roc_auc_score(target_valid, predicted_valid))\n",
    "print(\"F1-мера:\", f1_score(target_valid, predicted_valid)) "
   ]
  },
  {
   "cell_type": "markdown",
   "metadata": {},
   "source": [
    "<div style=\"background-color: WhiteSmoke; border-left: 7px solid Silver\">\n",
    "<p>\n",
    "<b>Вывод:</b><br/>\n",
    "Разобили исходные данные на три выборки: обучающую, валидационную и тестовую. Выделили 60 % данных на обучающую выборку, и по 20 % на валидационную и тестовую выборки. Получили три набора данных df_train для обучения модели, df_valid для поверки модели на переобучение, df_test для оценки качества и точности модели. <br>    \n",
    "Проверили, как часто в целевом признаке нашего исходного набора данных встречается класс \"1\" или \"0\". <br> \n",
    "Соотношение несбалансировано: 0 ~80% и 1 ~20%. Разница в 4 раза. <br> \n",
    "На первом этапе исследовали модели без учета дисбаланса классов. \n",
    "Получили следующие результаты: <br/>    \n",
    "Logistic Regression: <br>\n",
    "Значения метрик. <br>\n",
    "Полнота: 0.49282296650717705 <br>\n",
    "Точность: 0.7006802721088435 <br>\n",
    "AUC-ROC: 0.7185985881840563 <br>\n",
    "F1-мера: 0.5786516853932585 <br>    \n",
    "Decision Tree Classifier:<br>\n",
    "Для модели Decision Tree Classifier лучшее значение F1-мера равно 0.5786516853932585 для глубины дерева равной 9. <br>    \n",
    "Значения метрик. <br>\n",
    "Полнота: 0.49282296650717705 <br>\n",
    "Точность: 0.7006802721088435 <br>\n",
    "AUC-ROC: 0.7185985881840563 <br>\n",
    "F1-мера: 0.5786516853932585 <br>\n",
    "Random Forest Classifier:<br>  \n",
    "Для модели Random Forest Classifier лучшее значение F1-мера равно 0.5985185185185184 для глубины дерева равной 13 и параметру estimators равному 9. <br>     \n",
    "Значения метрик. <br> \n",
    "Полнота: 0.48325358851674644 <br>\n",
    "Точность: 0.7859922178988327 <br>\n",
    "AUC-ROC: 0.7242437348399156 <br>\n",
    "F1-мера: 0.5985185185185184 <br>   \n",
    "</p>\n",
    "</div>"
   ]
  },
  {
   "cell_type": "markdown",
   "metadata": {},
   "source": [
    "## Борьба с дисбалансом"
   ]
  },
  {
   "cell_type": "markdown",
   "metadata": {},
   "source": [
    "<div style=\"background-color: WhiteSmoke; border-left: 7px solid Silver\">\n",
    "<p>\n",
    "<b>Метод upsampling</b>    \n",
    "</p>\n",
    "</div>"
   ]
  },
  {
   "cell_type": "code",
   "execution_count": 92,
   "metadata": {},
   "outputs": [],
   "source": [
    "def upsample(features, target, repeat):\n",
    "    features_zeros = features[target == 0]\n",
    "    features_ones = features[target == 1]\n",
    "    target_zeros = target[target == 0]\n",
    "    target_ones = target[target == 1]\n",
    "\n",
    "    features_upsampled = pd.concat([features_zeros] + [features_ones] * repeat)\n",
    "    target_upsampled = pd.concat([target_zeros] + [target_ones] * repeat)\n",
    "    \n",
    "    features_upsampled, target_upsampled = shuffle(features_upsampled, target_upsampled, random_state=12345)\n",
    "    \n",
    "    return features_upsampled, target_upsampled\n",
    "\n",
    "features_upsampled, target_upsampled = upsample(features_train, target_train, 4)"
   ]
  },
  {
   "cell_type": "markdown",
   "metadata": {},
   "source": [
    "<div style=\"background-color: WhiteSmoke; border-left: 7px solid Silver\">\n",
    "<p>\n",
    "<b>Проверка: снизился ли дисбаланс</b>    \n",
    "</p>\n",
    "</div>"
   ]
  },
  {
   "cell_type": "code",
   "execution_count": 142,
   "metadata": {},
   "outputs": [
    {
     "data": {
      "text/plain": [
       "0    0.501043\n",
       "1    0.498957\n",
       "Name: exited, dtype: float64"
      ]
     },
     "execution_count": 142,
     "metadata": {},
     "output_type": "execute_result"
    }
   ],
   "source": [
    "target_upsampled.value_counts(normalize=True)"
   ]
  },
  {
   "cell_type": "code",
   "execution_count": 143,
   "metadata": {},
   "outputs": [
    {
     "data": {
      "image/png": "[encoded data removed]",
      "text/plain": [
       "<Figure size 720x360 with 1 Axes>"
      ]
     },
     "metadata": {
      "needs_background": "light"
     },
     "output_type": "display_data"
    }
   ],
   "source": [
    "target_upsampled.plot(kind='hist', color='red',grid=False, figsize=(10, 5))\n",
    "plt.title('Данные в target')\n",
    "plt.show()"
   ]
  },
  {
   "cell_type": "markdown",
   "metadata": {},
   "source": [
    "<div style=\"background-color: WhiteSmoke; border-left: 7px solid Silver\">\n",
    "<p>\n",
    "<b>Logistic Regression</b>    \n",
    "</p>\n",
    "</div>"
   ]
  },
  {
   "cell_type": "code",
   "execution_count": 45,
   "metadata": {},
   "outputs": [],
   "source": [
    "model = LogisticRegression(random_state=12345, solver='liblinear')\n",
    "model.fit(features_upsampled, target_upsampled)\n",
    "predicted_valid = model.predict(features_valid)"
   ]
  },
  {
   "cell_type": "code",
   "execution_count": 46,
   "metadata": {},
   "outputs": [
    {
     "name": "stdout",
     "output_type": "stream",
     "text": [
      "Полнота: 0.6842105263157895\n",
      "Точность: 0.3803191489361702\n",
      "AUC-ROC: 0.6948233415396898\n",
      "F1-мера: 0.4888888888888888\n"
     ]
    }
   ],
   "source": [
    "print(\"Полнота:\" , recall_score(target_valid, predicted_valid))\n",
    "print(\"Точность:\", precision_score(target_valid, predicted_valid))\n",
    "print(\"AUC-ROC:\", roc_auc_score(target_valid, predicted_valid))\n",
    "print(\"F1-мера:\", f1_score(target_valid, predicted_valid))"
   ]
  },
  {
   "cell_type": "markdown",
   "metadata": {},
   "source": [
    "<div style=\"background-color: WhiteSmoke; border-left: 7px solid Silver\">\n",
    "<p>\n",
    "<b>Decision Tree Classifier</b>    \n",
    "</p>\n",
    "</div>"
   ]
  },
  {
   "cell_type": "code",
   "execution_count": 47,
   "metadata": {},
   "outputs": [
    {
     "name": "stdout",
     "output_type": "stream",
     "text": [
      "F1-мера: 0.4994903160040775 1\n",
      "F1-мера: 0.541015625 2\n",
      "F1-мера: 0.541015625 3\n",
      "F1-мера: 0.5277777777777778 4\n",
      "F1-мера: 0.5963791267305644 5\n",
      "F1-мера: 0.5581835383159887 6\n",
      "F1-мера: 0.5571142284569138 7\n",
      "F1-мера: 0.5386875612144956 8\n",
      "F1-мера: 0.5304518664047152 9\n",
      "F1-мера: 0.5223300970873788 10\n",
      "F1-мера: 0.5269582909460834 11\n",
      "F1-мера: 0.5047120418848168 12\n",
      "F1-мера: 0.50989010989011 13\n",
      "F1-мера: 0.4943052391799545 14\n",
      "F1-мера: 0.48428405122235163 15\n",
      "F1-мера: 0.48527679623085984 16\n",
      "F1-мера: 0.46803377563329307 17\n",
      "F1-мера: 0.4741275571600481 18\n",
      "F1-мера: 0.4560975609756098 19\n"
     ]
    }
   ],
   "source": [
    "for depth in range(1, 20, 1):\n",
    "    model = DecisionTreeClassifier(max_depth=depth, random_state=12345)\n",
    "    model.fit(features_upsampled, target_upsampled)\n",
    "    predicted_valid = model.predict(features_valid) \n",
    "    print(\"F1-мера:\", f1_score(target_valid, predicted_valid), depth)        "
   ]
  },
  {
   "cell_type": "code",
   "execution_count": 48,
   "metadata": {},
   "outputs": [
    {
     "name": "stdout",
     "output_type": "stream",
     "text": [
      "Полнота: 0.6698564593301436\n",
      "Точность: 0.5374280230326296\n",
      "AUC-ROC: 0.7587588238496482\n",
      "F1-мера: 0.5963791267305644\n"
     ]
    }
   ],
   "source": [
    "model = DecisionTreeClassifier(max_depth=5, random_state=12345)\n",
    "model.fit(features_upsampled, target_upsampled)\n",
    "predicted_valid = model.predict(features_valid) \n",
    "\n",
    "print(\"Полнота:\" , recall_score(target_valid, predicted_valid))\n",
    "print(\"Точность:\", precision_score(target_valid, predicted_valid))\n",
    "print(\"AUC-ROC:\", roc_auc_score(target_valid, predicted_valid))\n",
    "print(\"F1-мера:\", f1_score(target_valid, predicted_valid))   "
   ]
  },
  {
   "cell_type": "markdown",
   "metadata": {},
   "source": [
    "<div style=\"background-color: WhiteSmoke; border-left: 7px solid Silver\">\n",
    "<p>\n",
    "Для модели Decision Tree Classifier лучшее значение F1-мера равно 0.5963791267305644 для глубины дерева равной 5. Значения оптимального параметра глубина дерева для лучшей модели отличается для моделей без учета дисбаланса и с учетом дисбаланса. \n",
    "</p>\n",
    "</div>"
   ]
  },
  {
   "cell_type": "markdown",
   "metadata": {},
   "source": [
    "<div style=\"background-color: WhiteSmoke; border-left: 7px solid Silver\">\n",
    "<p>\n",
    "<b>Random Forest Classifier</b>    \n",
    "</p>\n",
    "</div>"
   ]
  },
  {
   "cell_type": "code",
   "execution_count": 185,
   "metadata": {},
   "outputs": [
    {
     "name": "stderr",
     "output_type": "stream",
     "text": [
      "100%|██████████| 380/380 [06:45<00:00,  1.07s/it]"
     ]
    },
    {
     "name": "stdout",
     "output_type": "stream",
     "text": [
      "Best Model: F1-мера: 0.6362545018007203 13 135\n"
     ]
    },
    {
     "name": "stderr",
     "output_type": "stream",
     "text": [
      "\n"
     ]
    }
   ],
   "source": [
    "best_result = 0\n",
    "best_est = 0\n",
    "best_depth = 0\n",
    "data_result = pd.DataFrame(columns=['depth', 'est', 'F1'])\n",
    "\n",
    "with tqdm(total=380) as pbar:\n",
    "    for est in range(100, 200, 5):\n",
    "        for depth in range (1, 20, 1):\n",
    "            model = RandomForestClassifier(random_state=12345, n_estimators=est, max_depth=depth)   \n",
    "            model.fit(features_upsampled, target_upsampled)\n",
    "            predicted_valid = model.predict(features_valid)\n",
    "            result = f1_score(target_valid, predicted_valid)\n",
    "            new_row = pd.Series(data={'depth': depth, 'est': est, 'F1': result})\n",
    "            data_result = data_result.append(new_row,ignore_index=True)\n",
    "            pbar.update(1)\n",
    "            if result > best_result:\n",
    "                best_result = result\n",
    "                best_est = est\n",
    "                best_depth = depth\n",
    "        \n",
    "print(\"Best Model: F1-мера:\", best_result, best_depth, best_est) "
   ]
  },
  {
   "cell_type": "code",
   "execution_count": 173,
   "metadata": {},
   "outputs": [
    {
     "data": {
      "image/png": "[encoded data removed]",
      "text/plain": [
       "<Figure size 1080x648 with 1 Axes>"
      ]
     },
     "metadata": {
      "needs_background": "light"
     },
     "output_type": "display_data"
    }
   ],
   "source": [
    "fig, ax = plt.subplots()\n",
    "for i in data_result['est'].unique():\n",
    "    data_result[data_result['est'] == i].plot(x = 'depth', y = 'F1', ax=ax, style='o-', \\\n",
    "                                             grid=True, figsize=(15, 9), legend=True, label='est = %s'%i)\n",
    "plt.title('Параметры модели случайного леса')\n",
    "plt.ylabel('F1')\n",
    "plt.show()"
   ]
  },
  {
   "cell_type": "markdown",
   "metadata": {},
   "source": [
    "<div style=\"background-color: WhiteSmoke; border-left: 7px solid Silver\">\n",
    "<p>\n",
    "График показывает как зависит величина F1-меры от параметров модели случайного леса. Из графика мы видим, что F1-мера принимает максимальную величину для глубины дерева равной 13 и параметру estimators равному 135. До глубины дерева равной 13 величина F1-меры растет, затем начинает уменьшаться.     \n",
    "</p>\n",
    "</div>"
   ]
  },
  {
   "cell_type": "code",
   "execution_count": 174,
   "metadata": {},
   "outputs": [
    {
     "name": "stdout",
     "output_type": "stream",
     "text": [
      "Полнота: 0.6267942583732058\n",
      "Точность: 0.6405867970660146\n",
      "AUC-ROC: 0.7669369521954524\n",
      "F1-мера: 0.6336154776299879\n"
     ]
    }
   ],
   "source": [
    "model = RandomForestClassifier(random_state=12345, n_estimators=140, max_depth=13)   \n",
    "model.fit(features_upsampled, target_upsampled)\n",
    "predicted_valid = model.predict(features_valid) \n",
    "\n",
    "print(\"Полнота:\" , recall_score(target_valid, predicted_valid))\n",
    "print(\"Точность:\", precision_score(target_valid, predicted_valid))\n",
    "print(\"AUC-ROC:\", roc_auc_score(target_valid, predicted_valid))\n",
    "print(\"F1-мера:\", f1_score(target_valid, predicted_valid)) "
   ]
  },
  {
   "cell_type": "markdown",
   "metadata": {},
   "source": [
    "<div style=\"background-color: WhiteSmoke; border-left: 7px solid Silver\">\n",
    "<p>\n",
    "Для модели Random Forest Classifier лучшее значение F1-мера равно 0.6362545018007203 для глубины дерева равной 13 и параметру estimators равному 135. Значение F1-меры улучшилось по сравнению \n",
    "с результатом обучения модели без учета дисбаланса. Параметры лучшей модели глубины дерева и estimators изменились по сравнению с моделью без учета дисбаланса. Таким образом, учет дисбаланса при построении модели влияет на выбор оптимальных параметров модели.\n",
    "</p>\n",
    "</div>"
   ]
  },
  {
   "cell_type": "markdown",
   "metadata": {},
   "source": [
    "<div style=\"background-color: WhiteSmoke; border-left: 7px solid Silver\">\n",
    "<p>\n",
    "<b>Метод downsampling</b>    \n",
    "</p>\n",
    "</div>"
   ]
  },
  {
   "cell_type": "code",
   "execution_count": 118,
   "metadata": {},
   "outputs": [
    {
     "name": "stdout",
     "output_type": "stream",
     "text": [
      "(2397, 11)\n",
      "(2397,)\n"
     ]
    }
   ],
   "source": [
    "def downsample(features, target, fraction):\n",
    "    features_zeros = features[target == 0]\n",
    "    features_ones = features[target == 1]\n",
    "    target_zeros = target[target == 0]\n",
    "    target_ones = target[target == 1]\n",
    "\n",
    "    features_downsampled = pd.concat([features_zeros.sample(frac=fraction, random_state=12345)] + [features_ones])\n",
    "    target_downsampled = pd.concat([target_zeros.sample(frac=fraction, random_state=12345)] + [target_ones])\n",
    "    \n",
    "    features_downsampled, target_downsampled = shuffle(features_downsampled, target_downsampled, random_state=12345)\n",
    "    \n",
    "    return features_downsampled, target_downsampled\n",
    "\n",
    "features_downsampled, target_downsampled = downsample(features_train, target_train, 0.25)\n",
    "\n",
    "print(features_downsampled.shape)\n",
    "print(target_downsampled.shape)"
   ]
  },
  {
   "cell_type": "markdown",
   "metadata": {},
   "source": [
    "<div style=\"background-color: WhiteSmoke; border-left: 7px solid Silver\">\n",
    "<p>\n",
    "<b>Проверка: снизился ли дисбаланс</b>    \n",
    "</p>\n",
    "</div>"
   ]
  },
  {
   "cell_type": "code",
   "execution_count": 140,
   "metadata": {},
   "outputs": [
    {
     "data": {
      "text/plain": [
       "0    0.501043\n",
       "1    0.498957\n",
       "Name: exited, dtype: float64"
      ]
     },
     "execution_count": 140,
     "metadata": {},
     "output_type": "execute_result"
    }
   ],
   "source": [
    "target_downsampled.value_counts(normalize=True)"
   ]
  },
  {
   "cell_type": "code",
   "execution_count": 141,
   "metadata": {},
   "outputs": [
    {
     "data": {
      "image/png": "[encoded data removed]",
      "text/plain": [
       "<Figure size 720x360 with 1 Axes>"
      ]
     },
     "metadata": {
      "needs_background": "light"
     },
     "output_type": "display_data"
    }
   ],
   "source": [
    "target_downsampled.plot(kind='hist', color='red',grid=False, figsize=(10, 5))\n",
    "plt.title('Данные в target')\n",
    "plt.show()"
   ]
  },
  {
   "cell_type": "markdown",
   "metadata": {},
   "source": [
    "<div style=\"background-color: WhiteSmoke; border-left: 7px solid Silver\">\n",
    "<p>\n",
    "<b>Logistic Regression</b>    \n",
    "</p>\n",
    "</div>"
   ]
  },
  {
   "cell_type": "code",
   "execution_count": 121,
   "metadata": {},
   "outputs": [],
   "source": [
    "model = LogisticRegression(random_state=12345, solver='liblinear')\n",
    "model.fit(features_downsampled, target_downsampled)\n",
    "predicted_valid = model.predict(features_valid)"
   ]
  },
  {
   "cell_type": "code",
   "execution_count": 122,
   "metadata": {},
   "outputs": [
    {
     "name": "stdout",
     "output_type": "stream",
     "text": [
      "Полнота: 0.6794258373205742\n",
      "Точность: 0.33849821215733017\n",
      "AUC-ROC: 0.6643020463467599\n",
      "F1-мера: 0.45186953062848056\n"
     ]
    }
   ],
   "source": [
    "print(\"Полнота:\" , recall_score(target_valid, predicted_valid))\n",
    "print(\"Точность:\", precision_score(target_valid, predicted_valid))\n",
    "print(\"AUC-ROC:\", roc_auc_score(target_valid, predicted_valid))\n",
    "print(\"F1-мера:\", f1_score(target_valid, predicted_valid))"
   ]
  },
  {
   "cell_type": "markdown",
   "metadata": {},
   "source": [
    "<div style=\"background-color: WhiteSmoke; border-left: 7px solid Silver\">\n",
    "<p>\n",
    "<b>Decision Tree Classifier</b>    \n",
    "</p>\n",
    "</div>"
   ]
  },
  {
   "cell_type": "code",
   "execution_count": 123,
   "metadata": {},
   "outputs": [
    {
     "name": "stdout",
     "output_type": "stream",
     "text": [
      "F1-мера: 0.5061845861084681 1\n",
      "F1-мера: 0.5394495412844036 2\n",
      "F1-мера: 0.5555555555555556 3\n",
      "F1-мера: 0.5357737104825291 4\n",
      "F1-мера: 0.5931174089068827 5\n",
      "F1-мера: 0.5738636363636362 6\n",
      "F1-мера: 0.5290437890974085 7\n",
      "F1-мера: 0.5291396854764107 8\n",
      "F1-мера: 0.5360443622920518 9\n",
      "F1-мера: 0.521901211556384 10\n",
      "F1-мера: 0.5067873303167421 11\n",
      "F1-мера: 0.49517120280948196 12\n",
      "F1-мера: 0.48542024013722135 13\n",
      "F1-мера: 0.48653198653198654 14\n",
      "F1-мера: 0.4970111016225449 15\n",
      "F1-мера: 0.48438818565400843 16\n",
      "F1-мера: 0.4894514767932489 17\n",
      "F1-мера: 0.49031171019376585 18\n",
      "F1-мера: 0.49072512647554806 19\n"
     ]
    }
   ],
   "source": [
    "for depth in range(1, 20, 1):\n",
    "    model = DecisionTreeClassifier(max_depth=depth, random_state=12345)\n",
    "    model.fit(features_downsampled, target_downsampled)\n",
    "    predicted_valid = model.predict(features_valid) \n",
    "    print(\"F1-мера:\", f1_score(target_valid, predicted_valid), depth)  "
   ]
  },
  {
   "cell_type": "code",
   "execution_count": 186,
   "metadata": {},
   "outputs": [
    {
     "name": "stdout",
     "output_type": "stream",
     "text": [
      "Полнота: 0.7248803827751196\n",
      "Точность: 0.47492163009404387\n",
      "AUC-ROC: 0.7565615567478632\n",
      "F1-мера: 0.5738636363636362\n"
     ]
    }
   ],
   "source": [
    "model = DecisionTreeClassifier(max_depth=6, random_state=12345)\n",
    "model.fit(features_downsampled, target_downsampled)\n",
    "predicted_valid = model.predict(features_valid) \n",
    "\n",
    "print(\"Полнота:\" , recall_score(target_valid, predicted_valid))\n",
    "print(\"Точность:\", precision_score(target_valid, predicted_valid))\n",
    "print(\"AUC-ROC:\", roc_auc_score(target_valid, predicted_valid))\n",
    "print(\"F1-мера:\", f1_score(target_valid, predicted_valid))"
   ]
  },
  {
   "cell_type": "markdown",
   "metadata": {},
   "source": [
    "<div style=\"background-color: WhiteSmoke; border-left: 7px solid Silver\">\n",
    "<p>\n",
    "Для модели Decision Tree Classifier лучшее значение F1-мера равно 0.5738636363636362 для глубины дерева равной 6.\n",
    "</p>\n",
    "</div>"
   ]
  },
  {
   "cell_type": "markdown",
   "metadata": {},
   "source": [
    "<div style=\"background-color: WhiteSmoke; border-left: 7px solid Silver\">\n",
    "<p>\n",
    "<b>Random Forest Classifier</b>    \n",
    "</p>\n",
    "</div>"
   ]
  },
  {
   "cell_type": "code",
   "execution_count": 157,
   "metadata": {},
   "outputs": [
    {
     "name": "stderr",
     "output_type": "stream",
     "text": [
      "100%|██████████| 361/361 [01:47<00:00,  3.37it/s]"
     ]
    },
    {
     "name": "stdout",
     "output_type": "stream",
     "text": [
      "Best Model: F1-мера: 0.6036217303822937 4 10\n"
     ]
    },
    {
     "name": "stderr",
     "output_type": "stream",
     "text": [
      "\n"
     ]
    }
   ],
   "source": [
    "best_result = 0\n",
    "best_est = 0\n",
    "best_depth = 0\n",
    "data_result = pd.DataFrame(columns=['depth', 'est', 'F1'])\n",
    "\n",
    "with tqdm(total=361) as pbar:\n",
    "    for est in range(10, 200, 10):\n",
    "        for depth in range (1, 20, 1):\n",
    "            model = RandomForestClassifier(random_state=12345, n_estimators=est, max_depth=depth)   \n",
    "            model.fit(features_downsampled, target_downsampled)\n",
    "            predicted_valid = model.predict(features_valid)\n",
    "            result = f1_score(target_valid, predicted_valid)\n",
    "            new_row = pd.Series(data={'depth': depth, 'est': est, 'F1': result})\n",
    "            data_result = data_result.append(new_row,ignore_index=True)\n",
    "            pbar.update(1)\n",
    "            if result > best_result:\n",
    "                best_result = result\n",
    "                best_est = est\n",
    "                best_depth = depth\n",
    "        \n",
    "print(\"Best Model: F1-мера:\", best_result, best_depth, best_est) "
   ]
  },
  {
   "cell_type": "code",
   "execution_count": 158,
   "metadata": {},
   "outputs": [
    {
     "data": {
      "image/png": "[encoded data removed]",
      "text/plain": [
       "<Figure size 1080x648 with 1 Axes>"
      ]
     },
     "metadata": {
      "needs_background": "light"
     },
     "output_type": "display_data"
    }
   ],
   "source": [
    "fig, ax = plt.subplots()\n",
    "for i in data_result['est'].unique():\n",
    "    data_result[data_result['est'] == i].plot(x = 'depth', y = 'F1', ax=ax, style='o-', \\\n",
    "                                             grid=True, figsize=(15, 9), legend=True, label='est = %s'%i)\n",
    "plt.title('Параметры модели случайного леса')\n",
    "plt.ylabel('F1')\n",
    "plt.show()"
   ]
  },
  {
   "cell_type": "markdown",
   "metadata": {},
   "source": [
    "<div style=\"background-color: WhiteSmoke; border-left: 7px solid Silver\">\n",
    "<p>\n",
    "График показывает как зависит величина F1-меры от параметров модели случайного леса. Из графика мы видим, что F1-мера принимает максимальную величину для глубины дерева равной 4 и параметру estimators равному 10. До глубины дерева равной 4 величина F1-меры растет, затем начинает уменьшаться.     \n",
    "</p>\n",
    "</div>"
   ]
  },
  {
   "cell_type": "code",
   "execution_count": 164,
   "metadata": {},
   "outputs": [],
   "source": [
    "model = RandomForestClassifier(random_state=12345, n_estimators=10, max_depth=4)   \n",
    "model.fit(features_downsampled, target_downsampled)\n",
    "predicted_valid = model.predict(features_valid)  "
   ]
  },
  {
   "cell_type": "code",
   "execution_count": 165,
   "metadata": {},
   "outputs": [
    {
     "name": "stdout",
     "output_type": "stream",
     "text": [
      "Полнота: 0.7177033492822966\n",
      "Точность: 0.5208333333333334\n",
      "AUC-ROC: 0.77162032192307\n",
      "F1-мера: 0.6036217303822937\n"
     ]
    }
   ],
   "source": [
    "print(\"Полнота:\" , recall_score(target_valid, predicted_valid))\n",
    "print(\"Точность:\", precision_score(target_valid, predicted_valid))\n",
    "print(\"AUC-ROC:\", roc_auc_score(target_valid, predicted_valid))\n",
    "print(\"F1-мера:\", f1_score(target_valid, predicted_valid))"
   ]
  },
  {
   "cell_type": "markdown",
   "metadata": {},
   "source": [
    "<div style=\"background-color: WhiteSmoke; border-left: 7px solid Silver\">\n",
    "<p>\n",
    "Для модели Random Forest Classifier лучшее значение F1-мера равно 0.6036217303822937 для глубины дерева равной 4 и параметру estimators равному 10. Значение F1-меры улучшилось при использовании метода downsample по сравнению\n",
    "с результатом обучения модели без учета дисбаланса.\n",
    "</p>\n",
    "</div>"
   ]
  },
  {
   "cell_type": "markdown",
   "metadata": {},
   "source": [
    "<div style=\"background-color: WhiteSmoke; border-left: 7px solid Silver\">\n",
    "<p>\n",
    "<b>Балансировка весов классов</b>    \n",
    "</p>\n",
    "</div>"
   ]
  },
  {
   "cell_type": "markdown",
   "metadata": {},
   "source": [
    "<div style=\"background-color: WhiteSmoke; border-left: 7px solid Silver\">\n",
    "<p>\n",
    "<b>Logistic Regression</b>    \n",
    "</p>\n",
    "</div>"
   ]
  },
  {
   "cell_type": "code",
   "execution_count": 166,
   "metadata": {},
   "outputs": [],
   "source": [
    "model = LogisticRegression(random_state=12345, solver='liblinear', class_weight='balanced')\n",
    "model.fit(features_train, target_train)\n",
    "predicted_valid = model.predict(features_valid)"
   ]
  },
  {
   "cell_type": "code",
   "execution_count": 167,
   "metadata": {},
   "outputs": [
    {
     "name": "stdout",
     "output_type": "stream",
     "text": [
      "Полнота: 0.6722488038277512\n",
      "Точность: 0.33978234582829503\n",
      "AUC-ROC: 0.6635580302324597\n",
      "F1-мера: 0.4514056224899599\n"
     ]
    }
   ],
   "source": [
    "print(\"Полнота:\" , recall_score(target_valid, predicted_valid))\n",
    "print(\"Точность:\", precision_score(target_valid, predicted_valid))\n",
    "print(\"AUC-ROC:\", roc_auc_score(target_valid, predicted_valid))\n",
    "print(\"F1-мера:\", f1_score(target_valid, predicted_valid))"
   ]
  },
  {
   "cell_type": "markdown",
   "metadata": {},
   "source": [
    "<div style=\"background-color: WhiteSmoke; border-left: 7px solid Silver\">\n",
    "<p>\n",
    "<b>Вывод:</b><br>\n",
    "Для модели LogisticRegression Метод upsampling и метод Балансировка весов классов дают абсолютно одинаковый результат для всех \n",
    "метрик: <br>    \n",
    "Полнота: 0.6842105263157895 <br>\n",
    "Точность: 0.3803191489361702 <br>\n",
    "AUC-ROC: 0.6948233415396898 <br>\n",
    "F1-мера: 0.4888888888888888 <br>  \n",
    "</p>\n",
    "</div>"
   ]
  },
  {
   "cell_type": "markdown",
   "metadata": {},
   "source": [
    "<div style=\"background-color: WhiteSmoke; border-left: 7px solid Silver\">\n",
    "<p>\n",
    "<b>Decision Tree Classifier</b>    \n",
    "</p>\n",
    "</div>"
   ]
  },
  {
   "cell_type": "code",
   "execution_count": 168,
   "metadata": {},
   "outputs": [
    {
     "name": "stdout",
     "output_type": "stream",
     "text": [
      "F1-мера: 0.4994903160040775 1\n",
      "F1-мера: 0.541015625 2\n",
      "F1-мера: 0.541015625 3\n",
      "F1-мера: 0.5277777777777778 4\n",
      "F1-мера: 0.5963791267305644 5\n",
      "F1-мера: 0.5581835383159887 6\n",
      "F1-мера: 0.5559999999999999 7\n",
      "F1-мера: 0.5401174168297456 8\n",
      "F1-мера: 0.5338567222767419 9\n",
      "F1-мера: 0.5163776493256262 10\n",
      "F1-мера: 0.5316973415132925 11\n",
      "F1-мера: 0.5097636176772867 12\n",
      "F1-мера: 0.49891067538126366 13\n",
      "F1-мера: 0.4845132743362832 14\n",
      "F1-мера: 0.47410817031070196 15\n",
      "F1-мера: 0.4739336492890996 16\n",
      "F1-мера: 0.4786729857819906 17\n",
      "F1-мера: 0.4710144927536232 18\n",
      "F1-мера: 0.4556354916067146 19\n"
     ]
    }
   ],
   "source": [
    "for depth in range(1, 20, 1):\n",
    "    model = DecisionTreeClassifier(max_depth=depth, random_state=12345, class_weight='balanced')\n",
    "    model.fit(features_train, target_train)\n",
    "    predicted_valid = model.predict(features_valid) \n",
    "    print(\"F1-мера:\", f1_score(target_valid, predicted_valid), depth)"
   ]
  },
  {
   "cell_type": "code",
   "execution_count": 169,
   "metadata": {},
   "outputs": [
    {
     "name": "stdout",
     "output_type": "stream",
     "text": [
      "Полнота: 0.6698564593301436\n",
      "Точность: 0.5374280230326296\n",
      "AUC-ROC: 0.7587588238496482\n",
      "F1-мера: 0.5963791267305644\n"
     ]
    }
   ],
   "source": [
    "model = DecisionTreeClassifier(max_depth=5, random_state=12345, class_weight='balanced')\n",
    "model.fit(features_train, target_train)\n",
    "predicted_valid = model.predict(features_valid) \n",
    "\n",
    "print(\"Полнота:\" , recall_score(target_valid, predicted_valid))\n",
    "print(\"Точность:\", precision_score(target_valid, predicted_valid))\n",
    "print(\"AUC-ROC:\", roc_auc_score(target_valid, predicted_valid))\n",
    "print(\"F1-мера:\", f1_score(target_valid, predicted_valid))"
   ]
  },
  {
   "cell_type": "markdown",
   "metadata": {},
   "source": [
    "<div style=\"background-color: WhiteSmoke; border-left: 7px solid Silver\">\n",
    "<p>\n",
    "Для модели Decision Tree Classifier лучшее значение F1-мера равно 0.5963791267305644 для глубины дерева равной 5.\n",
    "</p>\n",
    "</div>"
   ]
  },
  {
   "cell_type": "markdown",
   "metadata": {},
   "source": [
    "<div style=\"background-color: WhiteSmoke; border-left: 7px solid Silver\">\n",
    "<p>\n",
    "<b>Random Forest Classifier</b>    \n",
    "</p>\n",
    "</div>"
   ]
  },
  {
   "cell_type": "code",
   "execution_count": 175,
   "metadata": {},
   "outputs": [
    {
     "name": "stderr",
     "output_type": "stream",
     "text": [
      "100%|██████████| 551/551 [07:25<00:00,  1.24it/s]"
     ]
    },
    {
     "name": "stdout",
     "output_type": "stream",
     "text": [
      "Best Model: F1-мера: 0.6354285714285716 9 190\n"
     ]
    },
    {
     "name": "stderr",
     "output_type": "stream",
     "text": [
      "\n"
     ]
    }
   ],
   "source": [
    "best_result = 0\n",
    "best_est = 0\n",
    "best_depth = 0\n",
    "data_result = pd.DataFrame(columns=['depth', 'est', 'F1'])\n",
    "\n",
    "with tqdm(total=361) as pbar:\n",
    "    for est in range(10, 200, 10):\n",
    "        for depth in range (1, 20, 1):\n",
    "            model = RandomForestClassifier(random_state=12345, n_estimators=est, max_depth=depth, class_weight='balanced')   \n",
    "            model.fit(features_train, target_train)\n",
    "            predicted_valid = model.predict(features_valid)\n",
    "            result = f1_score(target_valid, predicted_valid)\n",
    "            new_row = pd.Series(data={'depth': depth, 'est': est, 'F1': result})\n",
    "            data_result = data_result.append(new_row,ignore_index=True)\n",
    "            pbar.update(1)\n",
    "            if result > best_result:\n",
    "                best_result = result\n",
    "                best_est = est\n",
    "                best_depth = depth\n",
    "        \n",
    "print(\"Best Model: F1-мера:\", best_result, best_depth, best_est) "
   ]
  },
  {
   "cell_type": "code",
   "execution_count": 176,
   "metadata": {},
   "outputs": [],
   "source": [
    "model = RandomForestClassifier(random_state=12345, n_estimators=190, max_depth=9, class_weight='balanced')   \n",
    "model.fit(features_train, target_train)\n",
    "predicted_valid = model.predict(features_valid)  "
   ]
  },
  {
   "cell_type": "code",
   "execution_count": 177,
   "metadata": {},
   "outputs": [
    {
     "name": "stdout",
     "output_type": "stream",
     "text": [
      "Полнота: 0.6650717703349283\n",
      "Точность: 0.6083150984682714\n",
      "AUC-ROC: 0.7759619281510293\n",
      "F1-мера: 0.6354285714285716\n"
     ]
    }
   ],
   "source": [
    "print(\"Полнота:\" , recall_score(target_valid, predicted_valid))\n",
    "print(\"Точность:\", precision_score(target_valid, predicted_valid))\n",
    "print(\"AUC-ROC:\", roc_auc_score(target_valid, predicted_valid))\n",
    "print(\"F1-мера:\", f1_score(target_valid, predicted_valid))"
   ]
  },
  {
   "cell_type": "markdown",
   "metadata": {},
   "source": [
    "<div style=\"background-color: WhiteSmoke; border-left: 7px solid Silver\">\n",
    "<p>\n",
    "Для модели Random Forest Classifier лучшее значение F1-мера равно 0.6354285714285716 для глубины дерева равной 9 и параметру estimators равному 190. Значение F1-меры улучшилось по сравнению \n",
    "с результатом обучения модели без учета дисбаланса. \n",
    "</p>\n",
    "</div>"
   ]
  },
  {
   "cell_type": "markdown",
   "metadata": {},
   "source": [
    "<div style=\"background-color: WhiteSmoke; border-left: 7px solid Silver\">\n",
    "<p>\n",
    "<b>Вывод:</b> <br>\n",
    "Лучшая модель: Random Forest Classifier.     \n",
    "Для модели Random Forest Classifier лучшее значение F1-мера равно 0.6362545018007203 для глубины дерева равной 13 и \n",
    "параметру estimators равному 135.  \n",
    "Значение F1-меры улучшилось по сравнению \n",
    "с результатом обучения модели без учета дисбаланса. Метод upsample дает лучший показать F1-меры по сравнению \n",
    "с методом downsample и методом балансировки весов классов: значение F1-меры увеличилось на 0.3 и на 0.01 соответственно при тестировании на валидационной выборке.\n",
    "</p>\n",
    "</div>"
   ]
  },
  {
   "cell_type": "markdown",
   "metadata": {},
   "source": [
    "## Тестирование модели"
   ]
  },
  {
   "cell_type": "code",
   "execution_count": 183,
   "metadata": {},
   "outputs": [],
   "source": [
    "model = RandomForestClassifier(random_state=12345, n_estimators=135, max_depth=13)   \n",
    "model.fit(features_upsampled, target_upsampled)\n",
    "predicted_test = model.predict(features_test) "
   ]
  },
  {
   "cell_type": "code",
   "execution_count": 184,
   "metadata": {},
   "outputs": [
    {
     "name": "stdout",
     "output_type": "stream",
     "text": [
      "Полнота: 0.5981087470449172\n",
      "Точность: 0.6216216216216216\n",
      "AUC-ROC: 0.7502274870291169\n",
      "F1-мера: 0.6096385542168674\n"
     ]
    }
   ],
   "source": [
    "print(\"Полнота:\" , recall_score(target_test, predicted_test))\n",
    "print(\"Точность:\", precision_score(target_test, predicted_test))\n",
    "print(\"AUC-ROC:\", roc_auc_score(target_test, predicted_test))\n",
    "print(\"F1-мера:\", f1_score(target_test, predicted_test))"
   ]
  },
  {
   "cell_type": "markdown",
   "metadata": {},
   "source": [
    "<div style=\"background-color: WhiteSmoke; border-left: 7px solid Silver\">\n",
    "<p>\n",
    "<b>Вывод:</b> <br>\n",
    "Для лучшей модели Random Forest Classifier проведено тестированое на тестовой выборке. Результат: F1-мера = 0.6096385542168674. \n",
    "Удалось достичь F1-меры не менее 0.59 согласно заданию проекта.    \n",
    "</p>\n",
    "</div>"
   ]
  },
  {
   "cell_type": "code",
   "execution_count": 181,
   "metadata": {},
   "outputs": [
    {
     "data": {
      "image/png": "[encoded data removed]",
      "text/plain": [
       "<Figure size 648x648 with 1 Axes>"
      ]
     },
     "metadata": {
      "needs_background": "light"
     },
     "output_type": "display_data"
    }
   ],
   "source": [
    "probabilities_test = model.predict_proba(features_test)\n",
    "probabilities_one_test = probabilities_test[:, 1]\n",
    "\n",
    "# Построим ROC - кривую\n",
    "fpr, tpr, thresholds = roc_curve(target_test, probabilities_one_test)\n",
    "plt.figure(figsize=(9,9))\n",
    "plt.xlim([0.0, 1.0])\n",
    "plt.ylim([0.0, 1.0])\n",
    "plt.grid()\n",
    "plt.plot(fpr, tpr,  color='red')\n",
    "plt.plot([0, 1], [0, 1], linestyle='--')\n",
    "plt.title('ROC - кривая')\n",
    "plt.xlabel('False Positive Rate')\n",
    "plt.ylabel('True Positive Rate')\n",
    "plt.show()"
   ]
  },
  {
   "cell_type": "code",
   "execution_count": 182,
   "metadata": {},
   "outputs": [
    {
     "name": "stdout",
     "output_type": "stream",
     "text": [
      "0.8547351031599335\n"
     ]
    }
   ],
   "source": [
    "probabilities_test = model.predict_proba(features_test)\n",
    "probabilities_one_test = probabilities_test[:, 1]\n",
    "\n",
    "auc_roc = roc_auc_score(target_test, probabilities_one_test)\n",
    "\n",
    "print(auc_roc)"
   ]
  },
  {
   "cell_type": "markdown",
   "metadata": {},
   "source": [
    "<div style=\"background-color: WhiteSmoke; border-left: 7px solid Silver\">\n",
    "<p>\n",
    "<b>Общий вывод:</b><br> \n",
    "Произведена подготовка двнных для построения модели и исследования. Обработаны пропуски. Произведена замена названий столбцов.\n",
    "Выполнена проверка данных на дубликаты. Дубликатов не обнаружено. Удалили лишние признаки-столбцы: 'rownumber', 'customerid', \n",
    "'surname'. Выполнена проверка даннх на выбросы. Выбросов не обнаружено. \n",
    "Выполнена проверка данных на мультиколлинеарность. Явления мультиколлинеарности в данных не обнанужено. \n",
    "Произвели кодирование данных и избавились от категориальных признаков методом One hot encoder (OHE). <br> \n",
    "Разобили исходные данные на три выборки: обучающую, валидационную и тестовую. Выделили 60 % данных на обучающую выборку, и по 20 % на валидационную и тестовую выборки. Получили три набора данных df_train для обучения модели, df_valid для поверки модели на переобучение, df_test для оценки качества и точности модели.\n",
    "Проверили, как часто в целевом признаке нашего исходного набора данных встречается класс \"1\" или \"0\".\n",
    "Соотношение несбалансировано: 0 ~80% и 1 ~20%. Разница в 4 раза. <br>   \n",
    "    \n",
    "Для модели Random Forest Classifier лучшее значение F1-мера равно 0.6370023419203746 для глубины дерева равной 13 и параметру estimators равному 135. Значение F1-меры улучшилось по сравнению \n",
    "с результатом обучения модели без учета дисбаланса. Параметры лучшей модели глубины дерева и estimators изменились по сравнению с моделью без учета дисбаланса. Таким образом, учет дисбаланса при построении модели влияет на выбор оптимальных параметров модели. <br>\n",
    "    \n",
    "Проанализированы модели LogisticRegression, DecisionTreeClassifier, RandomForestClassifier. <br>\n",
    "    \n",
    "Лучшая модель: Random Forest Classifier.     \n",
    "Для модели Random Forest Classifier лучшее значение F1-мера равно 0.6370023419203746 для глубины дерева равной 13 и \n",
    "параметру estimators равному 135.  \n",
    "Значение F1-меры улучшилось по сравнению \n",
    "с результатом обучения модели без учета дисбаланса. Метод upsample дает лучший показать F1-меры по сравнению \n",
    "с методом downsample: значение F1-меры увеличилось на 0.3 при тестировании на валидационной выборке. <br>\n",
    "    \n",
    "Для лучшей модели Random Forest Classifier проведено тестированое на тестовой выборке. Результат: F1-мера = 0.6096385542168674. Удалось достичь F1-меры не менее 0.59 согласно заданию проекта. <br>\n",
    "    \n",
    "Построена ROC - кривая, и измерена AUC-ROC = 0.8547351031599335.  \n",
    "</p>\n",
    "</div>"
   ]
  }
 ],
 "metadata": {
  "ExecuteTimeLog": [
   {
    "duration": 1513,
    "start_time": "2022-10-24T11:13:27.825Z"
   },
   {
    "duration": 56,
    "start_time": "2022-10-24T11:13:29.340Z"
   },
   {
    "duration": 13,
    "start_time": "2022-10-24T11:13:29.767Z"
   },
   {
    "duration": 5,
    "start_time": "2022-10-24T11:13:46.141Z"
   },
   {
    "duration": 4,
    "start_time": "2022-10-24T11:14:13.952Z"
   },
   {
    "duration": 15,
    "start_time": "2022-10-24T11:14:44.284Z"
   },
   {
    "duration": 123,
    "start_time": "2022-10-24T11:21:32.849Z"
   },
   {
    "duration": 5,
    "start_time": "2022-10-24T11:21:47.259Z"
   },
   {
    "duration": 5,
    "start_time": "2022-10-24T11:26:26.103Z"
   },
   {
    "duration": 12,
    "start_time": "2022-10-24T11:27:42.078Z"
   },
   {
    "duration": 796,
    "start_time": "2022-10-24T11:27:54.087Z"
   },
   {
    "duration": 5,
    "start_time": "2022-10-24T11:28:11.973Z"
   },
   {
    "duration": 5,
    "start_time": "2022-10-24T11:45:49.518Z"
   },
   {
    "duration": 54,
    "start_time": "2022-10-24T16:17:50.832Z"
   },
   {
    "duration": 1520,
    "start_time": "2022-10-24T16:18:29.237Z"
   },
   {
    "duration": 106,
    "start_time": "2022-10-24T16:18:30.764Z"
   },
   {
    "duration": 16,
    "start_time": "2022-10-24T16:18:30.872Z"
   },
   {
    "duration": 13,
    "start_time": "2022-10-24T16:18:31.106Z"
   },
   {
    "duration": 4,
    "start_time": "2022-10-24T16:18:31.686Z"
   },
   {
    "duration": 7,
    "start_time": "2022-10-24T16:18:34.556Z"
   },
   {
    "duration": 10,
    "start_time": "2022-10-24T16:19:03.951Z"
   },
   {
    "duration": 5,
    "start_time": "2022-10-24T16:19:11.347Z"
   },
   {
    "duration": 4,
    "start_time": "2022-10-24T16:19:12.059Z"
   },
   {
    "duration": 45,
    "start_time": "2022-10-24T16:19:58.601Z"
   },
   {
    "duration": 82,
    "start_time": "2022-10-24T16:20:40.077Z"
   },
   {
    "duration": 0,
    "start_time": "2022-10-24T16:21:03.362Z"
   },
   {
    "duration": 4,
    "start_time": "2022-10-24T16:21:07.745Z"
   },
   {
    "duration": 44,
    "start_time": "2022-10-24T16:21:08.257Z"
   },
   {
    "duration": 12,
    "start_time": "2022-10-24T16:21:08.704Z"
   },
   {
    "duration": 13,
    "start_time": "2022-10-24T16:21:09.261Z"
   },
   {
    "duration": 3,
    "start_time": "2022-10-24T16:21:09.887Z"
   },
   {
    "duration": 9,
    "start_time": "2022-10-24T16:21:11.229Z"
   },
   {
    "duration": 4,
    "start_time": "2022-10-24T16:21:12.563Z"
   },
   {
    "duration": 4,
    "start_time": "2022-10-24T16:21:13.843Z"
   },
   {
    "duration": 10,
    "start_time": "2022-10-24T16:21:14.919Z"
   },
   {
    "duration": 11,
    "start_time": "2022-10-24T16:21:16.663Z"
   },
   {
    "duration": 5,
    "start_time": "2022-10-24T16:21:17.140Z"
   },
   {
    "duration": 6,
    "start_time": "2022-10-24T16:21:18.307Z"
   },
   {
    "duration": 235,
    "start_time": "2022-10-24T16:21:49.948Z"
   },
   {
    "duration": 266,
    "start_time": "2022-10-24T16:22:10.537Z"
   },
   {
    "duration": 231,
    "start_time": "2022-10-24T16:22:31.050Z"
   },
   {
    "duration": 225,
    "start_time": "2022-10-24T16:22:58.650Z"
   },
   {
    "duration": 216,
    "start_time": "2022-10-24T16:23:31.648Z"
   },
   {
    "duration": 210,
    "start_time": "2022-10-24T16:23:52.547Z"
   },
   {
    "duration": 9,
    "start_time": "2022-10-24T16:46:30.333Z"
   },
   {
    "duration": 12,
    "start_time": "2022-10-24T16:46:48.997Z"
   },
   {
    "duration": 4,
    "start_time": "2022-10-24T16:46:58.796Z"
   },
   {
    "duration": 8,
    "start_time": "2022-10-24T16:47:05.481Z"
   },
   {
    "duration": 793,
    "start_time": "2022-10-24T16:47:13.333Z"
   },
   {
    "duration": 9,
    "start_time": "2022-10-24T16:48:07.934Z"
   },
   {
    "duration": 13,
    "start_time": "2022-10-24T16:48:43.647Z"
   },
   {
    "duration": 15,
    "start_time": "2022-10-24T16:49:12.669Z"
   },
   {
    "duration": 12,
    "start_time": "2022-10-24T16:50:08.206Z"
   },
   {
    "duration": 9,
    "start_time": "2022-10-24T16:51:24.831Z"
   },
   {
    "duration": 4,
    "start_time": "2022-10-24T16:51:43.139Z"
   },
   {
    "duration": 46,
    "start_time": "2022-10-24T16:51:45.607Z"
   },
   {
    "duration": 11,
    "start_time": "2022-10-24T16:51:46.226Z"
   },
   {
    "duration": 16,
    "start_time": "2022-10-24T16:51:46.724Z"
   },
   {
    "duration": 4,
    "start_time": "2022-10-24T16:51:47.263Z"
   },
   {
    "duration": 11,
    "start_time": "2022-10-24T16:51:48.564Z"
   },
   {
    "duration": 6,
    "start_time": "2022-10-24T16:51:49.527Z"
   },
   {
    "duration": 6,
    "start_time": "2022-10-24T16:51:50.496Z"
   },
   {
    "duration": 5,
    "start_time": "2022-10-24T16:51:51.447Z"
   },
   {
    "duration": 17,
    "start_time": "2022-10-24T16:51:52.500Z"
   },
   {
    "duration": 5,
    "start_time": "2022-10-24T16:51:52.924Z"
   },
   {
    "duration": 8,
    "start_time": "2022-10-24T16:51:53.900Z"
   },
   {
    "duration": 350,
    "start_time": "2022-10-24T16:51:55.180Z"
   },
   {
    "duration": 284,
    "start_time": "2022-10-24T16:51:55.532Z"
   },
   {
    "duration": 259,
    "start_time": "2022-10-24T16:51:55.892Z"
   },
   {
    "duration": 271,
    "start_time": "2022-10-24T16:51:57.372Z"
   },
   {
    "duration": 845,
    "start_time": "2022-10-24T16:51:59.832Z"
   },
   {
    "duration": 1079,
    "start_time": "2022-10-24T16:52:08.905Z"
   },
   {
    "duration": 1185,
    "start_time": "2022-10-24T16:52:11.973Z"
   },
   {
    "duration": 835,
    "start_time": "2022-10-24T16:52:21.092Z"
   },
   {
    "duration": 800,
    "start_time": "2022-10-24T16:52:27.011Z"
   },
   {
    "duration": 742,
    "start_time": "2022-10-24T16:52:37.052Z"
   },
   {
    "duration": 714,
    "start_time": "2022-10-24T16:52:43.369Z"
   },
   {
    "duration": 823,
    "start_time": "2022-10-24T16:55:57.261Z"
   },
   {
    "duration": 788,
    "start_time": "2022-10-24T17:09:08.240Z"
   },
   {
    "duration": 705,
    "start_time": "2022-10-24T17:09:31.160Z"
   },
   {
    "duration": 781,
    "start_time": "2022-10-24T17:09:59.584Z"
   },
   {
    "duration": 777,
    "start_time": "2022-10-24T17:10:17.830Z"
   },
   {
    "duration": 894,
    "start_time": "2022-10-24T17:20:44.708Z"
   },
   {
    "duration": 742,
    "start_time": "2022-10-24T17:21:06.563Z"
   },
   {
    "duration": 46,
    "start_time": "2022-10-24T17:23:05.519Z"
   },
   {
    "duration": 214,
    "start_time": "2022-10-24T17:23:23.411Z"
   },
   {
    "duration": 185,
    "start_time": "2022-10-24T17:23:32.591Z"
   },
   {
    "duration": 178,
    "start_time": "2022-10-24T17:23:38.335Z"
   },
   {
    "duration": 185,
    "start_time": "2022-10-24T17:23:43.332Z"
   },
   {
    "duration": 5,
    "start_time": "2022-10-24T17:31:37.870Z"
   },
   {
    "duration": 4,
    "start_time": "2022-10-24T17:31:56.876Z"
   },
   {
    "duration": 15,
    "start_time": "2022-10-24T17:32:15.937Z"
   },
   {
    "duration": 45,
    "start_time": "2022-10-24T17:44:37.130Z"
   },
   {
    "duration": 4,
    "start_time": "2022-10-24T17:56:21.317Z"
   },
   {
    "duration": 17,
    "start_time": "2022-10-24T17:57:31.248Z"
   },
   {
    "duration": 6,
    "start_time": "2022-10-24T17:57:33.446Z"
   },
   {
    "duration": 7,
    "start_time": "2022-10-24T17:58:12.681Z"
   },
   {
    "duration": 4,
    "start_time": "2022-10-24T17:59:05.156Z"
   },
   {
    "duration": 4,
    "start_time": "2022-10-24T17:59:25.813Z"
   },
   {
    "duration": 4,
    "start_time": "2022-10-24T17:59:42.043Z"
   },
   {
    "duration": 10,
    "start_time": "2022-10-24T17:59:47.762Z"
   },
   {
    "duration": 47,
    "start_time": "2022-10-24T18:03:04.267Z"
   },
   {
    "duration": 5,
    "start_time": "2022-10-24T18:03:16.810Z"
   },
   {
    "duration": 5,
    "start_time": "2022-10-24T18:03:17.902Z"
   },
   {
    "duration": 4,
    "start_time": "2022-10-24T18:03:38.741Z"
   },
   {
    "duration": 4,
    "start_time": "2022-10-24T18:03:48.679Z"
   },
   {
    "duration": 3,
    "start_time": "2022-10-24T18:04:06.495Z"
   },
   {
    "duration": 7,
    "start_time": "2022-10-24T18:12:45.581Z"
   },
   {
    "duration": 210,
    "start_time": "2022-10-24T18:13:57.858Z"
   },
   {
    "duration": 153,
    "start_time": "2022-10-24T18:14:27.817Z"
   },
   {
    "duration": 10,
    "start_time": "2022-10-24T18:17:05.222Z"
   },
   {
    "duration": 4,
    "start_time": "2022-10-24T18:23:54.788Z"
   },
   {
    "duration": 2,
    "start_time": "2022-10-24T18:24:08.656Z"
   },
   {
    "duration": 2,
    "start_time": "2022-10-24T18:24:41.761Z"
   },
   {
    "duration": 3,
    "start_time": "2022-10-24T20:53:34.478Z"
   },
   {
    "duration": 12,
    "start_time": "2022-10-24T20:53:46.125Z"
   },
   {
    "duration": 6,
    "start_time": "2022-10-24T20:53:52.061Z"
   },
   {
    "duration": 2,
    "start_time": "2022-10-24T20:53:52.555Z"
   },
   {
    "duration": 11,
    "start_time": "2022-10-24T20:53:53.219Z"
   },
   {
    "duration": 3,
    "start_time": "2022-10-24T20:54:05.139Z"
   },
   {
    "duration": 2,
    "start_time": "2022-10-24T20:54:05.763Z"
   },
   {
    "duration": 8,
    "start_time": "2022-10-24T20:54:06.180Z"
   },
   {
    "duration": 10,
    "start_time": "2022-10-24T20:57:53.403Z"
   },
   {
    "duration": 22,
    "start_time": "2022-10-24T20:58:49.798Z"
   },
   {
    "duration": 4,
    "start_time": "2022-10-24T20:59:08.248Z"
   },
   {
    "duration": 48,
    "start_time": "2022-10-24T20:59:08.750Z"
   },
   {
    "duration": 13,
    "start_time": "2022-10-24T20:59:09.235Z"
   },
   {
    "duration": 12,
    "start_time": "2022-10-24T20:59:09.698Z"
   },
   {
    "duration": 4,
    "start_time": "2022-10-24T20:59:10.146Z"
   },
   {
    "duration": 7,
    "start_time": "2022-10-24T20:59:11.034Z"
   },
   {
    "duration": 5,
    "start_time": "2022-10-24T20:59:12.010Z"
   },
   {
    "duration": 4,
    "start_time": "2022-10-24T20:59:13.159Z"
   },
   {
    "duration": 5,
    "start_time": "2022-10-24T20:59:14.022Z"
   },
   {
    "duration": 10,
    "start_time": "2022-10-24T20:59:14.975Z"
   },
   {
    "duration": 5,
    "start_time": "2022-10-24T20:59:15.442Z"
   },
   {
    "duration": 8,
    "start_time": "2022-10-24T20:59:16.873Z"
   },
   {
    "duration": 252,
    "start_time": "2022-10-24T20:59:18.881Z"
   },
   {
    "duration": 199,
    "start_time": "2022-10-24T20:59:19.136Z"
   },
   {
    "duration": 283,
    "start_time": "2022-10-24T20:59:19.799Z"
   },
   {
    "duration": 182,
    "start_time": "2022-10-24T20:59:20.430Z"
   },
   {
    "duration": 763,
    "start_time": "2022-10-24T20:59:23.534Z"
   },
   {
    "duration": 5,
    "start_time": "2022-10-24T20:59:26.794Z"
   },
   {
    "duration": 4,
    "start_time": "2022-10-24T20:59:27.346Z"
   },
   {
    "duration": 16,
    "start_time": "2022-10-24T20:59:27.866Z"
   },
   {
    "duration": 4,
    "start_time": "2022-10-24T20:59:28.654Z"
   },
   {
    "duration": 4,
    "start_time": "2022-10-24T20:59:30.882Z"
   },
   {
    "duration": 11,
    "start_time": "2022-10-24T20:59:31.538Z"
   },
   {
    "duration": 5,
    "start_time": "2022-10-24T20:59:33.023Z"
   },
   {
    "duration": 5,
    "start_time": "2022-10-24T20:59:33.486Z"
   },
   {
    "duration": 6,
    "start_time": "2022-10-24T20:59:33.894Z"
   },
   {
    "duration": 4,
    "start_time": "2022-10-24T20:59:34.279Z"
   },
   {
    "duration": 4,
    "start_time": "2022-10-24T20:59:34.710Z"
   },
   {
    "duration": 4,
    "start_time": "2022-10-24T20:59:35.150Z"
   },
   {
    "duration": 6,
    "start_time": "2022-10-24T20:59:36.586Z"
   },
   {
    "duration": 152,
    "start_time": "2022-10-24T20:59:36.874Z"
   },
   {
    "duration": 10,
    "start_time": "2022-10-24T20:59:37.779Z"
   },
   {
    "duration": 4,
    "start_time": "2022-10-24T20:59:38.744Z"
   },
   {
    "duration": 3,
    "start_time": "2022-10-24T20:59:39.543Z"
   },
   {
    "duration": 23,
    "start_time": "2022-10-24T20:59:40.279Z"
   },
   {
    "duration": 19,
    "start_time": "2022-10-24T21:00:03.698Z"
   },
   {
    "duration": 15,
    "start_time": "2022-10-24T21:00:08.252Z"
   },
   {
    "duration": 7,
    "start_time": "2022-10-24T21:00:11.491Z"
   },
   {
    "duration": 10,
    "start_time": "2022-10-24T21:00:15.770Z"
   },
   {
    "duration": 14,
    "start_time": "2022-10-24T21:00:20.475Z"
   },
   {
    "duration": 22,
    "start_time": "2022-10-24T21:00:32.032Z"
   },
   {
    "duration": 8,
    "start_time": "2022-10-24T21:10:44.309Z"
   },
   {
    "duration": 21,
    "start_time": "2022-10-24T21:12:44.841Z"
   },
   {
    "duration": 7,
    "start_time": "2022-10-24T21:12:46.045Z"
   },
   {
    "duration": 14,
    "start_time": "2022-10-24T21:13:50.919Z"
   },
   {
    "duration": 20,
    "start_time": "2022-10-24T21:19:22.947Z"
   },
   {
    "duration": 9,
    "start_time": "2022-10-24T21:19:31.702Z"
   },
   {
    "duration": 8,
    "start_time": "2022-10-24T21:19:56.476Z"
   },
   {
    "duration": 11,
    "start_time": "2022-10-24T21:20:03.875Z"
   },
   {
    "duration": 4,
    "start_time": "2022-10-24T21:25:03.747Z"
   },
   {
    "duration": 10,
    "start_time": "2022-10-24T21:30:33.969Z"
   },
   {
    "duration": 6,
    "start_time": "2022-10-24T21:30:41.824Z"
   },
   {
    "duration": 16,
    "start_time": "2022-10-24T21:35:31.334Z"
   },
   {
    "duration": 6,
    "start_time": "2022-10-24T21:35:32.141Z"
   },
   {
    "duration": 21,
    "start_time": "2022-10-24T21:35:41.098Z"
   },
   {
    "duration": 6,
    "start_time": "2022-10-24T21:35:41.601Z"
   },
   {
    "duration": 10,
    "start_time": "2022-10-24T21:40:41.715Z"
   },
   {
    "duration": 4,
    "start_time": "2022-10-24T21:41:12.721Z"
   },
   {
    "duration": 9,
    "start_time": "2022-10-24T21:41:22.919Z"
   },
   {
    "duration": 11,
    "start_time": "2022-10-24T21:41:54.647Z"
   },
   {
    "duration": 52,
    "start_time": "2022-10-24T21:42:53.980Z"
   },
   {
    "duration": 9,
    "start_time": "2022-10-24T21:50:57.836Z"
   },
   {
    "duration": 4,
    "start_time": "2022-10-24T21:51:52.120Z"
   },
   {
    "duration": 38,
    "start_time": "2022-10-24T21:51:53.069Z"
   },
   {
    "duration": 409,
    "start_time": "2022-10-24T21:52:00.789Z"
   },
   {
    "duration": 30,
    "start_time": "2022-10-24T21:55:33.212Z"
   },
   {
    "duration": 30,
    "start_time": "2022-10-24T21:55:52.098Z"
   },
   {
    "duration": 9,
    "start_time": "2022-10-24T21:58:42.622Z"
   },
   {
    "duration": 30,
    "start_time": "2022-10-24T21:58:46.886Z"
   },
   {
    "duration": 13,
    "start_time": "2022-10-24T22:01:53.514Z"
   },
   {
    "duration": 19543,
    "start_time": "2022-10-24T22:02:54.421Z"
   },
   {
    "duration": 17,
    "start_time": "2022-10-24T22:05:20.740Z"
   },
   {
    "duration": 18867,
    "start_time": "2022-10-24T22:05:39.172Z"
   },
   {
    "duration": 19941,
    "start_time": "2022-10-24T22:06:50.294Z"
   },
   {
    "duration": 20017,
    "start_time": "2022-10-24T22:07:11.135Z"
   },
   {
    "duration": 8624,
    "start_time": "2022-10-24T22:07:46.991Z"
   },
   {
    "duration": 19213,
    "start_time": "2022-10-24T22:07:56.267Z"
   },
   {
    "duration": 19747,
    "start_time": "2022-10-24T22:08:33.711Z"
   },
   {
    "duration": 19163,
    "start_time": "2022-10-24T22:11:02.397Z"
   },
   {
    "duration": 18937,
    "start_time": "2022-10-24T22:12:14.866Z"
   },
   {
    "duration": 67,
    "start_time": "2022-10-24T22:13:36.244Z"
   },
   {
    "duration": 18958,
    "start_time": "2022-10-24T22:14:11.855Z"
   },
   {
    "duration": 71,
    "start_time": "2022-10-24T22:14:30.815Z"
   },
   {
    "duration": 59,
    "start_time": "2022-10-24T22:16:26.779Z"
   },
   {
    "duration": 10,
    "start_time": "2022-10-24T22:16:54.067Z"
   },
   {
    "duration": 9,
    "start_time": "2022-10-24T22:28:12.116Z"
   },
   {
    "duration": 13,
    "start_time": "2022-10-24T22:28:15.171Z"
   },
   {
    "duration": 86,
    "start_time": "2022-10-24T22:28:16.436Z"
   },
   {
    "duration": 11,
    "start_time": "2022-10-24T22:29:45.671Z"
   },
   {
    "duration": 25,
    "start_time": "2022-10-24T22:29:47.395Z"
   },
   {
    "duration": 11,
    "start_time": "2022-10-24T22:29:51.014Z"
   },
   {
    "duration": 27,
    "start_time": "2022-10-24T22:29:51.921Z"
   },
   {
    "duration": 24,
    "start_time": "2022-10-24T22:31:01.250Z"
   },
   {
    "duration": 14,
    "start_time": "2022-10-24T22:31:01.879Z"
   },
   {
    "duration": 477,
    "start_time": "2022-10-24T22:34:12.197Z"
   },
   {
    "duration": 28,
    "start_time": "2022-10-24T22:36:30.711Z"
   },
   {
    "duration": 24521,
    "start_time": "2022-10-24T22:37:23.649Z"
   },
   {
    "duration": 88,
    "start_time": "2022-10-24T22:39:07.483Z"
   },
   {
    "duration": 174,
    "start_time": "2022-10-24T22:40:15.056Z"
   },
   {
    "duration": 19,
    "start_time": "2022-10-24T22:50:22.952Z"
   },
   {
    "duration": 19,
    "start_time": "2022-10-24T22:52:07.413Z"
   },
   {
    "duration": 11,
    "start_time": "2022-10-24T22:52:07.934Z"
   },
   {
    "duration": 40,
    "start_time": "2022-10-24T22:53:16.495Z"
   },
   {
    "duration": 19,
    "start_time": "2022-10-24T22:58:15.935Z"
   },
   {
    "duration": 21,
    "start_time": "2022-10-24T22:58:45.946Z"
   },
   {
    "duration": 19,
    "start_time": "2022-10-24T22:58:48.780Z"
   },
   {
    "duration": 24918,
    "start_time": "2022-10-24T22:59:21.373Z"
   },
   {
    "duration": 169,
    "start_time": "2022-10-24T23:00:37.875Z"
   },
   {
    "duration": 612,
    "start_time": "2022-10-24T23:00:52.742Z"
   },
   {
    "duration": 563,
    "start_time": "2022-10-24T23:01:03.249Z"
   },
   {
    "duration": 555,
    "start_time": "2022-10-24T23:01:21.142Z"
   },
   {
    "duration": 44,
    "start_time": "2022-10-24T23:08:00.880Z"
   },
   {
    "duration": 12,
    "start_time": "2022-10-24T23:09:48.510Z"
   },
   {
    "duration": 14,
    "start_time": "2022-10-24T23:10:35.237Z"
   },
   {
    "duration": 10,
    "start_time": "2022-10-24T23:10:45.904Z"
   },
   {
    "duration": 11,
    "start_time": "2022-10-24T23:12:07.311Z"
   },
   {
    "duration": 14,
    "start_time": "2022-10-24T23:12:08.946Z"
   },
   {
    "duration": 10,
    "start_time": "2022-10-24T23:12:33.701Z"
   },
   {
    "duration": 11,
    "start_time": "2022-10-24T23:12:40.086Z"
   },
   {
    "duration": 10,
    "start_time": "2022-10-24T23:12:40.655Z"
   },
   {
    "duration": 483,
    "start_time": "2022-10-24T23:13:19.543Z"
   },
   {
    "duration": 28,
    "start_time": "2022-10-24T23:13:56.909Z"
   },
   {
    "duration": 234,
    "start_time": "2022-10-24T23:17:51.399Z"
   },
   {
    "duration": 19,
    "start_time": "2022-10-24T23:18:12.264Z"
   },
   {
    "duration": 20,
    "start_time": "2022-10-24T23:18:21.387Z"
   },
   {
    "duration": 13168,
    "start_time": "2022-10-24T23:19:40.446Z"
   },
   {
    "duration": 564,
    "start_time": "2022-10-24T23:20:01.134Z"
   },
   {
    "duration": 90,
    "start_time": "2022-10-24T23:21:10.676Z"
   },
   {
    "duration": 63,
    "start_time": "2022-10-24T23:21:31.435Z"
   },
   {
    "duration": 17,
    "start_time": "2022-10-24T23:30:01.380Z"
   },
   {
    "duration": 48,
    "start_time": "2022-10-24T23:31:11.957Z"
   },
   {
    "duration": 57,
    "start_time": "2022-10-24T23:33:34.969Z"
   },
   {
    "duration": 57,
    "start_time": "2022-10-24T23:34:03.870Z"
   },
   {
    "duration": 11,
    "start_time": "2022-10-24T23:34:04.710Z"
   },
   {
    "duration": 10,
    "start_time": "2022-10-24T23:34:37.632Z"
   },
   {
    "duration": 4,
    "start_time": "2022-10-24T23:39:36.882Z"
   },
   {
    "duration": 196,
    "start_time": "2022-10-24T23:47:09.621Z"
   },
   {
    "duration": 195,
    "start_time": "2022-10-24T23:49:41.961Z"
   },
   {
    "duration": 144,
    "start_time": "2022-10-24T23:49:45.797Z"
   },
   {
    "duration": 155,
    "start_time": "2022-10-24T23:50:59.703Z"
   },
   {
    "duration": 163,
    "start_time": "2022-10-24T23:51:12.321Z"
   },
   {
    "duration": 14,
    "start_time": "2022-10-24T23:52:15.083Z"
   },
   {
    "duration": 2663,
    "start_time": "2022-10-25T08:57:44.914Z"
   },
   {
    "duration": 79,
    "start_time": "2022-10-25T08:57:47.580Z"
   },
   {
    "duration": 16,
    "start_time": "2022-10-25T08:57:47.660Z"
   },
   {
    "duration": 11,
    "start_time": "2022-10-25T08:57:47.678Z"
   },
   {
    "duration": 9,
    "start_time": "2022-10-25T08:57:47.690Z"
   },
   {
    "duration": 15,
    "start_time": "2022-10-25T08:57:47.700Z"
   },
   {
    "duration": 6,
    "start_time": "2022-10-25T08:57:47.716Z"
   },
   {
    "duration": 9,
    "start_time": "2022-10-25T08:57:47.723Z"
   },
   {
    "duration": 9,
    "start_time": "2022-10-25T08:57:47.733Z"
   },
   {
    "duration": 21,
    "start_time": "2022-10-25T08:57:47.744Z"
   },
   {
    "duration": 4,
    "start_time": "2022-10-25T08:57:47.766Z"
   },
   {
    "duration": 14,
    "start_time": "2022-10-25T08:57:47.771Z"
   },
   {
    "duration": 169,
    "start_time": "2022-10-25T08:57:47.786Z"
   },
   {
    "duration": 159,
    "start_time": "2022-10-25T08:57:47.956Z"
   },
   {
    "duration": 224,
    "start_time": "2022-10-25T08:57:48.117Z"
   },
   {
    "duration": 162,
    "start_time": "2022-10-25T08:57:48.343Z"
   },
   {
    "duration": 777,
    "start_time": "2022-10-25T08:57:48.506Z"
   },
   {
    "duration": 5,
    "start_time": "2022-10-25T08:57:49.285Z"
   },
   {
    "duration": 9,
    "start_time": "2022-10-25T08:57:49.292Z"
   },
   {
    "duration": 22,
    "start_time": "2022-10-25T08:57:49.303Z"
   },
   {
    "duration": 3,
    "start_time": "2022-10-25T08:57:49.327Z"
   },
   {
    "duration": 8,
    "start_time": "2022-10-25T08:57:49.331Z"
   },
   {
    "duration": 15,
    "start_time": "2022-10-25T08:57:49.341Z"
   },
   {
    "duration": 9,
    "start_time": "2022-10-25T08:57:49.357Z"
   },
   {
    "duration": 7,
    "start_time": "2022-10-25T08:57:49.368Z"
   },
   {
    "duration": 7,
    "start_time": "2022-10-25T08:57:49.377Z"
   },
   {
    "duration": 15,
    "start_time": "2022-10-25T08:57:49.386Z"
   },
   {
    "duration": 4,
    "start_time": "2022-10-25T08:57:49.406Z"
   },
   {
    "duration": 7,
    "start_time": "2022-10-25T08:57:49.411Z"
   },
   {
    "duration": 17,
    "start_time": "2022-10-25T08:57:49.420Z"
   },
   {
    "duration": 148,
    "start_time": "2022-10-25T08:57:49.439Z"
   },
   {
    "duration": 5,
    "start_time": "2022-10-25T08:57:49.589Z"
   },
   {
    "duration": 9,
    "start_time": "2022-10-25T08:57:49.600Z"
   },
   {
    "duration": 7,
    "start_time": "2022-10-25T08:57:49.610Z"
   },
   {
    "duration": 4,
    "start_time": "2022-10-25T08:57:49.619Z"
   },
   {
    "duration": 23,
    "start_time": "2022-10-25T08:57:49.624Z"
   },
   {
    "duration": 9,
    "start_time": "2022-10-25T08:57:49.649Z"
   },
   {
    "duration": 41,
    "start_time": "2022-10-25T08:57:49.660Z"
   },
   {
    "duration": 197,
    "start_time": "2022-10-25T08:57:49.702Z"
   },
   {
    "duration": 392,
    "start_time": "2022-10-25T08:57:49.901Z"
   },
   {
    "duration": 29,
    "start_time": "2022-10-25T08:57:50.299Z"
   },
   {
    "duration": 18448,
    "start_time": "2022-10-25T08:57:50.329Z"
   },
   {
    "duration": 67,
    "start_time": "2022-10-25T08:58:08.779Z"
   },
   {
    "duration": 9,
    "start_time": "2022-10-25T08:58:08.848Z"
   },
   {
    "duration": 51,
    "start_time": "2022-10-25T08:58:08.859Z"
   },
   {
    "duration": 188,
    "start_time": "2022-10-25T08:58:08.912Z"
   },
   {
    "duration": 468,
    "start_time": "2022-10-25T08:58:09.102Z"
   },
   {
    "duration": 36,
    "start_time": "2022-10-25T08:58:09.572Z"
   },
   {
    "duration": 24404,
    "start_time": "2022-10-25T08:58:09.610Z"
   },
   {
    "duration": 679,
    "start_time": "2022-10-25T08:58:34.016Z"
   },
   {
    "duration": 158,
    "start_time": "2022-10-25T08:58:34.697Z"
   },
   {
    "duration": 11,
    "start_time": "2022-10-25T08:58:34.856Z"
   },
   {
    "duration": 32,
    "start_time": "2022-10-25T08:58:34.868Z"
   },
   {
    "duration": 107,
    "start_time": "2022-10-25T08:58:34.902Z"
   },
   {
    "duration": 289,
    "start_time": "2022-10-25T08:58:35.011Z"
   },
   {
    "duration": 20,
    "start_time": "2022-10-25T08:58:35.302Z"
   },
   {
    "duration": 13159,
    "start_time": "2022-10-25T08:58:35.323Z"
   },
   {
    "duration": 564,
    "start_time": "2022-10-25T08:58:48.484Z"
   },
   {
    "duration": 59,
    "start_time": "2022-10-25T08:58:49.050Z"
   },
   {
    "duration": 11,
    "start_time": "2022-10-25T08:58:49.110Z"
   },
   {
    "duration": 79,
    "start_time": "2022-10-25T08:58:49.122Z"
   },
   {
    "duration": 102,
    "start_time": "2022-10-25T08:58:49.203Z"
   },
   {
    "duration": 72,
    "start_time": "2022-10-25T08:58:49.307Z"
   },
   {
    "duration": 10,
    "start_time": "2022-10-25T08:58:49.381Z"
   },
   {
    "duration": 139,
    "start_time": "2022-10-25T08:58:49.393Z"
   },
   {
    "duration": 11,
    "start_time": "2022-10-25T08:58:49.534Z"
   },
   {
    "duration": 48,
    "start_time": "2022-10-25T09:42:37.599Z"
   },
   {
    "duration": 1653,
    "start_time": "2022-10-25T09:43:06.325Z"
   },
   {
    "duration": 173,
    "start_time": "2022-10-25T09:43:07.980Z"
   },
   {
    "duration": 17,
    "start_time": "2022-10-25T09:43:08.466Z"
   },
   {
    "duration": 14,
    "start_time": "2022-10-25T09:43:09.113Z"
   },
   {
    "duration": 3,
    "start_time": "2022-10-25T09:43:09.585Z"
   },
   {
    "duration": 8,
    "start_time": "2022-10-25T09:43:11.308Z"
   },
   {
    "duration": 4,
    "start_time": "2022-10-25T09:43:12.769Z"
   },
   {
    "duration": 4,
    "start_time": "2022-10-25T09:43:15.293Z"
   },
   {
    "duration": 5,
    "start_time": "2022-10-25T09:43:17.433Z"
   },
   {
    "duration": 12,
    "start_time": "2022-10-25T09:43:18.713Z"
   },
   {
    "duration": 5,
    "start_time": "2022-10-25T09:43:19.209Z"
   },
   {
    "duration": 7,
    "start_time": "2022-10-25T09:43:21.181Z"
   },
   {
    "duration": 202,
    "start_time": "2022-10-25T09:43:30.129Z"
   },
   {
    "duration": 184,
    "start_time": "2022-10-25T09:43:30.673Z"
   },
   {
    "duration": 267,
    "start_time": "2022-10-25T09:43:31.678Z"
   },
   {
    "duration": 182,
    "start_time": "2022-10-25T09:43:33.006Z"
   },
   {
    "duration": 975,
    "start_time": "2022-10-25T09:43:37.525Z"
   },
   {
    "duration": 5,
    "start_time": "2022-10-25T09:43:42.321Z"
   },
   {
    "duration": 5,
    "start_time": "2022-10-25T09:43:42.801Z"
   },
   {
    "duration": 19,
    "start_time": "2022-10-25T09:43:43.257Z"
   },
   {
    "duration": 4,
    "start_time": "2022-10-25T09:44:14.608Z"
   },
   {
    "duration": 3,
    "start_time": "2022-10-25T09:44:15.024Z"
   },
   {
    "duration": 12,
    "start_time": "2022-10-25T09:44:15.442Z"
   },
   {
    "duration": 6,
    "start_time": "2022-10-25T09:44:18.047Z"
   },
   {
    "duration": 7,
    "start_time": "2022-10-25T09:44:18.575Z"
   },
   {
    "duration": 7,
    "start_time": "2022-10-25T09:44:19.358Z"
   },
   {
    "duration": 5,
    "start_time": "2022-10-25T09:44:22.847Z"
   },
   {
    "duration": 4,
    "start_time": "2022-10-25T09:44:23.648Z"
   },
   {
    "duration": 4,
    "start_time": "2022-10-25T09:44:25.298Z"
   },
   {
    "duration": 8,
    "start_time": "2022-10-25T09:44:29.931Z"
   },
   {
    "duration": 8,
    "start_time": "2022-10-25T09:44:38.670Z"
   },
   {
    "duration": 183,
    "start_time": "2022-10-25T09:44:39.834Z"
   },
   {
    "duration": 74,
    "start_time": "2022-10-25T09:45:23.740Z"
   },
   {
    "duration": 15,
    "start_time": "2022-10-25T09:45:42.077Z"
   },
   {
    "duration": 28,
    "start_time": "2022-10-25T09:45:43.797Z"
   },
   {
    "duration": 385,
    "start_time": "2022-10-25T09:45:51.364Z"
   },
   {
    "duration": 5,
    "start_time": "2022-10-25T09:46:12.591Z"
   },
   {
    "duration": 151,
    "start_time": "2022-10-25T09:46:18.581Z"
   },
   {
    "duration": 13,
    "start_time": "2022-10-25T09:46:40.683Z"
   },
   {
    "duration": 6,
    "start_time": "2022-10-25T09:46:42.054Z"
   },
   {
    "duration": 141,
    "start_time": "2022-10-25T09:46:42.845Z"
   },
   {
    "duration": 13,
    "start_time": "2022-10-25T09:46:51.885Z"
   },
   {
    "duration": 6,
    "start_time": "2022-10-25T09:46:52.990Z"
   },
   {
    "duration": 143,
    "start_time": "2022-10-25T09:46:53.566Z"
   },
   {
    "duration": 12,
    "start_time": "2022-10-25T09:47:04.755Z"
   },
   {
    "duration": 6,
    "start_time": "2022-10-25T09:47:05.707Z"
   },
   {
    "duration": 146,
    "start_time": "2022-10-25T09:47:06.205Z"
   },
   {
    "duration": 13,
    "start_time": "2022-10-25T09:47:13.471Z"
   },
   {
    "duration": 7,
    "start_time": "2022-10-25T09:47:14.423Z"
   },
   {
    "duration": 224,
    "start_time": "2022-10-25T09:47:14.950Z"
   },
   {
    "duration": 12,
    "start_time": "2022-10-25T09:47:48.392Z"
   },
   {
    "duration": 6,
    "start_time": "2022-10-25T09:47:49.467Z"
   },
   {
    "duration": 132,
    "start_time": "2022-10-25T09:47:49.931Z"
   },
   {
    "duration": 12,
    "start_time": "2022-10-25T09:47:57.464Z"
   },
   {
    "duration": 6,
    "start_time": "2022-10-25T09:47:58.304Z"
   },
   {
    "duration": 138,
    "start_time": "2022-10-25T09:47:58.743Z"
   },
   {
    "duration": 15,
    "start_time": "2022-10-25T09:48:05.660Z"
   },
   {
    "duration": 8,
    "start_time": "2022-10-25T09:48:06.632Z"
   },
   {
    "duration": 155,
    "start_time": "2022-10-25T09:48:07.240Z"
   },
   {
    "duration": 18,
    "start_time": "2022-10-25T09:48:18.469Z"
   },
   {
    "duration": 11,
    "start_time": "2022-10-25T09:48:19.317Z"
   },
   {
    "duration": 220,
    "start_time": "2022-10-25T09:48:20.416Z"
   },
   {
    "duration": 21,
    "start_time": "2022-10-25T09:48:21.241Z"
   },
   {
    "duration": 13137,
    "start_time": "2022-10-25T09:48:22.864Z"
   },
   {
    "duration": 625,
    "start_time": "2022-10-25T09:48:36.003Z"
   },
   {
    "duration": 86,
    "start_time": "2022-10-25T09:48:36.631Z"
   },
   {
    "duration": 13,
    "start_time": "2022-10-25T09:48:36.720Z"
   },
   {
    "duration": 65,
    "start_time": "2022-10-25T09:48:36.735Z"
   },
   {
    "duration": 93,
    "start_time": "2022-10-25T09:48:36.803Z"
   },
   {
    "duration": 56,
    "start_time": "2022-10-25T09:48:38.290Z"
   },
   {
    "duration": 12,
    "start_time": "2022-10-25T09:48:39.297Z"
   },
   {
    "duration": 148,
    "start_time": "2022-10-25T09:48:41.902Z"
   },
   {
    "duration": 13,
    "start_time": "2022-10-25T09:48:51.365Z"
   },
   {
    "duration": 12781,
    "start_time": "2022-10-25T09:49:46.818Z"
   },
   {
    "duration": 13,
    "start_time": "2022-10-25T09:49:59.786Z"
   },
   {
    "duration": 5,
    "start_time": "2022-10-25T09:50:00.791Z"
   },
   {
    "duration": 142,
    "start_time": "2022-10-25T09:50:01.319Z"
   },
   {
    "duration": 24,
    "start_time": "2022-10-25T09:50:05.580Z"
   },
   {
    "duration": 11,
    "start_time": "2022-10-25T09:50:06.159Z"
   },
   {
    "duration": 234,
    "start_time": "2022-10-25T09:50:10.287Z"
   },
   {
    "duration": 21,
    "start_time": "2022-10-25T09:50:15.987Z"
   },
   {
    "duration": 12968,
    "start_time": "2022-10-25T09:54:12.792Z"
   },
   {
    "duration": 665,
    "start_time": "2022-10-25T09:55:43.383Z"
   },
   {
    "duration": 28,
    "start_time": "2022-10-25T09:56:13.171Z"
   },
   {
    "duration": 12,
    "start_time": "2022-10-25T09:56:13.883Z"
   },
   {
    "duration": 35,
    "start_time": "2022-10-25T09:56:56.211Z"
   },
   {
    "duration": 14,
    "start_time": "2022-10-25T09:56:56.651Z"
   },
   {
    "duration": 10,
    "start_time": "2022-10-25T09:58:42.167Z"
   },
   {
    "duration": 12,
    "start_time": "2022-10-25T09:58:49.955Z"
   },
   {
    "duration": 10,
    "start_time": "2022-10-25T09:59:06.367Z"
   },
   {
    "duration": 12,
    "start_time": "2022-10-25T09:59:31.209Z"
   },
   {
    "duration": 51,
    "start_time": "2022-10-25T09:59:44.781Z"
   },
   {
    "duration": 11,
    "start_time": "2022-10-25T09:59:47.304Z"
   },
   {
    "duration": 13,
    "start_time": "2022-10-25T10:00:24.609Z"
   },
   {
    "duration": 8,
    "start_time": "2022-10-25T10:00:26.516Z"
   },
   {
    "duration": 143,
    "start_time": "2022-10-25T10:00:27.869Z"
   },
   {
    "duration": 13,
    "start_time": "2022-10-25T10:01:11.378Z"
   },
   {
    "duration": 6,
    "start_time": "2022-10-25T10:01:12.533Z"
   },
   {
    "duration": 138,
    "start_time": "2022-10-25T10:01:13.294Z"
   },
   {
    "duration": 12,
    "start_time": "2022-10-25T10:01:23.031Z"
   },
   {
    "duration": 6,
    "start_time": "2022-10-25T10:01:24.175Z"
   },
   {
    "duration": 137,
    "start_time": "2022-10-25T10:01:25.466Z"
   },
   {
    "duration": 15,
    "start_time": "2022-10-25T10:01:30.347Z"
   },
   {
    "duration": 7,
    "start_time": "2022-10-25T10:01:31.187Z"
   },
   {
    "duration": 144,
    "start_time": "2022-10-25T10:01:31.579Z"
   },
   {
    "duration": 13,
    "start_time": "2022-10-25T10:01:37.743Z"
   },
   {
    "duration": 6,
    "start_time": "2022-10-25T10:01:38.662Z"
   },
   {
    "duration": 141,
    "start_time": "2022-10-25T10:01:39.342Z"
   },
   {
    "duration": 13,
    "start_time": "2022-10-25T10:01:44.655Z"
   },
   {
    "duration": 5,
    "start_time": "2022-10-25T10:01:45.399Z"
   },
   {
    "duration": 143,
    "start_time": "2022-10-25T10:01:45.927Z"
   },
   {
    "duration": 19,
    "start_time": "2022-10-25T10:01:53.034Z"
   },
   {
    "duration": 12,
    "start_time": "2022-10-25T10:01:53.339Z"
   },
   {
    "duration": 218,
    "start_time": "2022-10-25T10:01:55.855Z"
   },
   {
    "duration": 22,
    "start_time": "2022-10-25T10:02:03.379Z"
   },
   {
    "duration": 109413,
    "start_time": "2022-10-25T10:03:50.611Z"
   },
   {
    "duration": 12,
    "start_time": "2022-10-25T10:07:46.077Z"
   },
   {
    "duration": 6,
    "start_time": "2022-10-25T10:07:47.119Z"
   },
   {
    "duration": 145,
    "start_time": "2022-10-25T10:07:47.649Z"
   },
   {
    "duration": 20,
    "start_time": "2022-10-25T10:07:50.219Z"
   },
   {
    "duration": 12,
    "start_time": "2022-10-25T10:07:50.708Z"
   },
   {
    "duration": 222,
    "start_time": "2022-10-25T10:07:52.056Z"
   },
   {
    "duration": 20,
    "start_time": "2022-10-25T10:07:53.007Z"
   },
   {
    "duration": 13619,
    "start_time": "2022-10-25T10:09:55.064Z"
   },
   {
    "duration": 144083,
    "start_time": "2022-10-25T10:10:08.685Z"
   },
   {
    "duration": 1263,
    "start_time": "2022-10-25T10:13:52.484Z"
   },
   {
    "duration": 13,
    "start_time": "2022-10-25T10:13:53.749Z"
   },
   {
    "duration": 539,
    "start_time": "2022-10-25T10:19:16.443Z"
   },
   {
    "duration": 110178,
    "start_time": "2022-10-25T10:21:13.436Z"
   },
   {
    "duration": 242,
    "start_time": "2022-10-25T10:28:18.338Z"
   },
   {
    "duration": 87,
    "start_time": "2022-10-25T10:28:45.281Z"
   },
   {
    "duration": 305,
    "start_time": "2022-10-25T10:31:15.105Z"
   },
   {
    "duration": 219,
    "start_time": "2022-10-25T10:31:29.139Z"
   },
   {
    "duration": 221,
    "start_time": "2022-10-25T10:31:39.409Z"
   },
   {
    "duration": 227,
    "start_time": "2022-10-25T10:32:31.458Z"
   },
   {
    "duration": 8,
    "start_time": "2022-10-25T10:37:20.853Z"
   },
   {
    "duration": 138,
    "start_time": "2022-10-25T10:37:38.509Z"
   },
   {
    "duration": 6,
    "start_time": "2022-10-25T10:38:19.938Z"
   },
   {
    "duration": 146,
    "start_time": "2022-10-25T10:38:20.485Z"
   },
   {
    "duration": 7,
    "start_time": "2022-10-25T10:38:38.798Z"
   },
   {
    "duration": 133,
    "start_time": "2022-10-25T10:38:47.672Z"
   },
   {
    "duration": 26,
    "start_time": "2022-10-25T10:57:53.641Z"
   },
   {
    "duration": 16,
    "start_time": "2022-10-25T10:58:22.067Z"
   },
   {
    "duration": 41608,
    "start_time": "2022-10-25T11:09:23.870Z"
   },
   {
    "duration": 107281,
    "start_time": "2022-10-25T11:10:35.011Z"
   },
   {
    "duration": 108840,
    "start_time": "2022-10-25T11:13:17.299Z"
   },
   {
    "duration": 109585,
    "start_time": "2022-10-25T11:16:18.536Z"
   },
   {
    "duration": 211,
    "start_time": "2022-10-25T11:40:11.372Z"
   },
   {
    "duration": 478,
    "start_time": "2022-10-25T11:42:16.604Z"
   },
   {
    "duration": 29,
    "start_time": "2022-10-25T11:43:55.951Z"
   },
   {
    "duration": 34,
    "start_time": "2022-10-25T11:44:17.779Z"
   },
   {
    "duration": 199178,
    "start_time": "2022-10-25T11:45:39.220Z"
   },
   {
    "duration": 696,
    "start_time": "2022-10-25T11:48:58.400Z"
   },
   {
    "duration": 886,
    "start_time": "2022-10-25T11:50:26.340Z"
   },
   {
    "duration": 107028,
    "start_time": "2022-10-25T11:50:37.864Z"
   },
   {
    "duration": 635,
    "start_time": "2022-10-25T11:53:44.021Z"
   },
   {
    "duration": 87,
    "start_time": "2022-10-25T11:54:43.726Z"
   },
   {
    "duration": 10,
    "start_time": "2022-10-25T11:54:44.381Z"
   },
   {
    "duration": 1019,
    "start_time": "2022-10-25T11:55:14.601Z"
   },
   {
    "duration": 982,
    "start_time": "2022-10-25T11:55:18.527Z"
   },
   {
    "duration": 14,
    "start_time": "2022-10-25T11:55:19.511Z"
   },
   {
    "duration": 32,
    "start_time": "2022-10-25T11:56:43.529Z"
   },
   {
    "duration": 13,
    "start_time": "2022-10-25T11:56:45.597Z"
   },
   {
    "duration": 37,
    "start_time": "2022-10-25T11:56:53.671Z"
   },
   {
    "duration": 12,
    "start_time": "2022-10-25T11:56:54.007Z"
   },
   {
    "duration": 480,
    "start_time": "2022-10-25T11:56:55.589Z"
   },
   {
    "duration": 35,
    "start_time": "2022-10-25T11:57:03.136Z"
   },
   {
    "duration": 180520,
    "start_time": "2022-10-25T11:58:14.355Z"
   },
   {
    "duration": 263176,
    "start_time": "2022-10-25T12:01:16.395Z"
   },
   {
    "duration": 197,
    "start_time": "2022-10-25T12:06:53.002Z"
   },
   {
    "duration": 636,
    "start_time": "2022-10-25T12:07:48.639Z"
   },
   {
    "duration": 1245,
    "start_time": "2022-10-25T12:08:02.539Z"
   },
   {
    "duration": 445861,
    "start_time": "2022-10-25T12:09:12.063Z"
   },
   {
    "duration": 1035,
    "start_time": "2022-10-25T12:16:37.926Z"
   },
   {
    "duration": 12,
    "start_time": "2022-10-25T12:16:38.963Z"
   },
   {
    "duration": 399873,
    "start_time": "2022-10-25T12:19:33.553Z"
   },
   {
    "duration": 1218,
    "start_time": "2022-10-25T12:30:15.444Z"
   },
   {
    "duration": 14,
    "start_time": "2022-10-25T12:30:16.665Z"
   },
   {
    "duration": 208,
    "start_time": "2022-10-25T12:30:43.111Z"
   },
   {
    "duration": 72,
    "start_time": "2022-10-25T12:30:51.508Z"
   },
   {
    "duration": 1199,
    "start_time": "2022-10-25T12:35:36.066Z"
   },
   {
    "duration": 10,
    "start_time": "2022-10-25T12:35:37.267Z"
   },
   {
    "duration": 405862,
    "start_time": "2022-10-25T12:36:35.431Z"
   },
   {
    "duration": 23,
    "start_time": "2022-10-25T12:47:50.600Z"
   }
  ],
  "kernelspec": {
   "display_name": "Python 3",
   "language": "python",
   "name": "python3"
  },
  "language_info": {
   "codemirror_mode": {
    "name": "ipython",
    "version": 3
   },
   "file_extension": ".py",
   "mimetype": "text/x-python",
   "name": "python",
   "nbconvert_exporter": "python",
   "pygments_lexer": "ipython3",
   "version": "3.9.13 (tags/v3.9.13:6de2ca5, May 17 2022, 16:36:42) [MSC v.1929 64 bit (AMD64)]"
  },
  "toc": {
   "base_numbering": 1,
   "nav_menu": {},
   "number_sections": true,
   "sideBar": true,
   "skip_h1_title": true,
   "title_cell": "Содержание",
   "title_sidebar": "Contents",
   "toc_cell": true,
   "toc_position": {},
   "toc_section_display": true,
   "toc_window_display": false
  },
  "vscode": {
   "interpreter": {
    "hash": "776c22ba5f7df23aea7492efe904b60bfc92e3ac4cc28e069830ba47b2bb13d9"
   }
  }
 },
 "nbformat": 4,
 "nbformat_minor": 2
}
