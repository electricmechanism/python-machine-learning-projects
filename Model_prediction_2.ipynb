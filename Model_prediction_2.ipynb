{
 "cells": [
  {
   "cell_type": "code",
   "execution_count": 98,
   "metadata": {},
   "outputs": [],
   "source": [
    "import pandas as pd\n",
    "import numpy as np\n",
    "import seaborn as sns\n",
    "import time\n",
    "import numpy as np  \n",
    "import pandas as pd \n",
    "import os\n",
    "\n",
    "import matplotlib.pyplot as plt\n",
    "import sklearn\n",
    "import xgboost as xgb\n",
    "from sklearn import metrics\n",
    "from sklearn import preprocessing\n",
    "from sklearn.preprocessing import LabelEncoder\n",
    "from sklearn.model_selection import train_test_split\n",
    "from sklearn.metrics import accuracy_score\n",
    "from sklearn.ensemble import RandomForestClassifier\n",
    "from sklearn.neighbors import KNeighborsClassifier\n",
    "from sklearn.model_selection import GridSearchCV\n",
    "from sklearn.model_selection import TimeSeriesSplit\n",
    "from sklearn.svm import SVC\n",
    "from sklearn.preprocessing import LabelEncoder,MinMaxScaler,StandardScaler\n",
    "from sklearn.metrics import classification_report,roc_auc_score,average_precision_score,confusion_matrix\n",
    "from imblearn.over_sampling import SMOTE\n",
    "from sklearn.model_selection import train_test_split, GridSearchCV, cross_val_score\n",
    "\n",
    "import tensorflow as tf\n",
    "from tensorflow.keras.utils import to_categorical\n",
    "from itertools import cycle\n",
    "from sklearn.metrics import auc,roc_curve,roc_auc_score\n",
    "\n",
    "from keras.layers import Dense, LSTM, MaxPool1D, Flatten, Dropout # importing dense layer\n",
    "from keras.layers import Conv1D, Dense, Dropout, Flatten, MaxPooling1D\n",
    "from keras.models import Sequential #importing Sequential layer\n",
    "from keras.layers import Input\n",
    "from keras.models import Model\n",
    "# representation of model layers\n",
    "from keras.utils.vis_utils import plot_model\n",
    "\n",
    "from sklearn.metrics import f1_score\n",
    "from sklearn.metrics import accuracy_score\n",
    "from sklearn.metrics import precision_score, recall_score\n",
    "from sklearn.metrics import roc_curve\n",
    "\n",
    "from sklearn.preprocessing import LabelEncoder\n",
    "from sklearn.preprocessing import Normalizer\n",
    "from sklearn.preprocessing import LabelBinarizer\n",
    "\n",
    "import warnings\n",
    "warnings.filterwarnings(\"ignore\")"
   ]
  },
  {
   "cell_type": "code",
   "execution_count": 56,
   "metadata": {},
   "outputs": [],
   "source": [
    "\n",
    "data_train = pd.read_csv('C:/Python/NSL_KDD/V2_traffic_prediction/M_Dataset_2_70.csv', header=None)\n",
    "data_test = pd.read_csv('C:/Python/NSL_KDD/V2_traffic_prediction/M_Dataset_2_30.csv', header=None)\n",
    "data= pd.concat([data_train, data_test], ignore_index=True)"
   ]
  },
  {
   "cell_type": "code",
   "execution_count": 57,
   "metadata": {},
   "outputs": [
    {
     "data": {
      "text/html": [
       "<div>\n",
       "<style scoped>\n",
       "    .dataframe tbody tr th:only-of-type {\n",
       "        vertical-align: middle;\n",
       "    }\n",
       "\n",
       "    .dataframe tbody tr th {\n",
       "        vertical-align: top;\n",
       "    }\n",
       "\n",
       "    .dataframe thead th {\n",
       "        text-align: right;\n",
       "    }\n",
       "</style>\n",
       "<table border=\"1\" class=\"dataframe\">\n",
       "  <thead>\n",
       "    <tr style=\"text-align: right;\">\n",
       "      <th></th>\n",
       "      <th>0</th>\n",
       "      <th>1</th>\n",
       "      <th>2</th>\n",
       "      <th>3</th>\n",
       "      <th>4</th>\n",
       "      <th>5</th>\n",
       "      <th>6</th>\n",
       "      <th>7</th>\n",
       "      <th>8</th>\n",
       "      <th>9</th>\n",
       "      <th>...</th>\n",
       "      <th>74</th>\n",
       "      <th>75</th>\n",
       "      <th>76</th>\n",
       "      <th>77</th>\n",
       "      <th>78</th>\n",
       "      <th>79</th>\n",
       "      <th>80</th>\n",
       "      <th>81</th>\n",
       "      <th>82</th>\n",
       "      <th>83</th>\n",
       "    </tr>\n",
       "  </thead>\n",
       "  <tbody>\n",
       "    <tr>\n",
       "      <th>0</th>\n",
       "      <td>192.168.3.130-200.175.2.130-38693-4444-6</td>\n",
       "      <td>192.168.3.130</td>\n",
       "      <td>38693</td>\n",
       "      <td>200.175.2.130</td>\n",
       "      <td>4444</td>\n",
       "      <td>6</td>\n",
       "      <td>10/1/2020 5:02</td>\n",
       "      <td>268599</td>\n",
       "      <td>2</td>\n",
       "      <td>3</td>\n",
       "      <td>...</td>\n",
       "      <td>0</td>\n",
       "      <td>0.0</td>\n",
       "      <td>0.0</td>\n",
       "      <td>0</td>\n",
       "      <td>0</td>\n",
       "      <td>0.0</td>\n",
       "      <td>0.0</td>\n",
       "      <td>0</td>\n",
       "      <td>0</td>\n",
       "      <td>U2R</td>\n",
       "    </tr>\n",
       "    <tr>\n",
       "      <th>1</th>\n",
       "      <td>192.168.3.130-200.175.2.130-3632-33747-6</td>\n",
       "      <td>200.175.2.130</td>\n",
       "      <td>33747</td>\n",
       "      <td>192.168.3.130</td>\n",
       "      <td>3632</td>\n",
       "      <td>6</td>\n",
       "      <td>10/1/2020 5:02</td>\n",
       "      <td>22194</td>\n",
       "      <td>5</td>\n",
       "      <td>5</td>\n",
       "      <td>...</td>\n",
       "      <td>0</td>\n",
       "      <td>0.0</td>\n",
       "      <td>0.0</td>\n",
       "      <td>0</td>\n",
       "      <td>0</td>\n",
       "      <td>0.0</td>\n",
       "      <td>0.0</td>\n",
       "      <td>0</td>\n",
       "      <td>0</td>\n",
       "      <td>U2R</td>\n",
       "    </tr>\n",
       "    <tr>\n",
       "      <th>2</th>\n",
       "      <td>192.168.3.130-200.175.2.130-8180-37217-6</td>\n",
       "      <td>200.175.2.130</td>\n",
       "      <td>37217</td>\n",
       "      <td>192.168.3.130</td>\n",
       "      <td>8180</td>\n",
       "      <td>6</td>\n",
       "      <td>10/1/2020 1:39</td>\n",
       "      <td>8782</td>\n",
       "      <td>4</td>\n",
       "      <td>4</td>\n",
       "      <td>...</td>\n",
       "      <td>0</td>\n",
       "      <td>0.0</td>\n",
       "      <td>0.0</td>\n",
       "      <td>0</td>\n",
       "      <td>0</td>\n",
       "      <td>0.0</td>\n",
       "      <td>0.0</td>\n",
       "      <td>0</td>\n",
       "      <td>0</td>\n",
       "      <td>BFA</td>\n",
       "    </tr>\n",
       "    <tr>\n",
       "      <th>3</th>\n",
       "      <td>192.168.3.130-200.175.2.130-8180-35921-6</td>\n",
       "      <td>200.175.2.130</td>\n",
       "      <td>35921</td>\n",
       "      <td>192.168.3.130</td>\n",
       "      <td>8180</td>\n",
       "      <td>6</td>\n",
       "      <td>10/1/2020 1:39</td>\n",
       "      <td>4047</td>\n",
       "      <td>2</td>\n",
       "      <td>2</td>\n",
       "      <td>...</td>\n",
       "      <td>0</td>\n",
       "      <td>0.0</td>\n",
       "      <td>0.0</td>\n",
       "      <td>0</td>\n",
       "      <td>0</td>\n",
       "      <td>0.0</td>\n",
       "      <td>0.0</td>\n",
       "      <td>0</td>\n",
       "      <td>0</td>\n",
       "      <td>BFA</td>\n",
       "    </tr>\n",
       "    <tr>\n",
       "      <th>4</th>\n",
       "      <td>192.168.3.130-200.175.2.130-8180-43053-6</td>\n",
       "      <td>200.175.2.130</td>\n",
       "      <td>43053</td>\n",
       "      <td>192.168.3.130</td>\n",
       "      <td>8180</td>\n",
       "      <td>6</td>\n",
       "      <td>10/1/2020 1:39</td>\n",
       "      <td>3819</td>\n",
       "      <td>2</td>\n",
       "      <td>2</td>\n",
       "      <td>...</td>\n",
       "      <td>0</td>\n",
       "      <td>0.0</td>\n",
       "      <td>0.0</td>\n",
       "      <td>0</td>\n",
       "      <td>0</td>\n",
       "      <td>0.0</td>\n",
       "      <td>0.0</td>\n",
       "      <td>0</td>\n",
       "      <td>0</td>\n",
       "      <td>BFA</td>\n",
       "    </tr>\n",
       "    <tr>\n",
       "      <th>5</th>\n",
       "      <td>192.168.3.130-200.175.2.130-8180-46611-6</td>\n",
       "      <td>200.175.2.130</td>\n",
       "      <td>46611</td>\n",
       "      <td>192.168.3.130</td>\n",
       "      <td>8180</td>\n",
       "      <td>6</td>\n",
       "      <td>10/1/2020 1:39</td>\n",
       "      <td>8019</td>\n",
       "      <td>4</td>\n",
       "      <td>4</td>\n",
       "      <td>...</td>\n",
       "      <td>0</td>\n",
       "      <td>0.0</td>\n",
       "      <td>0.0</td>\n",
       "      <td>0</td>\n",
       "      <td>0</td>\n",
       "      <td>0.0</td>\n",
       "      <td>0.0</td>\n",
       "      <td>0</td>\n",
       "      <td>0</td>\n",
       "      <td>BFA</td>\n",
       "    </tr>\n",
       "    <tr>\n",
       "      <th>6</th>\n",
       "      <td>192.168.3.130-200.175.2.130-8180-37249-6</td>\n",
       "      <td>200.175.2.130</td>\n",
       "      <td>37249</td>\n",
       "      <td>192.168.3.130</td>\n",
       "      <td>8180</td>\n",
       "      <td>6</td>\n",
       "      <td>10/1/2020 1:39</td>\n",
       "      <td>4372</td>\n",
       "      <td>2</td>\n",
       "      <td>2</td>\n",
       "      <td>...</td>\n",
       "      <td>0</td>\n",
       "      <td>0.0</td>\n",
       "      <td>0.0</td>\n",
       "      <td>0</td>\n",
       "      <td>0</td>\n",
       "      <td>0.0</td>\n",
       "      <td>0.0</td>\n",
       "      <td>0</td>\n",
       "      <td>0</td>\n",
       "      <td>BFA</td>\n",
       "    </tr>\n",
       "    <tr>\n",
       "      <th>7</th>\n",
       "      <td>192.168.3.130-200.175.2.130-8180-43395-6</td>\n",
       "      <td>200.175.2.130</td>\n",
       "      <td>43395</td>\n",
       "      <td>192.168.3.130</td>\n",
       "      <td>8180</td>\n",
       "      <td>6</td>\n",
       "      <td>10/1/2020 1:39</td>\n",
       "      <td>10376</td>\n",
       "      <td>4</td>\n",
       "      <td>4</td>\n",
       "      <td>...</td>\n",
       "      <td>0</td>\n",
       "      <td>0.0</td>\n",
       "      <td>0.0</td>\n",
       "      <td>0</td>\n",
       "      <td>0</td>\n",
       "      <td>0.0</td>\n",
       "      <td>0.0</td>\n",
       "      <td>0</td>\n",
       "      <td>0</td>\n",
       "      <td>BFA</td>\n",
       "    </tr>\n",
       "    <tr>\n",
       "      <th>8</th>\n",
       "      <td>192.168.3.130-200.175.2.130-8180-42741-6</td>\n",
       "      <td>200.175.2.130</td>\n",
       "      <td>42741</td>\n",
       "      <td>192.168.3.130</td>\n",
       "      <td>8180</td>\n",
       "      <td>6</td>\n",
       "      <td>10/1/2020 1:39</td>\n",
       "      <td>6919</td>\n",
       "      <td>4</td>\n",
       "      <td>4</td>\n",
       "      <td>...</td>\n",
       "      <td>0</td>\n",
       "      <td>0.0</td>\n",
       "      <td>0.0</td>\n",
       "      <td>0</td>\n",
       "      <td>0</td>\n",
       "      <td>0.0</td>\n",
       "      <td>0.0</td>\n",
       "      <td>0</td>\n",
       "      <td>0</td>\n",
       "      <td>BFA</td>\n",
       "    </tr>\n",
       "    <tr>\n",
       "      <th>9</th>\n",
       "      <td>192.168.3.130-200.175.2.130-8180-36091-6</td>\n",
       "      <td>200.175.2.130</td>\n",
       "      <td>36091</td>\n",
       "      <td>192.168.3.130</td>\n",
       "      <td>8180</td>\n",
       "      <td>6</td>\n",
       "      <td>10/1/2020 1:39</td>\n",
       "      <td>6747</td>\n",
       "      <td>4</td>\n",
       "      <td>4</td>\n",
       "      <td>...</td>\n",
       "      <td>0</td>\n",
       "      <td>0.0</td>\n",
       "      <td>0.0</td>\n",
       "      <td>0</td>\n",
       "      <td>0</td>\n",
       "      <td>0.0</td>\n",
       "      <td>0.0</td>\n",
       "      <td>0</td>\n",
       "      <td>0</td>\n",
       "      <td>BFA</td>\n",
       "    </tr>\n",
       "  </tbody>\n",
       "</table>\n",
       "<p>10 rows × 84 columns</p>\n",
       "</div>"
      ],
      "text/plain": [
       "                                         0              1      2   \\\n",
       "0  192.168.3.130-200.175.2.130-38693-4444-6  192.168.3.130  38693   \n",
       "1  192.168.3.130-200.175.2.130-3632-33747-6  200.175.2.130  33747   \n",
       "2  192.168.3.130-200.175.2.130-8180-37217-6  200.175.2.130  37217   \n",
       "3  192.168.3.130-200.175.2.130-8180-35921-6  200.175.2.130  35921   \n",
       "4  192.168.3.130-200.175.2.130-8180-43053-6  200.175.2.130  43053   \n",
       "5  192.168.3.130-200.175.2.130-8180-46611-6  200.175.2.130  46611   \n",
       "6  192.168.3.130-200.175.2.130-8180-37249-6  200.175.2.130  37249   \n",
       "7  192.168.3.130-200.175.2.130-8180-43395-6  200.175.2.130  43395   \n",
       "8  192.168.3.130-200.175.2.130-8180-42741-6  200.175.2.130  42741   \n",
       "9  192.168.3.130-200.175.2.130-8180-36091-6  200.175.2.130  36091   \n",
       "\n",
       "              3     4   5               6       7   8   9   ...  74   75   76  \\\n",
       "0  200.175.2.130  4444   6  10/1/2020 5:02  268599   2   3  ...   0  0.0  0.0   \n",
       "1  192.168.3.130  3632   6  10/1/2020 5:02   22194   5   5  ...   0  0.0  0.0   \n",
       "2  192.168.3.130  8180   6  10/1/2020 1:39    8782   4   4  ...   0  0.0  0.0   \n",
       "3  192.168.3.130  8180   6  10/1/2020 1:39    4047   2   2  ...   0  0.0  0.0   \n",
       "4  192.168.3.130  8180   6  10/1/2020 1:39    3819   2   2  ...   0  0.0  0.0   \n",
       "5  192.168.3.130  8180   6  10/1/2020 1:39    8019   4   4  ...   0  0.0  0.0   \n",
       "6  192.168.3.130  8180   6  10/1/2020 1:39    4372   2   2  ...   0  0.0  0.0   \n",
       "7  192.168.3.130  8180   6  10/1/2020 1:39   10376   4   4  ...   0  0.0  0.0   \n",
       "8  192.168.3.130  8180   6  10/1/2020 1:39    6919   4   4  ...   0  0.0  0.0   \n",
       "9  192.168.3.130  8180   6  10/1/2020 1:39    6747   4   4  ...   0  0.0  0.0   \n",
       "\n",
       "   77  78   79   80  81  82   83  \n",
       "0   0   0  0.0  0.0   0   0  U2R  \n",
       "1   0   0  0.0  0.0   0   0  U2R  \n",
       "2   0   0  0.0  0.0   0   0  BFA  \n",
       "3   0   0  0.0  0.0   0   0  BFA  \n",
       "4   0   0  0.0  0.0   0   0  BFA  \n",
       "5   0   0  0.0  0.0   0   0  BFA  \n",
       "6   0   0  0.0  0.0   0   0  BFA  \n",
       "7   0   0  0.0  0.0   0   0  BFA  \n",
       "8   0   0  0.0  0.0   0   0  BFA  \n",
       "9   0   0  0.0  0.0   0   0  BFA  \n",
       "\n",
       "[10 rows x 84 columns]"
      ]
     },
     "execution_count": 57,
     "metadata": {},
     "output_type": "execute_result"
    }
   ],
   "source": [
    "data.head(10)"
   ]
  },
  {
   "cell_type": "code",
   "execution_count": 58,
   "metadata": {},
   "outputs": [
    {
     "name": "stdout",
     "output_type": "stream",
     "text": [
      "<class 'pandas.core.frame.DataFrame'>\n",
      "RangeIndex: 205166 entries, 0 to 205165\n",
      "Data columns (total 84 columns):\n",
      " #   Column  Non-Null Count   Dtype  \n",
      "---  ------  --------------   -----  \n",
      " 0   0       205166 non-null  object \n",
      " 1   1       205166 non-null  object \n",
      " 2   2       205166 non-null  int64  \n",
      " 3   3       205166 non-null  object \n",
      " 4   4       205166 non-null  int64  \n",
      " 5   5       205166 non-null  int64  \n",
      " 6   6       205166 non-null  object \n",
      " 7   7       205166 non-null  int64  \n",
      " 8   8       205166 non-null  int64  \n",
      " 9   9       205166 non-null  int64  \n",
      " 10  10      205166 non-null  int64  \n",
      " 11  11      205166 non-null  int64  \n",
      " 12  12      205166 non-null  int64  \n",
      " 13  13      205166 non-null  int64  \n",
      " 14  14      205166 non-null  float64\n",
      " 15  15      205166 non-null  float64\n",
      " 16  16      205166 non-null  int64  \n",
      " 17  17      205166 non-null  int64  \n",
      " 18  18      205166 non-null  float64\n",
      " 19  19      205166 non-null  float64\n",
      " 20  20      205166 non-null  float64\n",
      " 21  21      205166 non-null  float64\n",
      " 22  22      205166 non-null  float64\n",
      " 23  23      205166 non-null  float64\n",
      " 24  24      205166 non-null  int64  \n",
      " 25  25      205166 non-null  int64  \n",
      " 26  26      205166 non-null  int64  \n",
      " 27  27      205166 non-null  float64\n",
      " 28  28      205166 non-null  float64\n",
      " 29  29      205166 non-null  int64  \n",
      " 30  30      205166 non-null  int64  \n",
      " 31  31      205166 non-null  int64  \n",
      " 32  32      205166 non-null  float64\n",
      " 33  33      205166 non-null  float64\n",
      " 34  34      205166 non-null  int64  \n",
      " 35  35      205166 non-null  int64  \n",
      " 36  36      205166 non-null  int64  \n",
      " 37  37      205166 non-null  int64  \n",
      " 38  38      205166 non-null  int64  \n",
      " 39  39      205166 non-null  int64  \n",
      " 40  40      205166 non-null  int64  \n",
      " 41  41      205166 non-null  int64  \n",
      " 42  42      205166 non-null  float64\n",
      " 43  43      205166 non-null  float64\n",
      " 44  44      205166 non-null  int64  \n",
      " 45  45      205166 non-null  int64  \n",
      " 46  46      205166 non-null  float64\n",
      " 47  47      205166 non-null  float64\n",
      " 48  48      205166 non-null  float64\n",
      " 49  49      205166 non-null  int64  \n",
      " 50  50      205166 non-null  int64  \n",
      " 51  51      205166 non-null  int64  \n",
      " 52  52      205166 non-null  int64  \n",
      " 53  53      205166 non-null  int64  \n",
      " 54  54      205166 non-null  int64  \n",
      " 55  55      205166 non-null  int64  \n",
      " 56  56      205166 non-null  int64  \n",
      " 57  57      205166 non-null  int64  \n",
      " 58  58      205166 non-null  float64\n",
      " 59  59      205166 non-null  float64\n",
      " 60  60      205166 non-null  float64\n",
      " 61  61      205166 non-null  int64  \n",
      " 62  62      205166 non-null  int64  \n",
      " 63  63      205166 non-null  int64  \n",
      " 64  64      205166 non-null  int64  \n",
      " 65  65      205166 non-null  int64  \n",
      " 66  66      205166 non-null  int64  \n",
      " 67  67      205166 non-null  int64  \n",
      " 68  68      205166 non-null  int64  \n",
      " 69  69      205166 non-null  int64  \n",
      " 70  70      205166 non-null  int64  \n",
      " 71  71      205166 non-null  int64  \n",
      " 72  72      205166 non-null  int64  \n",
      " 73  73      205166 non-null  int64  \n",
      " 74  74      205166 non-null  int64  \n",
      " 75  75      205166 non-null  float64\n",
      " 76  76      205166 non-null  float64\n",
      " 77  77      205166 non-null  int64  \n",
      " 78  78      205166 non-null  int64  \n",
      " 79  79      205166 non-null  float64\n",
      " 80  80      205166 non-null  float64\n",
      " 81  81      205166 non-null  int64  \n",
      " 82  82      205166 non-null  int64  \n",
      " 83  83      205166 non-null  object \n",
      "dtypes: float64(24), int64(55), object(5)\n",
      "memory usage: 131.5+ MB\n"
     ]
    }
   ],
   "source": [
    "data.info()"
   ]
  },
  {
   "cell_type": "code",
   "execution_count": 59,
   "metadata": {},
   "outputs": [
    {
     "data": {
      "text/html": [
       "<div>\n",
       "<style scoped>\n",
       "    .dataframe tbody tr th:only-of-type {\n",
       "        vertical-align: middle;\n",
       "    }\n",
       "\n",
       "    .dataframe tbody tr th {\n",
       "        vertical-align: top;\n",
       "    }\n",
       "\n",
       "    .dataframe thead th {\n",
       "        text-align: right;\n",
       "    }\n",
       "</style>\n",
       "<table border=\"1\" class=\"dataframe\">\n",
       "  <thead>\n",
       "    <tr style=\"text-align: right;\">\n",
       "      <th></th>\n",
       "      <th>count</th>\n",
       "      <th>mean</th>\n",
       "      <th>std</th>\n",
       "      <th>min</th>\n",
       "      <th>25%</th>\n",
       "      <th>50%</th>\n",
       "      <th>75%</th>\n",
       "      <th>max</th>\n",
       "    </tr>\n",
       "  </thead>\n",
       "  <tbody>\n",
       "    <tr>\n",
       "      <th>2</th>\n",
       "      <td>205166.0</td>\n",
       "      <td>1.751495e+04</td>\n",
       "      <td>2.246783e+04</td>\n",
       "      <td>0.0</td>\n",
       "      <td>0.0</td>\n",
       "      <td>80.0</td>\n",
       "      <td>40665.75</td>\n",
       "      <td>65518.0</td>\n",
       "    </tr>\n",
       "    <tr>\n",
       "      <th>4</th>\n",
       "      <td>205166.0</td>\n",
       "      <td>1.078671e+04</td>\n",
       "      <td>1.829842e+04</td>\n",
       "      <td>0.0</td>\n",
       "      <td>0.0</td>\n",
       "      <td>53.0</td>\n",
       "      <td>9731.75</td>\n",
       "      <td>60998.0</td>\n",
       "    </tr>\n",
       "    <tr>\n",
       "      <th>5</th>\n",
       "      <td>205166.0</td>\n",
       "      <td>5.671900e+00</td>\n",
       "      <td>5.725582e+00</td>\n",
       "      <td>0.0</td>\n",
       "      <td>0.0</td>\n",
       "      <td>6.0</td>\n",
       "      <td>6.00</td>\n",
       "      <td>17.0</td>\n",
       "    </tr>\n",
       "    <tr>\n",
       "      <th>7</th>\n",
       "      <td>205166.0</td>\n",
       "      <td>1.013933e+07</td>\n",
       "      <td>2.621894e+07</td>\n",
       "      <td>-154.0</td>\n",
       "      <td>20.0</td>\n",
       "      <td>2958.0</td>\n",
       "      <td>27411.50</td>\n",
       "      <td>119999993.0</td>\n",
       "    </tr>\n",
       "    <tr>\n",
       "      <th>8</th>\n",
       "      <td>205166.0</td>\n",
       "      <td>4.555565e+00</td>\n",
       "      <td>6.530824e+01</td>\n",
       "      <td>0.0</td>\n",
       "      <td>0.0</td>\n",
       "      <td>0.0</td>\n",
       "      <td>3.00</td>\n",
       "      <td>16928.0</td>\n",
       "    </tr>\n",
       "    <tr>\n",
       "      <th>...</th>\n",
       "      <td>...</td>\n",
       "      <td>...</td>\n",
       "      <td>...</td>\n",
       "      <td>...</td>\n",
       "      <td>...</td>\n",
       "      <td>...</td>\n",
       "      <td>...</td>\n",
       "      <td>...</td>\n",
       "    </tr>\n",
       "    <tr>\n",
       "      <th>78</th>\n",
       "      <td>205166.0</td>\n",
       "      <td>3.674729e+04</td>\n",
       "      <td>6.191349e+05</td>\n",
       "      <td>0.0</td>\n",
       "      <td>0.0</td>\n",
       "      <td>0.0</td>\n",
       "      <td>0.00</td>\n",
       "      <td>104000000.0</td>\n",
       "    </tr>\n",
       "    <tr>\n",
       "      <th>79</th>\n",
       "      <td>205166.0</td>\n",
       "      <td>6.931384e+06</td>\n",
       "      <td>1.882799e+07</td>\n",
       "      <td>0.0</td>\n",
       "      <td>0.0</td>\n",
       "      <td>0.0</td>\n",
       "      <td>0.00</td>\n",
       "      <td>120000000.0</td>\n",
       "    </tr>\n",
       "    <tr>\n",
       "      <th>80</th>\n",
       "      <td>205166.0</td>\n",
       "      <td>2.106451e+05</td>\n",
       "      <td>2.048705e+06</td>\n",
       "      <td>0.0</td>\n",
       "      <td>0.0</td>\n",
       "      <td>0.0</td>\n",
       "      <td>0.00</td>\n",
       "      <td>73000000.0</td>\n",
       "    </tr>\n",
       "    <tr>\n",
       "      <th>81</th>\n",
       "      <td>205166.0</td>\n",
       "      <td>7.126149e+06</td>\n",
       "      <td>1.913443e+07</td>\n",
       "      <td>0.0</td>\n",
       "      <td>0.0</td>\n",
       "      <td>0.0</td>\n",
       "      <td>0.00</td>\n",
       "      <td>120000000.0</td>\n",
       "    </tr>\n",
       "    <tr>\n",
       "      <th>82</th>\n",
       "      <td>205166.0</td>\n",
       "      <td>6.745715e+06</td>\n",
       "      <td>1.869604e+07</td>\n",
       "      <td>0.0</td>\n",
       "      <td>0.0</td>\n",
       "      <td>0.0</td>\n",
       "      <td>0.00</td>\n",
       "      <td>120000000.0</td>\n",
       "    </tr>\n",
       "  </tbody>\n",
       "</table>\n",
       "<p>79 rows × 8 columns</p>\n",
       "</div>"
      ],
      "text/plain": [
       "       count          mean           std    min   25%     50%       75%  \\\n",
       "2   205166.0  1.751495e+04  2.246783e+04    0.0   0.0    80.0  40665.75   \n",
       "4   205166.0  1.078671e+04  1.829842e+04    0.0   0.0    53.0   9731.75   \n",
       "5   205166.0  5.671900e+00  5.725582e+00    0.0   0.0     6.0      6.00   \n",
       "7   205166.0  1.013933e+07  2.621894e+07 -154.0  20.0  2958.0  27411.50   \n",
       "8   205166.0  4.555565e+00  6.530824e+01    0.0   0.0     0.0      3.00   \n",
       "..       ...           ...           ...    ...   ...     ...       ...   \n",
       "78  205166.0  3.674729e+04  6.191349e+05    0.0   0.0     0.0      0.00   \n",
       "79  205166.0  6.931384e+06  1.882799e+07    0.0   0.0     0.0      0.00   \n",
       "80  205166.0  2.106451e+05  2.048705e+06    0.0   0.0     0.0      0.00   \n",
       "81  205166.0  7.126149e+06  1.913443e+07    0.0   0.0     0.0      0.00   \n",
       "82  205166.0  6.745715e+06  1.869604e+07    0.0   0.0     0.0      0.00   \n",
       "\n",
       "            max  \n",
       "2       65518.0  \n",
       "4       60998.0  \n",
       "5          17.0  \n",
       "7   119999993.0  \n",
       "8       16928.0  \n",
       "..          ...  \n",
       "78  104000000.0  \n",
       "79  120000000.0  \n",
       "80   73000000.0  \n",
       "81  120000000.0  \n",
       "82  120000000.0  \n",
       "\n",
       "[79 rows x 8 columns]"
      ]
     },
     "execution_count": 59,
     "metadata": {},
     "output_type": "execute_result"
    }
   ],
   "source": [
    "data.describe().T"
   ]
  },
  {
   "cell_type": "code",
   "execution_count": 60,
   "metadata": {},
   "outputs": [
    {
     "data": {
      "text/plain": [
       "0     0\n",
       "1     0\n",
       "2     0\n",
       "3     0\n",
       "4     0\n",
       "     ..\n",
       "79    0\n",
       "80    0\n",
       "81    0\n",
       "82    0\n",
       "83    0\n",
       "Length: 84, dtype: int64"
      ]
     },
     "execution_count": 60,
     "metadata": {},
     "output_type": "execute_result"
    }
   ],
   "source": [
    "data.isna().sum()"
   ]
  },
  {
   "cell_type": "code",
   "execution_count": 61,
   "metadata": {},
   "outputs": [],
   "source": [
    "data.drop_duplicates(inplace=True)"
   ]
  },
  {
   "cell_type": "code",
   "execution_count": 62,
   "metadata": {},
   "outputs": [
    {
     "name": "stdout",
     "output_type": "stream",
     "text": [
      "ДУбликатов в data:  0\n"
     ]
    }
   ],
   "source": [
    "print('ДУбликатов в data: ',data.duplicated().sum())"
   ]
  },
  {
   "cell_type": "code",
   "execution_count": 63,
   "metadata": {},
   "outputs": [],
   "source": [
    "for column in data.columns:\n",
    "    if data[column].dtype == type(object):\n",
    "        le = LabelEncoder()\n",
    "        data[column] = le.fit_transform(data[column])\n",
    "        \n",
    "X = data.iloc[:,0:83]\n",
    "Y = data.iloc[:,83:84]\n",
    "\n",
    "scaler = Normalizer().fit(X)\n",
    "trainX = scaler.transform(X)\n",
    "\n",
    "y_train1 = np.array(Y)\n",
    "\n",
    "y_data= to_categorical(y_train1)\n",
    "X_data = np.reshape(trainX, (trainX.shape[0],trainX.shape[1],1))"
   ]
  },
  {
   "cell_type": "code",
   "execution_count": 64,
   "metadata": {},
   "outputs": [
    {
     "data": {
      "text/plain": [
       "(205165, 83, 1)"
      ]
     },
     "execution_count": 64,
     "metadata": {},
     "output_type": "execute_result"
    }
   ],
   "source": [
    "X_data.shape"
   ]
  },
  {
   "cell_type": "code",
   "execution_count": 65,
   "metadata": {},
   "outputs": [
    {
     "data": {
      "text/plain": [
       "(205165, 6)"
      ]
     },
     "execution_count": 65,
     "metadata": {},
     "output_type": "execute_result"
    }
   ],
   "source": [
    "y_data.shape"
   ]
  },
  {
   "cell_type": "code",
   "execution_count": 66,
   "metadata": {},
   "outputs": [
    {
     "name": "stdout",
     "output_type": "stream",
     "text": [
      "(164132, 83, 1) \n",
      " (41033, 83, 1)\n"
     ]
    }
   ],
   "source": [
    "X_train, X_test, y_train, y_test = train_test_split(X_data,y_data, test_size=0.20, random_state=577)\n",
    "print(X_train.shape,'\\n',X_test.shape)"
   ]
  },
  {
   "cell_type": "code",
   "execution_count": 67,
   "metadata": {},
   "outputs": [],
   "source": [
    "model = Sequential()\n",
    "model.add(Conv1D(64, 3, padding=\"same\",strides=1,activation=\"relu\",input_shape=(83, 1)))\n",
    "model.add(MaxPooling1D(pool_size=2))\n",
    "model.add(Flatten())\n",
    "model.add(Dense(512, activation=\"relu\"))#128\n",
    "model.add(Dense(256, activation=\"relu\"))\n",
    "model.add(Dropout(0.5))\n",
    "model.add(Dense(6, activation=\"softmax\"))\n",
    "\n",
    "model.compile(loss=\"categorical_crossentropy\", optimizer=\"adam\",metrics=['accuracy'])"
   ]
  },
  {
   "cell_type": "code",
   "execution_count": 68,
   "metadata": {},
   "outputs": [
    {
     "name": "stdout",
     "output_type": "stream",
     "text": [
      "Model: \"sequential_5\"\n",
      "_________________________________________________________________\n",
      " Layer (type)                Output Shape              Param #   \n",
      "=================================================================\n",
      " conv1d_1 (Conv1D)           (None, 83, 64)            256       \n",
      "                                                                 \n",
      " max_pooling1d_1 (MaxPooling  (None, 41, 64)           0         \n",
      " 1D)                                                             \n",
      "                                                                 \n",
      " flatten_4 (Flatten)         (None, 2624)              0         \n",
      "                                                                 \n",
      " dense_9 (Dense)             (None, 512)               1344000   \n",
      "                                                                 \n",
      " dense_10 (Dense)            (None, 256)               131328    \n",
      "                                                                 \n",
      " dropout_7 (Dropout)         (None, 256)               0         \n",
      "                                                                 \n",
      " dense_11 (Dense)            (None, 6)                 1542      \n",
      "                                                                 \n",
      "=================================================================\n",
      "Total params: 1,477,126\n",
      "Trainable params: 1,477,126\n",
      "Non-trainable params: 0\n",
      "_________________________________________________________________\n"
     ]
    }
   ],
   "source": [
    "model.summary()"
   ]
  },
  {
   "cell_type": "code",
   "execution_count": 69,
   "metadata": {},
   "outputs": [
    {
     "name": "stdout",
     "output_type": "stream",
     "text": [
      "Epoch 1/2\n",
      "5130/5130 [==============================] - 135s 26ms/step - loss: 0.0444 - accuracy: 0.9878 - val_loss: 0.0137 - val_accuracy: 0.9961\n",
      "Epoch 2/2\n",
      "5130/5130 [==============================] - 135s 26ms/step - loss: 0.0144 - accuracy: 0.9957 - val_loss: 0.0069 - val_accuracy: 0.9980\n"
     ]
    }
   ],
   "source": [
    "result= model.fit(X_train, y_train,\n",
    "                #validation_split=0.30\n",
    "                validation_data=(X_test,y_test )\n",
    "                ,epochs=2, batch_size=32) #epochs=20"
   ]
  },
  {
   "cell_type": "code",
   "execution_count": 70,
   "metadata": {},
   "outputs": [
    {
     "name": "stdout",
     "output_type": "stream",
     "text": [
      "1283/1283 [==============================] - 4s 3ms/step\n",
      "<keras.callbacks.History object at 0x000001DA6A8C9F70>\n"
     ]
    }
   ],
   "source": [
    "y_pred = model.predict(X_test) #probabilty\n",
    "y_pred = (y_pred > 0.5)\n",
    "\n",
    "history=result\n",
    "\n",
    "print(history)"
   ]
  },
  {
   "cell_type": "code",
   "execution_count": 71,
   "metadata": {},
   "outputs": [
    {
     "name": "stdout",
     "output_type": "stream",
     "text": [
      "dict_keys(['loss', 'accuracy', 'val_loss', 'val_accuracy'])\n"
     ]
    }
   ],
   "source": [
    "print(history.history.keys())"
   ]
  },
  {
   "cell_type": "code",
   "execution_count": 72,
   "metadata": {},
   "outputs": [
    {
     "name": "stdout",
     "output_type": "stream",
     "text": [
      "Confusion Matrix\n",
      "[[   63     0     0     0     0     0]\n",
      " [    1 14677     2     7     1     0]\n",
      " [   27     0   176     3     4     0]\n",
      " [    1     0    19 13752     6     0]\n",
      " [    7     0     2     3 12280     0]\n",
      " [    0     0     0     2     0     0]]\n"
     ]
    }
   ],
   "source": [
    "expected = y_test\n",
    "cmatrix = confusion_matrix(expected.argmax(axis=1), y_pred.argmax(axis=1))\n",
    "print('Confusion Matrix')\n",
    "print(cmatrix)"
   ]
  },
  {
   "cell_type": "code",
   "execution_count": 73,
   "metadata": {},
   "outputs": [],
   "source": [
    "def accuracy(confusion_matrix):\n",
    "    diagonal_sum = confusion_matrix.trace()\n",
    "    sum_of_all_elements = confusion_matrix.sum()\n",
    "    return diagonal_sum / sum_of_all_elements "
   ]
  },
  {
   "cell_type": "code",
   "execution_count": 74,
   "metadata": {},
   "outputs": [
    {
     "name": "stdout",
     "output_type": "stream",
     "text": [
      "accuracy : 0.9979284965759266\n"
     ]
    }
   ],
   "source": [
    "print(\"accuracy :\" , accuracy(cmatrix))"
   ]
  },
  {
   "cell_type": "code",
   "execution_count": 99,
   "metadata": {},
   "outputs": [
    {
     "name": "stdout",
     "output_type": "stream",
     "text": [
      "Classification Report\n",
      "              precision    recall  f1-score   support\n",
      "\n",
      "           0       0.93      0.98      0.95        63\n",
      "           1       1.00      1.00      1.00     14688\n",
      "           2       0.88      0.84      0.86       210\n",
      "           3       1.00      1.00      1.00     13778\n",
      "           4       1.00      1.00      1.00     12292\n",
      "           5       0.00      0.00      0.00         2\n",
      "\n",
      "   micro avg       1.00      1.00      1.00     41033\n",
      "   macro avg       0.80      0.80      0.80     41033\n",
      "weighted avg       1.00      1.00      1.00     41033\n",
      " samples avg       1.00      1.00      1.00     41033\n",
      "\n"
     ]
    }
   ],
   "source": [
    "print('Classification Report')\n",
    "\n",
    "print(classification_report(expected, y_pred))"
   ]
  },
  {
   "cell_type": "code",
   "execution_count": 97,
   "metadata": {},
   "outputs": [
    {
     "data": {
      "image/png": "[encoded data removed]",
      "text/plain": [
       "<Figure size 432x288 with 1 Axes>"
      ]
     },
     "metadata": {
      "needs_background": "light"
     },
     "output_type": "display_data"
    }
   ],
   "source": [
    "plt.plot(history.history['accuracy'])\n",
    "plt.plot(history.history['val_accuracy'])\n",
    "plt.title('model accuracy',fontsize=25)\n",
    "plt.ylabel('accuracy',fontsize=25)\n",
    "plt.xlabel('epoch',fontsize=25)\n",
    "plt.legend(['train', 'test'], loc='upper left')\n",
    "plt.show()"
   ]
  },
  {
   "cell_type": "code",
   "execution_count": 96,
   "metadata": {},
   "outputs": [
    {
     "data": {
      "image/png": "[encoded data removed]",
      "text/plain": [
       "<Figure size 432x288 with 1 Axes>"
      ]
     },
     "metadata": {
      "needs_background": "light"
     },
     "output_type": "display_data"
    }
   ],
   "source": [
    "plt.plot(history.history['loss'])\n",
    "plt.plot(history.history['val_loss'])\n",
    "plt.title('model loss',fontsize=25)\n",
    "plt.ylabel('loss',fontsize=25)\n",
    "plt.xlabel('epoch',fontsize=25)\n",
    "plt.legend(['train', 'test'], loc='upper left')\n",
    "plt.show()"
   ]
  },
  {
   "cell_type": "code",
   "execution_count": 94,
   "metadata": {},
   "outputs": [
    {
     "name": "stderr",
     "output_type": "stream",
     "text": [
      "No artists with labels found to put in legend.  Note that artists whose label start with an underscore are ignored when legend() is called with no argument.\n"
     ]
    },
    {
     "data": {
      "text/plain": [
       "Text(0, 0.5, 'True Positive Rate')"
      ]
     },
     "execution_count": 94,
     "metadata": {},
     "output_type": "execute_result"
    },
    {
     "data": {
      "image/png": "[encoded data removed]",
      "text/plain": [
       "<Figure size 720x720 with 1 Axes>"
      ]
     },
     "metadata": {
      "needs_background": "light"
     },
     "output_type": "display_data"
    }
   ],
   "source": [
    "lb = LabelBinarizer()\n",
    "lb.fit(y_test)\n",
    "y_test = lb.transform(y_test)\n",
    "y_pred = lb.transform(y_pred)\n",
    "    \n",
    "fpr = dict()\n",
    "tpr = dict()\n",
    "roc_auc = dict()\n",
    "    \n",
    "for i in range(6):\n",
    "    fpr[i], tpr[i], _ = metrics.roc_curve(y_test[:,i].astype(int), y_pred[:,i])\n",
    "        \n",
    "    roc_auc[i] = auc(fpr[i], tpr[i])\n",
    "    \n",
    "plt.figure(figsize=(10, 10))\n",
    "lw = 2\n",
    "    \n",
    "plt.plot([0, 1], [0, 1], color='navy', lw=lw, linestyle='--')\n",
    "target_classes = ['U2R','BFA','DDoS','DoS', 'Probe ','Normal']\n",
    "\n",
    "plt.title('Receiver Operating Characteristic(ROC) Curve',fontsize=25)\n",
    "plt.legend(loc=\"lower right\")\n",
    "colors = cycle(['green', 'yellow', 'blue', 'red', 'orange','black'])\n",
    " \n",
    "for i, color in zip(range(6), colors):\n",
    "    plt.plot(fpr[i], tpr[i], color=color, lw=lw, label= target_classes[i] + \" \"' (' 'AUC = {1:0.2f} )'''.format(i, roc_auc[i]))\n",
    "            \n",
    "    plt.plot([0, 1], [0, 1], color='black', lw=lw, linestyle='--')\n",
    "    \n",
    "plt.xlim([0.0, 1.0])\n",
    "plt.ylim([0.0, 1.0])\n",
    "plt.legend(loc = 'lower right')\n",
    "plt.xlabel('False Positive Rate',fontsize=25)\n",
    "plt.ylabel('True Positive Rate',fontsize=25)"
   ]
  }
 ],
 "metadata": {
  "kernelspec": {
   "display_name": "Python 3",
   "language": "python",
   "name": "python3"
  },
  "language_info": {
   "codemirror_mode": {
    "name": "ipython",
    "version": 3
   },
   "file_extension": ".py",
   "mimetype": "text/x-python",
   "name": "python",
   "nbconvert_exporter": "python",
   "pygments_lexer": "ipython3",
   "version": "3.9.13"
  }
 },
 "nbformat": 4,
 "nbformat_minor": 2
}
